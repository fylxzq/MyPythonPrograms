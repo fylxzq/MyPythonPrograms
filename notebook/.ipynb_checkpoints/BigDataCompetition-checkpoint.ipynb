{
 "cells": [
  {
   "cell_type": "code",
   "execution_count": 8,
   "metadata": {},
   "outputs": [],
   "source": [
    "raw_df = spark.read.format(\"csv\").option(\"delimiter\",\"\\t\").option(\"header\",\"false\").\\\n",
    "option(\"inferschema\",\"true\").load(\"inputData/top250_f1.txt\")"
   ]
  },
  {
   "cell_type": "code",
   "execution_count": 9,
   "metadata": {},
   "outputs": [
    {
     "name": "stdout",
     "output_type": "stream",
     "text": [
      "+---+-------+--------------------+--------------------+----+---+---------------+---+-------+---------------+--------------------+----+\n",
      "|_c0|    _c1|                 _c2|                 _c3| _c4|_c5|            _c6|_c7|    _c8|            _c9|                _c10|_c11|\n",
      "+---+-------+--------------------+--------------------+----+---+---------------+---+-------+---------------+--------------------+----+\n",
      "|  1| 肖申克的救赎|弗兰克·德拉邦特 Frank Da...| 蒂姆·罗宾斯 Tim Robbins |1994| 美国|      ['犯罪 剧情']|9.6|1151286|        希望让人自由。|https://movie.dou...|null|\n",
      "|  3|这个杀手不太冷|    吕克·贝松 Luc Besson|     让·雷诺 Jean Reno |1994| 法国|   ['剧情 动作 犯罪']|9.4|1063161|怪蜀黍和小萝莉不得不说的故事。|https://movie.dou...|null|\n",
      "|  9|   盗梦空间|克里斯托弗·诺兰 Christop...|  莱昂纳多·迪卡普里奥 Le...']|2010| 美国|['剧情 科幻 悬疑 冒险']|9.3| 930867|诺兰给了我们一场无法盗取的梦。|https://movie.dou...|null|\n",
      "|  4|   阿甘正传|     Robert Zemeckis|          Tom Hanks |1994| 美国|      ['剧情 爱情']|9.4| 908843|      一部美国近现代史。|https://movie.dou...|null|\n",
      "|  6|  泰坦尼克号|詹姆斯·卡梅隆 James Cam...|莱昂纳多·迪卡普里奥 Leonar...|1997| 美国|   ['剧情 爱情 灾难']|9.3| 844481|     失去的才是永恒的。 |https://movie.dou...|null|\n",
      "+---+-------+--------------------+--------------------+----+---+---------------+---+-------+---------------+--------------------+----+\n",
      "only showing top 5 rows\n",
      "\n"
     ]
    }
   ],
   "source": [
    "raw_df.orderBy(\"_c8\",ascending=0).show(5)"
   ]
  },
  {
   "cell_type": "code",
   "execution_count": 10,
   "metadata": {},
   "outputs": [
    {
     "name": "stdout",
     "output_type": "stream",
     "text": [
      "+---+----------+\n",
      "|_c5|count(_c0)|\n",
      "+---+----------+\n",
      "| 美国|        15|\n",
      "| 韩国|         4|\n",
      "| 日本|         4|\n",
      "| 中国|         2|\n",
      "| 英国|         2|\n",
      "+---+----------+\n",
      "only showing top 5 rows\n",
      "\n"
     ]
    }
   ],
   "source": [
    "raw_df.filter(raw_df[\"_c4\"]>=2013).groupby(\"_c5\").agg({\"_c0\":\"count\"}).orderBy(\"count(_c0)\",ascending=0).show(5)"
   ]
  },
  {
   "cell_type": "code",
   "execution_count": 11,
   "metadata": {},
   "outputs": [],
   "source": [
    "df = raw_df.withColumn(\"score\",raw_df[\"_c7\"]*raw_df[\"_c8\"])"
   ]
  },
  {
   "cell_type": "code",
   "execution_count": 12,
   "metadata": {},
   "outputs": [],
   "source": [
    "from pyspark.sql.functions import udf"
   ]
  },
  {
   "cell_type": "code",
   "execution_count": 13,
   "metadata": {},
   "outputs": [],
   "source": [
    "def filterGender(x):\n",
    "    if(u\"剧情\" in x and u\"爱情\" in x):\n",
    "        return x\n",
    "    else:\n",
    "        return u'null'\n",
    "filterGender = udf(filterGender)"
   ]
  },
  {
   "cell_type": "code",
   "execution_count": 14,
   "metadata": {},
   "outputs": [
    {
     "name": "stdout",
     "output_type": "stream",
     "text": [
      "+---+-------+--------------------+--------------------+----+---+---------------+---+------+--------------------+--------------------+----+------------------+\n",
      "|_c0|    _c1|                 _c2|                 _c3| _c4|_c5|            _c6|_c7|   _c8|                 _c9|                _c10|_c11|             score|\n",
      "+---+-------+--------------------+--------------------+----+---+---------------+---+------+--------------------+--------------------+----+------------------+\n",
      "|  4|   阿甘正传|     Robert Zemeckis|          Tom Hanks |1994| 美国|      ['剧情 爱情']|9.4|908843|           一部美国近现代史。|https://movie.dou...|null| 8543124.200000001|\n",
      "|  2|   霸王别姬|      陈凯歌 Kaige Chen|  张国荣 Leslie Cheung |1993| 中国|   ['剧情 爱情 同性']|9.6|840607|               风华绝代。|https://movie.dou...|null| 8069827.199999999|\n",
      "|  6|  泰坦尼克号|詹姆斯·卡梅隆 James Cam...|莱昂纳多·迪卡普里奥 Leonar...|1997| 美国|   ['剧情 爱情 灾难']|9.3|844481|          失去的才是永恒的。 |https://movie.dou...|null| 7853673.300000001|\n",
      "| 12|三傻大闹宝莱坞|拉库马·希拉尼 Rajkumar ...|   阿米尔·汗 Aamir Khan |2009| 印度|['剧情 喜剧 爱情 歌舞']|9.2|834758|      英俊版憨豆，高情商版谢耳朵。|https://movie.dou...|null|         7679773.6|\n",
      "| 25|   怦然心动|    罗伯·莱纳 Rob Reiner|玛德琳·卡罗尔 Madeline ...|2010| 美国|   ['剧情 喜剧 爱情']|9.0|716435|       真正的幸福是来自内心深处。|https://movie.dou...|null|         6447915.0|\n",
      "|  5|   美丽人生|罗伯托·贝尼尼 Roberto B...|罗伯托·贝尼尼 Roberto B...|1997|意大利|['剧情 喜剧 爱情 战争']|9.5|530038|              最美的谎言。|https://movie.dou...|null|         5035361.0|\n",
      "| 74| 剪刀手爱德华|          Tim Burton| 约翰尼·德普 Johnny Depp |1990| 美国|   ['剧情 奇幻 爱情']|8.7|561930|          浪漫忧郁的成人童话。|https://movie.dou...|null|         4888791.0|\n",
      "|187|  你的名字。|  新海诚 Makoto Shinkai|神木隆之介 Ry?nosuke K...|2016| 日本|   ['剧情 爱情 动画']|8.4|563765|穿越错位的时空，仰望陨落的星辰，你...|https://movie.dou...|null|         4735626.0|\n",
      "|215| 初恋这件小事|普特鹏·普罗萨卡·那·萨克那卡林 ...|                null|2010| 泰国|   ['剧情 喜剧 爱情']|8.3|515660|           黑小鸭速效美白记。|https://movie.dou...|null|         4279978.0|\n",
      "| 39|   罗马假日| 威廉·惠勒 William Wyler|奥黛丽·赫本 Audrey Hep...|1953| 美国|   ['喜剧 剧情 爱情']|8.9|462362|           爱情哪怕只有一天。|https://movie.dou...|null|4115021.8000000003|\n",
      "+---+-------+--------------------+--------------------+----+---+---------------+---+------+--------------------+--------------------+----+------------------+\n",
      "only showing top 10 rows\n",
      "\n"
     ]
    }
   ],
   "source": [
    "df.orderBy(\"score\",ascending=0).filter(filterGender(raw_df[\"_c6\"])!=\"null\").show(10)"
   ]
  },
  {
   "cell_type": "code",
   "execution_count": 15,
   "metadata": {},
   "outputs": [],
   "source": [
    "import pandas as pd"
   ]
  },
  {
   "cell_type": "code",
   "execution_count": 120,
   "metadata": {},
   "outputs": [],
   "source": [
    "weather_df = pd.read_csv(\"inputData/weather.txt\",sep=\"\\t\",header=None)"
   ]
  },
  {
   "cell_type": "code",
   "execution_count": 121,
   "metadata": {},
   "outputs": [],
   "source": [
    "weather_df.columns = [\"日期\",\"天气情况\",\"最大温度\",\"最小温度\",\"风力方向\"]"
   ]
  },
  {
   "cell_type": "code",
   "execution_count": 122,
   "metadata": {},
   "outputs": [
    {
     "name": "stdout",
     "output_type": "stream",
     "text": [
      "<class 'pandas.core.frame.DataFrame'>\n",
      "RangeIndex: 1003 entries, 0 to 1002\n",
      "Data columns (total 5 columns):\n",
      "日期      1003 non-null object\n",
      "天气情况    1003 non-null object\n",
      "最大温度    1003 non-null int64\n",
      "最小温度    1003 non-null int64\n",
      "风力方向    1003 non-null object\n",
      "dtypes: int64(2), object(3)\n",
      "memory usage: 39.3+ KB\n"
     ]
    }
   ],
   "source": [
    "weather_df.info()"
   ]
  },
  {
   "cell_type": "code",
   "execution_count": 123,
   "metadata": {},
   "outputs": [
    {
     "data": {
      "text/html": [
       "<div>\n",
       "<style scoped>\n",
       "    .dataframe tbody tr th:only-of-type {\n",
       "        vertical-align: middle;\n",
       "    }\n",
       "\n",
       "    .dataframe tbody tr th {\n",
       "        vertical-align: top;\n",
       "    }\n",
       "\n",
       "    .dataframe thead th {\n",
       "        text-align: right;\n",
       "    }\n",
       "</style>\n",
       "<table border=\"1\" class=\"dataframe\">\n",
       "  <thead>\n",
       "    <tr style=\"text-align: right;\">\n",
       "      <th></th>\n",
       "      <th>日期</th>\n",
       "      <th>天气情况</th>\n",
       "      <th>最大温度</th>\n",
       "      <th>最小温度</th>\n",
       "      <th>风力方向</th>\n",
       "    </tr>\n",
       "  </thead>\n",
       "  <tbody>\n",
       "    <tr>\n",
       "      <th>0</th>\n",
       "      <td>2016-1-1</td>\n",
       "      <td>晴</td>\n",
       "      <td>22</td>\n",
       "      <td>12</td>\n",
       "      <td>无持续风向≤3级</td>\n",
       "    </tr>\n",
       "    <tr>\n",
       "      <th>1</th>\n",
       "      <td>2016-1-2</td>\n",
       "      <td>多云</td>\n",
       "      <td>22</td>\n",
       "      <td>16</td>\n",
       "      <td>无持续风向≤3级</td>\n",
       "    </tr>\n",
       "    <tr>\n",
       "      <th>2</th>\n",
       "      <td>2016-1-3</td>\n",
       "      <td>阴</td>\n",
       "      <td>25</td>\n",
       "      <td>18</td>\n",
       "      <td>无持续风向≤3级</td>\n",
       "    </tr>\n",
       "    <tr>\n",
       "      <th>3</th>\n",
       "      <td>2016-1-4</td>\n",
       "      <td>小雨</td>\n",
       "      <td>24</td>\n",
       "      <td>18</td>\n",
       "      <td>无持续风向≤3级</td>\n",
       "    </tr>\n",
       "    <tr>\n",
       "      <th>4</th>\n",
       "      <td>2016-1-5</td>\n",
       "      <td>中雨</td>\n",
       "      <td>22</td>\n",
       "      <td>16</td>\n",
       "      <td>无持续风向≤3级</td>\n",
       "    </tr>\n",
       "  </tbody>\n",
       "</table>\n",
       "</div>"
      ],
      "text/plain": [
       "         日期 天气情况  最大温度  最小温度      风力方向\n",
       "0  2016-1-1    晴    22    12  无持续风向≤3级\n",
       "1  2016-1-2   多云    22    16  无持续风向≤3级\n",
       "2  2016-1-3    阴    25    18  无持续风向≤3级\n",
       "3  2016-1-4   小雨    24    18  无持续风向≤3级\n",
       "4  2016-1-5   中雨    22    16  无持续风向≤3级"
      ]
     },
     "execution_count": 123,
     "metadata": {},
     "output_type": "execute_result"
    }
   ],
   "source": [
    "weather_df.head()"
   ]
  },
  {
   "cell_type": "code",
   "execution_count": 124,
   "metadata": {},
   "outputs": [
    {
     "name": "stdout",
     "output_type": "stream",
     "text": [
      "<class 'pandas.core.frame.DataFrame'>\n",
      "RangeIndex: 1003 entries, 0 to 1002\n",
      "Data columns (total 5 columns):\n",
      "日期      1003 non-null object\n",
      "天气情况    1003 non-null object\n",
      "最大温度    1003 non-null int64\n",
      "最小温度    1003 non-null int64\n",
      "风力方向    1003 non-null object\n",
      "dtypes: int64(2), object(3)\n",
      "memory usage: 39.3+ KB\n"
     ]
    }
   ],
   "source": [
    "weather_df.info()"
   ]
  },
  {
   "cell_type": "code",
   "execution_count": 125,
   "metadata": {},
   "outputs": [
    {
     "data": {
      "text/html": [
       "<div>\n",
       "<style scoped>\n",
       "    .dataframe tbody tr th:only-of-type {\n",
       "        vertical-align: middle;\n",
       "    }\n",
       "\n",
       "    .dataframe tbody tr th {\n",
       "        vertical-align: top;\n",
       "    }\n",
       "\n",
       "    .dataframe thead th {\n",
       "        text-align: right;\n",
       "    }\n",
       "</style>\n",
       "<table border=\"1\" class=\"dataframe\">\n",
       "  <thead>\n",
       "    <tr style=\"text-align: right;\">\n",
       "      <th></th>\n",
       "      <th>日期</th>\n",
       "      <th>天气情况</th>\n",
       "      <th>最大温度</th>\n",
       "      <th>最小温度</th>\n",
       "      <th>风力方向</th>\n",
       "    </tr>\n",
       "  </thead>\n",
       "  <tbody>\n",
       "    <tr>\n",
       "      <th>0</th>\n",
       "      <td>2016-1-1</td>\n",
       "      <td>晴</td>\n",
       "      <td>22</td>\n",
       "      <td>12</td>\n",
       "      <td>无持续风向≤3级</td>\n",
       "    </tr>\n",
       "    <tr>\n",
       "      <th>1</th>\n",
       "      <td>2016-1-2</td>\n",
       "      <td>多云</td>\n",
       "      <td>22</td>\n",
       "      <td>16</td>\n",
       "      <td>无持续风向≤3级</td>\n",
       "    </tr>\n",
       "    <tr>\n",
       "      <th>2</th>\n",
       "      <td>2016-1-3</td>\n",
       "      <td>阴</td>\n",
       "      <td>25</td>\n",
       "      <td>18</td>\n",
       "      <td>无持续风向≤3级</td>\n",
       "    </tr>\n",
       "    <tr>\n",
       "      <th>3</th>\n",
       "      <td>2016-1-4</td>\n",
       "      <td>小雨</td>\n",
       "      <td>24</td>\n",
       "      <td>18</td>\n",
       "      <td>无持续风向≤3级</td>\n",
       "    </tr>\n",
       "    <tr>\n",
       "      <th>4</th>\n",
       "      <td>2016-1-5</td>\n",
       "      <td>中雨</td>\n",
       "      <td>22</td>\n",
       "      <td>16</td>\n",
       "      <td>无持续风向≤3级</td>\n",
       "    </tr>\n",
       "  </tbody>\n",
       "</table>\n",
       "</div>"
      ],
      "text/plain": [
       "         日期 天气情况  最大温度  最小温度      风力方向\n",
       "0  2016-1-1    晴    22    12  无持续风向≤3级\n",
       "1  2016-1-2   多云    22    16  无持续风向≤3级\n",
       "2  2016-1-3    阴    25    18  无持续风向≤3级\n",
       "3  2016-1-4   小雨    24    18  无持续风向≤3级\n",
       "4  2016-1-5   中雨    22    16  无持续风向≤3级"
      ]
     },
     "execution_count": 125,
     "metadata": {},
     "output_type": "execute_result"
    }
   ],
   "source": [
    "weather_df.head()"
   ]
  },
  {
   "cell_type": "code",
   "execution_count": 126,
   "metadata": {},
   "outputs": [],
   "source": [
    "def selecttime(x):\n",
    "    if(x[:6]==\"2018-9\"):\n",
    "        return x\n",
    "    else:\n",
    "        return False"
   ]
  },
  {
   "cell_type": "code",
   "execution_count": 127,
   "metadata": {},
   "outputs": [],
   "source": [
    "weather_df[\"日期\"]  = weather_df[\"日期\"].apply(lambda x:selecttime(x))"
   ]
  },
  {
   "cell_type": "code",
   "execution_count": 138,
   "metadata": {},
   "outputs": [],
   "source": [
    "weather_df = weather_df.loc[weather_df[\"日期\"]!=\"9999\"]"
   ]
  },
  {
   "cell_type": "code",
   "execution_count": 141,
   "metadata": {},
   "outputs": [
    {
     "data": {
      "text/html": [
       "<div>\n",
       "<style scoped>\n",
       "    .dataframe tbody tr th:only-of-type {\n",
       "        vertical-align: middle;\n",
       "    }\n",
       "\n",
       "    .dataframe tbody tr th {\n",
       "        vertical-align: top;\n",
       "    }\n",
       "\n",
       "    .dataframe thead th {\n",
       "        text-align: right;\n",
       "    }\n",
       "</style>\n",
       "<table border=\"1\" class=\"dataframe\">\n",
       "  <thead>\n",
       "    <tr style=\"text-align: right;\">\n",
       "      <th></th>\n",
       "      <th>日期</th>\n",
       "      <th>天气情况</th>\n",
       "      <th>最大温度</th>\n",
       "      <th>最小温度</th>\n",
       "      <th>风力方向</th>\n",
       "    </tr>\n",
       "    <tr>\n",
       "      <th>日期</th>\n",
       "      <th></th>\n",
       "      <th></th>\n",
       "      <th></th>\n",
       "      <th></th>\n",
       "      <th></th>\n",
       "    </tr>\n",
       "  </thead>\n",
       "  <tbody>\n",
       "    <tr>\n",
       "      <th>2018-9-1</th>\n",
       "      <td>2018-9-1</td>\n",
       "      <td>暴雨</td>\n",
       "      <td>29</td>\n",
       "      <td>24</td>\n",
       "      <td>无持续风向1-2级</td>\n",
       "    </tr>\n",
       "    <tr>\n",
       "      <th>2018-9-2</th>\n",
       "      <td>2018-9-2</td>\n",
       "      <td>雷阵雨</td>\n",
       "      <td>30</td>\n",
       "      <td>24</td>\n",
       "      <td>无持续风向1-2级</td>\n",
       "    </tr>\n",
       "    <tr>\n",
       "      <th>2018-9-3</th>\n",
       "      <td>2018-9-3</td>\n",
       "      <td>雷阵雨</td>\n",
       "      <td>32</td>\n",
       "      <td>26</td>\n",
       "      <td>无持续风向1-2级</td>\n",
       "    </tr>\n",
       "    <tr>\n",
       "      <th>2018-9-4</th>\n",
       "      <td>2018-9-4</td>\n",
       "      <td>多云</td>\n",
       "      <td>34</td>\n",
       "      <td>26</td>\n",
       "      <td>无持续风向1-2级</td>\n",
       "    </tr>\n",
       "    <tr>\n",
       "      <th>2018-9-5</th>\n",
       "      <td>2018-9-5</td>\n",
       "      <td>雷阵雨</td>\n",
       "      <td>35</td>\n",
       "      <td>26</td>\n",
       "      <td>无持续风向1-2级</td>\n",
       "    </tr>\n",
       "    <tr>\n",
       "      <th>2018-9-6</th>\n",
       "      <td>2018-9-6</td>\n",
       "      <td>雷阵雨</td>\n",
       "      <td>34</td>\n",
       "      <td>25</td>\n",
       "      <td>无持续风向1-2级</td>\n",
       "    </tr>\n",
       "    <tr>\n",
       "      <th>2018-9-7</th>\n",
       "      <td>2018-9-7</td>\n",
       "      <td>中雨</td>\n",
       "      <td>32</td>\n",
       "      <td>24</td>\n",
       "      <td>无持续风向1-2级</td>\n",
       "    </tr>\n",
       "    <tr>\n",
       "      <th>2018-9-8</th>\n",
       "      <td>2018-9-8</td>\n",
       "      <td>阵雨</td>\n",
       "      <td>32</td>\n",
       "      <td>23</td>\n",
       "      <td>无持续风向1-2级</td>\n",
       "    </tr>\n",
       "    <tr>\n",
       "      <th>2018-9-9</th>\n",
       "      <td>2018-9-9</td>\n",
       "      <td>多云</td>\n",
       "      <td>30</td>\n",
       "      <td>24</td>\n",
       "      <td>无持续风向1-2级</td>\n",
       "    </tr>\n",
       "    <tr>\n",
       "      <th>2018-9-10</th>\n",
       "      <td>2018-9-10</td>\n",
       "      <td>多云</td>\n",
       "      <td>31</td>\n",
       "      <td>24</td>\n",
       "      <td>无持续风向1-2级</td>\n",
       "    </tr>\n",
       "    <tr>\n",
       "      <th>2018-9-11</th>\n",
       "      <td>2018-9-11</td>\n",
       "      <td>多云</td>\n",
       "      <td>32</td>\n",
       "      <td>24</td>\n",
       "      <td>无持续风向1-2级</td>\n",
       "    </tr>\n",
       "    <tr>\n",
       "      <th>2018-9-12</th>\n",
       "      <td>2018-9-12</td>\n",
       "      <td>雷阵雨</td>\n",
       "      <td>31</td>\n",
       "      <td>25</td>\n",
       "      <td>东北风3-4级</td>\n",
       "    </tr>\n",
       "    <tr>\n",
       "      <th>2018-9-13</th>\n",
       "      <td>2018-9-13</td>\n",
       "      <td>雷阵雨</td>\n",
       "      <td>32</td>\n",
       "      <td>25</td>\n",
       "      <td>东北风3-4级</td>\n",
       "    </tr>\n",
       "    <tr>\n",
       "      <th>2018-9-14</th>\n",
       "      <td>2018-9-14</td>\n",
       "      <td>晴</td>\n",
       "      <td>34</td>\n",
       "      <td>26</td>\n",
       "      <td>无持续风向1-2级</td>\n",
       "    </tr>\n",
       "    <tr>\n",
       "      <th>2018-9-15</th>\n",
       "      <td>2018-9-15</td>\n",
       "      <td>晴</td>\n",
       "      <td>35</td>\n",
       "      <td>25</td>\n",
       "      <td>东北风4-5级</td>\n",
       "    </tr>\n",
       "    <tr>\n",
       "      <th>2018-9-16</th>\n",
       "      <td>2018-9-16</td>\n",
       "      <td>大暴雨</td>\n",
       "      <td>29</td>\n",
       "      <td>24</td>\n",
       "      <td>东北风8-9级</td>\n",
       "    </tr>\n",
       "    <tr>\n",
       "      <th>2018-9-17</th>\n",
       "      <td>2018-9-17</td>\n",
       "      <td>中雨</td>\n",
       "      <td>29</td>\n",
       "      <td>25</td>\n",
       "      <td>东南风4-5级</td>\n",
       "    </tr>\n",
       "    <tr>\n",
       "      <th>2018-9-18</th>\n",
       "      <td>2018-9-18</td>\n",
       "      <td>雷阵雨</td>\n",
       "      <td>32</td>\n",
       "      <td>26</td>\n",
       "      <td>无持续风向1-2级</td>\n",
       "    </tr>\n",
       "    <tr>\n",
       "      <th>2018-9-19</th>\n",
       "      <td>2018-9-19</td>\n",
       "      <td>多云</td>\n",
       "      <td>34</td>\n",
       "      <td>25</td>\n",
       "      <td>无持续风向1-2级</td>\n",
       "    </tr>\n",
       "    <tr>\n",
       "      <th>2018-9-20</th>\n",
       "      <td>2018-9-20</td>\n",
       "      <td>多云</td>\n",
       "      <td>34</td>\n",
       "      <td>25</td>\n",
       "      <td>无持续风向1-2级</td>\n",
       "    </tr>\n",
       "    <tr>\n",
       "      <th>2018-9-21</th>\n",
       "      <td>2018-9-21</td>\n",
       "      <td>雷阵雨</td>\n",
       "      <td>34</td>\n",
       "      <td>25</td>\n",
       "      <td>无持续风向1-2级</td>\n",
       "    </tr>\n",
       "    <tr>\n",
       "      <th>2018-9-22</th>\n",
       "      <td>2018-9-22</td>\n",
       "      <td>多云</td>\n",
       "      <td>33</td>\n",
       "      <td>26</td>\n",
       "      <td>无持续风向1-2级</td>\n",
       "    </tr>\n",
       "    <tr>\n",
       "      <th>2018-9-23</th>\n",
       "      <td>2018-9-23</td>\n",
       "      <td>雷阵雨</td>\n",
       "      <td>31</td>\n",
       "      <td>25</td>\n",
       "      <td>无持续风向1-2级</td>\n",
       "    </tr>\n",
       "    <tr>\n",
       "      <th>2018-9-24</th>\n",
       "      <td>2018-9-24</td>\n",
       "      <td>雷阵雨</td>\n",
       "      <td>31</td>\n",
       "      <td>25</td>\n",
       "      <td>无持续风向1-2级</td>\n",
       "    </tr>\n",
       "    <tr>\n",
       "      <th>2018-9-25</th>\n",
       "      <td>2018-9-25</td>\n",
       "      <td>雷阵雨</td>\n",
       "      <td>32</td>\n",
       "      <td>25</td>\n",
       "      <td>无持续风向1-2级</td>\n",
       "    </tr>\n",
       "    <tr>\n",
       "      <th>2018-9-26</th>\n",
       "      <td>2018-9-26</td>\n",
       "      <td>雷阵雨</td>\n",
       "      <td>32</td>\n",
       "      <td>25</td>\n",
       "      <td>无持续风向1-2级</td>\n",
       "    </tr>\n",
       "    <tr>\n",
       "      <th>2018-9-27</th>\n",
       "      <td>2018-9-27</td>\n",
       "      <td>多云</td>\n",
       "      <td>31</td>\n",
       "      <td>24</td>\n",
       "      <td>无持续风向1-2级</td>\n",
       "    </tr>\n",
       "    <tr>\n",
       "      <th>2018-9-28</th>\n",
       "      <td>2018-9-28</td>\n",
       "      <td>晴</td>\n",
       "      <td>32</td>\n",
       "      <td>24</td>\n",
       "      <td>北风3-4级</td>\n",
       "    </tr>\n",
       "    <tr>\n",
       "      <th>2018-9-29</th>\n",
       "      <td>2018-9-29</td>\n",
       "      <td>晴</td>\n",
       "      <td>29</td>\n",
       "      <td>22</td>\n",
       "      <td>北风3-4级</td>\n",
       "    </tr>\n",
       "  </tbody>\n",
       "</table>\n",
       "</div>"
      ],
      "text/plain": [
       "                  日期 天气情况  最大温度  最小温度       风力方向\n",
       "日期                                              \n",
       "2018-9-1    2018-9-1   暴雨    29    24  无持续风向1-2级\n",
       "2018-9-2    2018-9-2  雷阵雨    30    24  无持续风向1-2级\n",
       "2018-9-3    2018-9-3  雷阵雨    32    26  无持续风向1-2级\n",
       "2018-9-4    2018-9-4   多云    34    26  无持续风向1-2级\n",
       "2018-9-5    2018-9-5  雷阵雨    35    26  无持续风向1-2级\n",
       "2018-9-6    2018-9-6  雷阵雨    34    25  无持续风向1-2级\n",
       "2018-9-7    2018-9-7   中雨    32    24  无持续风向1-2级\n",
       "2018-9-8    2018-9-8   阵雨    32    23  无持续风向1-2级\n",
       "2018-9-9    2018-9-9   多云    30    24  无持续风向1-2级\n",
       "2018-9-10  2018-9-10   多云    31    24  无持续风向1-2级\n",
       "2018-9-11  2018-9-11   多云    32    24  无持续风向1-2级\n",
       "2018-9-12  2018-9-12  雷阵雨    31    25    东北风3-4级\n",
       "2018-9-13  2018-9-13  雷阵雨    32    25    东北风3-4级\n",
       "2018-9-14  2018-9-14    晴    34    26  无持续风向1-2级\n",
       "2018-9-15  2018-9-15    晴    35    25    东北风4-5级\n",
       "2018-9-16  2018-9-16  大暴雨    29    24    东北风8-9级\n",
       "2018-9-17  2018-9-17   中雨    29    25    东南风4-5级\n",
       "2018-9-18  2018-9-18  雷阵雨    32    26  无持续风向1-2级\n",
       "2018-9-19  2018-9-19   多云    34    25  无持续风向1-2级\n",
       "2018-9-20  2018-9-20   多云    34    25  无持续风向1-2级\n",
       "2018-9-21  2018-9-21  雷阵雨    34    25  无持续风向1-2级\n",
       "2018-9-22  2018-9-22   多云    33    26  无持续风向1-2级\n",
       "2018-9-23  2018-9-23  雷阵雨    31    25  无持续风向1-2级\n",
       "2018-9-24  2018-9-24  雷阵雨    31    25  无持续风向1-2级\n",
       "2018-9-25  2018-9-25  雷阵雨    32    25  无持续风向1-2级\n",
       "2018-9-26  2018-9-26  雷阵雨    32    25  无持续风向1-2级\n",
       "2018-9-27  2018-9-27   多云    31    24  无持续风向1-2级\n",
       "2018-9-28  2018-9-28    晴    32    24     北风3-4级\n",
       "2018-9-29  2018-9-29    晴    29    22     北风3-4级"
      ]
     },
     "execution_count": 141,
     "metadata": {},
     "output_type": "execute_result"
    }
   ],
   "source": [
    "weather_df.set_index(weather_df[\"日期\"])"
   ]
  },
  {
   "cell_type": "code",
   "execution_count": 142,
   "metadata": {},
   "outputs": [],
   "source": [
    "import matplotlib.pyplot as plt"
   ]
  },
  {
   "cell_type": "code",
   "execution_count": 151,
   "metadata": {},
   "outputs": [
    {
     "data": {
      "text/plain": [
       "<matplotlib.legend.Legend at 0x21854630d30>"
      ]
     },
     "execution_count": 151,
     "metadata": {},
     "output_type": "execute_result"
    },
    {
     "data": {
      "image/png": "[encoded data removed]",
      "text/plain": [
       "<Figure size 480x640 with 1 Axes>"
      ]
     },
     "metadata": {},
     "output_type": "display_data"
    }
   ],
   "source": [
    "fig,ax = plt.subplots(figsize=(6,8),dpi=80)\n",
    "lst = [i for i in range(1,30)]\n",
    "plt.rcParams['font.sans-serif']=['SimHei']\n",
    "ax.plot(weather_df[\"日期\"].str.,weather_df[\"最大温度\"],label=\"maxTem\")\n",
    "ax.plot(,weather_df[\"最小温度\"],label=\"minTem\")\n",
    "ax.set_xlabel(\"时间\")\n",
    "ax.set_ylim(0,40)\n",
    "ax.set_ylabel(\"温度\")\n",
    "ax.legend()"
   ]
  },
  {
   "cell_type": "code",
   "execution_count": 155,
   "metadata": {},
   "outputs": [],
   "source": [
    "ser = weather_df[\"日期\"]"
   ]
  },
  {
   "cell_type": "code",
   "execution_count": null,
   "metadata": {},
   "outputs": [],
   "source": []
  }
 ],
 "metadata": {
  "kernelspec": {
   "display_name": "Python 3",
   "language": "python",
   "name": "python3"
  },
  "language_info": {
   "codemirror_mode": {
    "name": "ipython",
    "version": 3
   },
   "file_extension": ".py",
   "mimetype": "text/x-python",
   "name": "python",
   "nbconvert_exporter": "python",
   "pygments_lexer": "ipython3",
   "version": "3.6.5"
  }
 },
 "nbformat": 4,
 "nbformat_minor": 2
}
