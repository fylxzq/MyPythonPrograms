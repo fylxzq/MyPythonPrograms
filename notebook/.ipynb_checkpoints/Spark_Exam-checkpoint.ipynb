{
 "cells": [
  {
   "cell_type": "markdown",
   "metadata": {},
   "source": [
    "# MapReducer"
   ]
  },
  {
   "cell_type": "markdown",
   "metadata": {},
   "source": [
    "## 最高温度题"
   ]
  },
  {
   "cell_type": "code",
   "execution_count": null,
   "metadata": {},
   "outputs": [],
   "source": []
  },
  {
   "cell_type": "code",
   "execution_count": null,
   "metadata": {},
   "outputs": [],
   "source": []
  },
  {
   "cell_type": "code",
   "execution_count": null,
   "metadata": {},
   "outputs": [],
   "source": []
  },
  {
   "cell_type": "markdown",
   "metadata": {},
   "source": [
    "## 雨滴题"
   ]
  },
  {
   "cell_type": "code",
   "execution_count": 83,
   "metadata": {},
   "outputs": [
    {
     "data": {
      "text/plain": [
       "['527112 NJ01-Y1 2014 8 9 16:49:28 0 2015 6 16 16:52:34.',\n",
       " '527113 NJ01-Y1 2014 8 9 16:53:44 0 2015 6 16 16:52:34.',\n",
       " '527114 NJ01-Y1 2014 8 18 12:15:51 0 2015 6 16 16:52:34.',\n",
       " '527115 NJ01-Y1 2014 8 18 12:24:54 0 2015 6 16 16:52:34.',\n",
       " '527116 NJ01-Y1 2014 8 18 12:34:54 0 2015 6 16 16:52:34.',\n",
       " '527117 NJ01-Y1 2014 8 18 12:44:54 0 2015 6 16 16:52:34.']"
      ]
     },
     "execution_count": 83,
     "metadata": {},
     "output_type": "execute_result"
    }
   ],
   "source": [
    "rain_rdd = sc.textFile('test/raindata.txt')\n",
    "rain_rdd.take(6)"
   ]
  },
  {
   "cell_type": "code",
   "execution_count": 87,
   "metadata": {},
   "outputs": [
    {
     "data": {
      "text/plain": [
       "[('NJ01-Y1', '2014/8/9', 0.0),\n",
       " ('NJ01-Y1', '2014/8/9', 0.0),\n",
       " ('NJ01-Y1', '2014/8/18', 0.0),\n",
       " ('NJ01-Y1', '2014/8/18', 0.0),\n",
       " ('NJ01-Y1', '2014/8/18', 0.0)]"
      ]
     },
     "execution_count": 87,
     "metadata": {},
     "output_type": "execute_result"
    }
   ],
   "source": [
    "rain_split = rain_rdd.map(lambda x: \\\n",
    "((x.split(' ')[1],x.split(' ')[2]+'/'+x.split(' ')[3]+'/'+x.split(' ')[4],float(x.split(' ')[6]))))\n",
    "rain_split.take(5)"
   ]
  },
  {
   "cell_type": "code",
   "execution_count": 92,
   "metadata": {},
   "outputs": [],
   "source": [
    "from pyspark.sql.types import StructField,StructType,StringType,DoubleType\n",
    "schema = StructType([StructField('id',StringType(),False),StructField('time',StringType(),False),StructField('volume',DoubleType(),False)])"
   ]
  },
  {
   "cell_type": "code",
   "execution_count": 93,
   "metadata": {},
   "outputs": [
    {
     "name": "stdout",
     "output_type": "stream",
     "text": [
      "root\n",
      " |-- id: string (nullable = false)\n",
      " |-- time: string (nullable = false)\n",
      " |-- volume: double (nullable = false)\n",
      "\n"
     ]
    }
   ],
   "source": [
    "rain_df = spark.createDataFrame(rain_split,schema)\n",
    "rain_df.printSchema()"
   ]
  },
  {
   "cell_type": "code",
   "execution_count": 135,
   "metadata": {},
   "outputs": [
    {
     "name": "stdout",
     "output_type": "stream",
     "text": [
      "+-------+---------+------+\n",
      "|     id|     time|volume|\n",
      "+-------+---------+------+\n",
      "|NJ01-Y1| 2014/8/9|   0.0|\n",
      "|NJ01-Y1| 2014/8/9|   0.0|\n",
      "|NJ01-Y1|2014/8/18|   0.0|\n",
      "|NJ01-Y1|2014/8/18|   0.0|\n",
      "|NJ01-Y1|2014/8/18|   0.0|\n",
      "|NJ01-Y1|2014/8/18|   0.0|\n",
      "|NJ01-Y1|2014/8/18|   0.0|\n",
      "|NJ01-Y1|2014/8/18|   0.0|\n",
      "|NJ01-Y1|2014/8/18|   0.0|\n",
      "|NJ01-Y1|2014/8/18|   0.0|\n",
      "+-------+---------+------+\n",
      "only showing top 10 rows\n",
      "\n"
     ]
    }
   ],
   "source": [
    "rain_df.show(10)"
   ]
  },
  {
   "cell_type": "code",
   "execution_count": 112,
   "metadata": {},
   "outputs": [
    {
     "name": "stdout",
     "output_type": "stream",
     "text": [
      "+--------+-----------+\n",
      "|      id|max(volume)|\n",
      "+--------+-----------+\n",
      "|NJ13-Y28|       11.5|\n",
      "|NJ08-Y19|        6.0|\n",
      "|NJ14-Y30|        7.0|\n",
      "|NJ08-Y18|       21.5|\n",
      "|NJ09-Y21|       10.0|\n",
      "|NJ06-Y15|        6.5|\n",
      "+--------+-----------+\n",
      "only showing top 6 rows\n",
      "\n"
     ]
    }
   ],
   "source": [
    "from pyspark.sql.functions import max\n",
    "rain_max = \\\n",
    "rain_df.select('id','time','volume').groupBy(['id']).agg(max(rain_df.volume)).alias('max')\n",
    "#rain_df.select('id','time','volume').groupBy(['id']).agg({'volume':'max'}).alias('max').show(5)\n",
    "rain_max.show(6)"
   ]
  },
  {
   "cell_type": "code",
   "execution_count": 122,
   "metadata": {},
   "outputs": [],
   "source": [
    "rain_max_ans = rain_df.join \\\n",
    "(rain_max,[rain_max['id']==rain_df['id'],rain_max['max(volume)']==rain_df['volume']],'right') "
   ]
  },
  {
   "cell_type": "code",
   "execution_count": 123,
   "metadata": {},
   "outputs": [
    {
     "name": "stdout",
     "output_type": "stream",
     "text": [
      "+--------+---------+------+--------+-----------+\n",
      "|      id|     time|volume|      id|max(volume)|\n",
      "+--------+---------+------+--------+-----------+\n",
      "|NJ06-Y14| 2016/8/8|   6.0|NJ06-Y14|        6.0|\n",
      "|NJ16-Y36|2014/9/26|   6.0|NJ16-Y36|        6.0|\n",
      "|NJ14-Y30| 2014/9/6|   7.0|NJ14-Y30|        7.0|\n",
      "|NJ14-Y30|2016/8/14|   7.0|NJ14-Y30|        7.0|\n",
      "| NJ01-Y3|2016/5/23|  75.5| NJ01-Y3|       75.5|\n",
      "|NJ19-Y41|2016/8/20|  10.5|NJ19-Y41|       10.5|\n",
      "+--------+---------+------+--------+-----------+\n",
      "only showing top 6 rows\n",
      "\n"
     ]
    }
   ],
   "source": [
    "rain_max_ans.show(6)"
   ]
  },
  {
   "cell_type": "code",
   "execution_count": 126,
   "metadata": {},
   "outputs": [
    {
     "name": "stdout",
     "output_type": "stream",
     "text": [
      "+--------+----------+------+\n",
      "|      id|      time|volume|\n",
      "+--------+----------+------+\n",
      "| NJ01-Y1|2014/12/15|  51.5|\n",
      "| NJ01-Y2| 2015/4/22|  15.0|\n",
      "| NJ01-Y3| 2016/5/23|  75.5|\n",
      "| NJ02-Y4|  2016/8/9|   9.0|\n",
      "| NJ02-Y5| 2016/6/19|  64.0|\n",
      "| NJ03-Y6|  2015/7/9|  16.5|\n",
      "| NJ03-Y7| 2015/7/28|  14.0|\n",
      "| NJ03-Y8| 2016/4/24|  32.5|\n",
      "|NJ04-Y10| 2015/3/21|  11.5|\n",
      "| NJ04-Y9|  2015/7/9|   8.0|\n",
      "|NJ05-Y11| 2015/7/28|  12.0|\n",
      "|NJ05-Y12|  2016/7/7|   9.5|\n",
      "|NJ05-Y13|  2016/7/7|  11.0|\n",
      "|NJ06-Y14|  2016/8/8|   6.0|\n",
      "|NJ06-Y15| 2016/4/23|   6.5|\n",
      "|NJ06-Y15| 2016/4/23|   6.5|\n",
      "|NJ07-Y16|  2015/8/9|  14.5|\n",
      "|NJ07-Y17|  2015/8/9|  13.5|\n",
      "|NJ08-Y18| 2016/6/12|  21.5|\n",
      "|NJ08-Y19| 2016/9/20|   6.0|\n",
      "+--------+----------+------+\n",
      "only showing top 20 rows\n",
      "\n"
     ]
    }
   ],
   "source": [
    "ans1= rain_max_ans.select(rain_df.id,'time','volume').orderBy(rain_df.id)\n",
    "ans1.show()"
   ]
  },
  {
   "cell_type": "markdown",
   "metadata": {},
   "source": [
    "### 第二题"
   ]
  },
  {
   "cell_type": "code",
   "execution_count": 144,
   "metadata": {},
   "outputs": [
    {
     "name": "stdout",
     "output_type": "stream",
     "text": [
      "+----------+-----------+\n",
      "|      time|max(volume)|\n",
      "+----------+-----------+\n",
      "| 2014/10/1|        0.0|\n",
      "|2014/10/11|        0.0|\n",
      "|2014/10/12|        0.0|\n",
      "|2014/10/13|        0.5|\n",
      "|2014/10/14|        0.5|\n",
      "|2014/10/15|        1.0|\n",
      "|2014/10/16|        2.5|\n",
      "|2014/10/17|        4.0|\n",
      "|2014/10/18|        0.0|\n",
      "|2014/10/19|        0.5|\n",
      "| 2014/10/2|        0.0|\n",
      "|2014/10/20|        0.5|\n",
      "|2014/10/21|        0.0|\n",
      "|2014/10/22|        0.0|\n",
      "|2014/10/23|        0.0|\n",
      "|2014/10/24|        0.0|\n",
      "|2014/10/25|        0.0|\n",
      "|2014/10/26|        1.5|\n",
      "|2014/10/27|        1.0|\n",
      "|2014/10/28|        1.0|\n",
      "+----------+-----------+\n",
      "only showing top 20 rows\n",
      "\n"
     ]
    }
   ],
   "source": [
    "rain_day_max = \\\n",
    "rain_df.select('id','time','volume').groupBy('time').agg(max(rain_df.volume)).alias('max').\\\n",
    "orderBy('time')\n",
    "#rain_df.select('id','time','volume').groupBy(['id']).agg({'volume':'max'}).alias('max').show(5)\n",
    "rain_day_max.show()"
   ]
  },
  {
   "cell_type": "markdown",
   "metadata": {},
   "source": [
    "这里值得注意的是必须是大的表 `join` 小的表，然后最紧密的条件放在`on`参数的第一个位置"
   ]
  },
  {
   "cell_type": "code",
   "execution_count": 154,
   "metadata": {},
   "outputs": [],
   "source": [
    "\n",
    "rain_day_max_all = \\\n",
    "rain_df.join(rain_day_max,[rain_day_max['max(volume)']==rain_df['volume'],rain_day_max['time']==rain_df['time']],'inner'). \\\n",
    "select(rain_df['id'],rain_day_max[\"time\"],rain_day_max['max(volume)'].alias('volume'))\n"
   ]
  },
  {
   "cell_type": "code",
   "execution_count": 155,
   "metadata": {},
   "outputs": [
    {
     "name": "stdout",
     "output_type": "stream",
     "text": [
      "+--------+---------+------+\n",
      "|      id|     time|volume|\n",
      "+--------+---------+------+\n",
      "|NJ11-Y24|2014/10/8|   0.5|\n",
      "|NJ12-Y26|2014/10/8|   0.5|\n",
      "|NJ12-Y26|2014/10/8|   0.5|\n",
      "|NJ15-Y34| 2015/6/6|   3.5|\n",
      "|NJ17-Y38| 2015/6/6|   3.5|\n",
      "| NJ03-Y6|2016/7/21|   5.5|\n",
      "|NJ07-Y17|2016/7/21|   5.5|\n",
      "|NJ09-Y20|2016/7/21|   5.5|\n",
      "|NJ09-Y20|2016/7/21|   5.5|\n",
      "|NJ14-Y30|2016/5/25|   5.5|\n",
      "|NJ16-Y35|2016/5/25|   5.5|\n",
      "|NJ16-Y35|2016/5/25|   5.5|\n",
      "| NJ01-Y1|2015/1/28|   0.0|\n",
      "| NJ01-Y1|2015/1/28|   0.0|\n",
      "| NJ01-Y1|2015/1/28|   0.0|\n",
      "| NJ01-Y1|2015/1/28|   0.0|\n",
      "| NJ01-Y1|2015/1/28|   0.0|\n",
      "| NJ01-Y1|2015/1/28|   0.0|\n",
      "| NJ01-Y1|2015/1/28|   0.0|\n",
      "| NJ01-Y1|2015/1/28|   0.0|\n",
      "+--------+---------+------+\n",
      "only showing top 20 rows\n",
      "\n"
     ]
    }
   ],
   "source": [
    "rain_day_max_all.show()"
   ]
  },
  {
   "cell_type": "code",
   "execution_count": null,
   "metadata": {},
   "outputs": [],
   "source": []
  },
  {
   "cell_type": "code",
   "execution_count": null,
   "metadata": {},
   "outputs": [],
   "source": []
  },
  {
   "cell_type": "code",
   "execution_count": 136,
   "metadata": {},
   "outputs": [
    {
     "name": "stdout",
     "output_type": "stream",
     "text": [
      "+--------+---------+------+\n",
      "|      id|     time|volume|\n",
      "+--------+---------+------+\n",
      "| NJ02-Y5|2016/7/27|  10.0|\n",
      "|NJ05-Y13| 2016/7/7|  11.0|\n",
      "|NJ09-Y21| 2016/7/7|  10.0|\n",
      "|NJ12-Y26|2016/7/22|  17.0|\n",
      "|NJ18-Y40|2016/7/20|  11.5|\n",
      "|NJ18-Y40|2016/7/20|  23.5|\n",
      "|NJ18-Y40|2016/7/20|  24.5|\n",
      "|NJ18-Y40|2016/7/20|  18.0|\n",
      "+--------+---------+------+\n",
      "\n"
     ]
    }
   ],
   "source": [
    "# 这个答案是不对的，没有以当天最大降雨量记为唯一的降雨量\n",
    "ans2 = rain_df.select('*').filter(rain_df['volume'] <= 25).filter((rain_df['volume'] >= 10) & \\\n",
    "                                                        (rain_df['time'].contains('2016/7')))\n",
    "ans2.show()"
   ]
  },
  {
   "cell_type": "code",
   "execution_count": 156,
   "metadata": {
    "scrolled": true
   },
   "outputs": [
    {
     "name": "stdout",
     "output_type": "stream",
     "text": [
      "+--------+---------+------+\n",
      "|      id|     time|volume|\n",
      "+--------+---------+------+\n",
      "| NJ02-Y5|2016/7/27|  10.0|\n",
      "|NJ05-Y13| 2016/7/7|  11.0|\n",
      "|NJ12-Y26|2016/7/22|  17.0|\n",
      "+--------+---------+------+\n",
      "\n"
     ]
    }
   ],
   "source": [
    "ans2 = rain_day_max_all.select('*').filter(rain_day_max_all['volume'] <= 25).filter((rain_day_max_all['volume'] >= 10) & \\\n",
    "                                                        (rain_day_max_all['time'].contains('2016/7')))\n",
    "ans2.show()"
   ]
  },
  {
   "cell_type": "code",
   "execution_count": null,
   "metadata": {},
   "outputs": [],
   "source": []
  },
  {
   "cell_type": "code",
   "execution_count": null,
   "metadata": {},
   "outputs": [],
   "source": []
  },
  {
   "cell_type": "code",
   "execution_count": null,
   "metadata": {},
   "outputs": [],
   "source": []
  },
  {
   "cell_type": "markdown",
   "metadata": {},
   "source": [
    "# Spark RDD"
   ]
  },
  {
   "cell_type": "markdown",
   "metadata": {},
   "source": [
    "### rdd版"
   ]
  },
  {
   "cell_type": "code",
   "execution_count": 1,
   "metadata": {},
   "outputs": [],
   "source": [
    "from pyspark import SparkContext\n",
    "from pyspark.sql import SparkSession\n",
    "sc = SparkContext()\n",
    "spark = SparkSession.builder.getOrCreate()"
   ]
  },
  {
   "cell_type": "code",
   "execution_count": 43,
   "metadata": {},
   "outputs": [],
   "source": [
    "stu_rdd = sc.textFile(\"test/StudentScore/student.txt\").map(lambda x:x.split('\\t'))\n",
    "bigdata_score=sc.textFile('test/StudentScore/result_bigdata.txt').map(lambda x:x.split('\\t'))\n",
    "math_score = sc.textFile('test/StudentScore/result_math.txt').map(lambda x:x.split('\\t'))"
   ]
  },
  {
   "cell_type": "code",
   "execution_count": 51,
   "metadata": {},
   "outputs": [],
   "source": [
    "stu_rdd = stu_rdd.map(lambda x:(x[0],x[1]))"
   ]
  },
  {
   "cell_type": "code",
   "execution_count": 44,
   "metadata": {},
   "outputs": [
    {
     "data": {
      "text/plain": [
       "[['1001', '大数据基础', '90'],\n",
       " ['1002', '大数据基础', '94'],\n",
       " ['1003', '大数据基础', '100'],\n",
       " ['1004', '大数据基础', '99'],\n",
       " ['1005', '大数据基础', '90'],\n",
       " ['1006', '大数据基础', '94']]"
      ]
     },
     "execution_count": 44,
     "metadata": {},
     "output_type": "execute_result"
    }
   ],
   "source": [
    "bigdata_score.take(6)"
   ]
  },
  {
   "cell_type": "code",
   "execution_count": 52,
   "metadata": {},
   "outputs": [
    {
     "data": {
      "text/plain": [
       "[('1001', '李正明'),\n",
       " ('1002', '王一磊'),\n",
       " ('1003', '陈志华'),\n",
       " ('1004', '张永丽'),\n",
       " ('1005', '赵信')]"
      ]
     },
     "execution_count": 52,
     "metadata": {},
     "output_type": "execute_result"
    }
   ],
   "source": [
    "stu_rdd.take(5)"
   ]
  },
  {
   "cell_type": "code",
   "execution_count": 45,
   "metadata": {},
   "outputs": [],
   "source": [
    "bigdata_score = bigdata_score.map(lambda x:(x[0],int(x[2])))"
   ]
  },
  {
   "cell_type": "code",
   "execution_count": 47,
   "metadata": {},
   "outputs": [],
   "source": [
    "math_score = math_score.map(lambda x:(x[0],int(x[2])))"
   ]
  },
  {
   "cell_type": "code",
   "execution_count": 48,
   "metadata": {},
   "outputs": [
    {
     "data": {
      "text/plain": [
       "[('1001', 90), ('1002', 94), ('1003', 100), ('1004', 99), ('1005', 90)]"
      ]
     },
     "execution_count": 48,
     "metadata": {},
     "output_type": "execute_result"
    }
   ],
   "source": [
    "bigdata_score.take(5)"
   ]
  },
  {
   "cell_type": "code",
   "execution_count": 49,
   "metadata": {},
   "outputs": [
    {
     "data": {
      "text/plain": [
       "[('1001', 96), ('1002', 94), ('1003', 100), ('1004', 100), ('1005', 94)]"
      ]
     },
     "execution_count": 49,
     "metadata": {},
     "output_type": "execute_result"
    }
   ],
   "source": [
    "math_score.take(5)"
   ]
  },
  {
   "cell_type": "code",
   "execution_count": 72,
   "metadata": {},
   "outputs": [],
   "source": [
    "bigdata_top = bigdata_score.sortBy(lambda x:x[1],ascending=False)"
   ]
  },
  {
   "cell_type": "code",
   "execution_count": 75,
   "metadata": {},
   "outputs": [],
   "source": [
    "bigdata_top5 = bigdata_top.take(5)"
   ]
  },
  {
   "cell_type": "code",
   "execution_count": 77,
   "metadata": {},
   "outputs": [
    {
     "data": {
      "text/plain": [
       "[('1003', 100), ('1007', 100), ('1004', 99), ('1002', 94), ('1006', 94)]"
      ]
     },
     "execution_count": 77,
     "metadata": {},
     "output_type": "execute_result"
    }
   ],
   "source": [
    "bigdata_top5"
   ]
  },
  {
   "cell_type": "code",
   "execution_count": 78,
   "metadata": {},
   "outputs": [],
   "source": [
    "math_top = math_score.sortBy(lambda x:x[1],ascending=False)"
   ]
  },
  {
   "cell_type": "code",
   "execution_count": 79,
   "metadata": {},
   "outputs": [],
   "source": [
    "math_top5 = math_top.take(5)"
   ]
  },
  {
   "cell_type": "code",
   "execution_count": 80,
   "metadata": {},
   "outputs": [
    {
     "data": {
      "text/plain": [
       "[('1003', 100), ('1004', 100), ('1001', 96), ('1002', 94), ('1005', 94)]"
      ]
     },
     "execution_count": 80,
     "metadata": {},
     "output_type": "execute_result"
    }
   ],
   "source": [
    "math_top5"
   ]
  },
  {
   "cell_type": "code",
   "execution_count": 55,
   "metadata": {},
   "outputs": [],
   "source": [
    "score = bigdata_score.join(math_score)"
   ]
  },
  {
   "cell_type": "code",
   "execution_count": 56,
   "metadata": {},
   "outputs": [
    {
     "data": {
      "text/plain": [
       "[('1009', (89, 84)),\n",
       " ('1001', (90, 96)),\n",
       " ('1004', (99, 100)),\n",
       " ('1005', (90, 94)),\n",
       " ('1007', (100, 90))]"
      ]
     },
     "execution_count": 56,
     "metadata": {},
     "output_type": "execute_result"
    }
   ],
   "source": [
    "score.take(5)"
   ]
  },
  {
   "cell_type": "code",
   "execution_count": 57,
   "metadata": {},
   "outputs": [],
   "source": [
    "stu_score = score.join(stu_rdd)"
   ]
  },
  {
   "cell_type": "code",
   "execution_count": 91,
   "metadata": {},
   "outputs": [
    {
     "data": {
      "text/plain": [
       "((94, 94), '王一磊')"
      ]
     },
     "execution_count": 91,
     "metadata": {},
     "output_type": "execute_result"
    }
   ],
   "source": [
    "stu_score.take(5)[0][1]"
   ]
  },
  {
   "cell_type": "code",
   "execution_count": 88,
   "metadata": {},
   "outputs": [
    {
     "data": {
      "text/plain": [
       "[('1002', ((94, 94), '王一磊')),\n",
       " ('1004', ((99, 100), '张永丽')),\n",
       " ('1005', ((90, 94), '赵信')),\n",
       " ('1003', ((100, 100), '陈志华')),\n",
       " ('1009', ((89, 84), '李子琪'))]"
      ]
     },
     "execution_count": 88,
     "metadata": {},
     "output_type": "execute_result"
    }
   ],
   "source": [
    "stu_score.take(5)"
   ]
  },
  {
   "cell_type": "code",
   "execution_count": 99,
   "metadata": {},
   "outputs": [
    {
     "data": {
      "text/plain": [
       "[('1002', '王一磊', 94, 94, 188, 94.0),\n",
       " ('1004', '张永丽', 99, 100, 199, 99.5),\n",
       " ('1005', '赵信', 90, 94, 184, 92.0),\n",
       " ('1003', '陈志华', 100, 100, 200, 100.0),\n",
       " ('1009', '李子琪', 89, 84, 173, 86.5)]"
      ]
     },
     "execution_count": 99,
     "metadata": {},
     "output_type": "execute_result"
    }
   ],
   "source": [
    "f_score =stu_score.map(lambda x:(x[0],x[1][1],x[1][0][0],x[1][0][1],x[1][0][0]+x[1][0][1],(x[1][0][0]+x[1][0][1])/2))\n",
    "f_score.take(5)"
   ]
  },
  {
   "cell_type": "code",
   "execution_count": 92,
   "metadata": {},
   "outputs": [
    {
     "data": {
      "text/plain": [
       "[('1002', 188), ('1004', 199), ('1005', 184), ('1003', 200), ('1009', 173)]"
      ]
     },
     "execution_count": 92,
     "metadata": {},
     "output_type": "execute_result"
    }
   ],
   "source": [
    "s_score = stu_score.map(lambda x:(x[0],x[1][0][0]+x[1][0][1]))\n",
    "s_score.take(5)"
   ]
  },
  {
   "cell_type": "code",
   "execution_count": 93,
   "metadata": {},
   "outputs": [
    {
     "data": {
      "text/plain": [
       "[('1002', 94.0),\n",
       " ('1004', 99.5),\n",
       " ('1005', 92.0),\n",
       " ('1003', 100.0),\n",
       " ('1009', 86.5)]"
      ]
     },
     "execution_count": 93,
     "metadata": {},
     "output_type": "execute_result"
    }
   ],
   "source": [
    "a_score = stu_score.map(lambda x:(x[0],(x[1][0][0]+x[1][0][1])/2))\n",
    "a_score.take(5)"
   ]
  },
  {
   "cell_type": "code",
   "execution_count": 81,
   "metadata": {},
   "outputs": [],
   "source": [
    "bigdata_100 = bigdata_score.filter(lambda x:x[1]==100)"
   ]
  },
  {
   "cell_type": "code",
   "execution_count": 83,
   "metadata": {},
   "outputs": [
    {
     "data": {
      "text/plain": [
       "[('1003', 100), ('1007', 100)]"
      ]
     },
     "execution_count": 83,
     "metadata": {},
     "output_type": "execute_result"
    }
   ],
   "source": [
    "bigdata_100.collect()"
   ]
  },
  {
   "cell_type": "code",
   "execution_count": 84,
   "metadata": {},
   "outputs": [
    {
     "data": {
      "text/plain": [
       "[('1003', 100), ('1004', 100)]"
      ]
     },
     "execution_count": 84,
     "metadata": {},
     "output_type": "execute_result"
    }
   ],
   "source": [
    "math_100 = math_score.filter(lambda x:x[1] == 100)\n",
    "math_100.collect()"
   ]
  },
  {
   "cell_type": "markdown",
   "metadata": {},
   "source": [
    "### SparkDataFrame版"
   ]
  },
  {
   "cell_type": "code",
   "execution_count": 16,
   "metadata": {},
   "outputs": [],
   "source": [
    "stu = spark.read.format('csv').option('delimiter','\\t').option('header','false').load('test/StudentScore/student.txt')\n",
    "bigdata = spark.read.format('csv').option('delimiter','\\t').option('header','false').load('test/StudentScore/result_bigdata.txt')\n",
    "math = spark.read.format('csv').option('delimiter','\\t').option('header','false').load('test/StudentScore/result_math.txt')"
   ]
  },
  {
   "cell_type": "code",
   "execution_count": 17,
   "metadata": {},
   "outputs": [
    {
     "name": "stdout",
     "output_type": "stream",
     "text": [
      "root\n",
      " |-- _c0: string (nullable = true)\n",
      " |-- _c1: string (nullable = true)\n",
      "\n"
     ]
    }
   ],
   "source": [
    "stu.printSchema()"
   ]
  },
  {
   "cell_type": "code",
   "execution_count": 18,
   "metadata": {},
   "outputs": [],
   "source": [
    "stu = stu.select(stu['_c0'].alias('id'),stu['_c1'].alias('name'))"
   ]
  },
  {
   "cell_type": "code",
   "execution_count": 19,
   "metadata": {},
   "outputs": [
    {
     "name": "stdout",
     "output_type": "stream",
     "text": [
      "+----+----+\n",
      "|  id|name|\n",
      "+----+----+\n",
      "|1001| 李正明|\n",
      "|1002| 王一磊|\n",
      "|1003| 陈志华|\n",
      "|1004| 张永丽|\n",
      "|1005|  赵信|\n",
      "|1006| 古明远|\n",
      "|1007| 刘浩明|\n",
      "|1008|  沈彬|\n",
      "|1009| 李子琪|\n",
      "|1010| 王嘉栋|\n",
      "+----+----+\n",
      "only showing top 10 rows\n",
      "\n"
     ]
    }
   ],
   "source": [
    "stu.show(10)"
   ]
  },
  {
   "cell_type": "code",
   "execution_count": 20,
   "metadata": {},
   "outputs": [],
   "source": [
    "bigdata = bigdata.select(bigdata['_c0'].alias('id'),bigdata['_c1'].alias('sub'),bigdata['_c2'].cast('double').alias('bigdata'))"
   ]
  },
  {
   "cell_type": "code",
   "execution_count": 21,
   "metadata": {},
   "outputs": [
    {
     "name": "stdout",
     "output_type": "stream",
     "text": [
      "root\n",
      " |-- id: string (nullable = true)\n",
      " |-- sub: string (nullable = true)\n",
      " |-- bigdata: double (nullable = true)\n",
      "\n"
     ]
    }
   ],
   "source": [
    "bigdata.printSchema()"
   ]
  },
  {
   "cell_type": "code",
   "execution_count": 22,
   "metadata": {},
   "outputs": [],
   "source": [
    "math = math.select(math['_c0'].alias('id'),math['_c1'].alias('sub'),math['_c2'].cast('double').alias('math'))"
   ]
  },
  {
   "cell_type": "code",
   "execution_count": 23,
   "metadata": {},
   "outputs": [
    {
     "name": "stdout",
     "output_type": "stream",
     "text": [
      "root\n",
      " |-- id: string (nullable = true)\n",
      " |-- sub: string (nullable = true)\n",
      " |-- math: double (nullable = true)\n",
      "\n"
     ]
    }
   ],
   "source": [
    "math.printSchema()"
   ]
  },
  {
   "cell_type": "code",
   "execution_count": null,
   "metadata": {},
   "outputs": [],
   "source": []
  },
  {
   "cell_type": "code",
   "execution_count": null,
   "metadata": {},
   "outputs": [],
   "source": []
  },
  {
   "cell_type": "code",
   "execution_count": 78,
   "metadata": {},
   "outputs": [
    {
     "name": "stdout",
     "output_type": "stream",
     "text": [
      "+----+----+-------+\n",
      "|  id|name|bigdata|\n",
      "+----+----+-------+\n",
      "|1001| 李正明|   90.0|\n",
      "|1002| 王一磊|   94.0|\n",
      "|1003| 陈志华|  100.0|\n",
      "|1004| 张永丽|   99.0|\n",
      "|1005|  赵信|   90.0|\n",
      "+----+----+-------+\n",
      "only showing top 5 rows\n",
      "\n"
     ]
    }
   ],
   "source": [
    "name_bigdata = stu.join(bigdata,bigdata.id==stu.id,'inner').select(stu.id,'name','bigdata')\n",
    "name_bigdata.show(5)"
   ]
  },
  {
   "cell_type": "code",
   "execution_count": 80,
   "metadata": {},
   "outputs": [
    {
     "name": "stdout",
     "output_type": "stream",
     "text": [
      "root\n",
      " |-- id: string (nullable = true)\n",
      " |-- name: string (nullable = true)\n",
      " |-- bigdata: double (nullable = true)\n",
      " |-- math: double (nullable = true)\n",
      "\n"
     ]
    }
   ],
   "source": [
    "name_bigdata_math = name_bigdata.join(math,on='id',how='left_outer').select(name_bigdata.id,'name','bigdata','math')\n",
    "name_bigdata_math.printSchema()"
   ]
  },
  {
   "cell_type": "code",
   "execution_count": 82,
   "metadata": {},
   "outputs": [
    {
     "name": "stdout",
     "output_type": "stream",
     "text": [
      "+----+----+-------+-----+\n",
      "|  id|name|bigdata| math|\n",
      "+----+----+-------+-----+\n",
      "|1001| 李正明|   90.0| 96.0|\n",
      "|1002| 王一磊|   94.0| 94.0|\n",
      "|1003| 陈志华|  100.0|100.0|\n",
      "|1004| 张永丽|   99.0|100.0|\n",
      "|1005|  赵信|   90.0| 94.0|\n",
      "|1006| 古明远|   94.0| 80.0|\n",
      "|1007| 刘浩明|  100.0| 90.0|\n",
      "|1008|  沈彬|   93.0| 94.0|\n",
      "|1009| 李子琪|   89.0| 84.0|\n",
      "|1010| 王嘉栋|   78.0| 86.0|\n",
      "|1011| 柳梦文|   91.0| 79.0|\n",
      "|1012| 钱多多|   84.0| 91.0|\n",
      "+----+----+-------+-----+\n",
      "\n"
     ]
    }
   ],
   "source": [
    "name_bigdata_math.show()"
   ]
  },
  {
   "cell_type": "code",
   "execution_count": 31,
   "metadata": {},
   "outputs": [
    {
     "name": "stdout",
     "output_type": "stream",
     "text": [
      "+----+-----+\n",
      "|name| math|\n",
      "+----+-----+\n",
      "| 张永丽|100.0|\n",
      "| 陈志华|100.0|\n",
      "| 李正明| 96.0|\n",
      "| 王一磊| 94.0|\n",
      "|  赵信| 94.0|\n",
      "+----+-----+\n",
      "only showing top 5 rows\n",
      "\n"
     ]
    }
   ],
   "source": [
    "name_bigdata_math.select('name','math').orderBy('math',ascending=False).show(5)"
   ]
  },
  {
   "cell_type": "code",
   "execution_count": 33,
   "metadata": {},
   "outputs": [
    {
     "name": "stdout",
     "output_type": "stream",
     "text": [
      "+----+-------+\n",
      "|name|bigdata|\n",
      "+----+-------+\n",
      "| 刘浩明|  100.0|\n",
      "| 陈志华|  100.0|\n",
      "| 张永丽|   99.0|\n",
      "| 古明远|   94.0|\n",
      "| 王一磊|   94.0|\n",
      "+----+-------+\n",
      "only showing top 5 rows\n",
      "\n"
     ]
    }
   ],
   "source": [
    "name_bigdata_math.select('name','bigdata').orderBy('bigdata',ascending=False).show(5)"
   ]
  },
  {
   "cell_type": "code",
   "execution_count": 29,
   "metadata": {},
   "outputs": [
    {
     "name": "stdout",
     "output_type": "stream",
     "text": [
      "+----+-----+\n",
      "|name| math|\n",
      "+----+-----+\n",
      "| 李正明| 96.0|\n",
      "| 王一磊| 94.0|\n",
      "| 陈志华|100.0|\n",
      "| 张永丽|100.0|\n",
      "|  赵信| 94.0|\n",
      "| 古明远| 80.0|\n",
      "| 刘浩明| 90.0|\n",
      "|  沈彬| 94.0|\n",
      "| 李子琪| 84.0|\n",
      "| 王嘉栋| 86.0|\n",
      "| 柳梦文| 79.0|\n",
      "| 钱多多| 91.0|\n",
      "+----+-----+\n",
      "\n"
     ]
    }
   ],
   "source": [
    "name_bigdata_math.select('name','math').show()"
   ]
  },
  {
   "cell_type": "code",
   "execution_count": null,
   "metadata": {},
   "outputs": [],
   "source": []
  },
  {
   "cell_type": "code",
   "execution_count": 38,
   "metadata": {},
   "outputs": [
    {
     "name": "stdout",
     "output_type": "stream",
     "text": [
      "+----+--------+--------+\n",
      "|name|sumGrade|avgGrade|\n",
      "+----+--------+--------+\n",
      "| 李正明|   186.0|    93.0|\n",
      "| 王一磊|   188.0|    94.0|\n",
      "| 陈志华|   200.0|   100.0|\n",
      "| 张永丽|   199.0|    99.5|\n",
      "|  赵信|   184.0|    92.0|\n",
      "| 古明远|   174.0|    87.0|\n",
      "| 刘浩明|   190.0|    95.0|\n",
      "|  沈彬|   187.0|    93.5|\n",
      "| 李子琪|   173.0|    86.5|\n",
      "| 王嘉栋|   164.0|    82.0|\n",
      "| 柳梦文|   170.0|    85.0|\n",
      "| 钱多多|   175.0|    87.5|\n",
      "+----+--------+--------+\n",
      "\n"
     ]
    }
   ],
   "source": [
    "name_score = name_bigdata_math.select \\\n",
    "('name',(name_bigdata_math['math']+name_bigdata_math['bigdata']).alias('sumGrade'), \\\n",
    "((name_bigdata_math['math']+name_bigdata_math['bigdata'])/2).alias('avgGrade'))\n",
    "name_score.show()"
   ]
  },
  {
   "cell_type": "code",
   "execution_count": 34,
   "metadata": {},
   "outputs": [
    {
     "name": "stdout",
     "output_type": "stream",
     "text": [
      "+----+----+----+-----+-------+----+-----+\n",
      "|  id|name|  id|  sub|bigdata| sub| math|\n",
      "+----+----+----+-----+-------+----+-----+\n",
      "|1001| 李正明|1001|大数据基础|   90.0|应用数学| 96.0|\n",
      "|1002| 王一磊|1002|大数据基础|   94.0|应用数学| 94.0|\n",
      "|1003| 陈志华|1003|大数据基础|  100.0|应用数学|100.0|\n",
      "|1004| 张永丽|1004|大数据基础|   99.0|应用数学|100.0|\n",
      "|1005|  赵信|1005|大数据基础|   90.0|应用数学| 94.0|\n",
      "|1006| 古明远|1006|大数据基础|   94.0|应用数学| 80.0|\n",
      "|1007| 刘浩明|1007|大数据基础|  100.0|应用数学| 90.0|\n",
      "|1008|  沈彬|1008|大数据基础|   93.0|应用数学| 94.0|\n",
      "|1009| 李子琪|1009|大数据基础|   89.0|应用数学| 84.0|\n",
      "|1010| 王嘉栋|1010|大数据基础|   78.0|应用数学| 86.0|\n",
      "|1011| 柳梦文|1011|大数据基础|   91.0|应用数学| 79.0|\n",
      "|1012| 钱多多|1012|大数据基础|   84.0|应用数学| 91.0|\n",
      "+----+----+----+-----+-------+----+-----+\n",
      "\n"
     ]
    }
   ],
   "source": [
    "name_bigdata_math.show(14)"
   ]
  },
  {
   "cell_type": "code",
   "execution_count": null,
   "metadata": {},
   "outputs": [],
   "source": []
  },
  {
   "cell_type": "code",
   "execution_count": null,
   "metadata": {},
   "outputs": [],
   "source": []
  },
  {
   "cell_type": "markdown",
   "metadata": {},
   "source": [
    "# Spark DataFrame"
   ]
  },
  {
   "cell_type": "markdown",
   "metadata": {},
   "source": [
    "## 第2题"
   ]
  },
  {
   "cell_type": "code",
   "execution_count": 1,
   "metadata": {},
   "outputs": [],
   "source": [
    "from pyspark import SparkContext\n",
    "from pyspark.sql import SparkSession"
   ]
  },
  {
   "cell_type": "code",
   "execution_count": 2,
   "metadata": {},
   "outputs": [],
   "source": [
    "spark = SparkSession.builder.getOrCreate()"
   ]
  },
  {
   "cell_type": "code",
   "execution_count": 5,
   "metadata": {},
   "outputs": [],
   "source": [
    "room = spark.read.format('csv').option('delimiter',',').option('header','true').load('test/58fang.txt')"
   ]
  },
  {
   "cell_type": "code",
   "execution_count": 8,
   "metadata": {},
   "outputs": [
    {
     "name": "stdout",
     "output_type": "stream",
     "text": [
      "root\n",
      " |-- 房间数: string (nullable = true)\n",
      " |-- 面积: string (nullable = true)\n",
      " |-- 楼层数: string (nullable = true)\n",
      " |-- 区名: string (nullable = true)\n",
      " |-- 是否邻近地铁: string (nullable = true)\n",
      " |-- 均价（元/m2）: string (nullable = true)\n",
      "\n"
     ]
    }
   ],
   "source": [
    "room.printSchema()"
   ]
  },
  {
   "cell_type": "code",
   "execution_count": 13,
   "metadata": {},
   "outputs": [],
   "source": [
    "room_df=room.select(room.房间数.astype('int').alias('rc'), \\\n",
    "                    room.面积.astype('int').alias('area'), \\\n",
    "                    room.区名.alias('name'), \\\n",
    "                    room['均价（元/m2）'].astype('double').alias('price'))"
   ]
  },
  {
   "cell_type": "code",
   "execution_count": 14,
   "metadata": {},
   "outputs": [
    {
     "name": "stdout",
     "output_type": "stream",
     "text": [
      "root\n",
      " |-- rc: integer (nullable = true)\n",
      " |-- area: integer (nullable = true)\n",
      " |-- name: string (nullable = true)\n",
      " |-- price: double (nullable = true)\n",
      "\n"
     ]
    }
   ],
   "source": [
    "room_df.printSchema()"
   ]
  },
  {
   "cell_type": "code",
   "execution_count": 21,
   "metadata": {},
   "outputs": [],
   "source": [
    "from pyspark.sql.functions import sum\n",
    "room_all = room_df.select('name','rc').groupby('name').agg({'rc':'sum'}).alias('sum')"
   ]
  },
  {
   "cell_type": "code",
   "execution_count": 23,
   "metadata": {},
   "outputs": [
    {
     "name": "stdout",
     "output_type": "stream",
     "text": [
      "+----+-------+\n",
      "|name|sum(rc)|\n",
      "+----+-------+\n",
      "|  雨花|   3554|\n",
      "|  岳麓|   2511|\n",
      "|  开福|   1726|\n",
      "|  星沙|   1455|\n",
      "|  天心|   1442|\n",
      "|  芙蓉|   1160|\n",
      "|长沙周边|    556|\n",
      "|  望城|    297|\n",
      "|  长沙|      5|\n",
      "+----+-------+\n",
      "\n"
     ]
    }
   ],
   "source": [
    "room_all.select('*').orderBy('sum(rc)',ascending=False).show(10)"
   ]
  },
  {
   "cell_type": "markdown",
   "metadata": {},
   "source": [
    "## 第3题"
   ]
  },
  {
   "cell_type": "code",
   "execution_count": 28,
   "metadata": {},
   "outputs": [],
   "source": [
    "room_price = room_df.select('name','area',(room_df['area']*room_df['price']).alias('all'))"
   ]
  },
  {
   "cell_type": "code",
   "execution_count": 29,
   "metadata": {},
   "outputs": [
    {
     "name": "stdout",
     "output_type": "stream",
     "text": [
      "+----+----+---------+\n",
      "|name|area|      all|\n",
      "+----+----+---------+\n",
      "|  雨花| 152|2079968.0|\n",
      "|  雨花| 157|1759970.0|\n",
      "|  雨花|  91| 779961.0|\n",
      "|  雨花|  90| 918000.0|\n",
      "|  星沙| 108| 979992.0|\n",
      "|  星沙|  40| 240000.0|\n",
      "|  星沙|  94| 658000.0|\n",
      "|长沙周边|  91| 617981.0|\n",
      "|  岳麓| 126|1359918.0|\n",
      "|  岳麓| 122|1650416.0|\n",
      "+----+----+---------+\n",
      "only showing top 10 rows\n",
      "\n"
     ]
    }
   ],
   "source": [
    "room_price.show(10)"
   ]
  },
  {
   "cell_type": "code",
   "execution_count": 35,
   "metadata": {},
   "outputs": [],
   "source": [
    "room_price_area_all = room_price.select('*').groupby('name').agg({'area':'sum','all':'sum'})"
   ]
  },
  {
   "cell_type": "code",
   "execution_count": 36,
   "metadata": {},
   "outputs": [
    {
     "name": "stdout",
     "output_type": "stream",
     "text": [
      "+----+---------+------------+\n",
      "|name|sum(area)|    sum(all)|\n",
      "+----+---------+------------+\n",
      "|  长沙|       89|    859918.0|\n",
      "|  芙蓉|    20394|2.07321121E8|\n",
      "|  开福|    32219|3.80605305E8|\n",
      "|  望城|     6601| 6.3996437E7|\n",
      "|  天心|    26673|2.83885828E8|\n",
      "|  岳麓|    48199|5.47782977E8|\n",
      "|  星沙|    28095|2.48856227E8|\n",
      "|长沙周边|    11216| 7.4093459E7|\n",
      "|  雨花|    64074|6.86737683E8|\n",
      "+----+---------+------------+\n",
      "\n"
     ]
    }
   ],
   "source": [
    "room_price_area_all.show(10)"
   ]
  },
  {
   "cell_type": "code",
   "execution_count": 40,
   "metadata": {},
   "outputs": [],
   "source": [
    "room_ans = room_price_area_all.select \\\n",
    "    ('name',(room_price_area_all['sum(all)']/room_price_area_all['sum(area)']).alias('avg'))"
   ]
  },
  {
   "cell_type": "code",
   "execution_count": 41,
   "metadata": {},
   "outputs": [
    {
     "name": "stdout",
     "output_type": "stream",
     "text": [
      "+----+------------------+\n",
      "|name|               avg|\n",
      "+----+------------------+\n",
      "|  开福|11813.070082870356|\n",
      "|  岳麓|11365.027842901305|\n",
      "|  雨花|10717.883743796236|\n",
      "|  天心|10643.190792186855|\n",
      "|  芙蓉|10165.789987251152|\n",
      "|  望城| 9694.960915012876|\n",
      "|  长沙|            9662.0|\n",
      "|  星沙| 8857.669585335469|\n",
      "|长沙周边|  6606.05019614836|\n",
      "+----+------------------+\n",
      "\n"
     ]
    }
   ],
   "source": [
    "room_ans.select('*').orderBy('avg',ascending=False).show(10)"
   ]
  },
  {
   "cell_type": "markdown",
   "metadata": {},
   "source": [
    "# ML PipeLine"
   ]
  },
  {
   "cell_type": "markdown",
   "metadata": {},
   "source": [
    "## 第1题：Women"
   ]
  },
  {
   "cell_type": "code",
   "execution_count": 42,
   "metadata": {},
   "outputs": [],
   "source": [
    "from pyspark.ml.regression import LinearRegression"
   ]
  },
  {
   "cell_type": "code",
   "execution_count": 46,
   "metadata": {},
   "outputs": [],
   "source": [
    "train_df = spark.read.format('csv').option('delimiter',',').option('header','true').load('test/women.csv')"
   ]
  },
  {
   "cell_type": "code",
   "execution_count": 48,
   "metadata": {},
   "outputs": [
    {
     "name": "stdout",
     "output_type": "stream",
     "text": [
      "root\n",
      " |-- _c0: string (nullable = true)\n",
      " |-- height: string (nullable = true)\n",
      " |-- weight: string (nullable = true)\n",
      "\n"
     ]
    }
   ],
   "source": [
    "train_df.printSchema()"
   ]
  },
  {
   "cell_type": "code",
   "execution_count": 47,
   "metadata": {},
   "outputs": [
    {
     "name": "stdout",
     "output_type": "stream",
     "text": [
      "+---+------+------+\n",
      "|_c0|height|weight|\n",
      "+---+------+------+\n",
      "|  1|    58|   115|\n",
      "|  2|    59|   117|\n",
      "|  3|    60|   120|\n",
      "|  4|    61|   123|\n",
      "|  5|    62|   126|\n",
      "|  6|    63|   129|\n",
      "|  7|    64|   132|\n",
      "|  8|    65|   135|\n",
      "|  9|    66|   139|\n",
      "| 10|    67|   142|\n",
      "+---+------+------+\n",
      "only showing top 10 rows\n",
      "\n"
     ]
    }
   ],
   "source": [
    "train_df.show(10)"
   ]
  },
  {
   "cell_type": "code",
   "execution_count": 52,
   "metadata": {},
   "outputs": [],
   "source": [
    "train_df = train_df.select(train_df['height'].astype('int'),train_df['weight'].astype('int'))"
   ]
  },
  {
   "cell_type": "code",
   "execution_count": 53,
   "metadata": {},
   "outputs": [
    {
     "name": "stdout",
     "output_type": "stream",
     "text": [
      "root\n",
      " |-- height: integer (nullable = true)\n",
      " |-- weight: integer (nullable = true)\n",
      "\n"
     ]
    }
   ],
   "source": [
    "train_df.printSchema()"
   ]
  },
  {
   "cell_type": "code",
   "execution_count": 60,
   "metadata": {},
   "outputs": [],
   "source": [
    "from pyspark.ml.feature import VectorAssembler\n",
    "assembler = VectorAssembler(inputCols = ['height'],outputCol='feature')"
   ]
  },
  {
   "cell_type": "code",
   "execution_count": 61,
   "metadata": {},
   "outputs": [],
   "source": [
    "from pyspark.ml.regression import LinearRegression\n",
    "lineModel = LinearRegression(labelCol='weight',featuresCol='feature')"
   ]
  },
  {
   "cell_type": "code",
   "execution_count": 62,
   "metadata": {},
   "outputs": [],
   "source": [
    "from pyspark.ml import Pipeline\n",
    "line_pipe = Pipeline(stages=[assembler,lineModel])"
   ]
  },
  {
   "cell_type": "code",
   "execution_count": 67,
   "metadata": {},
   "outputs": [],
   "source": [
    "line_pipeModel = line_pipe.fit(train_df)"
   ]
  },
  {
   "cell_type": "code",
   "execution_count": 105,
   "metadata": {},
   "outputs": [
    {
     "data": {
      "text/plain": [
       "DenseVector([3.45])"
      ]
     },
     "execution_count": 105,
     "metadata": {},
     "output_type": "execute_result"
    }
   ],
   "source": [
    "line_pipeModel.stages[1].coefficients"
   ]
  },
  {
   "cell_type": "code",
   "execution_count": 106,
   "metadata": {},
   "outputs": [
    {
     "data": {
      "text/plain": [
       "-87.51666666666614"
      ]
     },
     "execution_count": 106,
     "metadata": {},
     "output_type": "execute_result"
    }
   ],
   "source": [
    "line_pipeModel.stages[1].intercept"
   ]
  },
  {
   "cell_type": "code",
   "execution_count": 82,
   "metadata": {},
   "outputs": [],
   "source": [
    "predict_raw = line_pipeModel.transform(train_df)"
   ]
  },
  {
   "cell_type": "code",
   "execution_count": 83,
   "metadata": {},
   "outputs": [
    {
     "name": "stdout",
     "output_type": "stream",
     "text": [
      "root\n",
      " |-- height: integer (nullable = true)\n",
      " |-- weight: integer (nullable = true)\n",
      " |-- feature: vector (nullable = true)\n",
      " |-- prediction: double (nullable = true)\n",
      "\n"
     ]
    }
   ],
   "source": [
    "predict_raw.printSchema()"
   ]
  },
  {
   "cell_type": "code",
   "execution_count": 84,
   "metadata": {},
   "outputs": [
    {
     "name": "stdout",
     "output_type": "stream",
     "text": [
      "+------+------+-------+------------------+\n",
      "|height|weight|feature|        prediction|\n",
      "+------+------+-------+------------------+\n",
      "|    58|   115| [58.0]|112.58333333333334|\n",
      "|    59|   117| [59.0]|116.03333333333336|\n",
      "|    60|   120| [60.0]|119.48333333333335|\n",
      "|    61|   123| [61.0]|122.93333333333334|\n",
      "|    62|   126| [62.0]|126.38333333333333|\n",
      "|    63|   129| [63.0]|129.83333333333331|\n",
      "|    64|   132| [64.0]| 133.2833333333333|\n",
      "|    65|   135| [65.0]| 136.7333333333333|\n",
      "|    66|   139| [66.0]|140.18333333333328|\n",
      "|    67|   142| [67.0]|143.63333333333327|\n",
      "+------+------+-------+------------------+\n",
      "only showing top 10 rows\n",
      "\n"
     ]
    }
   ],
   "source": [
    "predict_raw.show(10)"
   ]
  },
  {
   "cell_type": "code",
   "execution_count": 85,
   "metadata": {},
   "outputs": [],
   "source": [
    "import matplotlib.pyplot as plt\n",
    "%matplotlib inline"
   ]
  },
  {
   "cell_type": "code",
   "execution_count": 86,
   "metadata": {},
   "outputs": [],
   "source": [
    "predict_df = predict_raw.toPandas()"
   ]
  },
  {
   "cell_type": "code",
   "execution_count": 104,
   "metadata": {},
   "outputs": [
    {
     "data": {
      "image/png": "[encoded data removed]",
      "text/plain": [
       "<matplotlib.figure.Figure at 0xcec30d0>"
      ]
     },
     "metadata": {},
     "output_type": "display_data"
    }
   ],
   "source": [
    "fig,ax = plt.subplots(figsize=(8,6),dpi=80)\n",
    "ax.scatter(predict_df['height'],predict_df['weight'],label='raw')\n",
    "ax.scatter(predict_df['height'],predict_df['prediction'],label='predict')\n",
    "ax.set_ylabel(\"weight\")\n",
    "ax.set_xlabel(\"height\")\n",
    "ax.set_title(\"Predicion of Weight\")\n",
    "ax.legend(loc = 'best')\n",
    "fig.savefig('Predicion of Weight.png')"
   ]
  },
  {
   "cell_type": "code",
   "execution_count": 96,
   "metadata": {},
   "outputs": [],
   "source": [
    "test_df = spark.read.csv(path='test/test.csv',header=True)"
   ]
  },
  {
   "cell_type": "code",
   "execution_count": 99,
   "metadata": {},
   "outputs": [],
   "source": [
    "test_df = test_df.select(test_df['height'].astype('double'))"
   ]
  },
  {
   "cell_type": "code",
   "execution_count": 100,
   "metadata": {},
   "outputs": [
    {
     "name": "stdout",
     "output_type": "stream",
     "text": [
      "root\n",
      " |-- height: double (nullable = true)\n",
      "\n"
     ]
    }
   ],
   "source": [
    "test_df.printSchema()"
   ]
  },
  {
   "cell_type": "code",
   "execution_count": 102,
   "metadata": {},
   "outputs": [],
   "source": [
    "predict_test = line_pipeModel.transform(test_df)"
   ]
  },
  {
   "cell_type": "code",
   "execution_count": 103,
   "metadata": {},
   "outputs": [
    {
     "name": "stdout",
     "output_type": "stream",
     "text": [
      "+------+-------+------------------+\n",
      "|height|feature|        prediction|\n",
      "+------+-------+------------------+\n",
      "|  63.5| [63.5]| 131.5583333333333|\n",
      "|  64.5| [64.5]| 135.0083333333333|\n",
      "|  70.5| [70.5]|155.70833333333326|\n",
      "+------+-------+------------------+\n",
      "\n"
     ]
    }
   ],
   "source": [
    "predict_test.show(10)"
   ]
  },
  {
   "cell_type": "markdown",
   "metadata": {},
   "source": [
    "## 垃圾邮件"
   ]
  },
  {
   "cell_type": "code",
   "execution_count": 1,
   "metadata": {},
   "outputs": [],
   "source": [
    "from pyspark import SparkContext\n",
    "from pyspark.sql import SparkSession"
   ]
  },
  {
   "cell_type": "code",
   "execution_count": 2,
   "metadata": {},
   "outputs": [],
   "source": [
    "spark = SparkSession.builder.getOrCreate()"
   ]
  },
  {
   "cell_type": "code",
   "execution_count": 3,
   "metadata": {},
   "outputs": [],
   "source": [
    "email = spark.read.format('csv').option('delimiter',',').option('header','false').load('test/SpamEmail-training.csv')"
   ]
  },
  {
   "cell_type": "code",
   "execution_count": 4,
   "metadata": {},
   "outputs": [
    {
     "name": "stdout",
     "output_type": "stream",
     "text": [
      "root\n",
      " |-- _c0: string (nullable = true)\n",
      " |-- _c1: string (nullable = true)\n",
      " |-- _c2: string (nullable = true)\n",
      "\n"
     ]
    }
   ],
   "source": [
    "email.printSchema()"
   ]
  },
  {
   "cell_type": "code",
   "execution_count": 5,
   "metadata": {},
   "outputs": [],
   "source": [
    "email = email.select(email['_c0'].alias('name'),email['_c1'].alias('content'),email['_c2'].astype('int').alias('ans'))"
   ]
  },
  {
   "cell_type": "code",
   "execution_count": 6,
   "metadata": {},
   "outputs": [
    {
     "name": "stdout",
     "output_type": "stream",
     "text": [
      "root\n",
      " |-- name: string (nullable = true)\n",
      " |-- content: string (nullable = true)\n",
      " |-- ans: integer (nullable = true)\n",
      "\n"
     ]
    }
   ],
   "source": [
    "email.printSchema()"
   ]
  },
  {
   "cell_type": "code",
   "execution_count": 7,
   "metadata": {},
   "outputs": [
    {
     "name": "stdout",
     "output_type": "stream",
     "text": [
      "+---------------------+---------------------+---+\n",
      "|name                 |content              |ans|\n",
      "+---------------------+---------------------+---+\n",
      "|you@example.com      |hope you are well    |0  |\n",
      "|raj@example.com      |nice to hear from you|0  |\n",
      "|thomas@example.com   |happy holidays       |0  |\n",
      "|mark@example.com     |see you tomorrow     |0  |\n",
      "|xyz@example.com      |save money           |1  |\n",
      "|top10@example.com    |low interest rate    |1  |\n",
      "|marketing@example.com|cheap loan           |1  |\n",
      "+---------------------+---------------------+---+\n",
      "\n"
     ]
    }
   ],
   "source": [
    "email.show(50,truncate=False)"
   ]
  },
  {
   "cell_type": "code",
   "execution_count": 8,
   "metadata": {},
   "outputs": [],
   "source": [
    "from pyspark.ml.evaluation import BinaryClassificationEvaluator\n",
    "evaluator = BinaryClassificationEvaluator(rawPredictionCol='rawPrediction', \\\n",
    "                                          labelCol='ans', \\\n",
    "                                          metricName='areaUnderROC')"
   ]
  },
  {
   "cell_type": "code",
   "execution_count": 11,
   "metadata": {},
   "outputs": [],
   "source": [
    "from pyspark.ml.feature import HashingTF,IDF,Tokenizer\n",
    "from pyspark.ml.classification import LogisticRegression\n",
    "from pyspark.ml import Pipeline\n",
    "\n",
    "tokenizer = Tokenizer(inputCol='content',outputCol='word')\n",
    "hashingTF = HashingTF(inputCol='word',outputCol='rawFeatures',numFeatures=20)\n",
    "idf = IDF(inputCol = 'rawFeatures',outputCol='Features')\n",
    "logic = LogisticRegression(labelCol='ans',featuresCol='Features')\n",
    "pipe = Pipeline(stages=[tokenizer,hashingTF,idf,logic])"
   ]
  },
  {
   "cell_type": "code",
   "execution_count": 12,
   "metadata": {},
   "outputs": [],
   "source": [
    "pipeModel = pipe.fit(email)"
   ]
  },
  {
   "cell_type": "code",
   "execution_count": 13,
   "metadata": {},
   "outputs": [
    {
     "data": {
      "text/plain": [
       "1.0"
      ]
     },
     "execution_count": 13,
     "metadata": {},
     "output_type": "execute_result"
    }
   ],
   "source": [
    "predictRaw = pipeModel.transform(email)\n",
    "auc = evaluator.evaluate(predictRaw)\n",
    "auc"
   ]
  },
  {
   "cell_type": "code",
   "execution_count": 27,
   "metadata": {},
   "outputs": [
    {
     "name": "stdout",
     "output_type": "stream",
     "text": [
      "+--------------------+--------------------+---+--------------------+--------------------+--------------------+--------------------+--------------------+----------+\n",
      "|                name|             content|ans|                word|         rawFeatures|            Features|       rawPrediction|         probability|prediction|\n",
      "+--------------------+--------------------+---+--------------------+--------------------+--------------------+--------------------+--------------------+----------+\n",
      "|     you@example.com|   hope you are well|  0|[hope, you, are, ...|(20,[0,5,17,18],[...|(20,[0,5,17,18],[...|[18.3299691893058...|[0.99999998905046...|       0.0|\n",
      "|     raj@example.com|nice to hear from...|  0|[nice, to, hear, ...|(20,[1,2,5,8,10],...|(20,[1,2,5,8,10],...|[18.5156386850242...|[0.99999999090588...|       0.0|\n",
      "|  thomas@example.com|      happy holidays|  0|   [happy, holidays]|(20,[1,17],[1.0,1...|(20,[1,17],[0.980...|[21.0365095097918...|[0.99999999926892...|       0.0|\n",
      "|    mark@example.com|    see you tomorrow|  0|[see, you, tomorrow]|(20,[5,15],[2.0,1...|(20,[5,15],[1.386...|[19.9256464126538...|[0.99999999777975...|       0.0|\n",
      "|     xyz@example.com|          save money|  1|       [save, money]|(20,[0,2],[1.0,1.0])|(20,[0,2],[0.9808...|[-17.781320068516...|[1.89526876407030...|       1.0|\n",
      "|   top10@example.com|   low interest rate|  1|[low, interest, r...|(20,[10,13,18],[1...|(20,[10,13,18],[0...|[-18.421439214608...|[9.99241806924724...|       1.0|\n",
      "|marketing@example...|          cheap loan|  1|       [cheap, loan]|(20,[6,10],[1.0,1...|(20,[6,10],[1.386...|[-18.758947039758...|[7.13005387185596...|       1.0|\n",
      "+--------------------+--------------------+---+--------------------+--------------------+--------------------+--------------------+--------------------+----------+\n",
      "\n"
     ]
    }
   ],
   "source": [
    "predictRaw.show(10)"
   ]
  },
  {
   "cell_type": "code",
   "execution_count": 21,
   "metadata": {},
   "outputs": [],
   "source": [
    "email_test = spark.read.format('csv'). \\\n",
    "option('header','false').option('delimiter',',').load('test/SpamEmail-test.csv')"
   ]
  },
  {
   "cell_type": "code",
   "execution_count": 22,
   "metadata": {},
   "outputs": [
    {
     "name": "stdout",
     "output_type": "stream",
     "text": [
      "+-----------------+---------------+\n",
      "|              _c0|            _c1|\n",
      "+-----------------+---------------+\n",
      "|  you@example.com|    how are you|\n",
      "| jain@example.com|hope doing well|\n",
      "|caren@example.com|want some money|\n",
      "| zhou@example.com|    secure loan|\n",
      "|  ted@example.com|      need loan|\n",
      "+-----------------+---------------+\n",
      "\n"
     ]
    }
   ],
   "source": [
    "email_test.show(10)"
   ]
  },
  {
   "cell_type": "code",
   "execution_count": 23,
   "metadata": {},
   "outputs": [],
   "source": [
    "email_test = email_test.select(email_test['_c0'].alias('name'),email_test['_c1'].alias('content'))"
   ]
  },
  {
   "cell_type": "code",
   "execution_count": 24,
   "metadata": {},
   "outputs": [
    {
     "name": "stdout",
     "output_type": "stream",
     "text": [
      "root\n",
      " |-- name: string (nullable = true)\n",
      " |-- content: string (nullable = true)\n",
      "\n"
     ]
    }
   ],
   "source": [
    "email_test.printSchema()"
   ]
  },
  {
   "cell_type": "code",
   "execution_count": 25,
   "metadata": {},
   "outputs": [],
   "source": [
    "predict_test = pipeModel.transform(email_test)"
   ]
  },
  {
   "cell_type": "code",
   "execution_count": 26,
   "metadata": {},
   "outputs": [
    {
     "name": "stdout",
     "output_type": "stream",
     "text": [
      "+-----------------+---------------+-------------------+--------------------+--------------------+--------------------+--------------------+----------+\n",
      "|             name|        content|               word|         rawFeatures|            Features|       rawPrediction|         probability|prediction|\n",
      "+-----------------+---------------+-------------------+--------------------+--------------------+--------------------+--------------------+----------+\n",
      "|  you@example.com|    how are you|    [how, are, you]|(20,[5,17,18],[1....|(20,[5,17,18],[0....|[24.5221100530999...|[0.99999999997760...|       0.0|\n",
      "| jain@example.com|hope doing well|[hope, doing, well]|(20,[0,17],[2.0,1...|(20,[0,17],[1.961...|[-1.3293112180687...|[0.20927332064427...|       1.0|\n",
      "|caren@example.com|want some money|[want, some, money]|(20,[0,2,12],[1.0...|(20,[0,2,12],[0.9...|[-17.781320068516...|[1.89526876407030...|       1.0|\n",
      "| zhou@example.com|    secure loan|     [secure, loan]|(20,[4,10],[1.0,1...|(20,[4,10],[2.079...|[-7.4019314311990...|[6.09701345342744...|       1.0|\n",
      "|  ted@example.com|      need loan|       [need, loan]|(20,[10,17],[1.0,...|(20,[10,17],[0.69...|[5.81484249416099...|[0.99702592140557...|       0.0|\n",
      "+-----------------+---------------+-------------------+--------------------+--------------------+--------------------+--------------------+----------+\n",
      "\n"
     ]
    }
   ],
   "source": [
    "predict_test.show(10)"
   ]
  },
  {
   "cell_type": "code",
   "execution_count": null,
   "metadata": {},
   "outputs": [],
   "source": []
  },
  {
   "cell_type": "code",
   "execution_count": 111,
   "metadata": {},
   "outputs": [],
   "source": [
    "from pyspark.ml.classification import LogisticRegression\n",
    "from pyspark.ml import Pipeline\n",
    "from pyspark.ml.feature import StringIndexer,VectorAssembler,OneHotEncoder"
   ]
  },
  {
   "cell_type": "markdown",
   "metadata": {},
   "source": [
    "## 婴儿 "
   ]
  },
  {
   "cell_type": "code",
   "execution_count": 24,
   "metadata": {},
   "outputs": [],
   "source": [
    "from pyspark.sql import types\n",
    "labels = [ \\\n",
    "    ('INFANT_ALIVE_AT_REPORT', types.DoubleType()),\n",
    "    ('BIRTH_PLACE', types.StringType()),\n",
    "    ('MOTHER_AGE_YEARS', types.DoubleType()),\n",
    "    ('FATHER_COMBINED_AGE', types.DoubleType()),\n",
    "    ('CIG_BEFORE', types.DoubleType()),\n",
    "    ('CIG_1_TRI', types.DoubleType()),\n",
    "    ('CIG_2_TRI', types.DoubleType()),\n",
    "    ('CIG_3_TRI', types.DoubleType()),\n",
    "    ('MOTHER_HEIGHT_IN', types.DoubleType()),\n",
    "    ('MOTHER_PRE_WEIGHT', types.DoubleType()),\n",
    "    ('MOTHER_DELIVERY_WEIGHT', types.DoubleType()),\n",
    "    ('MOTHER_WEIGHT_GAIN', types.DoubleType()),\n",
    "    ('DIABETES_PRE', types.DoubleType()),\n",
    "    ('DIABETES_GEST', types.DoubleType()),\n",
    "    ('HYP_TENS_PRE', types.DoubleType()),\n",
    "    ('HYP_TENS_GEST', types.DoubleType()),\n",
    "    ('PREV_BIRTH_PRETERM', types.DoubleType())\\\n",
    "]\n",
    "\n",
    "schema = types.StructType([types.StructField(e[0], e[1], False) for e in labels])\n",
    "#infant = spark.read.format('csv').option('delimiter',',').option('header','true').option('schema',schema).load('test/InfantBirths.csv')\n"
   ]
  },
  {
   "cell_type": "code",
   "execution_count": 25,
   "metadata": {},
   "outputs": [],
   "source": [
    "infant = spark.read.csv('test/InfantBirths.csv',header=True,schema=schema)\n",
    "infant = infant.withColumn('BIRTH_PALCE_INT',infant['BIRTH_PLACE'].cast(types.IntegerType()))"
   ]
  },
  {
   "cell_type": "code",
   "execution_count": 26,
   "metadata": {},
   "outputs": [
    {
     "name": "stdout",
     "output_type": "stream",
     "text": [
      "root\n",
      " |-- INFANT_ALIVE_AT_REPORT: double (nullable = true)\n",
      " |-- BIRTH_PLACE: string (nullable = true)\n",
      " |-- MOTHER_AGE_YEARS: double (nullable = true)\n",
      " |-- FATHER_COMBINED_AGE: double (nullable = true)\n",
      " |-- CIG_BEFORE: double (nullable = true)\n",
      " |-- CIG_1_TRI: double (nullable = true)\n",
      " |-- CIG_2_TRI: double (nullable = true)\n",
      " |-- CIG_3_TRI: double (nullable = true)\n",
      " |-- MOTHER_HEIGHT_IN: double (nullable = true)\n",
      " |-- MOTHER_PRE_WEIGHT: double (nullable = true)\n",
      " |-- MOTHER_DELIVERY_WEIGHT: double (nullable = true)\n",
      " |-- MOTHER_WEIGHT_GAIN: double (nullable = true)\n",
      " |-- DIABETES_PRE: double (nullable = true)\n",
      " |-- DIABETES_GEST: double (nullable = true)\n",
      " |-- HYP_TENS_PRE: double (nullable = true)\n",
      " |-- HYP_TENS_GEST: double (nullable = true)\n",
      " |-- PREV_BIRTH_PRETERM: double (nullable = true)\n",
      " |-- BIRTH_PALCE_INT: integer (nullable = true)\n",
      "\n"
     ]
    }
   ],
   "source": [
    "infant.printSchema()"
   ]
  },
  {
   "cell_type": "code",
   "execution_count": null,
   "metadata": {},
   "outputs": [],
   "source": [
    "infant_train,infant_test = infant.randomSplit([0.7,0.3],seed = 666)"
   ]
  },
  {
   "cell_type": "code",
   "execution_count": 28,
   "metadata": {},
   "outputs": [],
   "source": [
    "from pyspark.ml import Pipeline\n",
    "from pyspark.ml.feature import OneHotEncoder\n",
    "from pyspark.ml.feature import VectorAssembler\n",
    "from pyspark.ml.classification import LogisticRegression\n",
    "from pyspark.ml.tuning import CrossValidator\n",
    "from pyspark.ml.tuning import ParamGridBuilder\n",
    "from pyspark.ml.evaluation import BinaryClassificationEvaluator\n",
    "evaluator = BinaryClassificationEvaluator(rawPredictionCol='rawPrediction', \\\n",
    "                                          labelCol='INFANT_ALIVE_AT_REPORT', \\\n",
    "                                          metricName='areaUnderROC')\n",
    "\n",
    "encoder = OneHotEncoder(inputCol='BIRTH_PALCE_INT',outputCol='BIRTH_PALCE_VEC')\n",
    "InputCols = ['BIRTH_PALCE_VEC'] + infant.columns[2:]\n",
    "assembler = \\\n",
    "VectorAssembler(inputCols=[col[0] for col in labels[3:]]+[encoder.getOutputCol()],outputCol = 'features')\n",
    "logistic = LogisticRegression(labelCol='INFANT_ALIVE_AT_REPORT')\n",
    "paramGrid = ParamGridBuilder().\\\n",
    "addGrid(logistic.maxIter,[2,10,50]).addGrid(logistic.regParam,[0.01,0.05,0.3]).build()\n",
    "cv = CrossValidator(estimator=logistic,estimatorParamMaps=paramGrid,evaluator=evaluator)\n",
    "cvModel_pipeline = Pipeline(stages=[encoder,assembler])\n",
    "pipeline_model = cvModel_pipeline.fit(infant_train)\n",
    "cvModel = cv.fit(pipeline_model.transform(infant_train))"
   ]
  },
  {
   "cell_type": "markdown",
   "metadata": {},
   "source": [
    "## 参数剥离"
   ]
  },
  {
   "cell_type": "code",
   "execution_count": 29,
   "metadata": {},
   "outputs": [],
   "source": [
    "results = [\n",
    "    (\n",
    "        [\n",
    "            {key.name: paramValue} \n",
    "            for key, paramValue \n",
    "            in zip(\n",
    "                params.keys(), \n",
    "                params.values())\n",
    "        ], metric\n",
    "    ) \n",
    "    for params, metric \n",
    "    in zip(\n",
    "        cvModel.getEstimatorParamMaps(), \n",
    "        cvModel.avgMetrics\n",
    "    )\n",
    "]"
   ]
  },
  {
   "cell_type": "code",
   "execution_count": 51,
   "metadata": {},
   "outputs": [
    {
     "data": {
      "text/plain": [
       "(1, 3)"
      ]
     },
     "execution_count": 51,
     "metadata": {},
     "output_type": "execute_result"
    }
   ],
   "source": [
    "a,b = zip((1,2),(3,4))\n",
    "a"
   ]
  },
  {
   "cell_type": "code",
   "execution_count": 55,
   "metadata": {},
   "outputs": [],
   "source": [
    "d = {1:2,3:4}\n",
    "x,y = zip(d.keys(),d.values())"
   ]
  },
  {
   "cell_type": "code",
   "execution_count": 56,
   "metadata": {},
   "outputs": [
    {
     "data": {
      "text/plain": [
       "(1, 2)"
      ]
     },
     "execution_count": 56,
     "metadata": {},
     "output_type": "execute_result"
    }
   ],
   "source": [
    "x"
   ]
  },
  {
   "cell_type": "code",
   "execution_count": 57,
   "metadata": {},
   "outputs": [
    {
     "data": {
      "text/plain": [
       "(3, 4)"
      ]
     },
     "execution_count": 57,
     "metadata": {},
     "output_type": "execute_result"
    }
   ],
   "source": [
    "y"
   ]
  },
  {
   "cell_type": "code",
   "execution_count": 36,
   "metadata": {},
   "outputs": [],
   "source": [
    "lst = [(x,metric) for x,metric in zip(cvModel.getEstimatorParamMaps(),cvModel.avgMetrics)]"
   ]
  },
  {
   "cell_type": "code",
   "execution_count": 37,
   "metadata": {},
   "outputs": [
    {
     "data": {
      "text/plain": [
       "[({Param(parent='LogisticRegression_4b1fb855f39b1a1416f5', name='maxIter', doc='max number of iterations (>= 0).'): 2,\n",
       "   Param(parent='LogisticRegression_4b1fb855f39b1a1416f5', name='regParam', doc='regularization parameter (>= 0).'): 0.01},\n",
       "  0.69258440944899),\n",
       " ({Param(parent='LogisticRegression_4b1fb855f39b1a1416f5', name='maxIter', doc='max number of iterations (>= 0).'): 2,\n",
       "   Param(parent='LogisticRegression_4b1fb855f39b1a1416f5', name='regParam', doc='regularization parameter (>= 0).'): 0.05},\n",
       "  0.6926765175789157),\n",
       " ({Param(parent='LogisticRegression_4b1fb855f39b1a1416f5', name='maxIter', doc='max number of iterations (>= 0).'): 2,\n",
       "   Param(parent='LogisticRegression_4b1fb855f39b1a1416f5', name='regParam', doc='regularization parameter (>= 0).'): 0.3},\n",
       "  0.6932555121234109),\n",
       " ({Param(parent='LogisticRegression_4b1fb855f39b1a1416f5', name='maxIter', doc='max number of iterations (>= 0).'): 10,\n",
       "   Param(parent='LogisticRegression_4b1fb855f39b1a1416f5', name='regParam', doc='regularization parameter (>= 0).'): 0.01},\n",
       "  0.7261186238356943),\n",
       " ({Param(parent='LogisticRegression_4b1fb855f39b1a1416f5', name='maxIter', doc='max number of iterations (>= 0).'): 10,\n",
       "   Param(parent='LogisticRegression_4b1fb855f39b1a1416f5', name='regParam', doc='regularization parameter (>= 0).'): 0.05},\n",
       "  0.7254749340819924),\n",
       " ({Param(parent='LogisticRegression_4b1fb855f39b1a1416f5', name='maxIter', doc='max number of iterations (>= 0).'): 10,\n",
       "   Param(parent='LogisticRegression_4b1fb855f39b1a1416f5', name='regParam', doc='regularization parameter (>= 0).'): 0.3},\n",
       "  0.7194517726412337),\n",
       " ({Param(parent='LogisticRegression_4b1fb855f39b1a1416f5', name='maxIter', doc='max number of iterations (>= 0).'): 50,\n",
       "   Param(parent='LogisticRegression_4b1fb855f39b1a1416f5', name='regParam', doc='regularization parameter (>= 0).'): 0.01},\n",
       "  0.7378687387803028),\n",
       " ({Param(parent='LogisticRegression_4b1fb855f39b1a1416f5', name='maxIter', doc='max number of iterations (>= 0).'): 50,\n",
       "   Param(parent='LogisticRegression_4b1fb855f39b1a1416f5', name='regParam', doc='regularization parameter (>= 0).'): 0.05},\n",
       "  0.7322760829798726),\n",
       " ({Param(parent='LogisticRegression_4b1fb855f39b1a1416f5', name='maxIter', doc='max number of iterations (>= 0).'): 50,\n",
       "   Param(parent='LogisticRegression_4b1fb855f39b1a1416f5', name='regParam', doc='regularization parameter (>= 0).'): 0.3},\n",
       "  0.717000252075882)]"
      ]
     },
     "execution_count": 37,
     "metadata": {},
     "output_type": "execute_result"
    }
   ],
   "source": [
    "lst"
   ]
  },
  {
   "cell_type": "code",
   "execution_count": 52,
   "metadata": {},
   "outputs": [
    {
     "data": {
      "text/plain": [
       "[{Param(parent='LogisticRegression_4b1fb855f39b1a1416f5', name='maxIter', doc='max number of iterations (>= 0).'): 2,\n",
       "  Param(parent='LogisticRegression_4b1fb855f39b1a1416f5', name='regParam', doc='regularization parameter (>= 0).'): 0.01},\n",
       " {Param(parent='LogisticRegression_4b1fb855f39b1a1416f5', name='maxIter', doc='max number of iterations (>= 0).'): 2,\n",
       "  Param(parent='LogisticRegression_4b1fb855f39b1a1416f5', name='regParam', doc='regularization parameter (>= 0).'): 0.05},\n",
       " {Param(parent='LogisticRegression_4b1fb855f39b1a1416f5', name='maxIter', doc='max number of iterations (>= 0).'): 2,\n",
       "  Param(parent='LogisticRegression_4b1fb855f39b1a1416f5', name='regParam', doc='regularization parameter (>= 0).'): 0.3},\n",
       " {Param(parent='LogisticRegression_4b1fb855f39b1a1416f5', name='maxIter', doc='max number of iterations (>= 0).'): 10,\n",
       "  Param(parent='LogisticRegression_4b1fb855f39b1a1416f5', name='regParam', doc='regularization parameter (>= 0).'): 0.01},\n",
       " {Param(parent='LogisticRegression_4b1fb855f39b1a1416f5', name='maxIter', doc='max number of iterations (>= 0).'): 10,\n",
       "  Param(parent='LogisticRegression_4b1fb855f39b1a1416f5', name='regParam', doc='regularization parameter (>= 0).'): 0.05},\n",
       " {Param(parent='LogisticRegression_4b1fb855f39b1a1416f5', name='maxIter', doc='max number of iterations (>= 0).'): 10,\n",
       "  Param(parent='LogisticRegression_4b1fb855f39b1a1416f5', name='regParam', doc='regularization parameter (>= 0).'): 0.3},\n",
       " {Param(parent='LogisticRegression_4b1fb855f39b1a1416f5', name='maxIter', doc='max number of iterations (>= 0).'): 50,\n",
       "  Param(parent='LogisticRegression_4b1fb855f39b1a1416f5', name='regParam', doc='regularization parameter (>= 0).'): 0.01},\n",
       " {Param(parent='LogisticRegression_4b1fb855f39b1a1416f5', name='maxIter', doc='max number of iterations (>= 0).'): 50,\n",
       "  Param(parent='LogisticRegression_4b1fb855f39b1a1416f5', name='regParam', doc='regularization parameter (>= 0).'): 0.05},\n",
       " {Param(parent='LogisticRegression_4b1fb855f39b1a1416f5', name='maxIter', doc='max number of iterations (>= 0).'): 50,\n",
       "  Param(parent='LogisticRegression_4b1fb855f39b1a1416f5', name='regParam', doc='regularization parameter (>= 0).'): 0.3}]"
      ]
     },
     "execution_count": 52,
     "metadata": {},
     "output_type": "execute_result"
    }
   ],
   "source": [
    "cvModel.getEstimatorParamMaps() #这是params的值，其实就是参数的名称"
   ]
  },
  {
   "cell_type": "code",
   "execution_count": 33,
   "metadata": {},
   "outputs": [
    {
     "data": {
      "text/plain": [
       "[0.69258440944899,\n",
       " 0.6926765175789157,\n",
       " 0.6932555121234109,\n",
       " 0.7261186238356943,\n",
       " 0.7254749340819924,\n",
       " 0.7194517726412337,\n",
       " 0.7378687387803028,\n",
       " 0.7322760829798726,\n",
       " 0.717000252075882]"
      ]
     },
     "execution_count": 33,
     "metadata": {},
     "output_type": "execute_result"
    }
   ],
   "source": [
    "cvModel.avgMetrics #metric就是这个值，其实就是准确率"
   ]
  },
  {
   "cell_type": "code",
   "execution_count": 31,
   "metadata": {},
   "outputs": [
    {
     "data": {
      "text/plain": [
       "[([{'maxIter': 2}, {'regParam': 0.01}], 0.69258440944899),\n",
       " ([{'maxIter': 2}, {'regParam': 0.05}], 0.6926765175789157),\n",
       " ([{'maxIter': 2}, {'regParam': 0.3}], 0.6932555121234109),\n",
       " ([{'maxIter': 10}, {'regParam': 0.01}], 0.7261186238356943),\n",
       " ([{'maxIter': 10}, {'regParam': 0.05}], 0.7254749340819924),\n",
       " ([{'maxIter': 10}, {'regParam': 0.3}], 0.7194517726412337),\n",
       " ([{'maxIter': 50}, {'regParam': 0.01}], 0.7378687387803028),\n",
       " ([{'maxIter': 50}, {'regParam': 0.05}], 0.7322760829798726),\n",
       " ([{'maxIter': 50}, {'regParam': 0.3}], 0.717000252075882)]"
      ]
     },
     "execution_count": 31,
     "metadata": {},
     "output_type": "execute_result"
    }
   ],
   "source": [
    "results"
   ]
  },
  {
   "cell_type": "code",
   "execution_count": 30,
   "metadata": {},
   "outputs": [
    {
     "data": {
      "text/plain": [
       "([{'maxIter': 50}, {'regParam': 0.01}], 0.7378687387803028)"
      ]
     },
     "execution_count": 30,
     "metadata": {},
     "output_type": "execute_result"
    }
   ],
   "source": [
    "sorted(results, \n",
    "       key=lambda el: el[1], \n",
    "       reverse=True)[0]"
   ]
  },
  {
   "cell_type": "code",
   "execution_count": null,
   "metadata": {},
   "outputs": [],
   "source": []
  },
  {
   "cell_type": "code",
   "execution_count": null,
   "metadata": {},
   "outputs": [],
   "source": [
    "cvModel_best = cvModel.fit(cv.transform(infant_train))"
   ]
  },
  {
   "cell_type": "code",
   "execution_count": 184,
   "metadata": {},
   "outputs": [],
   "source": [
    "cvModel_fit = cvModel_pipeline.fit(infant_train)"
   ]
  },
  {
   "cell_type": "code",
   "execution_count": 186,
   "metadata": {},
   "outputs": [],
   "source": [
    "predict_cv = cvModel_fit.transform(infant_test)"
   ]
  },
  {
   "cell_type": "code",
   "execution_count": 187,
   "metadata": {},
   "outputs": [
    {
     "data": {
      "text/plain": [
       "0.7409496949151396"
      ]
     },
     "execution_count": 187,
     "metadata": {},
     "output_type": "execute_result"
    }
   ],
   "source": [
    "result = evaluator.evaluate(predict_cv)\n",
    "result"
   ]
  },
  {
   "cell_type": "markdown",
   "metadata": {},
   "source": [
    "#### 思路二："
   ]
  },
  {
   "cell_type": "code",
   "execution_count": 18,
   "metadata": {},
   "outputs": [],
   "source": [
    "from pyspark.sql import SparkSession"
   ]
  },
  {
   "cell_type": "code",
   "execution_count": 19,
   "metadata": {},
   "outputs": [],
   "source": [
    "spark = SparkSession.builder.getOrCreate()"
   ]
  },
  {
   "cell_type": "code",
   "execution_count": 20,
   "metadata": {},
   "outputs": [
    {
     "name": "stdout",
     "output_type": "stream",
     "text": [
      "root\n",
      " |-- INFANT_ALIVE_AT_REPORT: double (nullable = true)\n",
      " |-- BIRTH_PLACE: string (nullable = true)\n",
      " |-- MOTHER_AGE_YEARS: double (nullable = true)\n",
      " |-- FATHER_COMBINED_AGE: double (nullable = true)\n",
      " |-- CIG_BEFORE: double (nullable = true)\n",
      " |-- CIG_1_TRI: double (nullable = true)\n",
      " |-- CIG_2_TRI: double (nullable = true)\n",
      " |-- CIG_3_TRI: double (nullable = true)\n",
      " |-- MOTHER_HEIGHT_IN: double (nullable = true)\n",
      " |-- MOTHER_PRE_WEIGHT: double (nullable = true)\n",
      " |-- MOTHER_DELIVERY_WEIGHT: double (nullable = true)\n",
      " |-- MOTHER_WEIGHT_GAIN: double (nullable = true)\n",
      " |-- DIABETES_PRE: double (nullable = true)\n",
      " |-- DIABETES_GEST: double (nullable = true)\n",
      " |-- HYP_TENS_PRE: double (nullable = true)\n",
      " |-- HYP_TENS_GEST: double (nullable = true)\n",
      " |-- PREV_BIRTH_PRETERM: double (nullable = true)\n",
      "\n"
     ]
    }
   ],
   "source": [
    "from pyspark.sql import types\n",
    "from pyspark.sql.types import StringType,StructType,StructField,DoubleType\n",
    "labels = [ \\\n",
    "    ('INFANT_ALIVE_AT_REPORT', types.DoubleType()),\n",
    "    ('BIRTH_PLACE', types.StringType()),\n",
    "    ('MOTHER_AGE_YEARS', types.DoubleType()),\n",
    "    ('FATHER_COMBINED_AGE', types.DoubleType()),\n",
    "    ('CIG_BEFORE', types.DoubleType()),\n",
    "    ('CIG_1_TRI', types.DoubleType()),\n",
    "    ('CIG_2_TRI', types.DoubleType()),\n",
    "    ('CIG_3_TRI', types.DoubleType()),\n",
    "    ('MOTHER_HEIGHT_IN', types.DoubleType()),\n",
    "    ('MOTHER_PRE_WEIGHT', types.DoubleType()),\n",
    "    ('MOTHER_DELIVERY_WEIGHT', types.DoubleType()),\n",
    "    ('MOTHER_WEIGHT_GAIN', types.DoubleType()),\n",
    "    ('DIABETES_PRE', types.DoubleType()),\n",
    "    ('DIABETES_GEST', types.DoubleType()),\n",
    "    ('HYP_TENS_PRE', types.DoubleType()),\n",
    "    ('HYP_TENS_GEST', types.DoubleType()),\n",
    "    ('PREV_BIRTH_PRETERM', types.DoubleType())\\\n",
    "]\n",
    "StructType([StructField('FieldName',DoubleType(),False)])\n",
    "schema = types.StructType([types.StructField(e[0], e[1], False) for e in labels])\n",
    "infant = spark.read.csv('test/InfantBirths.csv',header=True,schema=schema)\n",
    "infant_train,infant_test = infant.randomSplit([0.7,0.3])\n",
    "infant.printSchema()"
   ]
  },
  {
   "cell_type": "code",
   "execution_count": 21,
   "metadata": {},
   "outputs": [],
   "source": [
    "from pyspark.ml import Pipeline\n",
    "from pyspark.ml.feature import OneHotEncoder\n",
    "from pyspark.ml.feature import VectorAssembler,StringIndexer\n",
    "from pyspark.ml.classification import LogisticRegression\n",
    "from pyspark.ml.tuning import CrossValidator\n",
    "from pyspark.ml.tuning import ParamGridBuilder\n",
    "from pyspark.ml.evaluation import BinaryClassificationEvaluator\n",
    "evaluator = BinaryClassificationEvaluator(rawPredictionCol='rawPrediction', \\\n",
    "                                          labelCol='INFANT_ALIVE_AT_REPORT', \\\n",
    "                                          metricName='areaUnderROC')\n",
    "stringIndex = StringIndexer(inputCol='BIRTH_PLACE',outputCol='BIRTH_PALCE_INDEX')\n",
    "encoder = OneHotEncoder(inputCol='BIRTH_PALCE_INDEX',outputCol='BIRTH_PALCE_VEC')\n",
    "InputCols = ['BIRTH_PALCE_VEC'] + infant.columns[2:]\n",
    "assembler = \\\n",
    "VectorAssembler(inputCols=[col[0] for col in labels[2:]]+['BIRTH_PALCE_VEC'],outputCol = 'features')\n",
    "logistic = LogisticRegression(labelCol='INFANT_ALIVE_AT_REPORT')\n",
    "paramGrid = ParamGridBuilder().\\\n",
    "addGrid(logistic.maxIter,[2,10,50]).addGrid(logistic.regParam,[0.01,0.05,0.3]).build()\n",
    "cvModel = CrossValidator(estimator=logistic,estimatorParamMaps=paramGrid,evaluator=evaluator)\n",
    "cvModel_pipeline = Pipeline(stages=[stringIndex,encoder,assembler,cvModel])"
   ]
  },
  {
   "cell_type": "code",
   "execution_count": 10,
   "metadata": {},
   "outputs": [
    {
     "data": {
      "text/plain": [
       "0.7431615022936839"
      ]
     },
     "execution_count": 10,
     "metadata": {},
     "output_type": "execute_result"
    }
   ],
   "source": [
    "cv = cvModel_pipeline.fit(infant_train)\n",
    "predict_cv = cv.transform(infant_test)\n",
    "result2 = evaluator.evaluate(predict_cv)\n",
    "result2"
   ]
  },
  {
   "cell_type": "code",
   "execution_count": 22,
   "metadata": {},
   "outputs": [
    {
     "data": {
      "text/plain": [
       "['INFANT_ALIVE_AT_REPORT',\n",
       " 'BIRTH_PLACE',\n",
       " 'MOTHER_AGE_YEARS',\n",
       " 'FATHER_COMBINED_AGE',\n",
       " 'CIG_BEFORE',\n",
       " 'CIG_1_TRI',\n",
       " 'CIG_2_TRI',\n",
       " 'CIG_3_TRI',\n",
       " 'MOTHER_HEIGHT_IN',\n",
       " 'MOTHER_PRE_WEIGHT',\n",
       " 'MOTHER_DELIVERY_WEIGHT',\n",
       " 'MOTHER_WEIGHT_GAIN',\n",
       " 'DIABETES_PRE',\n",
       " 'DIABETES_GEST',\n",
       " 'HYP_TENS_PRE',\n",
       " 'HYP_TENS_GEST',\n",
       " 'PREV_BIRTH_PRETERM']"
      ]
     },
     "execution_count": 22,
     "metadata": {},
     "output_type": "execute_result"
    }
   ],
   "source": [
    "infant_train.columns"
   ]
  },
  {
   "cell_type": "code",
   "execution_count": 12,
   "metadata": {},
   "outputs": [
    {
     "ename": "AttributeError",
     "evalue": "'PipelineModel' object has no attribute 'getEstimatorParamMaps'",
     "output_type": "error",
     "traceback": [
      "\u001b[1;31m---------------------------------------------------------------------------\u001b[0m",
      "\u001b[1;31mAttributeError\u001b[0m                            Traceback (most recent call last)",
      "\u001b[1;32m<ipython-input-12-1288adddf7d5>\u001b[0m in \u001b[0;36m<module>\u001b[1;34m()\u001b[0m\n\u001b[0;32m     11\u001b[0m     \u001b[1;32mfor\u001b[0m \u001b[0mparams\u001b[0m\u001b[1;33m,\u001b[0m \u001b[0mmetric\u001b[0m\u001b[1;33m\u001b[0m\u001b[0m\n\u001b[0;32m     12\u001b[0m     in zip(\n\u001b[1;32m---> 13\u001b[1;33m         \u001b[0mcv\u001b[0m\u001b[1;33m.\u001b[0m\u001b[0mgetEstimatorParamMaps\u001b[0m\u001b[1;33m(\u001b[0m\u001b[1;33m)\u001b[0m\u001b[1;33m,\u001b[0m\u001b[1;33m\u001b[0m\u001b[0m\n\u001b[0m\u001b[0;32m     14\u001b[0m         \u001b[0mcv\u001b[0m\u001b[1;33m.\u001b[0m\u001b[0mavgMetrics\u001b[0m\u001b[1;33m\u001b[0m\u001b[0m\n\u001b[0;32m     15\u001b[0m     )\n",
      "\u001b[1;31mAttributeError\u001b[0m: 'PipelineModel' object has no attribute 'getEstimatorParamMaps'"
     ]
    }
   ],
   "source": [
    "results = [\n",
    "    (\n",
    "        [\n",
    "            {key.name: paramValue} \n",
    "            for key, paramValue \n",
    "            in zip(\n",
    "                params.keys(), \n",
    "                params.values())\n",
    "        ], metric\n",
    "    ) \n",
    "    for params, metric \n",
    "    in zip(\n",
    "        cv.getEstimatorParamMaps(), \n",
    "        cv.avgMetrics\n",
    "    )\n",
    "]"
   ]
  },
  {
   "cell_type": "code",
   "execution_count": null,
   "metadata": {},
   "outputs": [],
   "source": []
  },
  {
   "cell_type": "code",
   "execution_count": null,
   "metadata": {},
   "outputs": [],
   "source": []
  },
  {
   "cell_type": "code",
   "execution_count": null,
   "metadata": {},
   "outputs": [],
   "source": []
  },
  {
   "cell_type": "code",
   "execution_count": null,
   "metadata": {},
   "outputs": [],
   "source": []
  },
  {
   "cell_type": "code",
   "execution_count": null,
   "metadata": {},
   "outputs": [],
   "source": []
  },
  {
   "cell_type": "code",
   "execution_count": null,
   "metadata": {},
   "outputs": [],
   "source": []
  },
  {
   "cell_type": "code",
   "execution_count": null,
   "metadata": {},
   "outputs": [],
   "source": []
  },
  {
   "cell_type": "code",
   "execution_count": null,
   "metadata": {},
   "outputs": [],
   "source": []
  },
  {
   "cell_type": "code",
   "execution_count": null,
   "metadata": {},
   "outputs": [],
   "source": [
    "infant = infant.select(infant['INFANT_ALIVE_AT_REPORT'].astype('double'), \\\n",
    "infant['BIRTH_PLACE'],\\\n",
    "infant['MOTHER_AGE_YEARS'].astype('double'), \\\n",
    "infant['FATHER_COMBINED_AGE'].astype('double'), \\\n",
    "infant['CIG_BEFORE'].astype('double'),\\\n",
    "infant['CIG_1_TRI'].astype('double'),\\\n",
    "infant['CIG_2_TRI'].astype('double'),\\\n",
    "infant['CIG_3_TRI'].astype('double'),\\\n",
    "infant['MOTHER_HEIGHT_IN'].astype('double'),\\\n",
    "infant['MOTHER_PRE_WEIGHT'].astype('double'),\\\n",
    "infant['MOTHER_DELIVERY_WEIGHT'].astype('double').\\\n",
    "infant['MOTHER_WEIGHT_GAIN'].astype('double'),\\\n",
    "infant['DIABETES_PRE'].astype('double'),\\\n",
    "infant['DIABETES_GEST'].astype('double'),\\\n",
    "infant['HYP_TENS_PRE'].astype('double'),\\\n",
    "infant['HYP_TENS_GEST'].astype('double'),\\\n",
    "infant['PREV_BIRTH_PRETERM'].astype('double'))"
   ]
  },
  {
   "cell_type": "code",
   "execution_count": 143,
   "metadata": {},
   "outputs": [
    {
     "name": "stdout",
     "output_type": "stream",
     "text": [
      "root\n",
      " |-- INFANT_ALIVE_AT_REPORT: double (nullable = true)\n",
      " |-- BIRTH_PLACE: string (nullable = true)\n",
      "\n"
     ]
    }
   ],
   "source": [
    "infant_add.printSchema()"
   ]
  },
  {
   "cell_type": "code",
   "execution_count": null,
   "metadata": {},
   "outputs": [],
   "source": []
  }
 ],
 "metadata": {
  "kernelspec": {
   "display_name": "Python 3",
   "language": "python",
   "name": "python3"
  },
  "language_info": {
   "codemirror_mode": {
    "name": "ipython",
    "version": 3
   },
   "file_extension": ".py",
   "mimetype": "text/x-python",
   "name": "python",
   "nbconvert_exporter": "python",
   "pygments_lexer": "ipython3",
   "version": "3.6.5"
  },
  "toc": {
   "base_numbering": 1,
   "nav_menu": {
    "height": "208px",
    "width": "303px"
   },
   "number_sections": true,
   "sideBar": true,
   "skip_h1_title": false,
   "title_cell": "Table of Contents",
   "title_sidebar": "Contents",
   "toc_cell": false,
   "toc_position": {},
   "toc_section_display": true,
   "toc_window_display": false
  }
 },
 "nbformat": 4,
 "nbformat_minor": 2
}
