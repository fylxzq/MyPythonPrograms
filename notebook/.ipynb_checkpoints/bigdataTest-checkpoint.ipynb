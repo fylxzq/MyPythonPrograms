{
 "cells": [
  {
   "cell_type": "code",
   "execution_count": 1,
   "metadata": {},
   "outputs": [
    {
     "data": {
      "text/plain": [
       "'local[*]'"
      ]
     },
     "execution_count": 1,
     "metadata": {},
     "output_type": "execute_result"
    }
   ],
   "source": [
    "sc.master"
   ]
  },
  {
   "cell_type": "code",
   "execution_count": 6,
   "metadata": {},
   "outputs": [],
   "source": [
    "stu_rdd = sc.textFile(\"inputData/student.txt\").map(lambda x:x.split(\"\\t\"))"
   ]
  },
  {
   "cell_type": "code",
   "execution_count": 7,
   "metadata": {},
   "outputs": [],
   "source": [
    "bigdata_rdd = sc.textFile(\"inputData/result_bigdata.txt\").map(lambda x:x.split(\"\\t\"))"
   ]
  },
  {
   "cell_type": "code",
   "execution_count": 13,
   "metadata": {},
   "outputs": [],
   "source": [
    "math_rdd = sc.textFile(\"inputData/result_math.txt\").map(lambda x:x.split(\"\\t\"))"
   ]
  },
  {
   "cell_type": "code",
   "execution_count": 12,
   "metadata": {},
   "outputs": [
    {
     "data": {
      "text/plain": [
       "[['1003', '大数据基础', '100'],\n",
       " ['1007', '大数据基础', '100'],\n",
       " ['1004', '大数据基础', '99'],\n",
       " ['1002', '大数据基础', '94'],\n",
       " ['1006', '大数据基础', '94']]"
      ]
     },
     "execution_count": 12,
     "metadata": {},
     "output_type": "execute_result"
    }
   ],
   "source": [
    "bigdata_rdd.sortBy(lambda x:int(x[2]),ascending=False).take(5)"
   ]
  },
  {
   "cell_type": "code",
   "execution_count": 14,
   "metadata": {},
   "outputs": [
    {
     "data": {
      "text/plain": [
       "[['1003', '应用数学', '100'],\n",
       " ['1004', '应用数学', '100'],\n",
       " ['1001', '应用数学', '96'],\n",
       " ['1002', '应用数学', '94'],\n",
       " ['1005', '应用数学', '94']]"
      ]
     },
     "execution_count": 14,
     "metadata": {},
     "output_type": "execute_result"
    }
   ],
   "source": [
    "math_rdd.sortBy(lambda x:int(x[2]),ascending=False).take(5)"
   ]
  },
  {
   "cell_type": "code",
   "execution_count": 19,
   "metadata": {},
   "outputs": [],
   "source": [
    "stu_info = stu_rdd.map(lambda x:(x[0],x[1])).join(bigdata_rdd.map(lambda x:(x[0],[x[1],x[2]])).join(math_rdd.map(lambda x:(x[0],[x[1],x[2]]))))"
   ]
  },
  {
   "cell_type": "code",
   "execution_count": 20,
   "metadata": {},
   "outputs": [
    {
     "data": {
      "text/plain": [
       "[('1001', ('李正明', (['大数据基础', '90'], ['应用数学', '96']))),\n",
       " ('1004', ('张永丽', (['大数据基础', '99'], ['应用数学', '100'])))]"
      ]
     },
     "execution_count": 20,
     "metadata": {},
     "output_type": "execute_result"
    }
   ],
   "source": [
    "stu_info.take(2)"
   ]
  },
  {
   "cell_type": "code",
   "execution_count": 24,
   "metadata": {},
   "outputs": [],
   "source": [
    "stu_info1 = stu_info.map(lambda x:[x[0],x[1][0],x[1][1][0][0],x[1][1][0][1],x[1][1][1][0],x[1][1][1][1]])"
   ]
  },
  {
   "cell_type": "code",
   "execution_count": 25,
   "metadata": {},
   "outputs": [],
   "source": [
    "def findid(x):\n",
    "    if(x[3]==\"100\" or x[5]==\"100\"):\n",
    "        return x[0]"
   ]
  },
  {
   "cell_type": "code",
   "execution_count": 27,
   "metadata": {},
   "outputs": [
    {
     "data": {
      "text/plain": [
       "['1004', '1003', '1007']"
      ]
     },
     "execution_count": 27,
     "metadata": {},
     "output_type": "execute_result"
    }
   ],
   "source": [
    "stu_info1.map(lambda x:findid(x)).filter(lambda x:x != None).collect()"
   ]
  },
  {
   "cell_type": "code",
   "execution_count": 28,
   "metadata": {},
   "outputs": [],
   "source": [
    "def sumgrade(x):\n",
    "    sum = int(x[3]) + int(x[5])\n",
    "    return sum"
   ]
  },
  {
   "cell_type": "code",
   "execution_count": 29,
   "metadata": {},
   "outputs": [
    {
     "data": {
      "text/plain": [
       "[('1001', 186),\n",
       " ('1004', 199),\n",
       " ('1008', 187),\n",
       " ('1012', 175),\n",
       " ('1002', 188),\n",
       " ('1003', 200),\n",
       " ('1005', 184),\n",
       " ('1006', 174),\n",
       " ('1009', 173),\n",
       " ('1007', 190),\n",
       " ('1010', 164),\n",
       " ('1011', 170)]"
      ]
     },
     "execution_count": 29,
     "metadata": {},
     "output_type": "execute_result"
    }
   ],
   "source": [
    "stu_info1.map(lambda x:(x[0],sumgrade(x))).collect()"
   ]
  },
  {
   "cell_type": "code",
   "execution_count": 30,
   "metadata": {},
   "outputs": [],
   "source": [
    "def avefgrade(x):\n",
    "    sum = int(x[3]) + int(x[5])\n",
    "    avggrade = sum / 2.0\n",
    "    return avggrade"
   ]
  },
  {
   "cell_type": "code",
   "execution_count": 32,
   "metadata": {},
   "outputs": [
    {
     "data": {
      "text/plain": [
       "[('1001', 93.0),\n",
       " ('1004', 99.5),\n",
       " ('1008', 93.5),\n",
       " ('1012', 87.5),\n",
       " ('1002', 94.0),\n",
       " ('1003', 100.0),\n",
       " ('1005', 92.0),\n",
       " ('1006', 87.0),\n",
       " ('1009', 86.5),\n",
       " ('1007', 95.0),\n",
       " ('1010', 82.0),\n",
       " ('1011', 85.0)]"
      ]
     },
     "execution_count": 32,
     "metadata": {},
     "output_type": "execute_result"
    }
   ],
   "source": [
    "stu_info1.map(lambda x:(x[0],avefgrade(x))).collect()"
   ]
  },
  {
   "cell_type": "code",
   "execution_count": 33,
   "metadata": {},
   "outputs": [
    {
     "data": {
      "text/plain": [
       "[['1001', '李正明', '90', '96', 186, 93.0],\n",
       " ['1004', '张永丽', '99', '100', 199, 99.5],\n",
       " ['1008', '沈彬', '93', '94', 187, 93.5],\n",
       " ['1012', '钱多多', '84', '91', 175, 87.5],\n",
       " ['1002', '王一磊', '94', '94', 188, 94.0],\n",
       " ['1003', '陈志华', '100', '100', 200, 100.0],\n",
       " ['1005', '赵信', '90', '94', 184, 92.0],\n",
       " ['1006', '古明远', '94', '80', 174, 87.0],\n",
       " ['1009', '李子琪', '89', '84', 173, 86.5],\n",
       " ['1007', '刘浩明', '100', '90', 190, 95.0],\n",
       " ['1010', '王嘉栋', '78', '86', 164, 82.0],\n",
       " ['1011', '柳梦文', '91', '79', 170, 85.0]]"
      ]
     },
     "execution_count": 33,
     "metadata": {},
     "output_type": "execute_result"
    }
   ],
   "source": [
    "stu_info1.map(lambda x:[x[0],x[1],x[3],x[5],sumgrade(x),avefgrade(x)]).collect()"
   ]
  },
  {
   "cell_type": "code",
   "execution_count": 18,
   "metadata": {},
   "outputs": [],
   "source": [
    "room_info = spark.read.format(\"csv\").option(\"dilimiter\",\",\").option(\"header\",\"true\").load(\"inputData/58fang.txt\")"
   ]
  },
  {
   "cell_type": "code",
   "execution_count": 34,
   "metadata": {},
   "outputs": [],
   "source": [
    "df = room_info.grboupBy(\"区名\").agg({\"房间数\":\"sum\"})"
   ]
  },
  {
   "cell_type": "code",
   "execution_count": 35,
   "metadata": {},
   "outputs": [
    {
     "name": "stdout",
     "output_type": "stream",
     "text": [
      "+----+------+\n",
      "|  区名|number|\n",
      "+----+------+\n",
      "|  长沙|     5|\n",
      "|  芙蓉|  1160|\n",
      "|  开福|  1726|\n",
      "|  望城|   297|\n",
      "|  天心|  1442|\n",
      "|  岳麓|  2511|\n",
      "|  星沙|  1455|\n",
      "|长沙周边|   556|\n",
      "|  雨花|  3554|\n",
      "+----+------+\n",
      "\n"
     ]
    }
   ],
   "source": [
    "df.select(df[\"区名\"],df[\"sum(房间数)\"].alias(\"number\").astype(\"int\")).show()"
   ]
  },
  {
   "cell_type": "code",
   "execution_count": 36,
   "metadata": {},
   "outputs": [
    {
     "name": "stdout",
     "output_type": "stream",
     "text": [
      "+---+-----+---+----+------+--------+\n",
      "|房间数|   面积|楼层数|  区名|是否邻近地铁|均价（元/m2）|\n",
      "+---+-----+---+----+------+--------+\n",
      "|  9|152.0| 28|  雨花|     0|   13684|\n",
      "|  8|157.0| 11|  雨花|     0|   11210|\n",
      "|  9| 91.0|  7|  雨花|     0|    8571|\n",
      "|  5| 90.0| 30|  雨花|     0|   10200|\n",
      "|  7|108.0| 32|  星沙|     0|    9074|\n",
      "|  3| 40.0| 20|  星沙|     0|    6000|\n",
      "|  5| 94.0| 33|  星沙|     0|    7000|\n",
      "|  6| 91.0| 22|长沙周边|     0|    6791|\n",
      "|  7|126.0| 15|  岳麓|     0|   10793|\n",
      "|  7|122.7| 32|  岳麓|     1|   13528|\n",
      "|  8|138.0| 32|  岳麓|     0|   10144|\n",
      "|  6| 88.0|  9|  天心|     0|    6590|\n",
      "|  8|142.0| 34|  岳麓|     0|   13028|\n",
      "|  6| 90.5| 33|  岳麓|     1|    6464|\n",
      "|  7|141.0| 33|  开福|     1|   12127|\n",
      "| 11|302.0| 56|  天心|     1|   18807|\n",
      "|  8|110.0| 33|  星沙|     0|    9818|\n",
      "|  3| 30.0| 31|  雨花|     0|    7000|\n",
      "|  7|114.0| 15|  天心|     1|   10877|\n",
      "|  6| 90.0| 33|  星沙|     0|    8333|\n",
      "+---+-----+---+----+------+--------+\n",
      "only showing top 20 rows\n",
      "\n"
     ]
    }
   ],
   "source": [
    "room_info.show()"
   ]
  },
  {
   "cell_type": "code",
   "execution_count": 39,
   "metadata": {},
   "outputs": [],
   "source": [
    "df1 = room_info.select(\"区名\",\"面积\",(room_info[\"面积\"]*room_info[\"均价（元/m2）\"]).alias(\"price\"))"
   ]
  },
  {
   "cell_type": "code",
   "execution_count": 43,
   "metadata": {},
   "outputs": [],
   "source": [
    "df1 = df1.groupBy(\"区名\").agg({\"面积\":\"sum\",\"price\":\"sum\"})"
   ]
  },
  {
   "cell_type": "code",
   "execution_count": 44,
   "metadata": {},
   "outputs": [
    {
     "name": "stdout",
     "output_type": "stream",
     "text": [
      "+----+--------------------+------------------+\n",
      "|  区名|          sum(price)|           sum(面积)|\n",
      "+----+--------------------+------------------+\n",
      "|  长沙|            859918.0|              89.0|\n",
      "|  芙蓉|2.0741558197000003E8|           20401.7|\n",
      "|  开福|      3.8074137603E8|32231.239999999998|\n",
      "|  望城|       6.399827111E7|           6601.27|\n",
      "|  天心|      2.8392913231E8|          26677.34|\n",
      "|  岳麓|      5.4795575103E8|48214.219999999994|\n",
      "|  星沙|2.4895184532999995E8|28106.530000000006|\n",
      "|长沙周边| 7.411110357000001E7|11219.269999999999|\n",
      "|  雨花|      6.8685247977E8|          64084.77|\n",
      "+----+--------------------+------------------+\n",
      "\n"
     ]
    }
   ],
   "source": [
    "df1.show()"
   ]
  },
  {
   "cell_type": "code",
   "execution_count": 56,
   "metadata": {},
   "outputs": [],
   "source": [
    "df2 = df1.select(df[\"区名\"],df1[\"sum(面积)\"].alias(\"totalArea\").cast(\"float\"),df1[\"sum(price)\"].alias(\"totalPrice\").cast(\"float\"))"
   ]
  },
  {
   "cell_type": "code",
   "execution_count": 57,
   "metadata": {},
   "outputs": [
    {
     "name": "stdout",
     "output_type": "stream",
     "text": [
      "+----+------------------+\n",
      "|  区名|          AvgPrice|\n",
      "+----+------------------+\n",
      "|  长沙|            9662.0|\n",
      "|  芙蓉|10166.583762267044|\n",
      "|  开福|11812.805626819621|\n",
      "|  望城| 9694.842327407849|\n",
      "|  天心|10643.082168723779|\n",
      "|  岳麓|11365.024472163619|\n",
      "|  星沙| 8857.437977149299|\n",
      "|长沙周边| 6605.697794635555|\n",
      "|  雨花|10717.873919560036|\n",
      "+----+------------------+\n",
      "\n"
     ]
    }
   ],
   "source": [
    "df2.select(\"区名\",(df2[\"totalPrice\"] / df2[\"totalArea\"]).alias(\"AvgPrice\")).show()"
   ]
  },
  {
   "cell_type": "code",
   "execution_count": 3,
   "metadata": {},
   "outputs": [],
   "source": [
    "from pyspark.ml import Pipeline\n",
    "from pyspark.sql.functions import col\n",
    "from pyspark.ml.feature import VectorAssembler\n",
    "from pyspark.ml.regression import LinearRegression\n",
    "spark = SparkSession.builder.master(\"local\").appName(\"fy\").getOrCreate()\n",
    "raw_df = spark.read.format(\"csv\").option(\"dilimiter\",\",\").option(\"header\",\"true\").load(\"d://studyPython/inputData/women.csv\")\n",
    "df = raw_df.select([col(column).cast(\"float\") for column in raw_df.columns[1:3]])\n",
    "assemblerInput = [\"height\"]\n",
    "assembler = VectorAssembler(inputCols=assemblerInput,outputCol=\"features\")\n",
    "model = LinearRegression(featuresCol=\"features\",labelCol=\"weight\")\n",
    "pipeline = Pipeline(stages=[assembler,model])\n",
    "pipelineModel = pipeline.fit(df)"
   ]
  },
  {
   "cell_type": "code",
   "execution_count": null,
   "metadata": {},
   "outputs": [],
   "source": []
  }
 ],
 "metadata": {
  "kernelspec": {
   "display_name": "Python 3",
   "language": "python",
   "name": "python3"
  },
  "language_info": {
   "codemirror_mode": {
    "name": "ipython",
    "version": 3
   },
   "file_extension": ".py",
   "mimetype": "text/x-python",
   "name": "python",
   "nbconvert_exporter": "python",
   "pygments_lexer": "ipython3",
   "version": "3.6.5"
  }
 },
 "nbformat": 4,
 "nbformat_minor": 2
}
