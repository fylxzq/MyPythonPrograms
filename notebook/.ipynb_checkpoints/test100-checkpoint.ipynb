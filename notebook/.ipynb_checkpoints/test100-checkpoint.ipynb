{
 "cells": [
  {
   "cell_type": "code",
   "execution_count": 21,
   "metadata": {},
   "outputs": [
    {
     "name": "stdout",
     "output_type": "stream",
     "text": [
      "2018-9-14\n",
      "257\n",
      "257\n"
     ]
    }
   ],
   "source": [
    "import time\n",
    "NowTime = time.gmtime()\n",
    "year = NowTime.tm_year\n",
    "month = NowTime.tm_mon\n",
    "day = NowTime.tm_mday\n",
    "datatime_f = str(year) + \"-\" + str(month) + \"-\" + str(day)\n",
    "inint_time_f = \"2018-01-01\"\n",
    "datatime = time.strptime(datatime_f,\"%Y-%m-%d\")\n",
    "inint_time = time.strptime(inint_time_f,\"%Y-%m-%d\")\n",
    "days = (time.mktime(datatime)-time.mktime(inint_time))/(24*60*60)\n",
    "print(int(days)+1)\n",
    "print(NowTime.tm_yday)"
   ]
  },
  {
   "cell_type": "code",
   "execution_count": 31,
   "metadata": {},
   "outputs": [
    {
     "data": {
      "text/plain": [
       "[0, 1, 1, 2, 3, 5, 8, 13, 21, 34, 55]"
      ]
     },
     "execution_count": 31,
     "metadata": {},
     "output_type": "execute_result"
    }
   ],
   "source": [
    "def fib(n):\n",
    "    lst = []\n",
    "    if(n==1):\n",
    "        lst.append(0)\n",
    "    elif(n==2):\n",
    "        lst.append(0)\n",
    "        lst.append(1)\n",
    "    else:\n",
    "        lst.append(0)\n",
    "        lst.append(1)\n",
    "        for i in range(2,n+1):\n",
    "            j = lst[i-2] + lst[i-1]\n",
    "            lst.append(j)\n",
    "    return lst\n",
    "def fib1(n):\n",
    "    a,b = 1,1\n",
    "    for i in range(n-1):\n",
    "        a,b = b,a+b\n",
    "    return a\n",
    "fib(10)"
   ]
  },
  {
   "cell_type": "code",
   "execution_count": 33,
   "metadata": {},
   "outputs": [
    {
     "data": {
      "text/plain": [
       "time.struct_time(tm_year=2018, tm_mon=9, tm_mday=14, tm_hour=23, tm_min=20, tm_sec=5, tm_wday=4, tm_yday=257, tm_isdst=0)"
      ]
     },
     "execution_count": 33,
     "metadata": {},
     "output_type": "execute_result"
    }
   ],
   "source": [
    "import time\n",
    "a = time.time()\n",
    "time.localtime(a)"
   ]
  },
  {
   "cell_type": "code",
   "execution_count": 16,
   "metadata": {},
   "outputs": [
    {
     "name": "stdout",
     "output_type": "stream",
     "text": [
      "21\n",
      "21\n",
      "101\n",
      "103\n",
      "107\n",
      "109\n",
      "113\n",
      "127\n",
      "131\n",
      "137\n",
      "139\n",
      "149\n",
      "151\n",
      "157\n",
      "163\n",
      "167\n",
      "173\n",
      "179\n",
      "181\n",
      "191\n",
      "193\n",
      "197\n",
      "199\n"
     ]
    }
   ],
   "source": [
    "lst = []\n",
    "sum = 0\n",
    "import numpy as np\n",
    "for i in range(101,201):\n",
    "    f = False\n",
    "    for j in range(2,i):\n",
    "        if i % j == 0:\n",
    "            f = True\n",
    "            break\n",
    "    if(f==False):\n",
    "        sum +=1\n",
    "        lst.append(i)\n",
    "print(sum)\n",
    "print(len(lst))\n",
    "for i in lst:\n",
    "    print(i)"
   ]
  },
  {
   "cell_type": "code",
   "execution_count": 26,
   "metadata": {},
   "outputs": [
    {
     "name": "stdout",
     "output_type": "stream",
     "text": [
      "153\n",
      "370\n",
      "371\n",
      "407\n",
      "153\n",
      "370\n",
      "371\n",
      "407\n"
     ]
    }
   ],
   "source": [
    "for i in range(100,1000):\n",
    "    a = int(str(i)[0])\n",
    "    b = int(str(i)[1])\n",
    "    c = int(str(i)[2])\n",
    "    if(i == a**3+b**3+c**3):\n",
    "        print(i)\n",
    "for i in range(100,1000):\n",
    "    a1 = i // 100\n",
    "    b1 = i%100//10\n",
    "    c1 = i%100%10\n",
    "    if(i == a1**3+b1**3+c1**3):\n",
    "        print(i)"
   ]
  },
  {
   "cell_type": "code",
   "execution_count": 5,
   "metadata": {},
   "outputs": [],
   "source": [
    "def reduceNum(n):\n",
    "    print(\"{} = \".format(n))\n",
    "    if not isinstance(n,int) or n <0:\n",
    "        print(\"请输入正确的数字\")\n",
    "        exit(0)\n",
    "    elif n == 1:\n",
    "        print(\"{}\".format(n))\n",
    "    while(n != 1):\n",
    "        for index in range(2,n+1):\n",
    "            if n % index == 0:\n",
    "                n = n // index\n",
    "                if n==1:\n",
    "                    print(index)\n",
    "                else:\n",
    "                    print(\"{}*\".format(index))\n",
    "            break"
   ]
  },
  {
   "cell_type": "code",
   "execution_count": 17,
   "metadata": {},
   "outputs": [
    {
     "name": "stdout",
     "output_type": "stream",
     "text": [
      "2018--09--18\n",
      "2016--10--23\n",
      "2018--09--19\n",
      "2018--10--23\n"
     ]
    }
   ],
   "source": [
    "import datetime\n",
    "todayDate = datetime.date.today()\n",
    "todayDateStr = todayDate.strftime(\"%Y--%m--%d\")\n",
    "print(todayDateStr)\n",
    "createDate = datetime.date(2016,10,23)\n",
    "createDateStr = createDate.strftime(\"%Y--%m--%d\")\n",
    "print(createDateStr)\n",
    "evaDate = todayDate + datetime.timedelta(days=1)\n",
    "print(evaDate.strftime(\"%Y--%m--%d\"))\n",
    "createDate = createDate.replace(year = createDate.year+2)\n",
    "print(createDate.strftime(\"%Y--%m--%d\"))"
   ]
  },
  {
   "cell_type": "code",
   "execution_count": 24,
   "metadata": {},
   "outputs": [
    {
     "name": "stdout",
     "output_type": "stream",
     "text": [
      "请输入一个字符串\n",
      "jafjk123,  342jfkl;\n",
      "字母个数是9,数字个数是6,空格个数是2,其他字符个数是2\n"
     ]
    }
   ],
   "source": [
    "s = input(\"请输入一个字符串\\n\")\n",
    "letters = 0\n",
    "digits = 0\n",
    "spaces = 0\n",
    "others = 0\n",
    "i = 0\n",
    "while(i<len(s)):\n",
    "    c = s[i]\n",
    "    i+=1\n",
    "    if c.isalpha():\n",
    "        letters+=1\n",
    "    elif c.isalnum():\n",
    "        digits +=1\n",
    "    elif c.isspace():\n",
    "        spaces +=1\n",
    "    else:\n",
    "        others +=1\n",
    "print(\"字母个数是%d,数字个数是%d,空格个数是%d,其他字符个数是%d\"%(letters,digits,spaces,others))"
   ]
  },
  {
   "cell_type": "code",
   "execution_count": 26,
   "metadata": {},
   "outputs": [
    {
     "name": "stdout",
     "output_type": "stream",
     "text": [
      "2\n",
      "22\n",
      "222\n",
      "2222\n",
      "22222\n",
      "24690\n"
     ]
    }
   ],
   "source": [
    "a = \"2\"\n",
    "n = 5\n",
    "sn = []\n",
    "for i in range(1,n+1):\n",
    "    sn.append(a*i)\n",
    "    print(a*i)\n",
    "sum = 0\n",
    "for i in sn:\n",
    "    sum+=int(i)\n",
    "print(sum)"
   ]
  },
  {
   "cell_type": "code",
   "execution_count": 33,
   "metadata": {},
   "outputs": [
    {
     "name": "stdout",
     "output_type": "stream",
     "text": [
      "299.609375 0.09765625\n"
     ]
    }
   ],
   "source": [
    "totalheight = 100\n",
    "height = 100\n",
    "for i in range(0,9):\n",
    "    height = height / 2\n",
    "    totalheight += 2*height\n",
    "print(totalheight,height/2)"
   ]
  },
  {
   "cell_type": "code",
   "execution_count": 37,
   "metadata": {},
   "outputs": [
    {
     "name": "stdout",
     "output_type": "stream",
     "text": [
      "1534\n"
     ]
    }
   ],
   "source": [
    "x1 = 1\n",
    "for i in range(9,0,-1):\n",
    "    x1 = (x1 + 1) *2\n",
    "print(x1)"
   ]
  },
  {
   "cell_type": "code",
   "execution_count": 7,
   "metadata": {},
   "outputs": [
    {
     "name": "stdout",
     "output_type": "stream",
     "text": [
      "   *\n",
      "  ***\n",
      " *****\n",
      "*******\n",
      " *****\n",
      "  ***\n",
      "   *\n"
     ]
    }
   ],
   "source": [
    "for i in range(1,8):\n",
    "    if(i<=4):\n",
    "        b = 2*i-1\n",
    "        a = int((7-b) / 2)\n",
    "        print(\" \"*a + \"*\"*b)\n",
    "    else:\n",
    "        c = (8-i)*2-1\n",
    "        d = int((7-c) / 2)\n",
    "        print(\" \"*d+\"*\"*c)"
   ]
  },
  {
   "cell_type": "code",
   "execution_count": 14,
   "metadata": {},
   "outputs": [
    {
     "name": "stdout",
     "output_type": "stream",
     "text": [
      "2/1\n",
      "3/2\n",
      "5/3\n",
      "8/5\n",
      "13/8\n",
      "21/13\n",
      "34/21\n",
      "55/34\n",
      "89/55\n",
      "144/89\n",
      "233/144\n",
      "377/233\n",
      "610/377\n",
      "987/610\n",
      "1597/987\n",
      "2584/1597\n",
      "4181/2584\n",
      "6765/4181\n",
      "10946/6765\n",
      "17711/10946\n",
      "32.66026079864164\n"
     ]
    }
   ],
   "source": [
    "sum = 0\n",
    "a = 2\n",
    "b = 1\n",
    "for i in range(1,21):\n",
    "    print(str(a)+\"/\"+str(b))\n",
    "    sum += a/b\n",
    "    t = b\n",
    "    b = a    \n",
    "    a = a+t\n",
    "print(sum)"
   ]
  },
  {
   "cell_type": "code",
   "execution_count": 27,
   "metadata": {
    "scrolled": true
   },
   "outputs": [
    {
     "name": "stdout",
     "output_type": "stream",
     "text": [
      "2561327494111820313\n",
      "2561327494111820313\n"
     ]
    }
   ],
   "source": [
    "sum = 0\n",
    "for i in range(1,21):\n",
    "    a = 1\n",
    "    for j in range(1,i+1):\n",
    "        a = a*j\n",
    "    sum +=a\n",
    "print(sum)\n",
    "\n",
    "def fix(n):\n",
    "    a = 1\n",
    "    for i in range(1,n+1):\n",
    "        a = a*i\n",
    "    return a\n",
    "sum = 0\n",
    "for i in range(1,21):\n",
    "    sum += fix(i)\n",
    "print(sum)"
   ]
  },
  {
   "cell_type": "code",
   "execution_count": 4,
   "metadata": {},
   "outputs": [
    {
     "name": "stdout",
     "output_type": "stream",
     "text": [
      "e\n",
      "a\n",
      "j\n",
      "f\n",
      "j\n",
      "d\n",
      "c\n",
      "b\n",
      "a\n"
     ]
    }
   ],
   "source": [
    "def outputStr(Str,l):\n",
    "    if(len(Str) == 1):\n",
    "        print(Str)\n",
    "    else:\n",
    "        print(Str[-1])\n",
    "        l -= 1\n",
    "        outputStr(Str[:l],l)\n",
    "Str = \"abcdjfjae\"\n",
    "l = len(Str)\n",
    "outputStr(Str,l)"
   ]
  },
  {
   "cell_type": "code",
   "execution_count": 9,
   "metadata": {},
   "outputs": [],
   "source": [
    "def age(n):\n",
    "    if(n==1):\n",
    "        c = 10\n",
    "    else:\n",
    "        c = age(n - 1)+2\n",
    "    return c"
   ]
  },
  {
   "cell_type": "code",
   "execution_count": 10,
   "metadata": {},
   "outputs": [
    {
     "data": {
      "text/plain": [
       "18"
      ]
     },
     "execution_count": 10,
     "metadata": {},
     "output_type": "execute_result"
    }
   ],
   "source": [
    "age(5)"
   ]
  },
  {
   "cell_type": "code",
   "execution_count": null,
   "metadata": {},
   "outputs": [],
   "source": [
    "def sort_array(arr):\n",
    "    odd_index = "
   ]
  }
 ],
 "metadata": {
  "kernelspec": {
   "display_name": "Python 3",
   "language": "python",
   "name": "python3"
  },
  "language_info": {
   "codemirror_mode": {
    "name": "ipython",
    "version": 3
   },
   "file_extension": ".py",
   "mimetype": "text/x-python",
   "name": "python",
   "nbconvert_exporter": "python",
   "pygments_lexer": "ipython3",
   "version": "3.6.5"
  }
 },
 "nbformat": 4,
 "nbformat_minor": 2
}
