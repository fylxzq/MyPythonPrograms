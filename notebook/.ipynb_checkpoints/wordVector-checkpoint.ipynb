{
 "cells": [
  {
   "cell_type": "code",
   "execution_count": 1,
   "metadata": {},
   "outputs": [],
   "source": [
    "import jieba\n",
    "import os\n",
    "files = os.listdir(\"inputData/jiebaTest\")"
   ]
  },
  {
   "cell_type": "code",
   "execution_count": 2,
   "metadata": {},
   "outputs": [],
   "source": [
    "raw_lst = []\n",
    "for i in files:\n",
    "    with open(\"inputData/jiebaTest/\"+i,\"r\") as file:\n",
    "        lines = file.readlines()\n",
    "        raw_lst.append(lines)"
   ]
  },
  {
   "cell_type": "code",
   "execution_count": 8,
   "metadata": {},
   "outputs": [],
   "source": [
    "word_lst = []\n",
    "for i in raw_lst:\n",
    "    line_lst = []\n",
    "    for line in i:\n",
    "        line_lst.append(jieba.cut(line))\n",
    "    word_lst.append(line_lst)"
   ]
  },
  {
   "cell_type": "code",
   "execution_count": 11,
   "metadata": {},
   "outputs": [
    {
     "name": "stderr",
     "output_type": "stream",
     "text": [
      "Building prefix dict from the default dictionary ...\n",
      "Loading model from cache C:\\Users\\de'l'l\\AppData\\Local\\Temp\\jieba.cache\n",
      "Loading model cost 0.890 seconds.\n",
      "Prefix dict has been built succesfully.\n"
     ]
    }
   ],
   "source": [
    "word_lsts = []\n",
    "for i in word_lst:\n",
    "    line_lsts = []\n",
    "    for j in i:\n",
    "        for word in j:\n",
    "            line_lsts.append(word)\n",
    "    word_lsts.append(line_lsts)"
   ]
  },
  {
   "cell_type": "code",
   "execution_count": 15,
   "metadata": {},
   "outputs": [],
   "source": [
    "with open(\"inputData/jiebaTest/Stoplist.txt\",\"r\") as file:\n",
    "    stopwords = file.readlines()"
   ]
  },
  {
   "cell_type": "code",
   "execution_count": 30,
   "metadata": {},
   "outputs": [],
   "source": [
    "for i in range(len(stopwords)):\n",
    "    stopwords[i] = stopwords[i].strip(\"\\n\")\n",
    "stopwords = stopwords + ['\\u3000','：','，','。','.',\"\\n\"]"
   ]
  },
  {
   "cell_type": "code",
   "execution_count": 31,
   "metadata": {},
   "outputs": [],
   "source": [
    "word_lsts_clean = []\n",
    "for i in word_lsts:\n",
    "    line_lsts_clean = []\n",
    "    for word in i:\n",
    "        if word not in stopwords:\n",
    "            line_lsts_clean.append(word)\n",
    "    word_lsts_clean.append(line_lsts_clean)"
   ]
  },
  {
   "cell_type": "code",
   "execution_count": 43,
   "metadata": {},
   "outputs": [],
   "source": [
    "total_words = [item for lst in word_lsts_clean for item in lst]"
   ]
  },
  {
   "cell_type": "code",
   "execution_count": 46,
   "metadata": {},
   "outputs": [],
   "source": [
    "total_words_dist = list(set(total_words))"
   ]
  },
  {
   "cell_type": "code",
   "execution_count": 49,
   "metadata": {},
   "outputs": [],
   "source": [
    "def counttf(n):\n",
    "    sum = 0\n",
    "    for i in total_words:\n",
    "        if i==n:\n",
    "            sum+=1\n",
    "    return sum"
   ]
  },
  {
   "cell_type": "code",
   "execution_count": null,
   "metadata": {},
   "outputs": [],
   "source": [
    "def countdf(n):\n",
    "    counts = 0\n",
    "    for lst in word_lsts_clean:\n",
    "        if n in lst:\n",
    "            counts +=1\n",
    "    return count"
   ]
  },
  {
   "cell_type": "code",
   "execution_count": 52,
   "metadata": {},
   "outputs": [],
   "source": [
    "import numpy as np"
   ]
  },
  {
   "cell_type": "code",
   "execution_count": 54,
   "metadata": {},
   "outputs": [],
   "source": [
    "end_lst = []\n",
    "for i in total_words_dist:\n",
    "    tf = countnumber(i)\n",
    "    df = countnumber(i)\n",
    "    end_lst.append((i,(np.log(tf)+1.0)*(np.log(10/df)+1.0)))"
   ]
  },
  {
   "cell_type": "code",
   "execution_count": 56,
   "metadata": {},
   "outputs": [
    {
     "data": {
      "text/plain": [
       "2.302585092994046"
      ]
     },
     "execution_count": 56,
     "metadata": {},
     "output_type": "execute_result"
    }
   ],
   "source": []
  },
  {
   "cell_type": "code",
   "execution_count": 1,
   "metadata": {},
   "outputs": [],
   "source": [
    "import os"
   ]
  },
  {
   "cell_type": "code",
   "execution_count": null,
   "metadata": {},
   "outputs": [],
   "source": [
    "txtnameLst = os.listdir(in)"
   ]
  }
 ],
 "metadata": {
  "kernelspec": {
   "display_name": "Python 3",
   "language": "python",
   "name": "python3"
  },
  "language_info": {
   "codemirror_mode": {
    "name": "ipython",
    "version": 3
   },
   "file_extension": ".py",
   "mimetype": "text/x-python",
   "name": "python",
   "nbconvert_exporter": "python",
   "pygments_lexer": "ipython3",
   "version": "3.6.5"
  }
 },
 "nbformat": 4,
 "nbformat_minor": 2
}
