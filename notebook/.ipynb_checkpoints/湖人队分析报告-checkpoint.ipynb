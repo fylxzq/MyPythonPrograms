{
 "cells": [
  {
   "cell_type": "code",
   "execution_count": 3,
   "metadata": {},
   "outputs": [],
   "source": [
    "import matplotlib.pyplot as plt\n",
    "import pandas as pd\n",
    "from pyecharts import Bar\n",
    "from pyecharts import Line"
   ]
  },
  {
   "cell_type": "code",
   "execution_count": 4,
   "metadata": {},
   "outputs": [],
   "source": [
    "font1 = {'family': 'DejaVu Sans',\n",
    "        'color':  'blue',\n",
    "        'weight': 'normal',\n",
    "        'size': 12,\n",
    "        }\n",
    "font2 = {'family': 'DejaVu Sans',\n",
    "        'color':  'grey',\n",
    "        'weight': 'normal',\n",
    "        'size': 12,\n",
    "        }\n",
    "font3 = {'family': 'serif',\n",
    "        'color':  'blue',\n",
    "        'weight': 'normal',\n",
    "        'size': 16,\n",
    "        }\n",
    "font4 = {'family': 'serif',\n",
    "        'color':  'grey',\n",
    "        'weight': 'normal',\n",
    "        'size': 16,\n",
    "        }\n",
    "plt.style.use('seaborn')\n",
    "plt.rcParams['font.sans-serif']=['SimHei'] #用来正常显示中文标签"
   ]
  },
  {
   "cell_type": "code",
   "execution_count": 6,
   "metadata": {},
   "outputs": [],
   "source": [
    "data_lakes = pd.read_csv(\"inputData/lakes_data.csv\")"
   ]
  },
  {
   "cell_type": "code",
   "execution_count": 7,
   "metadata": {},
   "outputs": [
    {
     "data": {
      "text/html": [
       "<div>\n",
       "<style scoped>\n",
       "    .dataframe tbody tr th:only-of-type {\n",
       "        vertical-align: middle;\n",
       "    }\n",
       "\n",
       "    .dataframe tbody tr th {\n",
       "        vertical-align: top;\n",
       "    }\n",
       "\n",
       "    .dataframe thead th {\n",
       "        text-align: right;\n",
       "    }\n",
       "</style>\n",
       "<table border=\"1\" class=\"dataframe\">\n",
       "  <thead>\n",
       "    <tr style=\"text-align: right;\">\n",
       "      <th></th>\n",
       "      <th>team_name</th>\n",
       "      <th>game_time</th>\n",
       "      <th>game_rst</th>\n",
       "      <th>host_guest</th>\n",
       "      <th>rival</th>\n",
       "      <th>shot_rate</th>\n",
       "      <th>rebounds</th>\n",
       "      <th>assists</th>\n",
       "      <th>scores</th>\n",
       "    </tr>\n",
       "  </thead>\n",
       "  <tbody>\n",
       "    <tr>\n",
       "      <th>0</th>\n",
       "      <td>洛杉矶湖人</td>\n",
       "      <td>2018-10-18</td>\n",
       "      <td>负</td>\n",
       "      <td>客</td>\n",
       "      <td>开拓者128-119湖人</td>\n",
       "      <td>48.4%</td>\n",
       "      <td>46</td>\n",
       "      <td>23</td>\n",
       "      <td>119</td>\n",
       "    </tr>\n",
       "    <tr>\n",
       "      <th>1</th>\n",
       "      <td>洛杉矶湖人</td>\n",
       "      <td>2018-10-20</td>\n",
       "      <td>负</td>\n",
       "      <td>主</td>\n",
       "      <td>火箭124-115湖人</td>\n",
       "      <td>48.0%</td>\n",
       "      <td>44</td>\n",
       "      <td>28</td>\n",
       "      <td>115</td>\n",
       "    </tr>\n",
       "    <tr>\n",
       "      <th>2</th>\n",
       "      <td>洛杉矶湖人</td>\n",
       "      <td>2018-10-22</td>\n",
       "      <td>负</td>\n",
       "      <td>主</td>\n",
       "      <td>马刺143-142湖人</td>\n",
       "      <td>51.4%</td>\n",
       "      <td>52</td>\n",
       "      <td>33</td>\n",
       "      <td>142</td>\n",
       "    </tr>\n",
       "    <tr>\n",
       "      <th>3</th>\n",
       "      <td>洛杉矶湖人</td>\n",
       "      <td>2018-10-24</td>\n",
       "      <td>胜</td>\n",
       "      <td>客</td>\n",
       "      <td>太阳113-131湖人</td>\n",
       "      <td>52.0%</td>\n",
       "      <td>43</td>\n",
       "      <td>34</td>\n",
       "      <td>131</td>\n",
       "    </tr>\n",
       "    <tr>\n",
       "      <th>4</th>\n",
       "      <td>洛杉矶湖人</td>\n",
       "      <td>2018-10-25</td>\n",
       "      <td>胜</td>\n",
       "      <td>主</td>\n",
       "      <td>掘金114-121湖人</td>\n",
       "      <td>50.0%</td>\n",
       "      <td>42</td>\n",
       "      <td>27</td>\n",
       "      <td>121</td>\n",
       "    </tr>\n",
       "  </tbody>\n",
       "</table>\n",
       "</div>"
      ],
      "text/plain": [
       "  team_name   game_time game_rst host_guest         rival shot_rate  rebounds  \\\n",
       "0     洛杉矶湖人  2018-10-18        负          客  开拓者128-119湖人     48.4%        46   \n",
       "1     洛杉矶湖人  2018-10-20        负          主   火箭124-115湖人     48.0%        44   \n",
       "2     洛杉矶湖人  2018-10-22        负          主   马刺143-142湖人     51.4%        52   \n",
       "3     洛杉矶湖人  2018-10-24        胜          客   太阳113-131湖人     52.0%        43   \n",
       "4     洛杉矶湖人  2018-10-25        胜          主   掘金114-121湖人     50.0%        42   \n",
       "\n",
       "   assists  scores  \n",
       "0       23     119  \n",
       "1       28     115  \n",
       "2       33     142  \n",
       "3       34     131  \n",
       "4       27     121  "
      ]
     },
     "execution_count": 7,
     "metadata": {},
     "output_type": "execute_result"
    }
   ],
   "source": [
    "data_lakes.head()"
   ]
  },
  {
   "cell_type": "code",
   "execution_count": 8,
   "metadata": {},
   "outputs": [
    {
     "data": {
      "text/plain": [
       "team_name     object\n",
       "game_time     object\n",
       "game_rst      object\n",
       "host_guest    object\n",
       "rival         object\n",
       "shot_rate     object\n",
       "rebounds       int64\n",
       "assists        int64\n",
       "scores         int64\n",
       "dtype: object"
      ]
     },
     "execution_count": 8,
     "metadata": {},
     "output_type": "execute_result"
    }
   ],
   "source": [
    "data_lakes.dtypes"
   ]
  },
  {
   "cell_type": "code",
   "execution_count": 9,
   "metadata": {},
   "outputs": [
    {
     "data": {
      "text/plain": [
       "(82, 9)"
      ]
     },
     "execution_count": 9,
     "metadata": {},
     "output_type": "execute_result"
    }
   ],
   "source": [
    "data_lakes.shape"
   ]
  },
  {
   "cell_type": "code",
   "execution_count": 10,
   "metadata": {},
   "outputs": [
    {
     "data": {
      "text/plain": [
       "host_guest\n",
       "主    111.000000\n",
       "客    112.536585\n",
       "Name: scores, dtype: float64"
      ]
     },
     "execution_count": 10,
     "metadata": {},
     "output_type": "execute_result"
    }
   ],
   "source": [
    "data_lakes.groupby('host_guest').scores.mean()"
   ]
  },
  {
   "cell_type": "code",
   "execution_count": 11,
   "metadata": {},
   "outputs": [
    {
     "data": {
      "text/html": [
       "<div>\n",
       "<style scoped>\n",
       "    .dataframe tbody tr th:only-of-type {\n",
       "        vertical-align: middle;\n",
       "    }\n",
       "\n",
       "    .dataframe tbody tr th {\n",
       "        vertical-align: top;\n",
       "    }\n",
       "\n",
       "    .dataframe thead th {\n",
       "        text-align: right;\n",
       "    }\n",
       "</style>\n",
       "<table border=\"1\" class=\"dataframe\">\n",
       "  <thead>\n",
       "    <tr style=\"text-align: right;\">\n",
       "      <th></th>\n",
       "      <th></th>\n",
       "      <th>game_rst</th>\n",
       "    </tr>\n",
       "    <tr>\n",
       "      <th>host_guest</th>\n",
       "      <th>game_rst</th>\n",
       "      <th></th>\n",
       "    </tr>\n",
       "  </thead>\n",
       "  <tbody>\n",
       "    <tr>\n",
       "      <th rowspan=\"2\" valign=\"top\">主</th>\n",
       "      <th>胜</th>\n",
       "      <td>22</td>\n",
       "    </tr>\n",
       "    <tr>\n",
       "      <th>负</th>\n",
       "      <td>19</td>\n",
       "    </tr>\n",
       "    <tr>\n",
       "      <th rowspan=\"2\" valign=\"top\">客</th>\n",
       "      <th>负</th>\n",
       "      <td>26</td>\n",
       "    </tr>\n",
       "    <tr>\n",
       "      <th>胜</th>\n",
       "      <td>15</td>\n",
       "    </tr>\n",
       "  </tbody>\n",
       "</table>\n",
       "</div>"
      ],
      "text/plain": [
       "                     game_rst\n",
       "host_guest game_rst          \n",
       "主          胜               22\n",
       "           负               19\n",
       "客          负               26\n",
       "           胜               15"
      ]
     },
     "execution_count": 11,
     "metadata": {},
     "output_type": "execute_result"
    }
   ],
   "source": [
    "lake_res = pd.DataFrame(data_lakes.groupby('host_guest').game_rst.value_counts())\n",
    "lake_res"
   ]
  },
  {
   "cell_type": "code",
   "execution_count": 12,
   "metadata": {},
   "outputs": [
    {
     "data": {
      "image/png": "[encoded data removed]",
      "text/plain": [
       "<Figure size 640x480 with 1 Axes>"
      ]
     },
     "metadata": {},
     "output_type": "display_data"
    }
   ],
   "source": [
    "plt.figure(figsize=(8,6),dpi=80)\n",
    "plt.title(\"湖人队胜负主客场统计\")\n",
    "x1 = [0,1]\n",
    "x2 = [0.3,1.3]\n",
    "y1 = [22,19] # 主场胜和主场败\n",
    "y2 = [15,26] # 客场胜和客场败\n",
    "plt.bar(x1,y1,width=0.3,label='主场')\n",
    "plt.bar(x2,y2,width=0.3,label='客场')\n",
    "plt.legend(loc='upper left',fontsize=12)\n",
    "plt.xticks([0.15,1.15],['胜场','败场'],fontsize=12)\n",
    "plt.yticks([0,5,10,15,20,25])\n",
    "for i in range(2):\n",
    "    plt.text(x1[i],y1[i]+0.5,y1[i],fontdict=font1)\n",
    "\n",
    "for i in range(2):\n",
    "    plt.text(x2[i],y2[i]+0.5,y2[i],fontdict=font2)\n"
   ]
  },
  {
   "cell_type": "code",
   "execution_count": 13,
   "metadata": {},
   "outputs": [
    {
     "data": {
      "text/html": [
       "<div>\n",
       "<style scoped>\n",
       "    .dataframe tbody tr th:only-of-type {\n",
       "        vertical-align: middle;\n",
       "    }\n",
       "\n",
       "    .dataframe tbody tr th {\n",
       "        vertical-align: top;\n",
       "    }\n",
       "\n",
       "    .dataframe thead th {\n",
       "        text-align: right;\n",
       "    }\n",
       "</style>\n",
       "<table border=\"1\" class=\"dataframe\">\n",
       "  <thead>\n",
       "    <tr style=\"text-align: right;\">\n",
       "      <th></th>\n",
       "      <th></th>\n",
       "      <th>game_rst</th>\n",
       "    </tr>\n",
       "    <tr>\n",
       "      <th>host_guest</th>\n",
       "      <th>game_rst</th>\n",
       "      <th></th>\n",
       "    </tr>\n",
       "  </thead>\n",
       "  <tbody>\n",
       "    <tr>\n",
       "      <th rowspan=\"2\" valign=\"top\">主</th>\n",
       "      <th>胜</th>\n",
       "      <td>22</td>\n",
       "    </tr>\n",
       "    <tr>\n",
       "      <th>负</th>\n",
       "      <td>19</td>\n",
       "    </tr>\n",
       "    <tr>\n",
       "      <th rowspan=\"2\" valign=\"top\">客</th>\n",
       "      <th>负</th>\n",
       "      <td>26</td>\n",
       "    </tr>\n",
       "    <tr>\n",
       "      <th>胜</th>\n",
       "      <td>15</td>\n",
       "    </tr>\n",
       "  </tbody>\n",
       "</table>\n",
       "</div>"
      ],
      "text/plain": [
       "                     game_rst\n",
       "host_guest game_rst          \n",
       "主          胜               22\n",
       "           负               19\n",
       "客          负               26\n",
       "           胜               15"
      ]
     },
     "execution_count": 13,
     "metadata": {},
     "output_type": "execute_result"
    }
   ],
   "source": [
    "lake_res"
   ]
  },
  {
   "cell_type": "code",
   "execution_count": 14,
   "metadata": {},
   "outputs": [
    {
     "data": {
      "text/plain": [
       "Text(0.97,42,'41')"
      ]
     },
     "execution_count": 14,
     "metadata": {},
     "output_type": "execute_result"
    },
    {
     "data": {
      "image/png": "[encoded data removed]",
      "text/plain": [
       "<Figure size 640x480 with 1 Axes>"
      ]
     },
     "metadata": {},
     "output_type": "display_data"
    }
   ],
   "source": [
    "plt.figure(figsize=(8,6),dpi=80)\n",
    "plt.title(\"湖人队主客场胜负统计\")\n",
    "x = [0,1]\n",
    "dy1 = [22,15]  # 主客场胜利场数\n",
    "dy2 = [19,26]  # 主客场负场数\n",
    "plt.bar(x,dy1,width=0.5,label='胜场')\n",
    "plt.bar(x,dy2,width=0.5,bottom=dy1,label='败场',color='grey')\n",
    "plt.legend(loc='upper center',fontsize=12)\n",
    "plt.xticks([0.0,1,0],['主场','客场'])\n",
    "plt.yticks([0,5,10,15,20,25,30,35,40,45])\n",
    "plt.text(x[0]-0.03,dy1[0]+1,dy1[0],fontdict=font3) # 主场胜\n",
    "plt.text(x[0]-0.03,dy1[0]+dy2[0]+1,dy2[0]+dy1[0],fontdict=font4) # 客场胜\n",
    "plt.text(x[1]-0.03,dy1[1]+1,dy1[1],fontdict=font3) # 主场败\n",
    "plt.text(x[1]-0.03,dy1[1]+dy2[1]+1,dy1[1]+dy2[1],fontdict=font4) # 客场败"
   ]
  },
  {
   "cell_type": "code",
   "execution_count": 15,
   "metadata": {},
   "outputs": [],
   "source": [
    "data_lakes.shot_rate = [float(i[:-1]) for i in data_lakes.shot_rate]"
   ]
  },
  {
   "cell_type": "code",
   "execution_count": 16,
   "metadata": {},
   "outputs": [
    {
     "data": {
      "text/html": [
       "<div>\n",
       "<style scoped>\n",
       "    .dataframe tbody tr th:only-of-type {\n",
       "        vertical-align: middle;\n",
       "    }\n",
       "\n",
       "    .dataframe tbody tr th {\n",
       "        vertical-align: top;\n",
       "    }\n",
       "\n",
       "    .dataframe thead th {\n",
       "        text-align: right;\n",
       "    }\n",
       "</style>\n",
       "<table border=\"1\" class=\"dataframe\">\n",
       "  <thead>\n",
       "    <tr style=\"text-align: right;\">\n",
       "      <th></th>\n",
       "      <th>shot_rate</th>\n",
       "      <th>rebounds</th>\n",
       "      <th>assists</th>\n",
       "      <th>scores</th>\n",
       "    </tr>\n",
       "    <tr>\n",
       "      <th>host_guest</th>\n",
       "      <th></th>\n",
       "      <th></th>\n",
       "      <th></th>\n",
       "      <th></th>\n",
       "    </tr>\n",
       "  </thead>\n",
       "  <tbody>\n",
       "    <tr>\n",
       "      <th>主</th>\n",
       "      <td>47.273171</td>\n",
       "      <td>47.097561</td>\n",
       "      <td>26.048780</td>\n",
       "      <td>111.000000</td>\n",
       "    </tr>\n",
       "    <tr>\n",
       "      <th>客</th>\n",
       "      <td>46.948780</td>\n",
       "      <td>46.073171</td>\n",
       "      <td>25.073171</td>\n",
       "      <td>112.536585</td>\n",
       "    </tr>\n",
       "  </tbody>\n",
       "</table>\n",
       "</div>"
      ],
      "text/plain": [
       "            shot_rate   rebounds    assists      scores\n",
       "host_guest                                             \n",
       "主           47.273171  47.097561  26.048780  111.000000\n",
       "客           46.948780  46.073171  25.073171  112.536585"
      ]
     },
     "execution_count": 16,
     "metadata": {},
     "output_type": "execute_result"
    }
   ],
   "source": [
    "data_lakes.groupby('host_guest').mean()"
   ]
  },
  {
   "cell_type": "code",
   "execution_count": 17,
   "metadata": {},
   "outputs": [
    {
     "data": {
      "text/plain": [
       "[47.110975609756096, 46.58536585365854, 25.5609756097561, 111.76829268292683]"
      ]
     },
     "execution_count": 17,
     "metadata": {},
     "output_type": "execute_result"
    }
   ],
   "source": [
    "data_lakes.mean().tolist()"
   ]
  },
  {
   "cell_type": "code",
   "execution_count": null,
   "metadata": {},
   "outputs": [],
   "source": [
    "from pyecharts import Line"
   ]
  },
  {
   "cell_type": "code",
   "execution_count": null,
   "metadata": {},
   "outputs": [],
   "source": [
    "attr = [\"进攻篮板\",\"防守篮板\",\"助攻\",\"盖帽\",\"抢断\",\"失误\"]\n",
    "# v1 = [47.11, 46.59, 25.56]\n",
    "# v2 = [46.05,10.35+34.83,24.58]\n",
    "v1 = [15.0, 5.0, 11.0, 8.0, 17.0, 3.0] # 排名\n",
    "v2 = [10.2, 36.4, 25.6, 5.4, 7.5, 15.2] # 数据\n",
    "bar = Bar()\n",
    "bar.add(\"具体数据\", attr, v2)\n",
    "bar.add(\"联盟排名\", attr, v1)"
   ]
  },
  {
   "cell_type": "code",
   "execution_count": null,
   "metadata": {},
   "outputs": [],
   "source": [
    "data_visible = pd.read_csv(\"./visbible_data.csv\")"
   ]
  },
  {
   "cell_type": "code",
   "execution_count": null,
   "metadata": {},
   "outputs": [],
   "source": [
    "data_visible.head(10)"
   ]
  },
  {
   "cell_type": "code",
   "execution_count": null,
   "metadata": {},
   "outputs": [],
   "source": [
    "d_lake = data_visible[data_visible.球队名称=='洛杉矶湖人队']"
   ]
  },
  {
   "cell_type": "code",
   "execution_count": null,
   "metadata": {},
   "outputs": [],
   "source": [
    "df = data_lakes[['game_time','game_rst']]"
   ]
  },
  {
   "cell_type": "code",
   "execution_count": null,
   "metadata": {},
   "outputs": [],
   "source": [
    "df['game_time'] = df['game_time'].map(lambda x:x[0:7])"
   ]
  },
  {
   "cell_type": "code",
   "execution_count": null,
   "metadata": {},
   "outputs": [],
   "source": [
    "a = pd.DataFrame(df.groupby('game_time').game_rst.value_counts())\n",
    "a"
   ]
  },
  {
   "cell_type": "code",
   "execution_count": null,
   "metadata": {},
   "outputs": [],
   "source": [
    "datas = df.loc[df.index=='洛杉矶湖人队']"
   ]
  },
  {
   "cell_type": "code",
   "execution_count": null,
   "metadata": {},
   "outputs": [],
   "source": [
    "from pyecharts import Line\n",
    "attr = a.index.levels[0]\n",
    "v_w = [3,10,8,6,3,5,2]\n",
    "v_l = [5,4,7,9,6,11,3]\n",
    "line = Line()\n",
    "line.add(\"胜场\",attr,v_w,mark_point=[\"max\"],is_label_show=True)\n",
    "line.add(\"败场\",attr,v_l,mark_point=[\"max\"],is_label_show=True)\n",
    "line"
   ]
  },
  {
   "cell_type": "code",
   "execution_count": null,
   "metadata": {},
   "outputs": [],
   "source": []
  },
  {
   "cell_type": "code",
   "execution_count": null,
   "metadata": {},
   "outputs": [],
   "source": []
  },
  {
   "cell_type": "code",
   "execution_count": null,
   "metadata": {},
   "outputs": [],
   "source": []
  },
  {
   "cell_type": "code",
   "execution_count": null,
   "metadata": {},
   "outputs": [],
   "source": []
  },
  {
   "cell_type": "code",
   "execution_count": null,
   "metadata": {},
   "outputs": [],
   "source": [
    "# v1 = d_lake[[\"投篮命中率\",\"三分命中率\",\"罚球命中率\",\"进攻篮板\",\"防守篮板\",\"助攻\",\"盖帽\",\"抢断\",\"失误\"]]\n",
    "v1 = [i for i in d_lake[[\"投篮命中率\",\"三分命中率\",\"罚球命中率\",\"进攻篮板\",\"防守篮板\",\"助攻\",\"盖帽\",\"抢断\",\"失误\"]].values]\n",
    "v1"
   ]
  },
  {
   "cell_type": "code",
   "execution_count": null,
   "metadata": {},
   "outputs": [],
   "source": [
    "v2 = data_visible.mean()\n",
    "v2.tolist()"
   ]
  },
  {
   "cell_type": "code",
   "execution_count": null,
   "metadata": {},
   "outputs": [],
   "source": []
  },
  {
   "cell_type": "code",
   "execution_count": null,
   "metadata": {},
   "outputs": [],
   "source": [
    "attr = [\"投篮命中率\",\"三分命中率\",\"罚球命中率\",\"进攻篮板\",\"防守篮板\",\"助攻\",\"盖帽\",\"抢断\",\"失误\"]\n",
    "v1 = [47. , 33.3, 69.9, 10.2, 36.4, 25.6,  5.4,  7.5, 15.2]\n",
    "v2 = [46.05,35.54,76.69,10.35,34.83,24.58,4.97,7.63,13.53]\n",
    "bar = Bar()\n",
    "bar.add(\"湖人队\", attr, v1,interval=0,rotate=40)\n",
    "bar.add(\"联盟平均水平\", attr, v2,is_stack=True)\n",
    "bar"
   ]
  },
  {
   "cell_type": "code",
   "execution_count": null,
   "metadata": {},
   "outputs": [],
   "source": [
    "attr = [\"衬衫\", \"羊毛衫\", \"雪纺衫\", \"裤子\" , \"高跟鞋\" , \"袜子\"]\n",
    "v1 = [5, 20, 36, 10, 75, 90]\n",
    "v2 = [10, 25, 8, 60, 20, 80]\n",
    "bar = Bar()\n",
    "bar.add(\"商家A\", attr, v1, mark_point=[\"average\", \"max\", \"min\"], is_stack=True)\n",
    "bar.add(\"商家B\", attr, v2, mark_line=[\"max\"], is_convert=True, is_stack=True)\n",
    "bar"
   ]
  },
  {
   "cell_type": "code",
   "execution_count": null,
   "metadata": {},
   "outputs": [],
   "source": []
  }
 ],
 "metadata": {
  "kernelspec": {
   "display_name": "Python 3",
   "language": "python",
   "name": "python3"
  },
  "language_info": {
   "codemirror_mode": {
    "name": "ipython",
    "version": 3
   },
   "file_extension": ".py",
   "mimetype": "text/x-python",
   "name": "python",
   "nbconvert_exporter": "python",
   "pygments_lexer": "ipython3",
   "version": "3.6.5"
  },
  "toc": {
   "base_numbering": 1,
   "nav_menu": {},
   "number_sections": true,
   "sideBar": true,
   "skip_h1_title": false,
   "title_cell": "Table of Contents",
   "title_sidebar": "Contents",
   "toc_cell": false,
   "toc_position": {},
   "toc_section_display": true,
   "toc_window_display": false
  }
 },
 "nbformat": 4,
 "nbformat_minor": 2
}
