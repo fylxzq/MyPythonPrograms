{
 "cells": [
  {
   "cell_type": "markdown",
   "metadata": {},
   "source": [
    "## 求两个稀疏矩阵的和"
   ]
  },
  {
   "cell_type": "code",
   "execution_count": 6,
   "metadata": {},
   "outputs": [],
   "source": [
    "def matrix_sum(m1,m2):\n",
    "    m3 = []#定义一个新的列表，代表新的矩阵C\n",
    "    total_num = 0 #计数，统计新的矩阵有多少个非零元素\n",
    "    for i in m1[1:]:\n",
    "        for j in m2[1:]:\n",
    "            if(i[0] == j[0] and i[1] == j[1]):\n",
    "                total_num += 1\n",
    "                m3.append((j[0],j[1],i[2]+j[2]))#如果行列相同，则把值相加\n",
    "                m1.remove(i)\n",
    "                m2.remove(j)#删除行号和列号相同的元素，防止下面重复统计\n",
    "    for i in m1[1:]:\n",
    "        m3.append(i)\n",
    "        total_num += 1\n",
    "    for i in m2[1:]:\n",
    "        m3.append(j)\n",
    "        total_num += 1\n",
    "    m3.insert(0,(m1[0][0],m1[0][1],total_num))#增加第一个元素，行列数和总的非零元素\n",
    "    return m3"
   ]
  },
  {
   "cell_type": "code",
   "execution_count": 7,
   "metadata": {},
   "outputs": [
    {
     "data": {
      "text/plain": [
       "[(6, 6, 3), (3, 4, 3), (1, 4, 2), (1, 2, 1)]"
      ]
     },
     "execution_count": 7,
     "metadata": {},
     "output_type": "execute_result"
    }
   ],
   "source": [
    "m1 = [(6,6,2),(3,4,2),(1,4,2)]\n",
    "m2 = [(6,6,2),(3,4,1),(1,2,1)]\n",
    "matrix_sum(m1,m2)"
   ]
  },
  {
   "cell_type": "markdown",
   "metadata": {},
   "source": [
    "# 实验报告一"
   ]
  },
  {
   "cell_type": "code",
   "execution_count": 1,
   "metadata": {},
   "outputs": [],
   "source": [
    "def input_one_array(lens):\n",
    "    arr = []\n",
    "    for i in range(len(lens)):\n",
    "        arr.append(int(input(\"请输入第%d个元素的值\"%(i+1))))\n",
    "    return arr"
   ]
  },
  {
   "cell_type": "code",
   "execution_count": 7,
   "metadata": {},
   "outputs": [],
   "source": [
    "def input_two_arrat(rows,cols):\n",
    "    arr = []\n",
    "    for i in range(rows):\n",
    "        tmp_arr = []\n",
    "        for j in range(cols):\n",
    "            temp_value = int(input('请输入第%d行第%d列的值'%(i,j))) \n",
    "            tmp_arr.append(temp_value)\n",
    "        arr.append(tmp_arr)\n",
    "    return arr"
   ]
  },
  {
   "cell_type": "code",
   "execution_count": 3,
   "metadata": {},
   "outputs": [],
   "source": [
    "def get_arr_value(arr):\n",
    "    for i in arr:\n",
    "        if(isinstance(i,list)):\n",
    "            for j in i:\n",
    "                print(j,end='\\t')\n",
    "            print()\n",
    "        else:\n",
    "            print(i,end='\\t')"
   ]
  },
  {
   "cell_type": "code",
   "execution_count": 9,
   "metadata": {},
   "outputs": [
    {
     "name": "stdout",
     "output_type": "stream",
     "text": [
      "请输入第0行第0列的值1\n",
      "请输入第0行第1列的值1\n",
      "请输入第0行第2列的值2\n",
      "请输入第0行第3列的值2\n",
      "请输入第1行第0列的值3\n",
      "请输入第1行第1列的值4\n",
      "请输入第1行第2列的值5\n",
      "请输入第1行第3列的值5\n",
      "请输入第2行第0列的值6\n",
      "请输入第2行第1列的值7\n",
      "请输入第2行第2列的值7\n",
      "请输入第2行第3列的值22\n"
     ]
    }
   ],
   "source": [
    "arr1 = input_two_arrat(3,4)"
   ]
  },
  {
   "cell_type": "code",
   "execution_count": 11,
   "metadata": {},
   "outputs": [
    {
     "name": "stdout",
     "output_type": "stream",
     "text": [
      "1\t1\t2\t2\t\n",
      "3\t4\t5\t5\t\n",
      "6\t7\t7\t22\t\n"
     ]
    }
   ],
   "source": [
    "get_arr_value(arr1)"
   ]
  },
  {
   "cell_type": "code",
   "execution_count": 12,
   "metadata": {},
   "outputs": [],
   "source": [
    "def sum_one_arr(arr1,arr2):\n",
    "    if(len(arr1)!=len(arr2)):\n",
    "        print('数组长度不一致，无法进行运算')\n",
    "    else:\n",
    "        arr3 = [arr1[i]+arr2[i] for i in range(len(arr1))]\n",
    "    return arr3"
   ]
  },
  {
   "cell_type": "code",
   "execution_count": 13,
   "metadata": {},
   "outputs": [
    {
     "data": {
      "text/plain": [
       "[5, 7, 9, 11]"
      ]
     },
     "execution_count": 13,
     "metadata": {},
     "output_type": "execute_result"
    }
   ],
   "source": [
    "arr1 = [1,2,3,4]\n",
    "arr2 = [4,5,6,7]\n",
    "sum_one_arr(arr1,arr2)"
   ]
  },
  {
   "cell_type": "code",
   "execution_count": 16,
   "metadata": {},
   "outputs": [],
   "source": [
    "def sum_two_arr(arr1,arr2):\n",
    "    arr3 = [[None]*len(arr1[0]) for row in range(len(arr1))]\n",
    "    for i in range(len(arr1)):\n",
    "        for j in range(len(arr1[0])):\n",
    "            arr3[i][j] = arr1[i][j] + arr2[i][j]\n",
    "    return arr3"
   ]
  },
  {
   "cell_type": "code",
   "execution_count": 17,
   "metadata": {},
   "outputs": [
    {
     "data": {
      "text/plain": [
       "[[2, 4, 6], [8, 10, 12], [14, 16, 18]]"
      ]
     },
     "execution_count": 17,
     "metadata": {},
     "output_type": "execute_result"
    }
   ],
   "source": [
    "arr1 = [[1,2,3],[4,5,6],[7,8,9]]\n",
    "arr2 = [[1,2,3],[4,5,6],[7,8,9]]\n",
    "sum_two_arr(arr1,arr2)"
   ]
  },
  {
   "cell_type": "code",
   "execution_count": 18,
   "metadata": {},
   "outputs": [],
   "source": [
    "def max_two_arr(arr):\n",
    "    max_num = max(map(max,arr))\n",
    "    return max_num"
   ]
  },
  {
   "cell_type": "code",
   "execution_count": 19,
   "metadata": {},
   "outputs": [
    {
     "data": {
      "text/plain": [
       "9"
      ]
     },
     "execution_count": 19,
     "metadata": {},
     "output_type": "execute_result"
    }
   ],
   "source": [
    "max_two_arr(arr1)"
   ]
  },
  {
   "cell_type": "code",
   "execution_count": null,
   "metadata": {},
   "outputs": [],
   "source": []
  }
 ],
 "metadata": {
  "kernelspec": {
   "display_name": "Python 3",
   "language": "python",
   "name": "python3"
  },
  "language_info": {
   "codemirror_mode": {
    "name": "ipython",
    "version": 3
   },
   "file_extension": ".py",
   "mimetype": "text/x-python",
   "name": "python",
   "nbconvert_exporter": "python",
   "pygments_lexer": "ipython3",
   "version": "3.6.5"
  }
 },
 "nbformat": 4,
 "nbformat_minor": 2
}
