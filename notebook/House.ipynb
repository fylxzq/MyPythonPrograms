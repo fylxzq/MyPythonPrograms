{
 "cells": [
  {
   "cell_type": "code",
   "execution_count": 78,
   "metadata": {
    "scrolled": false
   },
   "outputs": [],
   "source": [
    "import pandas as pd\n",
    "import numpy as np\n",
    "from lightgbm import LGBMRegressor\n",
    "from sklearn.preprocessing import LabelEncoder\n",
    "train = pd.read_csv('./datas/train.csv')\n",
    "test = pd.read_csv('./datas/test.csv')"
   ]
  },
  {
   "cell_type": "code",
   "execution_count": 75,
   "metadata": {},
   "outputs": [],
   "source": [
    "#对房屋朝向进行编码\n",
    "def feature_process(train):\n",
    "    le = LabelEncoder()\n",
    "    train.房屋朝向 = le.fit_transform(train.房屋朝向)\n",
    "    train.drop(columns=['出租方式', '居住状态', '装修情况','地铁线路', '地铁站点', '距离'], inplace=True)\n",
    "    train.小区房屋出租数量.fillna(train.小区房屋出租数量.mean(), inplace=True)\n",
    "    train.区.fillna(-1, inplace=True)\n",
    "    train.位置.fillna(-1, inplace=True)\n",
    "    train['户型'] = train['卧室数量'] + train['厅的数量'] + train['卫的数量']"
   ]
  },
  {
   "cell_type": "code",
   "execution_count": 79,
   "metadata": {},
   "outputs": [
    {
     "name": "stdout",
     "output_type": "stream",
     "text": [
      "rmse:  2.70688475006033\n"
     ]
    }
   ],
   "source": [
    "from sklearn.model_selection import train_test_split\n",
    "from sklearn.metrics import mean_squared_error\n",
    "import math\n",
    "from xgboost import XGBRegressor\n",
    "feature_process(train)\n",
    "y = train['月租金']\n",
    "X = train.drop(['月租金'], axis=1)\n",
    "X_train, X_test, y_train, y_test = train_test_split(X, y, test_size=0.25)\n",
    "\n",
    "lgb = LGBMRegressor(learning_rate=0.05, n_estimators=200, )\n",
    "lgb.fit(X_train, y_train)\n",
    "prediction = lgb.predict(X_test)\n",
    "rmse = math.sqrt(mean_squared_error(y_test, prediction))\n",
    "print('rmse: ', rmse)"
   ]
  },
  {
   "cell_type": "code",
   "execution_count": 71,
   "metadata": {
    "scrolled": true
   },
   "outputs": [],
   "source": [
    "lgb = LGBMRegressor(learning_rate=0.05, n_estimators=200)\n",
    "feature_process(test)\n",
    "X_pre = test.drop('id', axis=1)\n",
    "lgb.fit(X,y)\n",
    "pre = lgb.predict(X_pre)"
   ]
  },
  {
   "cell_type": "code",
   "execution_count": 74,
   "metadata": {},
   "outputs": [],
   "source": [
    "result = pd.DataFrame({'id': test['id'], 'price':pre})\n",
    "result.to_csv('sample.csv', index=False)"
   ]
  }
 ],
 "metadata": {
  "kernelspec": {
   "display_name": "Python 3",
   "language": "python",
   "name": "python3"
  },
  "language_info": {
   "codemirror_mode": {
    "name": "ipython",
    "version": 3
   },
   "file_extension": ".py",
   "mimetype": "text/x-python",
   "name": "python",
   "nbconvert_exporter": "python",
   "pygments_lexer": "ipython3",
   "version": "3.6.5"
  }
 },
 "nbformat": 4,
 "nbformat_minor": 2
}
