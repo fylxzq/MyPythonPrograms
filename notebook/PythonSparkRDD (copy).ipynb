{
 "cells": [
  {
   "cell_type": "markdown",
   "metadata": {
    "collapsed": true
   },
   "source": [
    "# RDD编程实例：电影数据探索"
   ]
  },
  {
   "cell_type": "code",
   "execution_count": 8,
   "metadata": {},
   "outputs": [
    {
     "data": {
      "text/plain": [
       "'1|24|M|technician|85711'"
      ]
     },
     "execution_count": 8,
     "metadata": {},
     "output_type": "execute_result"
    }
   ],
   "source": [
    "user_data = sc.textFile(\"file:/home/hadoop/pythonwork/MovieLens/ml-100K/u.user\")\n",
    "user_data.first()"
   ]
  },
  {
   "cell_type": "code",
   "execution_count": 9,
   "metadata": {},
   "outputs": [
    {
     "name": "stdout",
     "output_type": "stream",
     "text": [
      "Users: 943, genders: 2, occupations: 21, ZIP codes: 795\n"
     ]
    }
   ],
   "source": [
    "user_fields = user_data.map(lambda line: line.split('|'))\n",
    "#统计用户数\n",
    "num_users = user_fields.map(lambda fields: fields[0]).count() \n",
    "\n",
    "#统计性别个数\n",
    "num_genders = user_fields.map(lambda fields : fields[2]).distinct().count()\n",
    "\n",
    "#统计职业个数\n",
    "num_occupations = user_fields.map(lambda fields: fields[3]).distinct().count()\n",
    "\n",
    "#统计邮编个数\n",
    "num_zipcodes = user_fields.map(lambda fields: fields[4]).distinct().count()   \n",
    "print (\"Users: %d, genders: %d, occupations: %d, ZIP codes: %d\"%\\\n",
    "       (num_users,num_genders,num_occupations,num_zipcodes))"
   ]
  },
  {
   "cell_type": "code",
   "execution_count": 10,
   "metadata": {
    "scrolled": true
   },
   "outputs": [
    {
     "data": {
      "image/png": "[encoded data removed]",
      "text/plain": [
       "<matplotlib.figure.Figure at 0x7f357d4255f8>"
      ]
     },
     "metadata": {},
     "output_type": "display_data"
    }
   ],
   "source": [
    "# 画出用户的年龄分布图\n",
    "import matplotlib.pyplot as plt\n",
    "from matplotlib.pyplot import hist\n",
    "ages = user_fields.map(lambda x: int(x[1])).collect()\n",
    "hist(ages, bins=20, color='lightblue',normed=True)\n",
    "fig = plt.gcf()\n",
    "fig.set_size_inches(10,5)\n",
    "plt.show()"
   ]
  },
  {
   "cell_type": "code",
   "execution_count": 11,
   "metadata": {},
   "outputs": [
    {
     "name": "stdout",
     "output_type": "stream",
     "text": [
      "[('technician', 27), ('other', 105), ('writer', 45), ('executive', 32), ('administrator', 79), ('student', 196), ('lawyer', 12), ('educator', 95), ('scientist', 31), ('entertainment', 18), ('programmer', 66), ('librarian', 51), ('homemaker', 7), ('artist', 28), ('engineer', 67), ('marketing', 26), ('none', 9), ('healthcare', 16), ('retired', 14), ('salesman', 12), ('doctor', 7)]\n"
     ]
    },
    {
     "data": {
      "image/png": "[encoded data removed]",
      "text/plain": [
       "<matplotlib.figure.Figure at 0x7f357433e898>"
      ]
     },
     "metadata": {},
     "output_type": "display_data"
    }
   ],
   "source": [
    "# 画出用户的职业的分布图\n",
    "import numpy as np\n",
    "count_by_occupation = user_fields.map(lambda fields: (fields[3],1))\\\n",
    "    .reduceByKey(lambda x,y:x+y).collect()\n",
    "print (count_by_occupation)\n",
    "x_axis1 = np.array([c[0] for c in count_by_occupation])\n",
    "y_axis1 = np.array([c[1] for c in count_by_occupation])\n",
    "x_axis = x_axis1[np.argsort(y_axis1)]\n",
    "y_axis = y_axis1[np.argsort(y_axis1)]\n",
    "pos = np.arange(len(x_axis))\n",
    "width = 1.0\n",
    "ax = plt.axes()\n",
    "ax.set_xticks(pos+(width)/2)\n",
    "ax.set_xticklabels(x_axis)\n",
    "\n",
    "plt.bar(pos, y_axis, width, color='lightblue')\n",
    "plt.xticks(rotation=30)\n",
    "fig = plt.gcf()\n",
    "fig.set_size_inches(12,6)\n",
    "plt.show()"
   ]
  },
  {
   "cell_type": "code",
   "execution_count": 12,
   "metadata": {},
   "outputs": [
    {
     "name": "stdout",
     "output_type": "stream",
     "text": [
      "Map-reduce approach:\n",
      "{'technician': 27, 'other': 105, 'writer': 45, 'executive': 32, 'administrator': 79, 'student': 196, 'lawyer': 12, 'educator': 95, 'scientist': 31, 'entertainment': 18, 'programmer': 66, 'librarian': 51, 'homemaker': 7, 'artist': 28, 'engineer': 67, 'marketing': 26, 'none': 9, 'healthcare': 16, 'retired': 14, 'salesman': 12, 'doctor': 7}\n",
      "========================\n",
      "countByValue approach:\n",
      "{'technician': 27, 'other': 105, 'writer': 45, 'executive': 32, 'administrator': 79, 'student': 196, 'lawyer': 12, 'educator': 95, 'scientist': 31, 'entertainment': 18, 'programmer': 66, 'librarian': 51, 'homemaker': 7, 'artist': 28, 'engineer': 67, 'marketing': 26, 'none': 9, 'healthcare': 16, 'retired': 14, 'salesman': 12, 'doctor': 7}\n"
     ]
    }
   ],
   "source": [
    "count_by_occupation2 = user_fields.map(lambda fields: fields[3]).countByValue()\n",
    "print (\"Map-reduce approach:\")\n",
    "print (dict(count_by_occupation))\n",
    "print (\"========================\" )\n",
    "print (\"countByValue approach:\")\n",
    "print (dict(count_by_occupation2))"
   ]
  },
  {
   "cell_type": "code",
   "execution_count": 13,
   "metadata": {},
   "outputs": [
    {
     "name": "stdout",
     "output_type": "stream",
     "text": [
      "1|Toy Story (1995)|01-Jan-1995||http://us.imdb.com/M/title-exact?Toy%20Story%20(1995)|0|0|0|1|1|1|0|0|0|0|0|0|0|0|0|0|0|0|0\n",
      "Movies: 1682\n"
     ]
    }
   ],
   "source": [
    "movie_data = sc.textFile(\"file:/home/hadoop/pythonwork/MovieLens/ml-100K/u.item\")\n",
    "print (movie_data.first())\n",
    "num_movies = movie_data.count()\n",
    "print ('Movies: %d' % num_movies)"
   ]
  },
  {
   "cell_type": "code",
   "execution_count": 14,
   "metadata": {
    "scrolled": true
   },
   "outputs": [
    {
     "name": "stdout",
     "output_type": "stream",
     "text": [
      "1681\n"
     ]
    },
    {
     "data": {
      "image/png": "[encoded data removed]",
      "text/plain": [
       "<matplotlib.figure.Figure at 0x7f357429e550>"
      ]
     },
     "metadata": {},
     "output_type": "display_data"
    }
   ],
   "source": [
    "#画出电影的age分布图：\n",
    "\n",
    "def convert_year(x):\n",
    "    try:\n",
    "        return int(x[-4:])\n",
    "    except:\n",
    "        return 1900\n",
    "\n",
    "movie_fields = movie_data.map(lambda lines:lines.split('|'))\n",
    "years = movie_fields.map(lambda fields: fields[2]).map(lambda x: convert_year(x))\n",
    "years_filtered = years.filter(lambda x: x!=1900)\n",
    "print (years_filtered.count())\n",
    "\n",
    "movie_ages = years_filtered.map(lambda yr:1998-yr).countByValue()\n",
    "values = movie_ages.values()\n",
    "bins = movie_ages.keys()\n",
    "hist(values, bins=sorted(bins), color='lightblue',normed=True)\n",
    "fig = plt.gcf()\n",
    "fig.set_size_inches(10,5)\n",
    "plt.show()"
   ]
  },
  {
   "cell_type": "code",
   "execution_count": 38,
   "metadata": {},
   "outputs": [
    {
     "name": "stdout",
     "output_type": "stream",
     "text": [
      "196\t242\t3\t881250949\n",
      "Ratings: 100000\n"
     ]
    }
   ],
   "source": [
    "#查看评级数据记录数量\n",
    "rating_data = sc.textFile('file:/home/hadoop/pythonwork/MovieLens/ml-100K/u.data')\n",
    "print (rating_data.first())\n",
    "num_ratings = rating_data.count()\n",
    "print ('Ratings: %d'% num_ratings)"
   ]
  },
  {
   "cell_type": "code",
   "execution_count": 39,
   "metadata": {
    "scrolled": true
   },
   "outputs": [
    {
     "name": "stdout",
     "output_type": "stream",
     "text": [
      "Min rating: 1\n",
      "max rating: 5\n",
      "Average rating: 3.53\n",
      "Median rating: 4 \n",
      "Average # of ratings per user: 106.04\n",
      "Average # of ratings per movie: 59.45\n"
     ]
    }
   ],
   "source": [
    "#对数据进行一些基本的统计：\n",
    "rating_data = rating_data.map(lambda line: line.split('\\t'))\n",
    "ratings = rating_data.map(lambda fields: int(fields[2]))\n",
    "max_rating = ratings.reduce(lambda x,y:max(x,y))\n",
    "min_rating = ratings.reduce(lambda x,y:min(x,y))\n",
    "mean_rating = ratings.reduce(lambda x,y:x+y)/num_ratings\n",
    "median_rating = np.median(ratings.collect())\n",
    "ratings_per_user = num_ratings/num_users;\n",
    "ratings_per_movie = num_ratings/ num_movies\n",
    "print ('Min rating: %d' %min_rating)\n",
    "print ('max rating: %d' % max_rating)\n",
    "print ('Average rating: %2.2f' %mean_rating)\n",
    "print ('Median rating: %d '%median_rating)\n",
    "print ('Average # of ratings per user: %2.2f'%ratings_per_user)\n",
    "print ('Average # of ratings per movie: %2.2f' % ratings_per_movie)\n"
   ]
  },
  {
   "cell_type": "code",
   "execution_count": 19,
   "metadata": {},
   "outputs": [
    {
     "ename": "TypeError",
     "evalue": "len() of unsized object",
     "output_type": "error",
     "traceback": [
      "\u001b[0;31m---------------------------------------------------------------------------\u001b[0m",
      "\u001b[0;31mTypeError\u001b[0m                                 Traceback (most recent call last)",
      "\u001b[0;32m<ipython-input-19-b77cd581aaf3>\u001b[0m in \u001b[0;36m<module>\u001b[0;34m()\u001b[0m\n\u001b[1;32m      4\u001b[0m \u001b[0my_axis\u001b[0m \u001b[0;34m=\u001b[0m \u001b[0mnp\u001b[0m\u001b[0;34m.\u001b[0m\u001b[0marray\u001b[0m\u001b[0;34m(\u001b[0m\u001b[0;34m[\u001b[0m\u001b[0mfloat\u001b[0m\u001b[0;34m(\u001b[0m\u001b[0mc\u001b[0m\u001b[0;34m)\u001b[0m \u001b[0;32mfor\u001b[0m \u001b[0mc\u001b[0m \u001b[0;32min\u001b[0m \u001b[0mcount_by_rating\u001b[0m\u001b[0;34m.\u001b[0m\u001b[0mvalues\u001b[0m\u001b[0;34m(\u001b[0m\u001b[0;34m)\u001b[0m\u001b[0;34m]\u001b[0m\u001b[0;34m)\u001b[0m\u001b[0;34m\u001b[0m\u001b[0m\n\u001b[1;32m      5\u001b[0m \u001b[0my_axis_normed\u001b[0m \u001b[0;34m=\u001b[0m \u001b[0my_axis\u001b[0m\u001b[0;34m/\u001b[0m\u001b[0my_axis\u001b[0m\u001b[0;34m.\u001b[0m\u001b[0msum\u001b[0m\u001b[0;34m(\u001b[0m\u001b[0;34m)\u001b[0m\u001b[0;34m\u001b[0m\u001b[0m\n\u001b[0;32m----> 6\u001b[0;31m \u001b[0mpos\u001b[0m \u001b[0;34m=\u001b[0m \u001b[0mnp\u001b[0m\u001b[0;34m.\u001b[0m\u001b[0marange\u001b[0m\u001b[0;34m(\u001b[0m\u001b[0mlen\u001b[0m\u001b[0;34m(\u001b[0m\u001b[0mx_axis\u001b[0m\u001b[0;34m)\u001b[0m\u001b[0;34m)\u001b[0m\u001b[0;34m\u001b[0m\u001b[0m\n\u001b[0m\u001b[1;32m      7\u001b[0m \u001b[0mwidth\u001b[0m \u001b[0;34m=\u001b[0m \u001b[0;36m1.0\u001b[0m\u001b[0;34m\u001b[0m\u001b[0m\n\u001b[1;32m      8\u001b[0m \u001b[0max\u001b[0m \u001b[0;34m=\u001b[0m \u001b[0mplt\u001b[0m\u001b[0;34m.\u001b[0m\u001b[0maxes\u001b[0m\u001b[0;34m(\u001b[0m\u001b[0;34m)\u001b[0m\u001b[0;34m\u001b[0m\u001b[0m\n",
      "\u001b[0;31mTypeError\u001b[0m: len() of unsized object"
     ]
    }
   ],
   "source": [
    "import numpy as np\n",
    "count_by_rating = ratings.countByValue()\n",
    "x_axis = np.array(count_by_rating.keys())\n",
    "y_axis = np.array([float(c) for c in count_by_rating.values()])\n",
    "y_axis_normed = y_axis/y_axis.sum()\n",
    "pos = np.arange(len(x_axis))\n",
    "width = 1.0\n",
    "ax = plt.axes()\n",
    "ax.set_xticks(pos+(width/2))\n",
    "ax.set_xticklabels(x_axis)\n",
    "\n",
    "plt.bar(pos, y_axis_normed, width, color='lightblue')\n",
    "plt.xticks(rotation=30)\n",
    "fig = plt.gcf()\n",
    "fig.set_size_inches(12,6)\n",
    "plt.show()"
   ]
  },
  {
   "cell_type": "code",
   "execution_count": 40,
   "metadata": {},
   "outputs": [
    {
     "ename": "SyntaxError",
     "evalue": "invalid syntax (<ipython-input-40-9c1338297ce0>, line 3)",
     "output_type": "error",
     "traceback": [
      "\u001b[0;36m  File \u001b[0;32m\"<ipython-input-40-9c1338297ce0>\"\u001b[0;36m, line \u001b[0;32m3\u001b[0m\n\u001b[0;31m    user_rating_byuser = user_ratings_grouped.map(lambda (k,v):(k,len(v)))\u001b[0m\n\u001b[0m                                                         ^\u001b[0m\n\u001b[0;31mSyntaxError\u001b[0m\u001b[0;31m:\u001b[0m invalid syntax\n"
     ]
    }
   ],
   "source": [
    "#计算每个用户和其对应的评价次数\n",
    "user_ratings_grouped = rating_data.map(lambda fields:(int(fields[0]),int(fields[2]))).groupByKey()\n",
    "user_rating_byuser = user_ratings_grouped.map(lambda (k,v):(k,len(v)))\n",
    "user_rating_byuser.take(5)\n",
    "user_ratings_byuser_local = user_rating_byuser.map(lambda (k,v):v).collect()\n",
    "hist(user_ratings_byuser_local, bins=200, color = 'lightblue',normed = True)\n",
    "fig = plt.gcf()\n",
    "fig.set_size_inches(12,6)\n",
    "plt.show()"
   ]
  },
  {
   "cell_type": "code",
   "execution_count": 41,
   "metadata": {},
   "outputs": [
    {
     "ename": "SyntaxError",
     "evalue": "invalid syntax (<ipython-input-41-c33ee820033d>, line 3)",
     "output_type": "error",
     "traceback": [
      "\u001b[0;36m  File \u001b[0;32m\"<ipython-input-41-c33ee820033d>\"\u001b[0;36m, line \u001b[0;32m3\u001b[0m\n\u001b[0;31m    movie_ratings_byuser = movie_ratings_group.map(lambda (k,v):(k,len(v)))\u001b[0m\n\u001b[0m                                                          ^\u001b[0m\n\u001b[0;31mSyntaxError\u001b[0m\u001b[0;31m:\u001b[0m invalid syntax\n"
     ]
    }
   ],
   "source": [
    "# 为每部电影计算他的被评论的次数\n",
    "movie_ratings_group = rating_data.map(lambda fields: (int(fields[1]),int(fields[2]))).groupByKey()\n",
    "movie_ratings_byuser = movie_ratings_group.map(lambda (k,v):(k,len(v)))\n",
    "print movie_ratings_byuser.take(5)\n",
    "\n",
    "# 绘制电影评论次数分布图：\n",
    "movie_ratings_byuser_local = movie_ratings_byuser.map(lambda (k,v):v).collect()\n",
    "hist(movie_ratings_byuser_local,bins=200,color='lightblue',normed=True)\n",
    "fig = plt.gcf()\n",
    "fig.set_size_inches(12,6)\n",
    "plt.show()"
   ]
  },
  {
   "cell_type": "code",
   "execution_count": null,
   "metadata": {
    "collapsed": true
   },
   "outputs": [],
   "source": []
  }
 ],
 "metadata": {
  "kernelspec": {
   "display_name": "Python 3",
   "language": "python",
   "name": "python3"
  },
  "language_info": {
   "codemirror_mode": {
    "name": "ipython",
    "version": 3
   },
   "file_extension": ".py",
   "mimetype": "text/x-python",
   "name": "python",
   "nbconvert_exporter": "python",
   "pygments_lexer": "ipython3",
   "version": "3.6.5"
  },
  "toc": {
   "base_numbering": 1,
   "nav_menu": {},
   "number_sections": true,
   "sideBar": true,
   "skip_h1_title": false,
   "title_cell": "Table of Contents",
   "title_sidebar": "Contents",
   "toc_cell": false,
   "toc_position": {
    "height": "494px",
    "left": "68px",
    "top": "106.867px",
    "width": "213px"
   },
   "toc_section_display": true,
   "toc_window_display": true
  }
 },
 "nbformat": 4,
 "nbformat_minor": 1
}
