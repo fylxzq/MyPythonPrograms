{
 "cells": [
  {
   "cell_type": "code",
   "execution_count": 1,
   "metadata": {},
   "outputs": [
    {
     "name": "stdout",
     "output_type": "stream",
     "text": [
      "0    6\n",
      "1    9\n",
      "2    6\n",
      "3    1\n",
      "4    1\n",
      "dtype: int32 \n",
      "\n",
      "6 \n",
      "\n",
      "1    9\n",
      "2    6\n",
      "dtype: int32 \n",
      "\n",
      "0    6\n",
      "2    6\n",
      "4    1\n",
      "dtype: int32 \n",
      "\n"
     ]
    }
   ],
   "source": [
    "import numpy as np\n",
    "import pandas as pd\n",
    "np.random.seed(1);\n",
    "s1 = pd.Series(np.random.randint(size=5,low=1,high=10))\n",
    "print(s1,'\\n')\n",
    "print(s1[0],'\\n')\n",
    "print(s1[1:3],'\\n')\n",
    "print(s1[::2],'\\n')\n"
   ]
  },
  {
   "cell_type": "code",
   "execution_count": 13,
   "metadata": {},
   "outputs": [
    {
     "name": "stdout",
     "output_type": "stream",
     "text": [
      "0    84\n",
      "1    41\n",
      "2    74\n",
      "3    55\n",
      "4    32\n",
      "dtype: int32\n",
      "0    84\n",
      "2    74\n",
      "dtype: int32\n"
     ]
    },
    {
     "data": {
      "text/plain": [
       "Series([], dtype: int32)"
      ]
     },
     "execution_count": 13,
     "metadata": {},
     "output_type": "execute_result"
    }
   ],
   "source": [
    "import numpy as np \n",
    "import pandas as pd \n",
    "np.random.seed(23)\n",
    "s1 = pd.Series(np.random.randint(size=5,low=1,high=100))\n",
    "print(s1)\n",
    "#取出大于等于70的值\n",
    "print(s1[s1>=70])\n",
    "#取出40 50之间的值\n",
    "s1[s1>=40][s1<-50]\n"
   ]
  },
  {
   "cell_type": "code",
   "execution_count": null,
   "metadata": {},
   "outputs": [],
   "source": []
  }
 ],
 "metadata": {
  "kernelspec": {
   "display_name": "Python 3",
   "language": "python",
   "name": "python3"
  },
  "language_info": {
   "codemirror_mode": {
    "name": "ipython",
    "version": 3
   },
   "file_extension": ".py",
   "mimetype": "text/x-python",
   "name": "python",
   "nbconvert_exporter": "python",
   "pygments_lexer": "ipython3",
   "version": "3.6.5"
  },
  "toc": {
   "base_numbering": 1,
   "nav_menu": {},
   "number_sections": true,
   "sideBar": true,
   "skip_h1_title": false,
   "title_cell": "Table of Contents",
   "title_sidebar": "Contents",
   "toc_cell": false,
   "toc_position": {},
   "toc_section_display": true,
   "toc_window_display": false
  }
 },
 "nbformat": 4,
 "nbformat_minor": 2
}
