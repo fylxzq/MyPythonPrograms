{
 "cells": [
  {
   "cell_type": "code",
   "execution_count": 23,
   "metadata": {},
   "outputs": [],
   "source": [
    "import re\n",
    "import os"
   ]
  },
  {
   "cell_type": "code",
   "execution_count": 32,
   "metadata": {},
   "outputs": [],
   "source": [
    "import re\n",
    "import os\n",
    "import importlib\n",
    "import sys\n",
    "import time\n",
    " \n",
    "importlib.reload(sys)\n",
    "time1 = time.time()\n",
    "\n",
    " \n",
    "import os.path\n",
    "from pdfminer.pdfparser import  PDFParser,PDFDocument\n",
    "from pdfminer.pdfinterp import PDFResourceManager, PDFPageInterpreter\n",
    "from pdfminer.converter import PDFPageAggregator\n",
    "from pdfminer.layout import LTTextBoxHorizontal,LAParams\n",
    "from pdfminer.pdfinterp import PDFTextExtractionNotAllowed\n",
    " \n",
    "text_path = r'words-words.pdf'\n",
    " \n",
    "def parse(path):\n",
    "    fp = open(\"2016-/\"+path,'rb')\n",
    "    parser = PDFParser(fp)\n",
    "    doc = PDFDocument()\n",
    "    parser.set_document(doc)\n",
    "    doc.set_parser(parser)\n",
    " \n",
    "    doc.initialize()\n",
    " \n",
    "    if not doc.is_extractable:\n",
    "        raise PDFTextExtractionNotAllowed\n",
    "    else:\n",
    "        rsrcmgr = PDFResourceManager()\n",
    "        laparams = LAParams()\n",
    "        device = PDFPageAggregator(rsrcmgr,laparams=laparams)\n",
    "        interpreter = PDFPageInterpreter(rsrcmgr,device)\n",
    " \n",
    "        strs = \"\"\n",
    "        for page in doc.get_pages():\n",
    "            interpreter.process_page(page)\n",
    "            layout = device.get_result()\n",
    "            \n",
    "            for x in layout:\n",
    "                   if(isinstance(x,LTTextBoxHorizontal)):\n",
    "                        #with open(r'2.txt','a') as f:\n",
    "                        results = x.get_text()\n",
    "                        strs += results\n",
    "        return strs.replace(\"\\n\",\"\").replace(\" \",\"\")\n",
    "    \n",
    "def getdata(strs):\n",
    "    pattern = \"trips.*?was(.*?)miles\"\n",
    "    rst = re.findall(pattern,strs,re.S)\n",
    "    return rst\n",
    "    \n",
    "    \n",
    "if __name__ == '__main__':\n",
    "    files = os.listdir(\"2016-\")\n",
    "    for i in files[:1]:\n",
    "        strs = parse(i)\n",
    "        print(strs)\n",
    "        rst = getdata(strs)\n",
    "        print(rst)"
   ]
  },
  {
   "cell_type": "code",
   "execution_count": 44,
   "metadata": {},
   "outputs": [
    {
     "name": "stderr",
     "output_type": "stream",
     "text": [
      "WARNING:root:Parser index out of bounds\n",
      "WARNING:root:Parser index out of bounds\n"
     ]
    },
    {
     "name": "stdout",
     "output_type": "stream",
     "text": [
      "ps was 862931 2016-01\n"
     ]
    },
    {
     "name": "stderr",
     "output_type": "stream",
     "text": [
      "WARNING:root:Cannot locate objid=467\n"
     ]
    },
    {
     "name": "stdout",
     "output_type": "stream",
     "text": [
      " 993521 2016-02\n",
      "177933 2016-03\n"
     ]
    },
    {
     "name": "stderr",
     "output_type": "stream",
     "text": [
      "WARNING:root:Cannot locate objid=518\n"
     ]
    },
    {
     "name": "stdout",
     "output_type": "stream",
     "text": [
      "343204 2016-06\n",
      "335956 2016-10\n",
      "\t1732563 2016-12\n",
      "\t1606368 2017-01\n",
      "\t1987851 2017-02\n",
      "\t1727669 2017-03\n",
      "\t3803981 2017-05\n",
      "412620 2017-06\n",
      "423427 2017-07\n",
      "\t4360292 2017-08\n",
      "432099 2017-09\n",
      "406234 2017-10\n",
      "267375 2017-11\n",
      "181415 2017-12\n",
      "141000 2018-01\n",
      "174946 2018-02\n",
      "207991 2018-03\n",
      "312419 2018-04\n",
      "443801 2018-05\n",
      "359047 2018-06\n",
      "353282 2018-07\n",
      "354961 2018-08\n",
      "337002 2018-09\n"
     ]
    }
   ],
   "source": [
    "files = os.listdir(\"2016-\")\n",
    "lst = []\n",
    "for i in files:\n",
    "    ym = i.split(\".\")[0]\n",
    "    strs = parse(i)\n",
    "    rst = getdata(strs)\n",
    "    print(rst[0][-15:-1].replace(\",\",\"\"),ym)"
   ]
  },
  {
   "cell_type": "code",
   "execution_count": 188,
   "metadata": {},
   "outputs": [
    {
     "name": "stdout",
     "output_type": "stream",
     "text": [
      " 1.69 \n",
      " 1.77 \n",
      "1.93\n",
      "2.35\n",
      "2.13\n",
      "\t2.15\t\n",
      "\t2.22\t\n",
      "\t2.54\t\n",
      "\t2.39\t\n",
      "\t2.50\t\n",
      "2.38\n",
      "2.44\n",
      "\t2.40\t\n",
      "2.30\n",
      "2.14\n",
      "2.01\n",
      "2.04\n",
      "1.96\n",
      "2.08\n",
      "2.13\n",
      "2.39\n",
      "2.39\n",
      "1.84\n",
      "1.85\n",
      "1.80\n",
      "1.80\n"
     ]
    }
   ],
   "source": [
    "for i in lst:\n",
    "    for j in i:\n",
    "        print(j.strip(\"\\n\"))"
   ]
  }
 ],
 "metadata": {
  "kernelspec": {
   "display_name": "Python 3",
   "language": "python",
   "name": "python3"
  },
  "language_info": {
   "codemirror_mode": {
    "name": "ipython",
    "version": 3
   },
   "file_extension": ".py",
   "mimetype": "text/x-python",
   "name": "python",
   "nbconvert_exporter": "python",
   "pygments_lexer": "ipython3",
   "version": "3.6.5"
  }
 },
 "nbformat": 4,
 "nbformat_minor": 2
}
