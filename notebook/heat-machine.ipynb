{
 "cells": [
  {
   "cell_type": "code",
   "execution_count": 1,
   "metadata": {},
   "outputs": [],
   "source": [
    "from pyspark import SparkContext,SparkConf\n",
    "from  pyspark.sql import SparkSession\n",
    "from pyspark.ml.stat import Correlation"
   ]
  },
  {
   "cell_type": "code",
   "execution_count": 2,
   "metadata": {},
   "outputs": [
    {
     "data": {
      "text/html": [
       "\n",
       "            <div>\n",
       "                <p><b>SparkSession - hive</b></p>\n",
       "                \n",
       "        <div>\n",
       "            <p><b>SparkContext</b></p>\n",
       "\n",
       "            <p><a href=\"http://192.168.42.163:4040\">Spark UI</a></p>\n",
       "\n",
       "            <dl>\n",
       "              <dt>Version</dt>\n",
       "                <dd><code>v2.2.1</code></dd>\n",
       "              <dt>Master</dt>\n",
       "                <dd><code>local[*]</code></dd>\n",
       "              <dt>AppName</dt>\n",
       "                <dd><code>PySparkShell</code></dd>\n",
       "            </dl>\n",
       "        </div>\n",
       "        \n",
       "            </div>\n",
       "        "
      ],
      "text/plain": [
       "<pyspark.sql.session.SparkSession at 0x239cb645e80>"
      ]
     },
     "execution_count": 2,
     "metadata": {},
     "output_type": "execute_result"
    }
   ],
   "source": [
    "spark"
   ]
  },
  {
   "cell_type": "code",
   "execution_count": 3,
   "metadata": {},
   "outputs": [],
   "source": [
    "row_df = spark.read.format(\"csv\").option(\"header\",\"true\").option(\"delimiter\",\",\").option('inferschema','true').load(\"inputData/new_game_records.csv\")"
   ]
  },
  {
   "cell_type": "code",
   "execution_count": 4,
   "metadata": {},
   "outputs": [
    {
     "name": "stdout",
     "output_type": "stream",
     "text": [
      "+----------+-------+-------+-------+------------+-------+-------+-------+----+-----+\n",
      "|hosteam_id|h_rates|hc_rate|h_stars|visitteam_id|v_rates|vc_rate|v_stars|gaps|label|\n",
      "+----------+-------+-------+-------+------------+-------+-------+-------+----+-----+\n",
      "|         2|   67.1|   55.7|      1|           1|   81.7|   78.6|      4|   0|    0|\n",
      "|         2|   67.1|   55.7|      1|           1|   81.7|   78.6|      4|   0|    0|\n",
      "|         3|   62.2|   54.3|      2|           1|   81.7|   78.6|      4|  -2|    0|\n",
      "|         4|   64.6|   54.9|      1|           1|   81.7|   78.6|      4|   0|    0|\n",
      "|         5|   50.0|   51.2|      0|           1|   81.7|   78.6|      4|   1|    0|\n",
      "|         5|   50.0|   51.2|      0|           1|   81.7|   78.6|      4|   1|    0|\n",
      "|         6|   34.1|   36.0|      0|           1|   81.7|   78.6|      4|   0|    0|\n",
      "|         7|   57.3|   60.3|      1|           1|   81.7|   78.6|      4|   1|    0|\n",
      "|         7|   57.3|   60.3|      1|           1|   81.7|   78.6|      4|   0|    0|\n",
      "|         8|   51.2|   52.4|      1|           1|   81.7|   78.6|      4|  -1|    0|\n",
      "+----------+-------+-------+-------+------------+-------+-------+-------+----+-----+\n",
      "only showing top 10 rows\n",
      "\n"
     ]
    }
   ],
   "source": [
    "row_df.show(10)"
   ]
  },
  {
   "cell_type": "code",
   "execution_count": 7,
   "metadata": {},
   "outputs": [],
   "source": [
    "from pyspark.ml.feature import VectorAssembler\n",
    "from pyspark.ml.evaluation import BinaryClassificationEvaluator\n",
    "from pyspark.ml.classification import RandomForestClassifier\n",
    "from pyspark.ml import Pipeline\n",
    "from pyspark.ml.tuning import TrainValidationSplit\n",
    "from pyspark.ml.tuning import ParamGridBuilder"
   ]
  },
  {
   "cell_type": "code",
   "execution_count": 8,
   "metadata": {},
   "outputs": [],
   "source": [
    "assemblers_input = row_df.columns[:-1]"
   ]
  },
  {
   "cell_type": "code",
   "execution_count": 14,
   "metadata": {},
   "outputs": [
    {
     "data": {
      "text/plain": [
       "0.737792833473056"
      ]
     },
     "execution_count": 14,
     "metadata": {},
     "output_type": "execute_result"
    }
   ],
   "source": [
    "train_df,test_df = row_df.randomSplit([0.7,0.3])\n",
    "startTime = time()\n",
    "assemblers_input = row_df.columns[:-1]\n",
    "assembers = VectorAssembler(inputCols=assemblers_input,outputCol='features')\n",
    "rf = RandomForestClassifier(labelCol='label',featuresCol='features')\n",
    "evaluator = BinaryClassificationEvaluator(rawPredictionCol=\"rawPrediction\",labelCol=\"label\",metricName=\"areaUnderROC\")\n",
    "rfvs = Pipeline(stages=[assembers,rf])\n",
    "rfvs_model = rfvs.fit(train_df)\n",
    "predict = rfvs_model.transform(test_df)\n",
    "evaluator.evaluate(predict)"
   ]
  },
  {
   "cell_type": "code",
   "execution_count": 15,
   "metadata": {},
   "outputs": [
    {
     "data": {
      "text/plain": [
       "0.737792833473056"
      ]
     },
     "execution_count": 15,
     "metadata": {},
     "output_type": "execute_result"
    }
   ],
   "source": [
    "evaluator.evaluate(predict)"
   ]
  },
  {
   "cell_type": "code",
   "execution_count": 16,
   "metadata": {},
   "outputs": [],
   "source": [
    "from time import time\n",
    "def get_accuracy(parmmeter_name,parameter):\n",
    "    startTime = time()\n",
    "    assemblers_input = row_df.columns[:-1]\n",
    "    assembers = VectorAssembler(inputCols=assemblers_input,outputCol='features')\n",
    "    if(parmmeter_name=='impurity'):\n",
    "        rf = RandomForestClassifier(labelCol='label',featuresCol='features',impurity=parameter)\n",
    "    elif(parmmeter_name=='maxDepth'):\n",
    "        rf = RandomForestClassifier(labelCol='label',featuresCol='features',maxDepth=parameter)\n",
    "    else:\n",
    "        rf = RandomForestClassifier(labelCol='label',featuresCol='features',maxBins=parameter)\n",
    "    evaluator = BinaryClassificationEvaluator(rawPredictionCol=\"rawPrediction\",labelCol=\"label\",metricName=\"areaUnderROC\")\n",
    "    rfvs = Pipeline(stages=[assembers,rf])\n",
    "    rfvs_model = rfvs.fit(train_df)\n",
    "    durtion = time()- startTime\n",
    "    predict = rfvs_model.transform(test_df)\n",
    "    accuracy = evaluator.evaluate(predict)\n",
    "    return [dution,accuracy,parameter]"
   ]
  },
  {
   "cell_type": "code",
   "execution_count": 67,
   "metadata": {},
   "outputs": [],
   "source": [
    "import matplotlib.pyplot as plt\n",
    "def showchart(df,evalparm,barData,lineData,yMIn,ymax):\n",
    "    ax = df[barData].plot(kind='bar',title=evalparm,legend=True,fontsize=12)\n",
    "    ax.set_xlabel(evalparm,fontsize=12)\n",
    "    ax.set_ylabel(barData,fontsize=12)\n",
    "    ax2 = ax.twinx()\n",
    "    ax2.plot(df[lineData].values,marker='o',linewidth=2.0,color='r')\n",
    "    plt.show()"
   ]
  },
  {
   "cell_type": "code",
   "execution_count": 11,
   "metadata": {},
   "outputs": [],
   "source": [
    "datas1 = [test_model('impurity',i) for i in ['entropy','gini']]"
   ]
  },
  {
   "cell_type": "code",
   "execution_count": 62,
   "metadata": {},
   "outputs": [],
   "source": [
    "import pandas as pd\n",
    "df1 = pd.DataFrame(datas1,columns=['durtion','AUC','impurity'],index=['entroy','gini'])"
   ]
  },
  {
   "cell_type": "code",
   "execution_count": 83,
   "metadata": {},
   "outputs": [
    {
     "data": {
      "image/png": "[encoded data removed]",
      "text/plain": [
       "<Figure size 432x288 with 2 Axes>"
      ]
     },
     "metadata": {},
     "output_type": "display_data"
    }
   ],
   "source": [
    "showchart(df,'impurity','AUC','durtion',0,1)"
   ]
  },
  {
   "cell_type": "code",
   "execution_count": 72,
   "metadata": {},
   "outputs": [],
   "source": [
    "df2 = pd.DataFrame([test_model('maxBin',i) for i in [5,10,25,50,100]],columns=['durtion','AUC','maxBin'],index=[5,10,25,50,100])"
   ]
  },
  {
   "cell_type": "code",
   "execution_count": 86,
   "metadata": {},
   "outputs": [
    {
     "data": {
      "image/png": "[encoded data removed]",
      "text/plain": [
       "<Figure size 432x288 with 2 Axes>"
      ]
     },
     "metadata": {},
     "output_type": "display_data"
    }
   ],
   "source": [
    "showchart(df2,'maxBin',\"AUC\",'durtion',0,1)"
   ]
  },
  {
   "cell_type": "code",
   "execution_count": 79,
   "metadata": {},
   "outputs": [],
   "source": [
    "df3 = pd.DataFrame([test_model('maxDepth',i) for i in [3,5,15,20,25]],columns=['durtion','AUC','maxDepth'],index=[3,5,15,20,25])"
   ]
  },
  {
   "cell_type": "code",
   "execution_count": 87,
   "metadata": {},
   "outputs": [
    {
     "data": {
      "image/png": "[encoded data removed]",
      "text/plain": [
       "<Figure size 432x288 with 2 Axes>"
      ]
     },
     "metadata": {},
     "output_type": "display_data"
    }
   ],
   "source": [
    "showchart(df3,'maxDepth','AUC','durtion',0,1)"
   ]
  },
  {
   "cell_type": "code",
   "execution_count": null,
   "metadata": {},
   "outputs": [],
   "source": []
  }
 ],
 "metadata": {
  "kernelspec": {
   "display_name": "Python 3",
   "language": "python",
   "name": "python3"
  },
  "language_info": {
   "codemirror_mode": {
    "name": "ipython",
    "version": 3
   },
   "file_extension": ".py",
   "mimetype": "text/x-python",
   "name": "python",
   "nbconvert_exporter": "python",
   "pygments_lexer": "ipython3",
   "version": "3.6.5"
  },
  "toc": {
   "base_numbering": 1,
   "nav_menu": {},
   "number_sections": true,
   "sideBar": true,
   "skip_h1_title": false,
   "title_cell": "Table of Contents",
   "title_sidebar": "Contents",
   "toc_cell": false,
   "toc_position": {},
   "toc_section_display": true,
   "toc_window_display": false
  }
 },
 "nbformat": 4,
 "nbformat_minor": 2
}
