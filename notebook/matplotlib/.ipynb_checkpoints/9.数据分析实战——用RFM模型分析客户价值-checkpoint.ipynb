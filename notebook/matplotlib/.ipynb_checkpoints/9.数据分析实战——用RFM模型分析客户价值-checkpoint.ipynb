{
 "cells": [
  {
   "cell_type": "code",
   "execution_count": 2,
   "metadata": {
    "collapsed": true
   },
   "outputs": [],
   "source": [
    "import pandas as pd\n",
    "import matplotlib.pyplot as plt\n",
    "import numpy as np\n",
    "%matplotlib inline"
   ]
  },
  {
   "cell_type": "markdown",
   "metadata": {},
   "source": [
    "更多的matplotlib知识可以去官网看看"
   ]
  },
  {
   "cell_type": "markdown",
   "metadata": {},
   "source": [
    "http://matplotlib.org/"
   ]
  },
  {
   "cell_type": "markdown",
   "metadata": {},
   "source": [
    "导入数据"
   ]
  },
  {
   "cell_type": "code",
   "execution_count": 22,
   "metadata": {},
   "outputs": [
    {
     "data": {
      "text/html": [
       "<div>\n",
       "<style>\n",
       "    .dataframe thead tr:only-child th {\n",
       "        text-align: right;\n",
       "    }\n",
       "\n",
       "    .dataframe thead th {\n",
       "        text-align: left;\n",
       "    }\n",
       "\n",
       "    .dataframe tbody tr th {\n",
       "        vertical-align: top;\n",
       "    }\n",
       "</style>\n",
       "<table border=\"1\" class=\"dataframe\">\n",
       "  <thead>\n",
       "    <tr style=\"text-align: right;\">\n",
       "      <th></th>\n",
       "      <th>顾客</th>\n",
       "      <th>购买日期</th>\n",
       "      <th>数量</th>\n",
       "      <th>购买总金额</th>\n",
       "    </tr>\n",
       "  </thead>\n",
       "  <tbody>\n",
       "    <tr>\n",
       "      <th>0</th>\n",
       "      <td>C3</td>\n",
       "      <td>2017-09-28</td>\n",
       "      <td>1</td>\n",
       "      <td>16.99</td>\n",
       "    </tr>\n",
       "    <tr>\n",
       "      <th>1</th>\n",
       "      <td>C5</td>\n",
       "      <td>2017-05-03</td>\n",
       "      <td>3</td>\n",
       "      <td>37.47</td>\n",
       "    </tr>\n",
       "    <tr>\n",
       "      <th>2</th>\n",
       "      <td>C7</td>\n",
       "      <td>2017-07-22</td>\n",
       "      <td>9</td>\n",
       "      <td>138.50</td>\n",
       "    </tr>\n",
       "    <tr>\n",
       "      <th>3</th>\n",
       "      <td>C8</td>\n",
       "      <td>2017-07-29</td>\n",
       "      <td>2</td>\n",
       "      <td>24.46</td>\n",
       "    </tr>\n",
       "    <tr>\n",
       "      <th>4</th>\n",
       "      <td>C9</td>\n",
       "      <td>2017-10-08</td>\n",
       "      <td>2</td>\n",
       "      <td>41.98</td>\n",
       "    </tr>\n",
       "  </tbody>\n",
       "</table>\n",
       "</div>"
      ],
      "text/plain": [
       "   顾客       购买日期  数量   购买总金额\n",
       "0  C3 2017-09-28   1   16.99\n",
       "1  C5 2017-05-03   3   37.47\n",
       "2  C7 2017-07-22   9  138.50\n",
       "3  C8 2017-07-29   2   24.46\n",
       "4  C9 2017-10-08   2   41.98"
      ]
     },
     "execution_count": 22,
     "metadata": {},
     "output_type": "execute_result"
    }
   ],
   "source": [
    "df = pd.read_excel(\"customer.xlsx\",encoding=\"gbk\")\n",
    "df.head()"
   ]
  },
  {
   "cell_type": "markdown",
   "metadata": {},
   "source": [
    "检查数据"
   ]
  },
  {
   "cell_type": "code",
   "execution_count": 4,
   "metadata": {},
   "outputs": [
    {
     "name": "stdout",
     "output_type": "stream",
     "text": [
      "<class 'pandas.core.frame.DataFrame'>\n",
      "RangeIndex: 12757 entries, 0 to 12756\n",
      "Data columns (total 4 columns):\n",
      "顾客       12757 non-null object\n",
      "购买日期     12757 non-null datetime64[ns]\n",
      "数量       12757 non-null int64\n",
      "购买总金额    12757 non-null float64\n",
      "dtypes: datetime64[ns](1), float64(1), int64(1), object(1)\n",
      "memory usage: 398.7+ KB\n"
     ]
    }
   ],
   "source": [
    "df.info()"
   ]
  },
  {
   "cell_type": "markdown",
   "metadata": {},
   "source": [
    "没有缺失值，很干净的数据"
   ]
  },
  {
   "cell_type": "markdown",
   "metadata": {},
   "source": [
    "# 通过RFM模型分析客户价值"
   ]
  },
  {
   "cell_type": "markdown",
   "metadata": {},
   "source": [
    "### 任务模块1：计算每个客户的R（最近一次交易距离至今的天数）"
   ]
  },
  {
   "cell_type": "code",
   "execution_count": 23,
   "metadata": {
    "collapsed": true
   },
   "outputs": [],
   "source": [
    "from datetime import datetime"
   ]
  },
  {
   "cell_type": "code",
   "execution_count": 24,
   "metadata": {},
   "outputs": [],
   "source": [
    "#计算每个顾客的最近一次交易日期\n",
    "df_groupedR = df.groupby(\"顾客\").max()[[\"购买日期\"]]\n",
    "df_groupedR.rename(columns={\"购买日期\":\"最后交易日期\"},inplace=True)\n",
    "#计算最后一次交易距离至今的天数\n",
    "df_groupedR[\"最后一次交易距离天数\"] = datetime.now()-df_groupedR[\"最后交易日期\"]\n",
    "df_groupedR[\"最后一次交易距离天数\"] = df_groupedR[\"最后一次交易距离天数\"].apply(lambda x:x.days)"
   ]
  },
  {
   "cell_type": "code",
   "execution_count": 25,
   "metadata": {
    "scrolled": true
   },
   "outputs": [
    {
     "data": {
      "text/html": [
       "<div>\n",
       "<style>\n",
       "    .dataframe thead tr:only-child th {\n",
       "        text-align: right;\n",
       "    }\n",
       "\n",
       "    .dataframe thead th {\n",
       "        text-align: left;\n",
       "    }\n",
       "\n",
       "    .dataframe tbody tr th {\n",
       "        vertical-align: top;\n",
       "    }\n",
       "</style>\n",
       "<table border=\"1\" class=\"dataframe\">\n",
       "  <thead>\n",
       "    <tr style=\"text-align: right;\">\n",
       "      <th></th>\n",
       "      <th>最后交易日期</th>\n",
       "      <th>最后一次交易距离天数</th>\n",
       "    </tr>\n",
       "    <tr>\n",
       "      <th>顾客</th>\n",
       "      <th></th>\n",
       "      <th></th>\n",
       "    </tr>\n",
       "  </thead>\n",
       "  <tbody>\n",
       "    <tr>\n",
       "      <th>C100</th>\n",
       "      <td>2017-08-20</td>\n",
       "      <td>96</td>\n",
       "    </tr>\n",
       "    <tr>\n",
       "      <th>C10018</th>\n",
       "      <td>2017-09-08</td>\n",
       "      <td>77</td>\n",
       "    </tr>\n",
       "    <tr>\n",
       "      <th>C1002</th>\n",
       "      <td>2017-09-07</td>\n",
       "      <td>78</td>\n",
       "    </tr>\n",
       "    <tr>\n",
       "      <th>C10026</th>\n",
       "      <td>2017-08-02</td>\n",
       "      <td>114</td>\n",
       "    </tr>\n",
       "    <tr>\n",
       "      <th>C10027</th>\n",
       "      <td>2017-08-23</td>\n",
       "      <td>93</td>\n",
       "    </tr>\n",
       "  </tbody>\n",
       "</table>\n",
       "</div>"
      ],
      "text/plain": [
       "           最后交易日期  最后一次交易距离天数\n",
       "顾客                           \n",
       "C100   2017-08-20          96\n",
       "C10018 2017-09-08          77\n",
       "C1002  2017-09-07          78\n",
       "C10026 2017-08-02         114\n",
       "C10027 2017-08-23          93"
      ]
     },
     "execution_count": 25,
     "metadata": {},
     "output_type": "execute_result"
    }
   ],
   "source": [
    "df_groupedR.head()"
   ]
  },
  {
   "cell_type": "markdown",
   "metadata": {},
   "source": [
    "### 任务模块2：通过R可以客户打分"
   ]
  },
  {
   "cell_type": "markdown",
   "metadata": {},
   "source": [
    "业务逻辑：\n",
    "1. 最后一次交易在30天以内的客户可以得5分\n",
    "2. 最后一次交易在60天以内30天以上的客户可以得4分\n",
    "3. 最后一次交易在90天以内60天以上的客户可以得3分\n",
    "4. 最后一次交易在120天以内90天以上的客户可以得2分\n",
    "5. 最后一次交易在120天以上的客户可以得1分"
   ]
  },
  {
   "cell_type": "markdown",
   "metadata": {},
   "source": [
    "这里划分的标准是没有固定的，因为每个行业每个公司是不一样的，要根据实际情况来划分，这个就看个人的业务理解了"
   ]
  },
  {
   "cell_type": "markdown",
   "metadata": {},
   "source": [
    "根据业务逻辑创建一个通过R给客户打分的函数"
   ]
  },
  {
   "cell_type": "code",
   "execution_count": 26,
   "metadata": {
    "collapsed": true
   },
   "outputs": [],
   "source": [
    "def customer_Rscore(days):\n",
    "    if days <= 30:\n",
    "        return 5\n",
    "    elif days <= 60:\n",
    "        return 4\n",
    "    elif days <= 90:\n",
    "        return 3\n",
    "    elif days <= 120:\n",
    "        return 2\n",
    "    else:\n",
    "        return 1"
   ]
  },
  {
   "cell_type": "code",
   "execution_count": 27,
   "metadata": {},
   "outputs": [
    {
     "data": {
      "text/html": [
       "<div>\n",
       "<style>\n",
       "    .dataframe thead tr:only-child th {\n",
       "        text-align: right;\n",
       "    }\n",
       "\n",
       "    .dataframe thead th {\n",
       "        text-align: left;\n",
       "    }\n",
       "\n",
       "    .dataframe tbody tr th {\n",
       "        vertical-align: top;\n",
       "    }\n",
       "</style>\n",
       "<table border=\"1\" class=\"dataframe\">\n",
       "  <thead>\n",
       "    <tr style=\"text-align: right;\">\n",
       "      <th></th>\n",
       "      <th>最后交易日期</th>\n",
       "      <th>最后一次交易距离天数</th>\n",
       "      <th>R分数</th>\n",
       "    </tr>\n",
       "    <tr>\n",
       "      <th>顾客</th>\n",
       "      <th></th>\n",
       "      <th></th>\n",
       "      <th></th>\n",
       "    </tr>\n",
       "  </thead>\n",
       "  <tbody>\n",
       "    <tr>\n",
       "      <th>C100</th>\n",
       "      <td>2017-08-20</td>\n",
       "      <td>96</td>\n",
       "      <td>2</td>\n",
       "    </tr>\n",
       "    <tr>\n",
       "      <th>C10018</th>\n",
       "      <td>2017-09-08</td>\n",
       "      <td>77</td>\n",
       "      <td>3</td>\n",
       "    </tr>\n",
       "    <tr>\n",
       "      <th>C1002</th>\n",
       "      <td>2017-09-07</td>\n",
       "      <td>78</td>\n",
       "      <td>3</td>\n",
       "    </tr>\n",
       "    <tr>\n",
       "      <th>C10026</th>\n",
       "      <td>2017-08-02</td>\n",
       "      <td>114</td>\n",
       "      <td>2</td>\n",
       "    </tr>\n",
       "    <tr>\n",
       "      <th>C10027</th>\n",
       "      <td>2017-08-23</td>\n",
       "      <td>93</td>\n",
       "      <td>2</td>\n",
       "    </tr>\n",
       "  </tbody>\n",
       "</table>\n",
       "</div>"
      ],
      "text/plain": [
       "           最后交易日期  最后一次交易距离天数  R分数\n",
       "顾客                                \n",
       "C100   2017-08-20          96    2\n",
       "C10018 2017-09-08          77    3\n",
       "C1002  2017-09-07          78    3\n",
       "C10026 2017-08-02         114    2\n",
       "C10027 2017-08-23          93    2"
      ]
     },
     "execution_count": 27,
     "metadata": {},
     "output_type": "execute_result"
    }
   ],
   "source": [
    "#创建一个R分数列，根据创建的函数customer_Rscore来给客户打分\n",
    "df_groupedR[\"R分数\"] = df_groupedR[\"最后一次交易距离天数\"].apply(customer_Rscore)\n",
    "df_groupedR.head()"
   ]
  },
  {
   "cell_type": "markdown",
   "metadata": {},
   "source": [
    "可以查看下R每种分数的人数分布"
   ]
  },
  {
   "cell_type": "code",
   "execution_count": 28,
   "metadata": {},
   "outputs": [
    {
     "data": {
      "text/plain": [
       "1    1892\n",
       "4    1420\n",
       "3     923\n",
       "2     784\n",
       "5     355\n",
       "Name: R分数, dtype: int64"
      ]
     },
     "execution_count": 28,
     "metadata": {},
     "output_type": "execute_result"
    }
   ],
   "source": [
    "df_groupedR[\"R分数\"].value_counts()"
   ]
  },
  {
   "cell_type": "markdown",
   "metadata": {},
   "source": [
    "### 任务模块3：计算每个客户的F（累计成交量）"
   ]
  },
  {
   "cell_type": "code",
   "execution_count": 29,
   "metadata": {},
   "outputs": [
    {
     "data": {
      "text/html": [
       "<div>\n",
       "<style>\n",
       "    .dataframe thead tr:only-child th {\n",
       "        text-align: right;\n",
       "    }\n",
       "\n",
       "    .dataframe thead th {\n",
       "        text-align: left;\n",
       "    }\n",
       "\n",
       "    .dataframe tbody tr th {\n",
       "        vertical-align: top;\n",
       "    }\n",
       "</style>\n",
       "<table border=\"1\" class=\"dataframe\">\n",
       "  <thead>\n",
       "    <tr style=\"text-align: right;\">\n",
       "      <th></th>\n",
       "      <th>数量</th>\n",
       "    </tr>\n",
       "    <tr>\n",
       "      <th>顾客</th>\n",
       "      <th></th>\n",
       "    </tr>\n",
       "  </thead>\n",
       "  <tbody>\n",
       "    <tr>\n",
       "      <th>C100</th>\n",
       "      <td>2</td>\n",
       "    </tr>\n",
       "    <tr>\n",
       "      <th>C10018</th>\n",
       "      <td>2</td>\n",
       "    </tr>\n",
       "    <tr>\n",
       "      <th>C1002</th>\n",
       "      <td>2</td>\n",
       "    </tr>\n",
       "    <tr>\n",
       "      <th>C10026</th>\n",
       "      <td>7</td>\n",
       "    </tr>\n",
       "    <tr>\n",
       "      <th>C10027</th>\n",
       "      <td>10</td>\n",
       "    </tr>\n",
       "  </tbody>\n",
       "</table>\n",
       "</div>"
      ],
      "text/plain": [
       "        数量\n",
       "顾客        \n",
       "C100     2\n",
       "C10018   2\n",
       "C1002    2\n",
       "C10026   7\n",
       "C10027  10"
      ]
     },
     "execution_count": 29,
     "metadata": {},
     "output_type": "execute_result"
    }
   ],
   "source": [
    "df_groupedF = df.groupby(\"顾客\").sum()[[\"数量\"]]\n",
    "df_groupedF.head()"
   ]
  },
  {
   "cell_type": "markdown",
   "metadata": {},
   "source": [
    "### 任务模块4：通过F给客户打分"
   ]
  },
  {
   "cell_type": "markdown",
   "metadata": {},
   "source": [
    "业务逻辑：\n",
    "1. 成交量在50个及以上的客户可以得5分\n",
    "2. 成交量在30个及以上50个以内的客户可以得4分\n",
    "3. 成交量在20个及以上30个以内的客户可以得3分\n",
    "4. 成交量在10个及以上20个以内的客户可以得2分\n",
    "5. 最成交量在10个以内的客户可以得1分"
   ]
  },
  {
   "cell_type": "markdown",
   "metadata": {},
   "source": [
    "这里的划分标准也是要看具体业务情况来修改的"
   ]
  },
  {
   "cell_type": "markdown",
   "metadata": {},
   "source": [
    "根据业务逻辑创建一个通过F给客户打分的函数"
   ]
  },
  {
   "cell_type": "code",
   "execution_count": 30,
   "metadata": {
    "collapsed": true
   },
   "outputs": [],
   "source": [
    "def customer_Fscore(count):\n",
    "    if count >= 50:\n",
    "        return 5\n",
    "    elif count >= 30:\n",
    "        return 4\n",
    "    elif count >= 20:\n",
    "        return 3\n",
    "    elif count >= 10:\n",
    "        return 2\n",
    "    else:\n",
    "        return 1"
   ]
  },
  {
   "cell_type": "code",
   "execution_count": 31,
   "metadata": {},
   "outputs": [
    {
     "data": {
      "text/html": [
       "<div>\n",
       "<style>\n",
       "    .dataframe thead tr:only-child th {\n",
       "        text-align: right;\n",
       "    }\n",
       "\n",
       "    .dataframe thead th {\n",
       "        text-align: left;\n",
       "    }\n",
       "\n",
       "    .dataframe tbody tr th {\n",
       "        vertical-align: top;\n",
       "    }\n",
       "</style>\n",
       "<table border=\"1\" class=\"dataframe\">\n",
       "  <thead>\n",
       "    <tr style=\"text-align: right;\">\n",
       "      <th></th>\n",
       "      <th>数量</th>\n",
       "      <th>F分数</th>\n",
       "    </tr>\n",
       "    <tr>\n",
       "      <th>顾客</th>\n",
       "      <th></th>\n",
       "      <th></th>\n",
       "    </tr>\n",
       "  </thead>\n",
       "  <tbody>\n",
       "    <tr>\n",
       "      <th>C100</th>\n",
       "      <td>2</td>\n",
       "      <td>1</td>\n",
       "    </tr>\n",
       "    <tr>\n",
       "      <th>C10018</th>\n",
       "      <td>2</td>\n",
       "      <td>1</td>\n",
       "    </tr>\n",
       "    <tr>\n",
       "      <th>C1002</th>\n",
       "      <td>2</td>\n",
       "      <td>1</td>\n",
       "    </tr>\n",
       "    <tr>\n",
       "      <th>C10026</th>\n",
       "      <td>7</td>\n",
       "      <td>1</td>\n",
       "    </tr>\n",
       "    <tr>\n",
       "      <th>C10027</th>\n",
       "      <td>10</td>\n",
       "      <td>2</td>\n",
       "    </tr>\n",
       "  </tbody>\n",
       "</table>\n",
       "</div>"
      ],
      "text/plain": [
       "        数量  F分数\n",
       "顾客             \n",
       "C100     2    1\n",
       "C10018   2    1\n",
       "C1002    2    1\n",
       "C10026   7    1\n",
       "C10027  10    2"
      ]
     },
     "execution_count": 31,
     "metadata": {},
     "output_type": "execute_result"
    }
   ],
   "source": [
    "#创建一个F分数列，根据创建的函数customer_Fscore来给客户打分\n",
    "df_groupedF[\"F分数\"] = df_groupedF[\"数量\"].apply(customer_Fscore)\n",
    "df_groupedF.head()"
   ]
  },
  {
   "cell_type": "markdown",
   "metadata": {},
   "source": [
    "可以查看下F每种分数的人数分布"
   ]
  },
  {
   "cell_type": "code",
   "execution_count": 32,
   "metadata": {},
   "outputs": [
    {
     "data": {
      "text/plain": [
       "1    4523\n",
       "2     583\n",
       "3     155\n",
       "4      70\n",
       "5      43\n",
       "Name: F分数, dtype: int64"
      ]
     },
     "execution_count": 32,
     "metadata": {},
     "output_type": "execute_result"
    }
   ],
   "source": [
    "df_groupedF[\"F分数\"].value_counts()"
   ]
  },
  {
   "cell_type": "markdown",
   "metadata": {},
   "source": [
    "### 任务模块5：计算M（累计成交金额）"
   ]
  },
  {
   "cell_type": "code",
   "execution_count": 33,
   "metadata": {
    "collapsed": true
   },
   "outputs": [],
   "source": [
    "df_groupedM = df.groupby(\"顾客\").sum()[[\"购买总金额\"]]"
   ]
  },
  {
   "cell_type": "code",
   "execution_count": 34,
   "metadata": {},
   "outputs": [
    {
     "data": {
      "text/html": [
       "<div>\n",
       "<style>\n",
       "    .dataframe thead tr:only-child th {\n",
       "        text-align: right;\n",
       "    }\n",
       "\n",
       "    .dataframe thead th {\n",
       "        text-align: left;\n",
       "    }\n",
       "\n",
       "    .dataframe tbody tr th {\n",
       "        vertical-align: top;\n",
       "    }\n",
       "</style>\n",
       "<table border=\"1\" class=\"dataframe\">\n",
       "  <thead>\n",
       "    <tr style=\"text-align: right;\">\n",
       "      <th></th>\n",
       "      <th>购买总金额</th>\n",
       "    </tr>\n",
       "    <tr>\n",
       "      <th>顾客</th>\n",
       "      <th></th>\n",
       "    </tr>\n",
       "  </thead>\n",
       "  <tbody>\n",
       "    <tr>\n",
       "      <th>C100</th>\n",
       "      <td>28.98</td>\n",
       "    </tr>\n",
       "    <tr>\n",
       "      <th>C10018</th>\n",
       "      <td>23.37</td>\n",
       "    </tr>\n",
       "    <tr>\n",
       "      <th>C1002</th>\n",
       "      <td>15.48</td>\n",
       "    </tr>\n",
       "    <tr>\n",
       "      <th>C10026</th>\n",
       "      <td>123.43</td>\n",
       "    </tr>\n",
       "    <tr>\n",
       "      <th>C10027</th>\n",
       "      <td>122.33</td>\n",
       "    </tr>\n",
       "  </tbody>\n",
       "</table>\n",
       "</div>"
      ],
      "text/plain": [
       "         购买总金额\n",
       "顾客            \n",
       "C100     28.98\n",
       "C10018   23.37\n",
       "C1002    15.48\n",
       "C10026  123.43\n",
       "C10027  122.33"
      ]
     },
     "execution_count": 34,
     "metadata": {},
     "output_type": "execute_result"
    }
   ],
   "source": [
    "df_groupedM.head()"
   ]
  },
  {
   "cell_type": "markdown",
   "metadata": {},
   "source": [
    "### 任务模块6：通过M给客户打分"
   ]
  },
  {
   "cell_type": "markdown",
   "metadata": {},
   "source": [
    "业务逻辑：\n",
    "1. 成交量在2000元及以上的客户可以得5分\n",
    "2. 成交量在1000元及以上2000元以内的客户可以得4分\n",
    "3. 成交量在500元及以上1000元以内的客户可以得3分\n",
    "4. 成交量在100元及以上500元以内的客户可以得2分\n",
    "5. 最成交量在100元以内的客户可以得1分"
   ]
  },
  {
   "cell_type": "markdown",
   "metadata": {},
   "source": [
    "划分标准根据实际业务情况修改"
   ]
  },
  {
   "cell_type": "markdown",
   "metadata": {},
   "source": [
    "根据业务逻辑创建一个通过M给客户打分的函数"
   ]
  },
  {
   "cell_type": "code",
   "execution_count": 35,
   "metadata": {
    "collapsed": true
   },
   "outputs": [],
   "source": [
    "def customer_Mscore(amount):\n",
    "    if amount >= 500:\n",
    "        return 5\n",
    "    elif amount >= 300:\n",
    "        return 4\n",
    "    elif amount >= 150:\n",
    "        return 3\n",
    "    elif amount >= 50:\n",
    "        return 2\n",
    "    else:\n",
    "        return 1"
   ]
  },
  {
   "cell_type": "code",
   "execution_count": 36,
   "metadata": {},
   "outputs": [
    {
     "data": {
      "text/html": [
       "<div>\n",
       "<style>\n",
       "    .dataframe thead tr:only-child th {\n",
       "        text-align: right;\n",
       "    }\n",
       "\n",
       "    .dataframe thead th {\n",
       "        text-align: left;\n",
       "    }\n",
       "\n",
       "    .dataframe tbody tr th {\n",
       "        vertical-align: top;\n",
       "    }\n",
       "</style>\n",
       "<table border=\"1\" class=\"dataframe\">\n",
       "  <thead>\n",
       "    <tr style=\"text-align: right;\">\n",
       "      <th></th>\n",
       "      <th>购买总金额</th>\n",
       "      <th>M分数</th>\n",
       "    </tr>\n",
       "    <tr>\n",
       "      <th>顾客</th>\n",
       "      <th></th>\n",
       "      <th></th>\n",
       "    </tr>\n",
       "  </thead>\n",
       "  <tbody>\n",
       "    <tr>\n",
       "      <th>C100</th>\n",
       "      <td>28.98</td>\n",
       "      <td>1</td>\n",
       "    </tr>\n",
       "    <tr>\n",
       "      <th>C10018</th>\n",
       "      <td>23.37</td>\n",
       "      <td>1</td>\n",
       "    </tr>\n",
       "    <tr>\n",
       "      <th>C1002</th>\n",
       "      <td>15.48</td>\n",
       "      <td>1</td>\n",
       "    </tr>\n",
       "    <tr>\n",
       "      <th>C10026</th>\n",
       "      <td>123.43</td>\n",
       "      <td>2</td>\n",
       "    </tr>\n",
       "    <tr>\n",
       "      <th>C10027</th>\n",
       "      <td>122.33</td>\n",
       "      <td>2</td>\n",
       "    </tr>\n",
       "  </tbody>\n",
       "</table>\n",
       "</div>"
      ],
      "text/plain": [
       "         购买总金额  M分数\n",
       "顾客                 \n",
       "C100     28.98    1\n",
       "C10018   23.37    1\n",
       "C1002    15.48    1\n",
       "C10026  123.43    2\n",
       "C10027  122.33    2"
      ]
     },
     "execution_count": 36,
     "metadata": {},
     "output_type": "execute_result"
    }
   ],
   "source": [
    "df_groupedM[\"M分数\"] = df_groupedM[\"购买总金额\"].apply(customer_Mscore)\n",
    "df_groupedM.head()"
   ]
  },
  {
   "cell_type": "code",
   "execution_count": 37,
   "metadata": {},
   "outputs": [
    {
     "data": {
      "text/plain": [
       "1    2810\n",
       "2    1819\n",
       "3     494\n",
       "4     157\n",
       "5      94\n",
       "Name: M分数, dtype: int64"
      ]
     },
     "execution_count": 37,
     "metadata": {},
     "output_type": "execute_result"
    }
   ],
   "source": [
    "df_groupedM[\"M分数\"].value_counts()"
   ]
  },
  {
   "cell_type": "markdown",
   "metadata": {},
   "source": [
    "### 任务模块7：计算RFM每一项的平均值"
   ]
  },
  {
   "cell_type": "markdown",
   "metadata": {},
   "source": [
    "用RFM的每一项平均值作为判断高于还是低于，比如重要价值客户，必须是三项都高于平均值才能作为重要价值客户"
   ]
  },
  {
   "cell_type": "code",
   "execution_count": 40,
   "metadata": {},
   "outputs": [
    {
     "data": {
      "text/plain": [
       "2.5463342017119466"
      ]
     },
     "execution_count": 40,
     "metadata": {},
     "output_type": "execute_result"
    }
   ],
   "source": [
    "#R值平均值\n",
    "R_mean = df_groupedR[\"R分数\"].mean()\n",
    "R_mean"
   ]
  },
  {
   "cell_type": "code",
   "execution_count": 41,
   "metadata": {},
   "outputs": [
    {
     "data": {
      "text/plain": [
       "1.2372534425009305"
      ]
     },
     "execution_count": 41,
     "metadata": {},
     "output_type": "execute_result"
    }
   ],
   "source": [
    "#F值平均值\n",
    "F_mean = df_groupedF[\"F分数\"].mean()\n",
    "F_mean"
   ]
  },
  {
   "cell_type": "code",
   "execution_count": 42,
   "metadata": {},
   "outputs": [
    {
     "data": {
      "text/plain": [
       "1.6799404540379606"
      ]
     },
     "execution_count": 42,
     "metadata": {},
     "output_type": "execute_result"
    }
   ],
   "source": [
    "#M值平均值\n",
    "M_mean = df_groupedM[\"M分数\"].mean()\n",
    "M_mean"
   ]
  },
  {
   "cell_type": "markdown",
   "metadata": {},
   "source": [
    "### 任务模块8：判断客户的每一项得分是否高于平均分"
   ]
  },
  {
   "cell_type": "markdown",
   "metadata": {},
   "source": [
    "如果是，则返回1；如果不是，则返回0"
   ]
  },
  {
   "cell_type": "code",
   "execution_count": 44,
   "metadata": {
    "collapsed": true
   },
   "outputs": [],
   "source": [
    "#判断是否高于R平均分\n",
    "def if_greater_thanR(r):\n",
    "    if r >= R_mean:\n",
    "        return 1\n",
    "    else:\n",
    "        return 0\n",
    "    \n",
    "#判断是否高于F平均分\n",
    "def if_greater_thanF(f):\n",
    "    if f >= F_mean:\n",
    "        return 1\n",
    "    else:\n",
    "        return 0\n",
    "\n",
    "#判断是否高于M平均分\n",
    "def if_greater_thanM(m):\n",
    "    if m >= M_mean:\n",
    "        return 1\n",
    "    else:\n",
    "        return 0"
   ]
  },
  {
   "cell_type": "markdown",
   "metadata": {},
   "source": [
    "将R,F,M分数整合到一起"
   ]
  },
  {
   "cell_type": "code",
   "execution_count": 49,
   "metadata": {},
   "outputs": [
    {
     "data": {
      "text/html": [
       "<div>\n",
       "<style>\n",
       "    .dataframe thead tr:only-child th {\n",
       "        text-align: right;\n",
       "    }\n",
       "\n",
       "    .dataframe thead th {\n",
       "        text-align: left;\n",
       "    }\n",
       "\n",
       "    .dataframe tbody tr th {\n",
       "        vertical-align: top;\n",
       "    }\n",
       "</style>\n",
       "<table border=\"1\" class=\"dataframe\">\n",
       "  <thead>\n",
       "    <tr style=\"text-align: right;\">\n",
       "      <th></th>\n",
       "      <th>顾客</th>\n",
       "      <th>R分数</th>\n",
       "      <th>F分数</th>\n",
       "      <th>M分数</th>\n",
       "    </tr>\n",
       "  </thead>\n",
       "  <tbody>\n",
       "    <tr>\n",
       "      <th>0</th>\n",
       "      <td>C100</td>\n",
       "      <td>2</td>\n",
       "      <td>1</td>\n",
       "      <td>1</td>\n",
       "    </tr>\n",
       "    <tr>\n",
       "      <th>1</th>\n",
       "      <td>C10018</td>\n",
       "      <td>3</td>\n",
       "      <td>1</td>\n",
       "      <td>1</td>\n",
       "    </tr>\n",
       "    <tr>\n",
       "      <th>2</th>\n",
       "      <td>C1002</td>\n",
       "      <td>3</td>\n",
       "      <td>1</td>\n",
       "      <td>1</td>\n",
       "    </tr>\n",
       "    <tr>\n",
       "      <th>3</th>\n",
       "      <td>C10026</td>\n",
       "      <td>2</td>\n",
       "      <td>1</td>\n",
       "      <td>2</td>\n",
       "    </tr>\n",
       "    <tr>\n",
       "      <th>4</th>\n",
       "      <td>C10027</td>\n",
       "      <td>2</td>\n",
       "      <td>2</td>\n",
       "      <td>2</td>\n",
       "    </tr>\n",
       "  </tbody>\n",
       "</table>\n",
       "</div>"
      ],
      "text/plain": [
       "       顾客  R分数  F分数  M分数\n",
       "0    C100    2    1    1\n",
       "1  C10018    3    1    1\n",
       "2   C1002    3    1    1\n",
       "3  C10026    2    1    2\n",
       "4  C10027    2    2    2"
      ]
     },
     "execution_count": 49,
     "metadata": {},
     "output_type": "execute_result"
    }
   ],
   "source": [
    "#合并3个分数列到原数据表df中\n",
    "dfR = df_groupedR.reset_index()[[\"顾客\",\"R分数\"]]\n",
    "dfF = df_groupedF.reset_index()[[\"顾客\",\"F分数\"]]\n",
    "dfM = df_groupedM.reset_index()[[\"顾客\",\"M分数\"]]\n",
    "\n",
    "df_merge1 = dfR.merge(dfF,on=\"顾客\",how=\"left\")\n",
    "df_merge = df_merge1.merge(dfM,on=\"顾客\",how=\"left\")\n",
    "df_merge.head()"
   ]
  },
  {
   "cell_type": "markdown",
   "metadata": {},
   "source": [
    "判断客户RFM的每一项数值是否高于平均值"
   ]
  },
  {
   "cell_type": "code",
   "execution_count": 50,
   "metadata": {},
   "outputs": [
    {
     "data": {
      "text/html": [
       "<div>\n",
       "<style>\n",
       "    .dataframe thead tr:only-child th {\n",
       "        text-align: right;\n",
       "    }\n",
       "\n",
       "    .dataframe thead th {\n",
       "        text-align: left;\n",
       "    }\n",
       "\n",
       "    .dataframe tbody tr th {\n",
       "        vertical-align: top;\n",
       "    }\n",
       "</style>\n",
       "<table border=\"1\" class=\"dataframe\">\n",
       "  <thead>\n",
       "    <tr style=\"text-align: right;\">\n",
       "      <th></th>\n",
       "      <th>顾客</th>\n",
       "      <th>R分数</th>\n",
       "      <th>F分数</th>\n",
       "      <th>M分数</th>\n",
       "      <th>是否高于R均值</th>\n",
       "      <th>是否高于F均值</th>\n",
       "      <th>是否高于M均值</th>\n",
       "    </tr>\n",
       "  </thead>\n",
       "  <tbody>\n",
       "    <tr>\n",
       "      <th>0</th>\n",
       "      <td>C100</td>\n",
       "      <td>2</td>\n",
       "      <td>1</td>\n",
       "      <td>1</td>\n",
       "      <td>0</td>\n",
       "      <td>0</td>\n",
       "      <td>0</td>\n",
       "    </tr>\n",
       "    <tr>\n",
       "      <th>1</th>\n",
       "      <td>C10018</td>\n",
       "      <td>3</td>\n",
       "      <td>1</td>\n",
       "      <td>1</td>\n",
       "      <td>1</td>\n",
       "      <td>0</td>\n",
       "      <td>0</td>\n",
       "    </tr>\n",
       "    <tr>\n",
       "      <th>2</th>\n",
       "      <td>C1002</td>\n",
       "      <td>3</td>\n",
       "      <td>1</td>\n",
       "      <td>1</td>\n",
       "      <td>1</td>\n",
       "      <td>0</td>\n",
       "      <td>0</td>\n",
       "    </tr>\n",
       "    <tr>\n",
       "      <th>3</th>\n",
       "      <td>C10026</td>\n",
       "      <td>2</td>\n",
       "      <td>1</td>\n",
       "      <td>2</td>\n",
       "      <td>0</td>\n",
       "      <td>0</td>\n",
       "      <td>1</td>\n",
       "    </tr>\n",
       "    <tr>\n",
       "      <th>4</th>\n",
       "      <td>C10027</td>\n",
       "      <td>2</td>\n",
       "      <td>2</td>\n",
       "      <td>2</td>\n",
       "      <td>0</td>\n",
       "      <td>1</td>\n",
       "      <td>1</td>\n",
       "    </tr>\n",
       "  </tbody>\n",
       "</table>\n",
       "</div>"
      ],
      "text/plain": [
       "       顾客  R分数  F分数  M分数  是否高于R均值  是否高于F均值  是否高于M均值\n",
       "0    C100    2    1    1        0        0        0\n",
       "1  C10018    3    1    1        1        0        0\n",
       "2   C1002    3    1    1        1        0        0\n",
       "3  C10026    2    1    2        0        0        1\n",
       "4  C10027    2    2    2        0        1        1"
      ]
     },
     "execution_count": 50,
     "metadata": {},
     "output_type": "execute_result"
    }
   ],
   "source": [
    "df_merge[\"是否高于R均值\"] = df_merge[\"R分数\"].apply(if_greater_thanR)\n",
    "df_merge[\"是否高于F均值\"] = df_merge[\"F分数\"].apply(if_greater_thanF)\n",
    "df_merge[\"是否高于M均值\"] = df_merge[\"M分数\"].apply(if_greater_thanM)\n",
    "df_merge.head()"
   ]
  },
  {
   "cell_type": "markdown",
   "metadata": {},
   "source": [
    "### 任务模块9：通过客户的比较结果对客户分类 "
   ]
  },
  {
   "cell_type": "code",
   "execution_count": 51,
   "metadata": {},
   "outputs": [
    {
     "data": {
      "text/html": [
       "<div>\n",
       "<style>\n",
       "    .dataframe thead tr:only-child th {\n",
       "        text-align: right;\n",
       "    }\n",
       "\n",
       "    .dataframe thead th {\n",
       "        text-align: left;\n",
       "    }\n",
       "\n",
       "    .dataframe tbody tr th {\n",
       "        vertical-align: top;\n",
       "    }\n",
       "</style>\n",
       "<table border=\"1\" class=\"dataframe\">\n",
       "  <thead>\n",
       "    <tr style=\"text-align: right;\">\n",
       "      <th></th>\n",
       "      <th>顾客</th>\n",
       "      <th>R分数</th>\n",
       "      <th>F分数</th>\n",
       "      <th>M分数</th>\n",
       "      <th>是否高于R均值</th>\n",
       "      <th>是否高于F均值</th>\n",
       "      <th>是否高于M均值</th>\n",
       "      <th>客户价值分类</th>\n",
       "    </tr>\n",
       "  </thead>\n",
       "  <tbody>\n",
       "    <tr>\n",
       "      <th>0</th>\n",
       "      <td>C100</td>\n",
       "      <td>2</td>\n",
       "      <td>1</td>\n",
       "      <td>1</td>\n",
       "      <td>0</td>\n",
       "      <td>0</td>\n",
       "      <td>0</td>\n",
       "      <td>流失客户</td>\n",
       "    </tr>\n",
       "    <tr>\n",
       "      <th>1</th>\n",
       "      <td>C10018</td>\n",
       "      <td>3</td>\n",
       "      <td>1</td>\n",
       "      <td>1</td>\n",
       "      <td>1</td>\n",
       "      <td>0</td>\n",
       "      <td>0</td>\n",
       "      <td>新客户</td>\n",
       "    </tr>\n",
       "    <tr>\n",
       "      <th>2</th>\n",
       "      <td>C1002</td>\n",
       "      <td>3</td>\n",
       "      <td>1</td>\n",
       "      <td>1</td>\n",
       "      <td>1</td>\n",
       "      <td>0</td>\n",
       "      <td>0</td>\n",
       "      <td>新客户</td>\n",
       "    </tr>\n",
       "    <tr>\n",
       "      <th>3</th>\n",
       "      <td>C10026</td>\n",
       "      <td>2</td>\n",
       "      <td>1</td>\n",
       "      <td>2</td>\n",
       "      <td>0</td>\n",
       "      <td>0</td>\n",
       "      <td>1</td>\n",
       "      <td>重要挽留客户</td>\n",
       "    </tr>\n",
       "    <tr>\n",
       "      <th>4</th>\n",
       "      <td>C10027</td>\n",
       "      <td>2</td>\n",
       "      <td>2</td>\n",
       "      <td>2</td>\n",
       "      <td>0</td>\n",
       "      <td>1</td>\n",
       "      <td>1</td>\n",
       "      <td>重要召回客户</td>\n",
       "    </tr>\n",
       "    <tr>\n",
       "      <th>5</th>\n",
       "      <td>C10029</td>\n",
       "      <td>3</td>\n",
       "      <td>1</td>\n",
       "      <td>1</td>\n",
       "      <td>1</td>\n",
       "      <td>0</td>\n",
       "      <td>0</td>\n",
       "      <td>新客户</td>\n",
       "    </tr>\n",
       "    <tr>\n",
       "      <th>6</th>\n",
       "      <td>C10035</td>\n",
       "      <td>1</td>\n",
       "      <td>1</td>\n",
       "      <td>1</td>\n",
       "      <td>0</td>\n",
       "      <td>0</td>\n",
       "      <td>0</td>\n",
       "      <td>流失客户</td>\n",
       "    </tr>\n",
       "    <tr>\n",
       "      <th>7</th>\n",
       "      <td>C10036</td>\n",
       "      <td>4</td>\n",
       "      <td>1</td>\n",
       "      <td>1</td>\n",
       "      <td>1</td>\n",
       "      <td>0</td>\n",
       "      <td>0</td>\n",
       "      <td>新客户</td>\n",
       "    </tr>\n",
       "    <tr>\n",
       "      <th>8</th>\n",
       "      <td>C10038</td>\n",
       "      <td>5</td>\n",
       "      <td>1</td>\n",
       "      <td>1</td>\n",
       "      <td>1</td>\n",
       "      <td>0</td>\n",
       "      <td>0</td>\n",
       "      <td>新客户</td>\n",
       "    </tr>\n",
       "    <tr>\n",
       "      <th>9</th>\n",
       "      <td>C1004</td>\n",
       "      <td>1</td>\n",
       "      <td>1</td>\n",
       "      <td>2</td>\n",
       "      <td>0</td>\n",
       "      <td>0</td>\n",
       "      <td>1</td>\n",
       "      <td>重要挽留客户</td>\n",
       "    </tr>\n",
       "  </tbody>\n",
       "</table>\n",
       "</div>"
      ],
      "text/plain": [
       "       顾客  R分数  F分数  M分数  是否高于R均值  是否高于F均值  是否高于M均值  客户价值分类\n",
       "0    C100    2    1    1        0        0        0    流失客户\n",
       "1  C10018    3    1    1        1        0        0     新客户\n",
       "2   C1002    3    1    1        1        0        0     新客户\n",
       "3  C10026    2    1    2        0        0        1  重要挽留客户\n",
       "4  C10027    2    2    2        0        1        1  重要召回客户\n",
       "5  C10029    3    1    1        1        0        0     新客户\n",
       "6  C10035    1    1    1        0        0        0    流失客户\n",
       "7  C10036    4    1    1        1        0        0     新客户\n",
       "8  C10038    5    1    1        1        0        0     新客户\n",
       "9   C1004    1    1    2        0        0        1  重要挽留客户"
      ]
     },
     "execution_count": 51,
     "metadata": {},
     "output_type": "execute_result"
    }
   ],
   "source": [
    "#客户价值分类\n",
    "R = df_merge[\"是否高于R均值\"]\n",
    "F = df_merge[\"是否高于F均值\"]\n",
    "M = df_merge[\"是否高于M均值\"]\n",
    "\n",
    "df_merge[\"客户价值分类\"] = np.where((R==1)&(F==1)&(M==1),\"重要价值客户\",\n",
    "                             np.where((R==0)&(F==1)&(M==1),\"重要召回客户\",\n",
    "                                     np.where((R==1)&(F==0)&(M==1),\"重要维护客户\",\n",
    "                                             np.where((R==0)&(F==0)&(M==1),\"重要挽留客户\",\n",
    "                                                     np.where((R==1)&(F==1)&(M==0),\"潜力客户\",\n",
    "                                                             np.where((R==1)&(F==0)&(M==0),\"新客户\",\n",
    "                                                                     np.where((R==0)&(F==1)&(M==0),\"一般维持客户\",\"流失客户\")))))))\n",
    "\n",
    "df_merge.head(10)"
   ]
  },
  {
   "cell_type": "markdown",
   "metadata": {},
   "source": [
    "### 任务模块10：结果可视化与建议"
   ]
  },
  {
   "cell_type": "markdown",
   "metadata": {},
   "source": [
    "**得到每种类型客户的人数**"
   ]
  },
  {
   "cell_type": "code",
   "execution_count": 52,
   "metadata": {},
   "outputs": [
    {
     "data": {
      "text/plain": [
       "流失客户      1765\n",
       "新客户       1045\n",
       "重要维护客户     979\n",
       "重要挽留客户     734\n",
       "重要价值客户     674\n",
       "重要召回客户     177\n",
       "Name: 客户价值分类, dtype: int64"
      ]
     },
     "execution_count": 52,
     "metadata": {},
     "output_type": "execute_result"
    }
   ],
   "source": [
    "df_classify = df_merge[\"客户价值分类\"].value_counts()\n",
    "df_classify"
   ]
  },
  {
   "cell_type": "code",
   "execution_count": 53,
   "metadata": {
    "collapsed": true
   },
   "outputs": [],
   "source": [
    "plt.style.use(\"ggplot\")"
   ]
  },
  {
   "cell_type": "markdown",
   "metadata": {},
   "source": [
    "+ 每种客户类型的人数与占比"
   ]
  },
  {
   "cell_type": "code",
   "execution_count": 55,
   "metadata": {},
   "outputs": [
    {
     "data": {
      "text/plain": [
       "<matplotlib.text.Text at 0x9a9ddd8>"
      ]
     },
     "execution_count": 55,
     "metadata": {},
     "output_type": "execute_result"
    },
    {
     "data": {
      "image/png": "[encoded data removed]",
      "text/plain": [
       "<matplotlib.figure.Figure at 0x9945cc0>"
      ]
     },
     "metadata": {},
     "output_type": "display_data"
    }
   ],
   "source": [
    "plt.rcParams['font.sans-serif']=['SimHei'] #用来正常显示中文标签\n",
    "\n",
    "x = df_classify.sort_values().index\n",
    "y = df_classify.sort_values().values\n",
    "\n",
    "fig = plt.figure(figsize=(10,4),dpi=100)\n",
    "ax1 = fig.add_subplot(121)\n",
    "ax2 = fig.add_subplot(122)\n",
    "\n",
    "ax1.barh(np.arange(len(x)),y,tick_label=x)\n",
    "ax1.set(xlabel=\"客户数\",title=\"客户价值分类人数\")\n",
    "for a,b in zip(y,np.arange(len(x))):\n",
    "    ax1.text(a+100,b,a,ha=\"center\",fontsize=10.5)\n",
    "\n",
    "ax2.pie(y,labels=x,startangle=90,autopct=\"%.f%%\",pctdistance=0.3)\n",
    "ax2.set_title(\"客户价值分类占比\")"
   ]
  },
  {
   "cell_type": "markdown",
   "metadata": {},
   "source": [
    ">结论：最优质的客户是重要价值客户，有674人，占了所有客户的13%，这些客户需要应给予最多的资源去好好经营和发展的；占比最多的是流失客户，达到了1765人，占了1/3的客户人数，流失人数过多，说明经营上已经有问题了，可以去访问下这些流失客户离开的原因，做个调研，并尝试召回他们；新客户的人数有1045人，占了19%，这些客户刚开始尝试购买我们的产品，是可以加大去推广和宣传的一群人。其他人群就不一一列举了，大家可以自己思考下"
   ]
  },
  {
   "cell_type": "markdown",
   "metadata": {},
   "source": [
    "+ 客户贡献度分析"
   ]
  },
  {
   "cell_type": "markdown",
   "metadata": {},
   "source": [
    "贡献度分析又称帕累托分析，它的原理是帕累托法则，又称28法则\n",
    "\n",
    "比如80%的收入来自20%的客户，80%的财富掌握在20%的人手中"
   ]
  },
  {
   "cell_type": "markdown",
   "metadata": {},
   "source": [
    "**得到每种类型客户的贡献金额**"
   ]
  },
  {
   "cell_type": "code",
   "execution_count": 64,
   "metadata": {
    "scrolled": true
   },
   "outputs": [
    {
     "data": {
      "text/plain": [
       "客户价值分类\n",
       "新客户        29060.19\n",
       "流失客户       45133.61\n",
       "重要价值客户    217372.53\n",
       "重要召回客户     36914.46\n",
       "重要挽留客户     61723.92\n",
       "重要维护客户     85949.66\n",
       "Name: 购买总金额, dtype: float64"
      ]
     },
     "execution_count": 64,
     "metadata": {},
     "output_type": "execute_result"
    }
   ],
   "source": [
    "df_contribution = pd.merge(df_merge,df_groupedM.reset_index().loc[:,\"顾客\":\"购买总金额\"],on=\"顾客\",how=\"left\")\n",
    "df_Contribution = df_contribution.groupby(\"客户价值分类\").sum()[\"购买总金额\"]\n",
    "df_Contribution"
   ]
  },
  {
   "cell_type": "markdown",
   "metadata": {},
   "source": [
    "客户贡献度的帕累托图"
   ]
  },
  {
   "cell_type": "code",
   "execution_count": 33,
   "metadata": {},
   "outputs": [
    {
     "data": {
      "text/plain": [
       "['46%', '64%', '77%', '86%', '94%', '100%']"
      ]
     },
     "execution_count": 33,
     "metadata": {},
     "output_type": "execute_result"
    },
    {
     "data": {
      "image/png": "[encoded data removed]",
      "text/plain": [
       "<matplotlib.figure.Figure at 0x9969358>"
      ]
     },
     "metadata": {},
     "output_type": "display_data"
    }
   ],
   "source": [
    "plt.rcParams['font.sans-serif']=['SimHei'] #用来正常显示中文标签\n",
    "\n",
    "x = df_Contribution.sort_values(ascending=False).index\n",
    "y = df_Contribution.sort_values(ascending=False).values\n",
    "\n",
    "fig,ax1 = plt.subplots(figsize=(10,6),dpi=80)\n",
    "\n",
    "ax1.bar(np.arange(len(x)),y,tick_label=x)\n",
    "ax1.set(ylabel=\"消费金额\",title=\"每种客户类型的贡献金额\")\n",
    "for a,b in zip(np.arange(len(x)),y):\n",
    "    ax1.text(a,b+2500,int(b),ha=\"center\",fontsize=10.5)\n",
    "ax1.grid(False)\n",
    "\n",
    "ax2 = ax1.twinx()  #建立次坐标轴\n",
    "cumsum_data = y.cumsum()/y.sum()  #求出贡献度，也即是逐步的累计金额/总金额\n",
    "ax2.plot(np.arange(len(x)),cumsum_data,marker=\"o\",color=(245/255,151/255,1/255),mec=(217/255,49/255,30/255),mfc=\"white\")\n",
    "ax2.set_ylim(0,1)\n",
    "ax2.set_ylabel(\"贡献度\")\n",
    "\n",
    "[format(i,\".0%\") for i in cumsum_data]"
   ]
  },
  {
   "cell_type": "markdown",
   "metadata": {},
   "source": [
    ">结论：\n",
    "1. 占人数13%的重要价值客户的贡献度达到了46%，接近一半的贡献度，由这类客户是我们最重视的客户，其本身就具有较高的粘性，需要保持并经营下去\n",
    "2. 重要价值客户和重要维护客户这两个客户群的贡献度就达到了64%，接近2/3的贡献率了，重要维护客户的成交额大，且最近有交易，只是累计交易量小，这类客户的消费能力强，是需要重点维护的客户"
   ]
  },
  {
   "cell_type": "markdown",
   "metadata": {},
   "source": [
    "**得到每个类别客户的名单**"
   ]
  },
  {
   "cell_type": "code",
   "execution_count": 69,
   "metadata": {
    "collapsed": true
   },
   "outputs": [],
   "source": [
    "sort = df_merge[\"客户价值分类\"].unique()\n",
    "for i in sort:\n",
    "    df = df_merge.loc[df_merge[\"客户价值分类\"] == i][[\"顾客\",\"客户价值分类\"]]\n",
    "    df.to_csv(i + \".csv\")"
   ]
  },
  {
   "cell_type": "markdown",
   "metadata": {},
   "source": [
    ">建议：\n",
    "针对不同的客户类型可以有不同的营销策略，将这些客户名单给业务部门，协助制定不同的策略，实现精准化营销。比如：\n",
    "1. 如果要去开发新客户，可以在“新客户”名单里去开发\n",
    "2. 如果要去召回客户，可以优先在“重要召回客户”名单的人里召回，其次在“流失客户”名单里的人去召回\n",
    "3. 如果要去挽留客户，可以优先在“重要挽留客户”名单里的人挽留\n",
    "4. 如果想促进销售额的增长，可以将更多资源倾向“重要价值客户”和“重要维护客户”"
   ]
  },
  {
   "cell_type": "markdown",
   "metadata": {},
   "source": [
    "具体业务情况具体分析，还有别的，大家可以自己思考下"
   ]
  }
 ],
 "metadata": {
  "kernelspec": {
   "display_name": "Python 3",
   "language": "python",
   "name": "python3"
  },
  "language_info": {
   "codemirror_mode": {
    "name": "ipython",
    "version": 3
   },
   "file_extension": ".py",
   "mimetype": "text/x-python",
   "name": "python",
   "nbconvert_exporter": "python",
   "pygments_lexer": "ipython3",
   "version": "3.6.3"
  },
  "toc": {
   "base_numbering": 1,
   "nav_menu": {},
   "number_sections": true,
   "sideBar": true,
   "skip_h1_title": false,
   "title_cell": "Table of Contents",
   "title_sidebar": "Contents",
   "toc_cell": false,
   "toc_position": {},
   "toc_section_display": true,
   "toc_window_display": false
  }
 },
 "nbformat": 4,
 "nbformat_minor": 2
}
