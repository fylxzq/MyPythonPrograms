{
 "cells": [
  {
   "cell_type": "code",
   "execution_count": 13,
   "metadata": {
    "collapsed": true
   },
   "outputs": [],
   "source": [
    "import numpy as np\n",
    "import matplotlib.pyplot as plt\n",
    "%matplotlib inline"
   ]
  },
  {
   "cell_type": "markdown",
   "metadata": {
    "collapsed": true
   },
   "source": [
    "# 一.什么是matplotlib"
   ]
  },
  {
   "cell_type": "markdown",
   "metadata": {},
   "source": [
    "matplotlib是一个数据绘图库，可以将枯燥的数据转换成容易接收信息的图表"
   ]
  },
  {
   "cell_type": "code",
   "execution_count": 8,
   "metadata": {
    "collapsed": true
   },
   "outputs": [],
   "source": [
    "x = np.arange(10)\n",
    "y = np.random.random(10)"
   ]
  },
  {
   "cell_type": "code",
   "execution_count": 9,
   "metadata": {},
   "outputs": [
    {
     "name": "stdout",
     "output_type": "stream",
     "text": [
      "[0 1 2 3 4 5 6 7 8 9] [ 0.21918782  0.07620613  0.7279859   0.7608958   0.73177285  0.24467989\n",
      "  0.70060208  0.25118261  0.4036234   0.04623958]\n"
     ]
    }
   ],
   "source": [
    "print(x,y)"
   ]
  },
  {
   "cell_type": "code",
   "execution_count": null,
   "metadata": {
    "collapsed": true
   },
   "outputs": [],
   "source": [
    "labels = list(\"abcdefghij\")"
   ]
  },
  {
   "cell_type": "code",
   "execution_count": 14,
   "metadata": {},
   "outputs": [
    {
     "data": {
      "text/plain": [
       "<Container object of 10 artists>"
      ]
     },
     "execution_count": 14,
     "metadata": {},
     "output_type": "execute_result"
    },
    {
     "data": {
      "image/png": "[encoded data removed]",
      "text/plain": [
       "<matplotlib.figure.Figure at 0x83d4240>"
      ]
     },
     "metadata": {},
     "output_type": "display_data"
    }
   ],
   "source": [
    "plt.bar(x,y,tick_label=labels)"
   ]
  },
  {
   "cell_type": "markdown",
   "metadata": {},
   "source": [
    "# 二.两种作图方式"
   ]
  },
  {
   "cell_type": "markdown",
   "metadata": {},
   "source": [
    "## （1）函数式作图（pyplot）"
   ]
  },
  {
   "cell_type": "code",
   "execution_count": 18,
   "metadata": {},
   "outputs": [
    {
     "data": {
      "text/plain": [
       "<matplotlib.text.Text at 0x8418e48>"
      ]
     },
     "execution_count": 18,
     "metadata": {},
     "output_type": "execute_result"
    },
    {
     "data": {
      "image/png": "[encoded data removed]",
      "text/plain": [
       "<matplotlib.figure.Figure at 0x85e5f60>"
      ]
     },
     "metadata": {},
     "output_type": "display_data"
    }
   ],
   "source": [
    "x = np.arange(5)   #x轴数据\n",
    "y = np.linspace(10,20,5) #y轴数据\n",
    "\n",
    "plt.plot(x,y)  #根据x和y画图\n",
    "\n",
    "plt.xlabel(\"I am x\") #设置x轴标签\n",
    "plt.ylabel(\"I am y\") #设置y轴标签\n",
    "plt.title(\"xy_plot\") #设置标题"
   ]
  },
  {
   "cell_type": "markdown",
   "metadata": {},
   "source": [
    "由于函数式作图是使用经过封装后的函数来作图，所以很多时候函数式作图的操作看起来会比较方便，但是有以下缺点："
   ]
  },
  {
   "cell_type": "markdown",
   "metadata": {},
   "source": [
    "> 1.整个matplotlib包是由一系列有从属关系的对象构成的，函数式作图掩盖了原有的从属关系\n",
    "\n",
    "> 2.个性化定制能力不如面向对象作图的方法强大，因为面向对象作图是最底层的作图方法，几乎能做一切的图，只是操作可能略显繁琐"
   ]
  },
  {
   "cell_type": "markdown",
   "metadata": {},
   "source": [
    "## （2）面向对象作图（Object Oriented）"
   ]
  },
  {
   "cell_type": "code",
   "execution_count": 19,
   "metadata": {
    "scrolled": true
   },
   "outputs": [
    {
     "data": {
      "text/plain": [
       "<matplotlib.text.Text at 0x82b3160>"
      ]
     },
     "execution_count": 19,
     "metadata": {},
     "output_type": "execute_result"
    },
    {
     "data": {
      "image/png": "[encoded data removed]",
      "text/plain": [
       "<matplotlib.figure.Figure at 0x843bc50>"
      ]
     },
     "metadata": {},
     "output_type": "display_data"
    }
   ],
   "source": [
    "x = np.arange(5)\n",
    "y = np.linspace(10,20,5)\n",
    "\n",
    "fig,ax = plt.subplots() \n",
    "#生成一个figure对象和一个坐标系axes对象\n",
    "\n",
    "ax.plot(x,y)\n",
    "#在这个坐标系axes上添加一个数据源为x，y的折线图\n",
    "\n",
    "ax.set_xlabel(\"I am x\") #在axes上添加x轴标签\n",
    "ax.set_ylabel(\"I am y\") #在axes上添加y轴标签\n",
    "ax.set_title(\"xy_plot\") ##在axes上添加标题"
   ]
  },
  {
   "cell_type": "markdown",
   "metadata": {},
   "source": [
    "我们来了解下一幅matplotlib图像的组成结构"
   ]
  },
  {
   "cell_type": "markdown",
   "metadata": {},
   "source": [
    "+ 第一层：canvas 类似画板\n",
    "+ 第二层：figure 类似画布（或理解为画图区域）\n",
    "+ 第三层：axes 子图（或理解为坐标系）\n",
    "+ 第四层：各类图表信息，包括：xaxis（x轴），yaxis（y轴），title（标题），legend（图例），grid（网格线），spines（边框线）,data（数据）等等"
   ]
  },
  {
   "cell_type": "markdown",
   "metadata": {},
   "source": [
    "所以，\n",
    "+ canvas位于最底层，当我们导入matplotlib库的时候就已经存在了，我们不需要多管这个\n",
    "+ figure建立在canvas之上，从这里就需要我们开始操作了\n",
    "+ axes建立在figure之上\n",
    "+ 图形以及坐标轴、图例等信息都是建立在Axes之上"
   ]
  },
  {
   "cell_type": "code",
   "execution_count": null,
   "metadata": {},
   "outputs": [],
   "source": []
  }
 ],
 "metadata": {
  "kernelspec": {
   "display_name": "Python 3",
   "language": "python",
   "name": "python3"
  },
  "language_info": {
   "codemirror_mode": {
    "name": "ipython",
    "version": 3
   },
   "file_extension": ".py",
   "mimetype": "text/x-python",
   "name": "python",
   "nbconvert_exporter": "python",
   "pygments_lexer": "ipython3",
   "version": "3.6.5"
  },
  "toc": {
   "base_numbering": 1,
   "nav_menu": {},
   "number_sections": true,
   "sideBar": true,
   "skip_h1_title": false,
   "title_cell": "Table of Contents",
   "title_sidebar": "Contents",
   "toc_cell": false,
   "toc_position": {},
   "toc_section_display": true,
   "toc_window_display": false
  }
 },
 "nbformat": 4,
 "nbformat_minor": 2
}
