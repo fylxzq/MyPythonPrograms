{
 "cells": [
  {
   "cell_type": "code",
   "execution_count": 143,
   "metadata": {
    "collapsed": true
   },
   "outputs": [],
   "source": [
    "import pandas as pd\n",
    "import numpy as np\n",
    "import matplotlib.pyplot as plt\n",
    "%matplotlib inline"
   ]
  },
  {
   "cell_type": "markdown",
   "metadata": {},
   "source": [
    "导入数据"
   ]
  },
  {
   "cell_type": "code",
   "execution_count": 144,
   "metadata": {},
   "outputs": [
    {
     "data": {
      "text/html": [
       "<div>\n",
       "<style>\n",
       "    .dataframe thead tr:only-child th {\n",
       "        text-align: right;\n",
       "    }\n",
       "\n",
       "    .dataframe thead th {\n",
       "        text-align: left;\n",
       "    }\n",
       "\n",
       "    .dataframe tbody tr th {\n",
       "        vertical-align: top;\n",
       "    }\n",
       "</style>\n",
       "<table border=\"1\" class=\"dataframe\">\n",
       "  <thead>\n",
       "    <tr style=\"text-align: right;\">\n",
       "      <th></th>\n",
       "      <th>company_name</th>\n",
       "      <th>city</th>\n",
       "      <th>company_type</th>\n",
       "      <th>company_size</th>\n",
       "      <th>education</th>\n",
       "      <th>position_name</th>\n",
       "      <th>Language</th>\n",
       "      <th>work_year</th>\n",
       "      <th>avg_salary</th>\n",
       "    </tr>\n",
       "  </thead>\n",
       "  <tbody>\n",
       "    <tr>\n",
       "      <th>0</th>\n",
       "      <td>酷狗音乐</td>\n",
       "      <td>广州</td>\n",
       "      <td>成熟型(不需要融资)</td>\n",
       "      <td>500-2000人</td>\n",
       "      <td>本科</td>\n",
       "      <td>YSBG-PC开发工程师(C++)</td>\n",
       "      <td>C++</td>\n",
       "      <td>1-3年</td>\n",
       "      <td>15.0</td>\n",
       "    </tr>\n",
       "    <tr>\n",
       "      <th>1</th>\n",
       "      <td>酷狗音乐</td>\n",
       "      <td>广州</td>\n",
       "      <td>成熟型(不需要融资)</td>\n",
       "      <td>500-2000人</td>\n",
       "      <td>不限</td>\n",
       "      <td>YSBG-C++开发工程师(游戏)</td>\n",
       "      <td>C++</td>\n",
       "      <td>1-3年</td>\n",
       "      <td>12.5</td>\n",
       "    </tr>\n",
       "    <tr>\n",
       "      <th>2</th>\n",
       "      <td>酷狗音乐</td>\n",
       "      <td>广州</td>\n",
       "      <td>成熟型(不需要融资)</td>\n",
       "      <td>500-2000人</td>\n",
       "      <td>不限</td>\n",
       "      <td>YSBG-后端开发工程师(PHP)</td>\n",
       "      <td>PHP</td>\n",
       "      <td>1-3年</td>\n",
       "      <td>9.5</td>\n",
       "    </tr>\n",
       "    <tr>\n",
       "      <th>3</th>\n",
       "      <td>酷狗音乐</td>\n",
       "      <td>广州</td>\n",
       "      <td>成熟型(不需要融资)</td>\n",
       "      <td>500-2000人</td>\n",
       "      <td>本科</td>\n",
       "      <td>YSBG-后端开发工程师(C++)</td>\n",
       "      <td>C++</td>\n",
       "      <td>不限</td>\n",
       "      <td>20.0</td>\n",
       "    </tr>\n",
       "    <tr>\n",
       "      <th>4</th>\n",
       "      <td>迅雷</td>\n",
       "      <td>深圳</td>\n",
       "      <td>上市公司</td>\n",
       "      <td>500-2000人</td>\n",
       "      <td>本科</td>\n",
       "      <td>WX-高级服务器开发工程师（linuxc/c++）</td>\n",
       "      <td>C++</td>\n",
       "      <td>3-5年</td>\n",
       "      <td>22.0</td>\n",
       "    </tr>\n",
       "    <tr>\n",
       "      <th>5</th>\n",
       "      <td>蓝盾信息安全技术股份有限公司</td>\n",
       "      <td>广州</td>\n",
       "      <td>上市公司</td>\n",
       "      <td>500-2000人</td>\n",
       "      <td>本科</td>\n",
       "      <td>WindowsC/C++研发工程师</td>\n",
       "      <td>C++</td>\n",
       "      <td>3-5年</td>\n",
       "      <td>11.5</td>\n",
       "    </tr>\n",
       "    <tr>\n",
       "      <th>6</th>\n",
       "      <td>RUOYI</td>\n",
       "      <td>成都</td>\n",
       "      <td>初创型(不需要融资)</td>\n",
       "      <td>15-50人</td>\n",
       "      <td>本科</td>\n",
       "      <td>Windows桌面开发工程师—C++</td>\n",
       "      <td>C++</td>\n",
       "      <td>3-5年</td>\n",
       "      <td>10.0</td>\n",
       "    </tr>\n",
       "    <tr>\n",
       "      <th>7</th>\n",
       "      <td>四川启程科技</td>\n",
       "      <td>成都</td>\n",
       "      <td>初创型(不需要融资)</td>\n",
       "      <td>15-50人</td>\n",
       "      <td>本科</td>\n",
       "      <td>Windows软件开发工程师（C++)</td>\n",
       "      <td>C++</td>\n",
       "      <td>3-5年</td>\n",
       "      <td>9.5</td>\n",
       "    </tr>\n",
       "    <tr>\n",
       "      <th>8</th>\n",
       "      <td>博软软件</td>\n",
       "      <td>成都</td>\n",
       "      <td>初创型(未融资)</td>\n",
       "      <td>15-50人</td>\n",
       "      <td>不限</td>\n",
       "      <td>Windows客户端开发工程师(Pascal、C++）</td>\n",
       "      <td>C++</td>\n",
       "      <td>不限</td>\n",
       "      <td>9.0</td>\n",
       "    </tr>\n",
       "    <tr>\n",
       "      <th>9</th>\n",
       "      <td>兆日科技</td>\n",
       "      <td>武汉</td>\n",
       "      <td>上市公司</td>\n",
       "      <td>150-500人</td>\n",
       "      <td>本科</td>\n",
       "      <td>windows/C++</td>\n",
       "      <td>C++</td>\n",
       "      <td>3-5年</td>\n",
       "      <td>15.0</td>\n",
       "    </tr>\n",
       "  </tbody>\n",
       "</table>\n",
       "</div>"
      ],
      "text/plain": [
       "     company_name city company_type company_size education  \\\n",
       "0            酷狗音乐   广州   成熟型(不需要融资)    500-2000人        本科   \n",
       "1            酷狗音乐   广州   成熟型(不需要融资)    500-2000人        不限   \n",
       "2            酷狗音乐   广州   成熟型(不需要融资)    500-2000人        不限   \n",
       "3            酷狗音乐   广州   成熟型(不需要融资)    500-2000人        本科   \n",
       "4              迅雷   深圳         上市公司    500-2000人        本科   \n",
       "5  蓝盾信息安全技术股份有限公司   广州         上市公司    500-2000人        本科   \n",
       "6           RUOYI   成都   初创型(不需要融资)       15-50人        本科   \n",
       "7          四川启程科技   成都   初创型(不需要融资)       15-50人        本科   \n",
       "8            博软软件   成都     初创型(未融资)       15-50人        不限   \n",
       "9            兆日科技   武汉         上市公司     150-500人        本科   \n",
       "\n",
       "                 position_name Language work_year  avg_salary  \n",
       "0            YSBG-PC开发工程师(C++)      C++      1-3年        15.0  \n",
       "1            YSBG-C++开发工程师(游戏)      C++      1-3年        12.5  \n",
       "2            YSBG-后端开发工程师(PHP)      PHP      1-3年         9.5  \n",
       "3            YSBG-后端开发工程师(C++)      C++        不限        20.0  \n",
       "4    WX-高级服务器开发工程师（linuxc/c++）      C++      3-5年        22.0  \n",
       "5            WindowsC/C++研发工程师      C++      3-5年        11.5  \n",
       "6           Windows桌面开发工程师—C++      C++      3-5年        10.0  \n",
       "7          Windows软件开发工程师（C++)      C++      3-5年         9.5  \n",
       "8  Windows客户端开发工程师(Pascal、C++）      C++        不限         9.0  \n",
       "9                  windows/C++      C++      3-5年        15.0  "
      ]
     },
     "execution_count": 144,
     "metadata": {},
     "output_type": "execute_result"
    }
   ],
   "source": [
    "df = pd.read_csv(\"salary.csv\",encoding=\"gbk\")\n",
    "df.head(10)"
   ]
  },
  {
   "cell_type": "code",
   "execution_count": 145,
   "metadata": {
    "scrolled": true
   },
   "outputs": [
    {
     "data": {
      "text/plain": [
       "(10727, 9)"
      ]
     },
     "execution_count": 145,
     "metadata": {},
     "output_type": "execute_result"
    }
   ],
   "source": [
    "df.shape"
   ]
  },
  {
   "cell_type": "code",
   "execution_count": 146,
   "metadata": {},
   "outputs": [
    {
     "name": "stdout",
     "output_type": "stream",
     "text": [
      "<class 'pandas.core.frame.DataFrame'>\n",
      "RangeIndex: 10727 entries, 0 to 10726\n",
      "Data columns (total 9 columns):\n",
      "company_name     10727 non-null object\n",
      "city             10727 non-null object\n",
      "company_type     10727 non-null object\n",
      "company_size     10727 non-null object\n",
      "education        10727 non-null object\n",
      "position_name    10727 non-null object\n",
      "Language         10727 non-null object\n",
      "work_year        10727 non-null object\n",
      "avg_salary       10727 non-null float64\n",
      "dtypes: float64(1), object(8)\n",
      "memory usage: 754.3+ KB\n"
     ]
    }
   ],
   "source": [
    "df.info()"
   ]
  },
  {
   "cell_type": "markdown",
   "metadata": {},
   "source": [
    "使用ggplot风格"
   ]
  },
  {
   "cell_type": "code",
   "execution_count": 147,
   "metadata": {
    "collapsed": true
   },
   "outputs": [],
   "source": [
    "plt.style.use(\"ggplot\")"
   ]
  },
  {
   "cell_type": "markdown",
   "metadata": {},
   "source": [
    "# 箱线图"
   ]
  },
  {
   "cell_type": "markdown",
   "metadata": {},
   "source": [
    "用于表示一组或多组数据的值分布情况"
   ]
  },
  {
   "cell_type": "markdown",
   "metadata": {},
   "source": [
    "## 1.程序员整体薪资水平（单个箱线图）"
   ]
  },
  {
   "cell_type": "code",
   "execution_count": 135,
   "metadata": {},
   "outputs": [
    {
     "data": {
      "text/html": [
       "<div>\n",
       "<style>\n",
       "    .dataframe thead tr:only-child th {\n",
       "        text-align: right;\n",
       "    }\n",
       "\n",
       "    .dataframe thead th {\n",
       "        text-align: left;\n",
       "    }\n",
       "\n",
       "    .dataframe tbody tr th {\n",
       "        vertical-align: top;\n",
       "    }\n",
       "</style>\n",
       "<table border=\"1\" class=\"dataframe\">\n",
       "  <thead>\n",
       "    <tr style=\"text-align: right;\">\n",
       "      <th></th>\n",
       "      <th>avg_salary</th>\n",
       "    </tr>\n",
       "  </thead>\n",
       "  <tbody>\n",
       "    <tr>\n",
       "      <th>count</th>\n",
       "      <td>10727.00</td>\n",
       "    </tr>\n",
       "    <tr>\n",
       "      <th>mean</th>\n",
       "      <td>14.42</td>\n",
       "    </tr>\n",
       "    <tr>\n",
       "      <th>std</th>\n",
       "      <td>6.32</td>\n",
       "    </tr>\n",
       "    <tr>\n",
       "      <th>min</th>\n",
       "      <td>1.50</td>\n",
       "    </tr>\n",
       "    <tr>\n",
       "      <th>25%</th>\n",
       "      <td>10.00</td>\n",
       "    </tr>\n",
       "    <tr>\n",
       "      <th>50%</th>\n",
       "      <td>13.00</td>\n",
       "    </tr>\n",
       "    <tr>\n",
       "      <th>75%</th>\n",
       "      <td>18.00</td>\n",
       "    </tr>\n",
       "    <tr>\n",
       "      <th>max</th>\n",
       "      <td>80.00</td>\n",
       "    </tr>\n",
       "  </tbody>\n",
       "</table>\n",
       "</div>"
      ],
      "text/plain": [
       "       avg_salary\n",
       "count    10727.00\n",
       "mean        14.42\n",
       "std          6.32\n",
       "min          1.50\n",
       "25%         10.00\n",
       "50%         13.00\n",
       "75%         18.00\n",
       "max         80.00"
      ]
     },
     "execution_count": 135,
     "metadata": {},
     "output_type": "execute_result"
    },
    {
     "data": {
      "image/png": "[encoded data removed]",
      "text/plain": [
       "<matplotlib.figure.Figure at 0xf3145f8>"
      ]
     },
     "metadata": {},
     "output_type": "display_data"
    }
   ],
   "source": [
    "#正常显示中文标签\n",
    "plt.rcParams['font.sans-serif']=['SimHei']\n",
    "\n",
    "#画一个表示整体薪资水平的箱线图\n",
    "fig,ax = plt.subplots(figsize=(8,5),dpi=80)\n",
    "ax.boxplot(df[\"avg_salary\"],showmeans=True)\n",
    "\n",
    "#对薪资的描述性统计\n",
    "df[[\"avg_salary\"]].describe().round(2)"
   ]
  },
  {
   "cell_type": "markdown",
   "metadata": {},
   "source": [
    "结论：程序员的平均薪资为14.42k，1/4的程序员薪资低于10k，还有1/4的程序员薪资高于18k，有一半的程序员薪资落在10-18k之间，根据均值、标准差和经验法则可知大约2/3的程序员薪资在[8k,20k]之间，均值略高于中位值，说明薪资是有偏的且是偏向于高的那一边，圆圈表示的异常值都在30k以上，这些异常的薪资基本上就是要招一些程序员大佬级别的，最高薪资的是80k，那就是大佬中的大佬。"
   ]
  },
  {
   "cell_type": "markdown",
   "metadata": {},
   "source": [
    "## 2.不同城市的程序员薪资水平比较（多个箱线图）"
   ]
  },
  {
   "cell_type": "code",
   "execution_count": 136,
   "metadata": {},
   "outputs": [
    {
     "data": {
      "text/html": [
       "<div>\n",
       "<style>\n",
       "    .dataframe thead tr:only-child th {\n",
       "        text-align: right;\n",
       "    }\n",
       "\n",
       "    .dataframe thead th {\n",
       "        text-align: left;\n",
       "    }\n",
       "\n",
       "    .dataframe tbody tr th {\n",
       "        vertical-align: top;\n",
       "    }\n",
       "</style>\n",
       "<table border=\"1\" class=\"dataframe\">\n",
       "  <thead>\n",
       "    <tr style=\"text-align: right;\">\n",
       "      <th></th>\n",
       "      <th>company_name</th>\n",
       "      <th>city</th>\n",
       "      <th>company_type</th>\n",
       "      <th>company_size</th>\n",
       "      <th>education</th>\n",
       "      <th>position_name</th>\n",
       "      <th>Language</th>\n",
       "      <th>work_year</th>\n",
       "      <th>avg_salary</th>\n",
       "    </tr>\n",
       "  </thead>\n",
       "  <tbody>\n",
       "    <tr>\n",
       "      <th>4613</th>\n",
       "      <td>天会智数</td>\n",
       "      <td>上海</td>\n",
       "      <td>初创型(未融资)</td>\n",
       "      <td>50-150人</td>\n",
       "      <td>大专</td>\n",
       "      <td>Java开发</td>\n",
       "      <td>Java</td>\n",
       "      <td>3-5年</td>\n",
       "      <td>20.0</td>\n",
       "    </tr>\n",
       "    <tr>\n",
       "      <th>7286</th>\n",
       "      <td>异瀚数码</td>\n",
       "      <td>上海</td>\n",
       "      <td>成长型(B轮)</td>\n",
       "      <td>150-500人</td>\n",
       "      <td>本科</td>\n",
       "      <td>C++开发工程师</td>\n",
       "      <td>C++</td>\n",
       "      <td>1-3年</td>\n",
       "      <td>11.5</td>\n",
       "    </tr>\n",
       "    <tr>\n",
       "      <th>1320</th>\n",
       "      <td>上海竞恩网络科技有限公司</td>\n",
       "      <td>上海</td>\n",
       "      <td>成长型(不需要融资)</td>\n",
       "      <td>50-150人</td>\n",
       "      <td>不限</td>\n",
       "      <td>PHP开发工程师</td>\n",
       "      <td>PHP</td>\n",
       "      <td>1-3年</td>\n",
       "      <td>15.0</td>\n",
       "    </tr>\n",
       "    <tr>\n",
       "      <th>1319</th>\n",
       "      <td>上海葵典云软件有限公司</td>\n",
       "      <td>上海</td>\n",
       "      <td>初创型(未融资)</td>\n",
       "      <td>500-2000人</td>\n",
       "      <td>大专</td>\n",
       "      <td>PHP开发工程师</td>\n",
       "      <td>PHP</td>\n",
       "      <td>1-3年</td>\n",
       "      <td>12.5</td>\n",
       "    </tr>\n",
       "    <tr>\n",
       "      <th>7276</th>\n",
       "      <td>智慧树网</td>\n",
       "      <td>上海</td>\n",
       "      <td>成长型(B轮)</td>\n",
       "      <td>500-2000人</td>\n",
       "      <td>本科</td>\n",
       "      <td>C++开发工程师</td>\n",
       "      <td>C++</td>\n",
       "      <td>3-5年</td>\n",
       "      <td>15.0</td>\n",
       "    </tr>\n",
       "  </tbody>\n",
       "</table>\n",
       "</div>"
      ],
      "text/plain": [
       "      company_name city company_type company_size education position_name  \\\n",
       "4613          天会智数   上海     初创型(未融资)      50-150人        大专        Java开发   \n",
       "7286          异瀚数码   上海      成长型(B轮)     150-500人        本科      C++开发工程师   \n",
       "1320  上海竞恩网络科技有限公司   上海   成长型(不需要融资)      50-150人        不限      PHP开发工程师   \n",
       "1319   上海葵典云软件有限公司   上海     初创型(未融资)    500-2000人        大专      PHP开发工程师   \n",
       "7276          智慧树网   上海      成长型(B轮)    500-2000人        本科      C++开发工程师   \n",
       "\n",
       "     Language work_year  avg_salary  \n",
       "4613     Java      3-5年        20.0  \n",
       "7286      C++      1-3年        11.5  \n",
       "1320      PHP      1-3年        15.0  \n",
       "1319      PHP      1-3年        12.5  \n",
       "7276      C++      3-5年        15.0  "
      ]
     },
     "execution_count": 136,
     "metadata": {},
     "output_type": "execute_result"
    }
   ],
   "source": [
    "df_city.head()"
   ]
  },
  {
   "cell_type": "code",
   "execution_count": 153,
   "metadata": {},
   "outputs": [
    {
     "data": {
      "text/plain": [
       "array(['广州', '深圳', '成都', '武汉', '北京', '南京', '苏州', '上海', '西安', '杭州', '长沙'], dtype=object)"
      ]
     },
     "execution_count": 153,
     "metadata": {},
     "output_type": "execute_result"
    }
   ],
   "source": [
    "city_level"
   ]
  },
  {
   "cell_type": "code",
   "execution_count": 156,
   "metadata": {
    "scrolled": false
   },
   "outputs": [
    {
     "data": {
      "image/png": "[encoded data removed]",
      "text/plain": [
       "<matplotlib.figure.Figure at 0xeda0048>"
      ]
     },
     "metadata": {},
     "output_type": "display_data"
    }
   ],
   "source": [
    "#正常显示中文标签\n",
    "plt.rcParams['font.sans-serif']=['SimHei']\n",
    "\n",
    "df_city = df.sort_values(\"city\")\n",
    "\n",
    "#通过for循环将不同城市的薪资分别存储到列表salary中\n",
    "salary = []\n",
    "city_level = df[\"city\"].unique()\n",
    "for i in city_level:\n",
    "    salary.append(df_city.loc[df_city[\"city\"] == i,\"avg_salary\"])\n",
    "\n",
    "#画箱线图\n",
    "fig,ax = plt.subplots(figsize=(12,8),dpi=75)\n",
    "ax.boxplot(salary,labels=city_level)\n",
    "ax.tick_params(top=\"off\")"
   ]
  },
  {
   "cell_type": "code",
   "execution_count": 138,
   "metadata": {},
   "outputs": [
    {
     "data": {
      "text/html": [
       "<div>\n",
       "<style>\n",
       "    .dataframe thead tr:only-child th {\n",
       "        text-align: right;\n",
       "    }\n",
       "\n",
       "    .dataframe thead th {\n",
       "        text-align: left;\n",
       "    }\n",
       "\n",
       "    .dataframe tbody tr th {\n",
       "        vertical-align: top;\n",
       "    }\n",
       "</style>\n",
       "<table border=\"1\" class=\"dataframe\">\n",
       "  <thead>\n",
       "    <tr style=\"text-align: right;\">\n",
       "      <th></th>\n",
       "      <th>count</th>\n",
       "      <th>mean</th>\n",
       "      <th>std</th>\n",
       "      <th>min</th>\n",
       "      <th>25%</th>\n",
       "      <th>50%</th>\n",
       "      <th>75%</th>\n",
       "      <th>max</th>\n",
       "    </tr>\n",
       "    <tr>\n",
       "      <th>city</th>\n",
       "      <th></th>\n",
       "      <th></th>\n",
       "      <th></th>\n",
       "      <th></th>\n",
       "      <th></th>\n",
       "      <th></th>\n",
       "      <th></th>\n",
       "      <th></th>\n",
       "    </tr>\n",
       "  </thead>\n",
       "  <tbody>\n",
       "    <tr>\n",
       "      <th>北京</th>\n",
       "      <td>1832.0</td>\n",
       "      <td>19.007915</td>\n",
       "      <td>6.662010</td>\n",
       "      <td>1.5</td>\n",
       "      <td>15.0</td>\n",
       "      <td>20.0</td>\n",
       "      <td>22.500</td>\n",
       "      <td>50.0</td>\n",
       "    </tr>\n",
       "    <tr>\n",
       "      <th>上海</th>\n",
       "      <td>1409.0</td>\n",
       "      <td>17.322214</td>\n",
       "      <td>5.916423</td>\n",
       "      <td>1.5</td>\n",
       "      <td>13.5</td>\n",
       "      <td>17.5</td>\n",
       "      <td>20.500</td>\n",
       "      <td>55.0</td>\n",
       "    </tr>\n",
       "    <tr>\n",
       "      <th>杭州</th>\n",
       "      <td>1132.0</td>\n",
       "      <td>15.314046</td>\n",
       "      <td>6.784162</td>\n",
       "      <td>1.5</td>\n",
       "      <td>11.5</td>\n",
       "      <td>15.0</td>\n",
       "      <td>19.125</td>\n",
       "      <td>80.0</td>\n",
       "    </tr>\n",
       "    <tr>\n",
       "      <th>深圳</th>\n",
       "      <td>1472.0</td>\n",
       "      <td>16.147418</td>\n",
       "      <td>5.731828</td>\n",
       "      <td>1.5</td>\n",
       "      <td>12.0</td>\n",
       "      <td>15.0</td>\n",
       "      <td>20.000</td>\n",
       "      <td>60.0</td>\n",
       "    </tr>\n",
       "    <tr>\n",
       "      <th>南京</th>\n",
       "      <td>670.0</td>\n",
       "      <td>11.817910</td>\n",
       "      <td>4.233609</td>\n",
       "      <td>1.5</td>\n",
       "      <td>9.0</td>\n",
       "      <td>11.5</td>\n",
       "      <td>14.000</td>\n",
       "      <td>30.0</td>\n",
       "    </tr>\n",
       "    <tr>\n",
       "      <th>广州</th>\n",
       "      <td>1296.0</td>\n",
       "      <td>12.309799</td>\n",
       "      <td>4.770231</td>\n",
       "      <td>1.5</td>\n",
       "      <td>9.0</td>\n",
       "      <td>11.5</td>\n",
       "      <td>15.000</td>\n",
       "      <td>45.0</td>\n",
       "    </tr>\n",
       "    <tr>\n",
       "      <th>苏州</th>\n",
       "      <td>284.0</td>\n",
       "      <td>11.346831</td>\n",
       "      <td>3.923782</td>\n",
       "      <td>2.5</td>\n",
       "      <td>8.0</td>\n",
       "      <td>11.5</td>\n",
       "      <td>14.125</td>\n",
       "      <td>22.5</td>\n",
       "    </tr>\n",
       "    <tr>\n",
       "      <th>成都</th>\n",
       "      <td>903.0</td>\n",
       "      <td>10.978959</td>\n",
       "      <td>4.339219</td>\n",
       "      <td>1.5</td>\n",
       "      <td>8.0</td>\n",
       "      <td>11.0</td>\n",
       "      <td>12.500</td>\n",
       "      <td>45.0</td>\n",
       "    </tr>\n",
       "    <tr>\n",
       "      <th>武汉</th>\n",
       "      <td>733.0</td>\n",
       "      <td>10.257162</td>\n",
       "      <td>3.536553</td>\n",
       "      <td>1.5</td>\n",
       "      <td>7.5</td>\n",
       "      <td>10.0</td>\n",
       "      <td>12.000</td>\n",
       "      <td>23.0</td>\n",
       "    </tr>\n",
       "    <tr>\n",
       "      <th>西安</th>\n",
       "      <td>578.0</td>\n",
       "      <td>10.063149</td>\n",
       "      <td>3.853569</td>\n",
       "      <td>1.5</td>\n",
       "      <td>7.5</td>\n",
       "      <td>10.0</td>\n",
       "      <td>12.000</td>\n",
       "      <td>27.0</td>\n",
       "    </tr>\n",
       "    <tr>\n",
       "      <th>长沙</th>\n",
       "      <td>418.0</td>\n",
       "      <td>9.578947</td>\n",
       "      <td>3.183589</td>\n",
       "      <td>2.5</td>\n",
       "      <td>7.5</td>\n",
       "      <td>9.0</td>\n",
       "      <td>11.500</td>\n",
       "      <td>25.0</td>\n",
       "    </tr>\n",
       "  </tbody>\n",
       "</table>\n",
       "</div>"
      ],
      "text/plain": [
       "       count       mean       std  min   25%   50%     75%   max\n",
       "city                                                            \n",
       "北京    1832.0  19.007915  6.662010  1.5  15.0  20.0  22.500  50.0\n",
       "上海    1409.0  17.322214  5.916423  1.5  13.5  17.5  20.500  55.0\n",
       "杭州    1132.0  15.314046  6.784162  1.5  11.5  15.0  19.125  80.0\n",
       "深圳    1472.0  16.147418  5.731828  1.5  12.0  15.0  20.000  60.0\n",
       "南京     670.0  11.817910  4.233609  1.5   9.0  11.5  14.000  30.0\n",
       "广州    1296.0  12.309799  4.770231  1.5   9.0  11.5  15.000  45.0\n",
       "苏州     284.0  11.346831  3.923782  2.5   8.0  11.5  14.125  22.5\n",
       "成都     903.0  10.978959  4.339219  1.5   8.0  11.0  12.500  45.0\n",
       "武汉     733.0  10.257162  3.536553  1.5   7.5  10.0  12.000  23.0\n",
       "西安     578.0  10.063149  3.853569  1.5   7.5  10.0  12.000  27.0\n",
       "长沙     418.0   9.578947  3.183589  2.5   7.5   9.0  11.500  25.0"
      ]
     },
     "execution_count": 138,
     "metadata": {},
     "output_type": "execute_result"
    }
   ],
   "source": [
    "#城市薪资的描述性统计\n",
    "df_city.groupby(\"city\").describe()[\"avg_salary\"].sort_values(\"50%\",ascending=False)"
   ]
  },
  {
   "cell_type": "markdown",
   "metadata": {},
   "source": [
    "其实用pandas绘图来做更简单方便"
   ]
  },
  {
   "cell_type": "code",
   "execution_count": 159,
   "metadata": {},
   "outputs": [
    {
     "data": {
      "text/plain": [
       "<matplotlib.axes._subplots.AxesSubplot at 0xf0f32e8>"
      ]
     },
     "execution_count": 159,
     "metadata": {},
     "output_type": "execute_result"
    },
    {
     "data": {
      "image/png": "[encoded data removed]",
      "text/plain": [
       "<matplotlib.figure.Figure at 0xdcfacf8>"
      ]
     },
     "metadata": {},
     "output_type": "display_data"
    }
   ],
   "source": [
    "#正常显示中文标签\n",
    "plt.rcParams['font.sans-serif']=['SimHei']\n",
    "\n",
    "df.boxplot(column=\"avg_salary\",by=\"city\",figsize=(12,8),fontsize=15)"
   ]
  }
 ],
 "metadata": {
  "kernelspec": {
   "display_name": "Python 3",
   "language": "python",
   "name": "python3"
  },
  "language_info": {
   "codemirror_mode": {
    "name": "ipython",
    "version": 3
   },
   "file_extension": ".py",
   "mimetype": "text/x-python",
   "name": "python",
   "nbconvert_exporter": "python",
   "pygments_lexer": "ipython3",
   "version": "3.6.5"
  }
 },
 "nbformat": 4,
 "nbformat_minor": 2
}
