{
 "cells": [
  {
   "cell_type": "markdown",
   "metadata": {},
   "source": [
    "# 数据结构算法题"
   ]
  },
  {
   "cell_type": "markdown",
   "metadata": {},
   "source": [
    "## 3n+1猜想"
   ]
  },
  {
   "cell_type": "code",
   "execution_count": 4,
   "metadata": {},
   "outputs": [
    {
     "name": "stdout",
     "output_type": "stream",
     "text": [
      "请输入数:3\n",
      "步数是: 5\n"
     ]
    }
   ],
   "source": [
    "n = int(input(\"请输入数:\"))\n",
    "step = 0\n",
    "while(n != 1):\n",
    "    if(n%2 == 0):\n",
    "        n = n/2\n",
    "    else:\n",
    "        n = (3*n+1)/2\n",
    "    step += 1\n",
    "print(\"步数是:\",step)"
   ]
  },
  {
   "cell_type": "markdown",
   "metadata": {},
   "source": [
    "## 挖机技术哪家强"
   ]
  },
  {
   "cell_type": "code",
   "execution_count": 7,
   "metadata": {},
   "outputs": [
    {
     "name": "stdout",
     "output_type": "stream",
     "text": [
      "请输入数:3\n",
      "1 2\n",
      "2 1\n",
      "1 1\n",
      "最大值是3，编号是1\n"
     ]
    }
   ],
   "source": [
    "info = {}#空字典，键是学校，值是分数\n",
    "n = int(input(\"请输入数:\"))\n",
    "for i in range(n):\n",
    "    k,v = input().split()#空格字符为分隔符\n",
    "    if(k in info):\n",
    "        info[k] = info[k] + int(v)\n",
    "    else:\n",
    "        info[k] = int(v)\n",
    "maxNum = -1#初始化最大值\n",
    "maxid = ''#初始化编号\n",
    "for i in  info:\n",
    "    if(info[i] > maxNum):\n",
    "        maxNum = info[i]\n",
    "        maxid = i\n",
    "print(\"最大值是{0}，编号是{1}\".format(maxNum,maxid))"
   ]
  },
  {
   "cell_type": "markdown",
   "metadata": {},
   "source": [
    "# 绘制字符正方形"
   ]
  },
  {
   "cell_type": "code",
   "execution_count": 18,
   "metadata": {},
   "outputs": [
    {
     "name": "stdout",
     "output_type": "stream",
     "text": [
      "请输入:6 a\n",
      "aaaaaa\n",
      "a    a\n",
      "aaaaaa"
     ]
    }
   ],
   "source": [
    "col,alp = input(\"请输入:\").split()\n",
    "col = int(col)\n",
    "if(col%2 == 1):\n",
    "    row = col//2 + 1\n",
    "else:\n",
    "    row = col//2\n",
    "#输出第一行\n",
    "for i in range(col):\n",
    "    print(alp,end=\"\")\n",
    "print(\"\")#输出空白，相当于换行，与/n有所不同\n",
    "#输出中间行\n",
    "for i in range(row-2):\n",
    "    print(alp,end='')\n",
    "    for j in range(col-2):\n",
    "        print(\" \",end='')\n",
    "    print(alp)#此时不需要加end参数\n",
    "#输出最后一行\n",
    "for i in range(col):\n",
    "    print(alp,end=\"\")"
   ]
  },
  {
   "cell_type": "markdown",
   "metadata": {},
   "source": [
    "## D进制的A+B"
   ]
  },
  {
   "cell_type": "code",
   "execution_count": 15,
   "metadata": {},
   "outputs": [
    {
     "name": "stdout",
     "output_type": "stream",
     "text": [
      "请输入:10 0 8\n"
     ]
    },
    {
     "data": {
      "text/plain": [
       "'12'"
      ]
     },
     "execution_count": 15,
     "metadata": {},
     "output_type": "execute_result"
    }
   ],
   "source": [
    "a,b,d = input(\"请输入:\").split()\n",
    "a = int(a)\n",
    "b = int(b)\n",
    "d = int(d)\n",
    "sums = a + b\n",
    "ans = []\n",
    "if(sums==0):#考虑两个0相加\n",
    "    print(0)\n",
    "while(sums!=0):\n",
    "    q = sums % d\n",
    "    ans.append(str(q))#用列表存储余数\n",
    "    sums //= d\n",
    "\"\".join(ans[::-1])"
   ]
  },
  {
   "cell_type": "markdown",
   "metadata": {},
   "source": [
    "## 回文串"
   ]
  },
  {
   "cell_type": "code",
   "execution_count": null,
   "metadata": {},
   "outputs": [],
   "source": [
    "strs = input(\"请输入一段字符串\")\n",
    "length = len(strs)\n",
    "flag = 91 #标志，默认是回文串\n",
    "for i in range(length//2):\n",
    "    if(strs[i] != strs[length-1-i]):\n",
    "        print('No')\n",
    "        flag=0\n",
    "        break\n",
    "if flag:\n",
    "    print(\"Yes\")"
   ]
  },
  {
   "cell_type": "markdown",
   "metadata": {},
   "source": [
    "## 判断一个序列的值的个数是否超过一半"
   ]
  },
  {
   "cell_type": "code",
   "execution_count": 4,
   "metadata": {},
   "outputs": [
    {
     "data": {
      "text/plain": [
       "4"
      ]
     },
     "execution_count": 4,
     "metadata": {},
     "output_type": "execute_result"
    }
   ],
   "source": [
    "def if_more_half(lst):\n",
    "    key = lst[0]\n",
    "    count = 1\n",
    "    for item in lst[1:]:\n",
    "        if(key==item):\n",
    "            count +=1;\n",
    "        else:\n",
    "            count -=1\n",
    "        if(count==-1):\n",
    "            key = item\n",
    "            count = 1\n",
    "    flag = 1\n",
    "    for item in lst:\n",
    "        if(key==item):\n",
    "            flag += 1\n",
    "        else:\n",
    "            flag -= 1\n",
    "    if(flag>=1):\n",
    "        return key\n",
    "    else:\n",
    "        return 0\n",
    "if_more_half([4,4,4,4,4,2,2,1,1])"
   ]
  },
  {
   "cell_type": "markdown",
   "metadata": {},
   "source": [
    "# 爬虫实战案例"
   ]
  },
  {
   "cell_type": "code",
   "execution_count": null,
   "metadata": {},
   "outputs": [],
   "source": []
  }
 ],
 "metadata": {
  "kernelspec": {
   "display_name": "Python 3",
   "language": "python",
   "name": "python3"
  },
  "language_info": {
   "codemirror_mode": {
    "name": "ipython",
    "version": 3
   },
   "file_extension": ".py",
   "mimetype": "text/x-python",
   "name": "python",
   "nbconvert_exporter": "python",
   "pygments_lexer": "ipython3",
   "version": "3.6.5"
  }
 },
 "nbformat": 4,
 "nbformat_minor": 2
}
