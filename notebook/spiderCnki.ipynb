{
 "cells": [
  {
   "cell_type": "code",
   "execution_count": 1,
   "metadata": {},
   "outputs": [],
   "source": [
    "import pandas as pd"
   ]
  },
  {
   "cell_type": "code",
   "execution_count": 2,
   "metadata": {},
   "outputs": [
    {
     "data": {
      "text/plain": [
       "[    0                                                  1\n",
       " 0 NaN  (  主题  关键词  篇名  摘要  全文  被引文献  中图分类号  DOI  栏目信息...]"
      ]
     },
     "execution_count": 2,
     "metadata": {},
     "output_type": "execute_result"
    }
   ],
   "source": [
    "pd.read_html(\"http://kns.cnki.net/kns/brief/result.aspx?dbprefix=CJFQ\")"
   ]
  },
  {
   "cell_type": "code",
   "execution_count": 1,
   "metadata": {},
   "outputs": [],
   "source": [
    "import requests"
   ]
  },
  {
   "cell_type": "code",
   "execution_count": 11,
   "metadata": {},
   "outputs": [],
   "source": [
    "user_agent = \"Mozilla/5.0 (Windows NT 10.0; WOW64) AppleWebKit/537.36 (KHTML, like Gecko) Chrome/49.0.2623.22 Safari/537.36 SE 2.X MetaSr 1.0\""
   ]
  },
  {
   "cell_type": "code",
   "execution_count": 8,
   "metadata": {},
   "outputs": [],
   "source": [
    "Referer = \"http://kns.cnki.net/kns/brief/brief.aspx?pagename=ASP.brief_result_aspx&isinEn=1&dbPrefix=CJFQ&dbCatalog=%e4%b8%ad%e5%9b%bd%e5%ad%a6%e6%9c%af%e6%9c%9f%e5%88%8a%e7%bd%91%e7%bb%9c%e5%87%ba%e7%89%88%e6%80%bb%e5%ba%93&ConfigFile=CJFQ.xml&research=off&t=1541645048301&keyValue=&S=1&sorttype=&DisplayMode=listmode\""
   ]
  },
  {
   "cell_type": "code",
   "execution_count": 9,
   "metadata": {},
   "outputs": [],
   "source": [
    "cookie = \"UM_distinctid=16362b38182134-0b41230d3392f7-6776a51-100200-16362b38183176; cnkiUserKey=e8061a51-69dd-4f7c-25da-086381dccb54; Ecp_ClientId=5180515152802715190; _pk_id=14bf67ee-3a41-442a-9936-36ecb14bad3b.1526369322.1.1526369557.1526369322.; RsPerPage=20; KNS_DisplayModel=listmode@CJFQ; CNZZDATA3258975=cnzz_eid%3D2147175785-1526366807-http%253A%252F%252Fxueshu.baidu.com%252F%26ntime%3D1541595127; Ecp_IpLoginFail=18110758.243.250.244; ASP.NET_SessionId=lgf4mopzgjkf3j0px1bppive; SID_kns=123120; SID_kinfo=125104; SID_klogin=125143; _pk_ref=%5B%22%22%2C%22%22%2C1541643768%2C%22http%3A%2F%2Fcnki.cyu.edu.cn%2F%22%5D; SID_krsnew=125131; _pk_ses=*; KNS_SortType=CJFQ%21%28%25e8%25a2%25ab%25e5%25bc%2595%25e9%25a2%2591%25e6%25ac%25a1%252c%2527INTEGER%2527%29+desc\""
   ]
  },
  {
   "cell_type": "code",
   "execution_count": 12,
   "metadata": {},
   "outputs": [],
   "source": [
    "header = {\"User-Agent\":user_agent,\"Referer\":Referer,\"Cookie\":cookie}"
   ]
  },
  {
   "cell_type": "code",
   "execution_count": 13,
   "metadata": {},
   "outputs": [],
   "source": [
    "s = requests.get(\"http://kns.cnki.net/kns/brief/brief.aspx?pagename=ASP.brief_result_aspx&isinEn=1&dbPrefix=CJFQ&dbCatalog=中国学术期刊网络出版总库&ConfigFile=CJFQ.xml&research=off&t=1541645048301&keyValue=&S=1&DisplayMode=listmode&sorttype=(被引频次%2c%27INTEGER%27)+desc&queryid=0\",headers=header)"
   ]
  },
  {
   "cell_type": "code",
   "execution_count": 14,
   "metadata": {},
   "outputs": [
    {
     "data": {
      "text/plain": [
       "'\\r\\n\\r\\n<!DOCTYPE html PUBLIC \"-//W3C//DTD XHTML 1.0 Transitional//EN\" \"http://www.w3.org/TR/xhtml1/DTD/xhtml1-transitional.dtd\">\\r\\n<html xmlns=\"http://www.w3.org/1999/xhtml\">\\r\\n<head>\\r\\n    <meta http-equiv=\"content-type\" content=\"text/html; charset=UTF-8\" />\\r\\n    <title>概览页</title>\\r\\n    <meta content=\"no-cache\" http-equiv=\"pragma\" />\\r\\n    <link rel=\"stylesheet\" type=\"text/css\" href=\"http://piccache.cnki.net/kdn/nvsmkns/css/gb_min/BriefComp.min.css?v=\" />\\r\\n    <script type=\"text/javascript\" src=\"http://piccache.cnki.net/kdn/nvsmkns/script/jquery-1.4.2.min.js\"></script>\\r\\n    <script type=\"text/javascript\" src=\"http://piccache.cnki.net/kdn/nvsmkns/script/min/gb.BriefPage.min.js?v=D59787997F3B8FCE\" ></script>\\r\\n    \\r\\n</head>\\r\\n<body leftmargin=\"0\" onload=\"BriefOnload();\" topmargin=\"0\" onkeydown=\"grabEvent(event);\">\\r\\n    <script type=\"text/javascript\" src=\"http://piccache.cnki.net/kdn/nvsmkns/script/WideScreen.js\"></script>\\r\\n    <form name=\"ctl00\" method=\"post\" action=\"brief.aspx?pagename=ASP.brief_result_aspx&amp;isinEn=1&amp;dbPrefix=CJFQ&amp;dbCatalog=%u4e2d%u56fd%u5b66%u672f%u671f%u520a%u7f51%u7edc%u51fa%u7248%u603b%u5e93&amp;ConfigFile=CJFQ.xml&amp;research=off&amp;t=1541645048301&amp;keyValue=&amp;S=1&amp;DisplayMode=listmode&amp;sorttype=(%u88ab%u5f15%u9891%u6b21%2c%27INTEGER%27)+desc&amp;queryid=0\" id=\"ctl00\">\\r\\n<div>\\r\\n<input type=\"hidden\" name=\"__VIEWSTATE\" id=\"__VIEWSTATE\" value=\"/wEPDwULLTEwMjEzMjM0NDQPFgIeE1ZhbGlkYXRlUmVxdWVzdE1vZGUCAWRkFUnlzL67PJ732+B92mn+7Gnt2TiRI1Jktu/5SQeLy1w=\" />\\r\\n</div>\\r\\n\\r\\n<div>\\r\\n\\r\\n\\t<input type=\"hidden\" name=\"__EVENTVALIDATION\" id=\"__EVENTVALIDATION\" value=\"/wEdAAIdIRdFWpKA4BYUdQL6KgtZbgvJz/EQj5rQumcYDL2xlhbi/alS8mbfX8EEY1efJIm0syhzU+O3mZ5ahqVI454K\" />\\r\\n</div>\\r\\n        <input type=\"hidden\" id=\"SqlValue\" name=\"SqlValue\" value=\"2827E4B6502D8710744CC7825A00F3F82BAB6FF9F49C28A8C06DBD3C5D73A36E7A6B95F18DA4019E021F3F1691F6B0A03B99C056E48A0254F8D0AFE1AAB57A9BFDCBBFFEEAAFA080E188818637CF6AADB3910F9CB0D5384C288BBBD10EE5B756BFAE86E762F5587544067EFCB6335F1551B1752FED7007F87C0B189BCBDCC7BE77990692847290A31683F1740CAEB6813A36CD82B24F15A134FFABD5C21AD1916B21B4EF051D2B30EC28C39269062DF1BB5BD168E58B13414E9341EF81776598C235BE72F4E4710B5B3E45B9193B2BD5BB70204AD402B4C20B6C1945DC72460962917220310F714472D6E023C879AE47FA8D736DD1EE6E2952EC2B613499428250B653B82B2154B6735EA413D7EB055B1CFB6824C3CA49AA3C8722D4DB090026ECF20B02CC386EB14376ED55FCD312FFDC405ACE578C6B679995E60E6594A2C34546027DE19B5B1D96C88F8FB2E7B45FA5C392FA8F664B09D444E054B4123A7C726BD952DF5AA52FF11229F5267CF6407A5CA8BBAA1C86B9AEDF34B2C63B663251E690FD0E1839EAFF87182CEDE1644551E0E6DD47919B7D6C2A985994555CAADD8BD27DD640F786F2068738F347B4E1285F7031F3FE270E1A1903C50E467A5F7C49926AD463B0926097A08CD3BEF53040C4EB8344524D5C89B6114AD4F8E0FBF26EC6CE4A23671C033562240A64DC60ECB1094055FAD04B0E6129D82AC51EB0992F687F9E8A0806E2811F2CF59B3C7F11BD615F029F9D4E6BD9313B0BDDB5941871F21B2F44B731E8D19C71293EF729EFF20F0CEE6D45B5B6A8D0AEFEC5FEB63F952E81F3EF34D4E7125E44DB057F75C8BBEE924743E80D1F54022E65744EEE4C1F9C5405048E4CA985110B89A64205DE9AE9144B68D1C03F196423321673888757111BB20F4AD50CCF989A426100D39588FE8A31F1D24A1E432BC470AAFA28A7FBDBF797ECB7236F0860712E248BBEF2331D413C220A0D47C84F46E55A6A1B6B934F381AA1FDC9532869A0E36E6CF5D5B5AD9D120479F223552F20405793B3D3848ABD1BD171C0392C1D8BD1A50C2AADAEA030C316CFD53935D8C7D0CB73C4BBA78F5A8750CF852C2C996D31EA0BF52B7B4086A7B0D2D42FA592AA534EE04E7F3CEE888285E6DA2F4C8C8C73E012EA33F12F200E49CA61B8069CD2537D9EC031EFD3E23D62A2D8BAB21FBAC8353DC322770514FC329F44B8CC22984486C94C11EF726EC470E3FC5E9C3DA5D80F98EE7522ABE433FA79603380E9282FB44C6B43A89948FA0C121D86617CB5D505150D\" />\\r\\n        <input type=\"hidden\" id=\"txtValue\" value=\"\" />\\r\\n        <input type=\"hidden\" id=\"LoginState\" value=\"-1\" />\\r\\n        <input type=\"hidden\" id=\"userid\" value=\"\" />\\r\\n        <input type=\"hidden\" id=\"resultcount\" name=\"resultcount\" value=\"96\" />\\r\\n        <input type=\"hidden\" id=\"crrsUrl\" name=\"crrsUrl\" value=\"http://kns.cnki.net/CRRS/\" />\\r\\n        <input type=\"hidden\" id=\"krsUrl\" name=\"krsUrl\" value=\"http://kns.cnki.net/KRS\" />\\r\\n        <input id=\"crrsPath\" type=\"hidden\" name=\"crrsPath\" value=\\'http://kns.cnki.net/CRRS/\\' />\\r\\n        <input id=\"bathPath\" type=\"hidden\" name=\"bathPath\" value=\\'/kns\\' />\\r\\n        <input id=\"dbCode\" type=\"hidden\" name=\"dbCode\" value=\\'CJFQ\\' />\\r\\n        <input id=\"deliveryPath\" type=\"hidden\" name=\"deliveryPath\" value=\\'\\' />\\r\\n        <input id=\"mycnkiUrl\" type=\"hidden\" name=\"mycnkiUrl\" value=\\'http://kns.cnki.net/KMycnki/Mycnki/index/\\' />\\r\\n        <input id=\"kredisServerPath\" type=\"hidden\" name=\"kredisServerPath\" value=\\'http://kns.cnki.net\\' />\\r\\n        <input id=\"heatjson\" type=\"hidden\" name=\"heatjson\" value=\\'\\' />\\r\\n        <input id=\"fengmianPath\" type=\"hidden\" name=\"heatjson\" value=\\'http://c61.cnki.net\\' />\\r\\n        <input id=\"crfdpicPath\" type=\"hidden\" name=\"heatjson\" value=\\'http://gongjushu.cnki.net/CRFDPIC/\\' />\\r\\n        <script type=\"text/javascript\">\\r\\n            function ShowGroup(p1, p2, p3) {\\r\\n                return parent.ShowGroup(p1, p2, p3);\\r\\n            }\\r\\n            \\r\\n    \\r\\n            $(document).ready(function () {\\r\\n\\r\\n                qkInfoCall();\\r\\n                setAuShow();\\r\\n               // GetHeat();\\r\\n                window.parent.HideWaitDiv();\\r\\n                SetFrameHeight();\\r\\n            });\\r\\n\\r\\n        </script>\\r\\n        <script language=\"JavaScript\">\\r\\n<!--\\r\\n\\tfunction OnChangePagenum(pagenum)\\r\\n\\t{\\r\\n\\t\\treturn false;\\r\\n\\t}\\r\\n//-->\\r\\n</script>\\r\\n\\r\\n<script language=\"JavaScript\">\\r\\n<!--\\r\\nfunction updateCounter() {\\r\\n}\\r\\nfunction numMarked() {\\r\\ncompany =\\t\"cnki\";\\r\\ncookie = new String(getCookie(\"FileNameS\"));\\r\\nif ((cookie.substring(0,cookie.indexOf(\":\")) != company) || cookie.length <= 5) {\\r\\nreturn 0;\\r\\n}\\r\\na=cookie.split(\",\");\\r\\n\\t\\t\\treturn a.length;\\r\\n}\\r\\nfunction getErrorMsg(count) {\\r\\ncount = count || \\'50\\';\\r\\nvar msg = \\'\\';\\r\\nif (!window.localStorage || !window.sessionStorage) {\\r\\n    msg = \\'如要选择更多，请您升级浏览器到最新版本。\\';\\r\\n} else {\\r\\n    msg = \\'不能超过\\'+count+\\'个,若要重新选择,请按清除按钮,再进行选取操作\\';\\r\\n}\\r\\nreturn msg;\\r\\n}\\r\\nfunction ClickOpen(url) {\\r\\nif (numMarked() == 0){\\r\\nalert(\\'请先选取文献\\');\\r\\nreturn;}\\r\\nwindowOpener(url);\\r\\n}\\r\\nfunction checkAll(form,stype) {\\r\\nvar limit = 500;\\r\\nif(!window.localStorage || !window.sessionStorage){ limit = 50;};\\r\\ne\\t= document.forms[0].elements;\\r\\nfor (i=0;\\ti<e.length;\\ti++) {\\r\\nif (e[i].type\\t== \"checkbox\"\\t &&\\te[i].name == \"FileNameS\")\\t{\\r\\nif (numMarked()>= limit) {\\r\\nthis.checked=false;\\r\\nalert(getErrorMsg(limit));\\r\\nreturn false;\\r\\n}\\telse {\\r\\nif (e[i].checked==false) {\\r\\nif(document.cookie.length + e[i].value.length > 4096 ){\\r\\n    alert(getErrorMsg(limit));\\r\\n    return false;}\\r\\naddToCookie(e[i].value);\\r\\ne[i].checked=true;\\r\\n}\\r\\n}\\r\\n}\\r\\n}\\r\\nupdateCounter();\\r\\nreturn true;\\r\\n}\\r\\nfunction clearAllMarks(form) {\\r\\ne\\t= document.forms[0].elements;\\r\\nfor (i=0;\\ti<e.length;\\ti++) {\\r\\nif (e[i].type\\t== \"checkbox\"\\t&&\\te[i].name == \"FileNameS\" ) {\\r\\nremoveFromCookie(e[i].value);\\r\\ne[i].checked=false;\\r\\n}\\r\\n}\\r\\nupdateCounter();\\r\\n}\\r\\n\\t\\tfunction getCookie(Name,stype) {\\r\\nif (window.localStorage || window.sessionStorage) {   if(stype==\\'2\\') return window.sessionStorage.getItem(Name);    return window.localStorage.getItem(Name);}var search = Name\\t+ \"=\";\\r\\nif (document.cookie.length > 0) {\\r\\noffset = document.cookie.indexOf(search);\\r\\nif (offset !=\\t-1)\\t{\\r\\noffset +=\\tsearch.length;\\r\\nend =\\tdocument.cookie.indexOf(\";\", offset);\\r\\nif (end == -1)\\r\\nend =\\tdocument.cookie.length;\\r\\nreturn unescape(document.cookie.substring(offset,\\tend));\\r\\n}\\r\\n}\\r\\n}\\r\\nfunction setCookie(name, value,stype) {\\r\\nif (window.localStorage || window.sessionStorage){\\r\\n  if(stype == \\'2\\'){  window.sessionStorage.setItem(name, value );}\\r\\n  else{  localStorage.setItem(name, value );}\\r\\n    return true;\\r\\n}\\r\\nvar cookieValue = name + \"=\" + escape(value)+\";\"+\"path=/\";\\r\\nif(cookieValue.length  > 4096 ){\\r\\n    return false;}\\r\\ndocument.cookie =\\tcookieValue ;\\r\\nreturn true;}\\r\\nfunction getTableNameFileNames(s){\\r\\n if (!s || s.length <= 0) {  return \\'\\'; }\\r\\n var tempArr = s.split(\\'!\\');\\r\\n if (tempArr.length == 4) {\\r\\nreturn tempArr[0] + \\'!\\' + tempArr[1];}\\r\\nreturn \\'\\';}\\r\\nfunction handlerRegexSpcileChar(input) {\\r\\n  if (input) {\\r\\n     return input.replace(/[\\\\(|\\\\)|\\\\+|\\\\.|\\\\*]/g, function (m) { return \\'\\\\\\\\\\' + m;});\\r\\n  }\\r\\n  return input;\\r\\n}\\r\\nfunction addToCookie(v) {\\r\\ncompany =\\t\"cnki\";\\r\\ncookie= new String(getCookie(\"FileNameS\"));\\r\\nif ((cookie.length > 0) && ((cookie.substring(0,cookie.indexOf(\\':\\')) == company))){\\r\\n var tableFileNames = getTableNameFileNames(v);\\r\\n tableFileNames = handlerRegexSpcileChar(tableFileNames);\\r\\n var re = new RegExp(tableFileNames + \\'[^,]*\\', \\'ig\\');\\r\\nif (re.test(cookie)) return;\\r\\nif (cookie.length\\t- 1\\t== cookie.indexOf(\\':\\'))\\t{\\r\\nsetCookie(\"FileNameS\", cookie+v);\\r\\n}\\telse {\\r\\n\\t\\t\\t\\t   setCookie(\"FileNameS\",\\tcookie+\",\"+v);\\r\\n\\t\\t\\t   }\\r\\n}\\telse {\\r\\nsetCookie(\"FileNameS\", company + \":\" + v);\\r\\n}\\r\\n}\\r\\nfunction removeFromCookie(v) {\\r\\nvar company =\\t\"cnki\";\\r\\nvar cookie = new String(getCookie(\"FileNameS\"));\\r\\nif (cookie.substring(0,cookie.indexOf(\\':\\')) == company) {\\r\\ncookie = cookie.substring(cookie.indexOf(\\':\\')+1,cookie.length);\\r\\n var deleteV = function (input, value) {\\r\\nre = new RegExp(\"^\"+handlerRegexSpcileChar(value)+\"$\");\\r\\ninput=input.replace(re,\\t\"\");\\r\\nre = new RegExp(\"^\"+handlerRegexSpcileChar(value)+\",\");\\r\\ninput=input.replace(re,\\t\"\");\\r\\nre = new RegExp(\",\"+handlerRegexSpcileChar(value)+\"$\");\\r\\ninput=input.replace(re,\\t\"\");\\r\\nre = new RegExp(\",\"+handlerRegexSpcileChar(value)+\",\");\\r\\ninput=input.replace(re,\\t\",\");\\r\\n return input;\\r\\n}\\r\\nvar tableFileNames = getTableNameFileNames(v);\\r\\n tableFileNames = handlerRegexSpcileChar(tableFileNames);\\r\\nif (tableFileNames && tableFileNames.length <= 0){ return; }\\r\\nvar re = new RegExp(tableFileNames + \\'[^,]*\\', \\'ig\\');\\r\\nvar tempMaths = cookie.match(re);\\r\\nif (tempMaths && tempMaths.length > 0) {\\r\\n    for (var i = 0; i < tempMaths.length; i++){\\r\\n        cookie = deleteV(cookie, tempMaths[i]);\\r\\n    }\\r\\n}\\r\\n}\\telse { cookie =\\t\"\"; }\\r\\nif (cookie!=\"\")\\t{ setCookie(\"FileNameS\", company + \":\" + cookie);}\\r\\nelse { setCookie(\"FileNameS\", company +\\t\":\");}\\r\\n}\\r\\nfunction checkMark(c)\\t{\\r\\nvar limit = 500;\\r\\nif(!window.localStorage || !window.sessionStorage){ limit = 50;};\\r\\nif (c.checked\\t== true) {\\r\\nif (numMarked()>=limit) {\\r\\nalert(getErrorMsg(limit));\\r\\nc.checked=false;\\r\\n}\\telse {\\r\\nif(document.cookie.length + c.value.length > 4096 ){\\r\\n    c.checked=false;\\r\\n    alert(getErrorMsg(limit));\\r\\n    return false;}\\r\\naddToCookie(c.value);\\r\\n}\\r\\n}else\\t{\\r\\nremoveFromCookie(c.value);\\r\\n}\\r\\nupdateCounter();\\r\\n}\\r\\n//-->\\r\\n</script>\\r\\n<script language=javascript >\\r\\nvar newWindow\\t= null\\r\\nvar newWindow2 = null\\r\\nfunction windowOpener(loadpos)\\r\\n{\\r\\nnewWindow\\t= window.open(loadpos,\"_blank\",\"toolbar=yes,resizable=yes,scrollbars=yes,dependent,location=yes,status=yes,menubar=yes,width=550,height=450\");\\r\\nnewWindow.focus();\\r\\n}\\r\\nfunction windowOpener2(loadpos)\\r\\n{\\r\\nnewWindow2 = window.open(loadpos,\"\",\"toolbar=yes,resizable=yes,scrollbars=yes,dependent,location=yes,status=yes,menubar=yes,width=550,height=450\");\\r\\n}\\r\\n</script>\\r\\n<table cellspacing=\\'0\\' cellpadding=\\'0\\'  border=\\'0\\' bgcolor=\\'\\'  bgcolor=\\'#F4F5F6\\' width=\\'100%\\'><tr><td><table id=\\'J_ORDER\\' border=0 cellspacing=0 cellpadding=0 \\twidth=100%\\talign=left  class=\\'divsearch1\\'><tr><td><table border=0 cellspacing=4\\tcellpadding=2 class=\\'taxis\\'><tr><td align=\\'left\\'><span class=\"groupsorttitle\">排序:</span><span class=\\'Btn5\\'><a    href=\"/kns/brief/brief.aspx?pagename=ASP.brief_result_aspx&isinEn=1&dbPrefix=CJFQ&dbCatalog=%E4%B8%AD%E5%9B%BD%E5%AD%A6%E6%9C%AF%E6%9C%9F%E5%88%8A%E7%BD%91%E7%BB%9C%E5%87%BA%E7%89%88%E6%80%BB%E5%BA%93&ConfigFile=CJFQ.xml&research=off&t=1541645048301&keyValue=&S=1&DisplayMode=listmode&sorttype=(FFD%2c%27RANK%27)+desc&queryid=2\">相关度</a></span><span class=\\'Btn5\\'><a    href=\"/kns/brief/brief.aspx?pagename=ASP.brief_result_aspx&isinEn=1&dbPrefix=CJFQ&dbCatalog=%E4%B8%AD%E5%9B%BD%E5%AD%A6%E6%9C%AF%E6%9C%9F%E5%88%8A%E7%BD%91%E7%BB%9C%E5%87%BA%E7%89%88%E6%80%BB%E5%BA%93&ConfigFile=CJFQ.xml&research=off&t=1541645048301&keyValue=&S=1&DisplayMode=listmode&sorttype=(%e5%8f%91%e8%a1%a8%e6%97%b6%e9%97%b4%2c%27TIME%27)+desc&queryid=2\">发表时间</a></span><span class=\\'Btn5\\'><a class=\\'cur\\'  href=\"/kns/brief/brief.aspx?pagename=ASP.brief_result_aspx&isinEn=1&dbPrefix=CJFQ&dbCatalog=%E4%B8%AD%E5%9B%BD%E5%AD%A6%E6%9C%AF%E6%9C%9F%E5%88%8A%E7%BD%91%E7%BB%9C%E5%87%BA%E7%89%88%E6%80%BB%E5%BA%93&ConfigFile=CJFQ.xml&research=off&t=1541645048301&keyValue=&S=1&DisplayMode=listmode&sorttype=(%e8%a2%ab%e5%bc%95%e9%a2%91%e6%ac%a1%2c%27INTEGER%27)&queryid=2\" title=\\'只在800万条记录以内有效\\'>被引<img src=\\'../images/gb/icon-d.gif\\' /></a></span><span class=\\'Btn5\\'><a    href=\"/kns/brief/brief.aspx?pagename=ASP.brief_result_aspx&isinEn=1&dbPrefix=CJFQ&dbCatalog=%E4%B8%AD%E5%9B%BD%E5%AD%A6%E6%9C%AF%E6%9C%9F%E5%88%8A%E7%BD%91%E7%BB%9C%E5%87%BA%E7%89%88%E6%80%BB%E5%BA%93&ConfigFile=CJFQ.xml&research=off&t=1541645048301&keyValue=&S=1&DisplayMode=listmode&sorttype=(%e4%b8%8b%e8%bd%bd%e9%a2%91%e6%ac%a1%2c%27INTEGER%27)+desc&queryid=2\">下载</a></span></td><td align=\"right\" style=\\'width:30%;\\'><div class=\\'Ch-En\\'><a class=\\'Ch\\' href=\\'javascript:void(0)\\' onclick=parent.ChEhSearch(\\'c\\',this)><i class=\\'icon\\'></i>中文文献</a><a class=\\'En\\'  href=\\'javascript:void(0)\\' onclick=parent.ChEhSearch(\\'e\\',this)><i class=\\'icon\\'></i>外文文献</a><a style=\\'display:none;\\' class=\\'\\'  href=\\'javascript:void(0)\\' onclick=parent.ChEhSearch(\\'a\\',this)><i class=\\'icon\\'></i>中英文文献</a></div><div class=\\'DivDisplayMode\\'><span class=\\'LBcur\\'><a onclick=\"DisplayModeRadioBLOnChange(\\'custommode\\'); return false;\" href=\"javascript:void(0);\">切换到摘要</a></span></div>\\r\\n<div  id=\\'id_grid_display_num\\'  class=\\'class_grid_display_num\\'>\\r\\n每页显示：<a href=\"/kns/brief/brief.aspx?pagename=ASP.brief_result_aspx&isinEn=1&dbPrefix=CJFQ&dbCatalog=%E4%B8%AD%E5%9B%BD%E5%AD%A6%E6%9C%AF%E6%9C%9F%E5%88%8A%E7%BD%91%E7%BB%9C%E5%87%BA%E7%89%88%E6%80%BB%E5%BA%93&ConfigFile=CJFQ.xml&research=off&t=1541645048301&keyValue=&S=1&DisplayMode=listmode&queryid=2&skuakuid=2&turnpage=1&recordsperpage=10\">10</a> <a href=\"/kns/brief/brief.aspx?pagename=ASP.brief_result_aspx&isinEn=1&dbPrefix=CJFQ&dbCatalog=%E4%B8%AD%E5%9B%BD%E5%AD%A6%E6%9C%AF%E6%9C%9F%E5%88%8A%E7%BD%91%E7%BB%9C%E5%87%BA%E7%89%88%E6%80%BB%E5%BA%93&ConfigFile=CJFQ.xml&research=off&t=1541645048301&keyValue=&S=1&DisplayMode=listmode&queryid=2&skuakuid=2&turnpage=1&recordsperpage=20\"><font class=\\'numNow\\'>20</font></a> <a href=\"/kns/brief/brief.aspx?pagename=ASP.brief_result_aspx&isinEn=1&dbPrefix=CJFQ&dbCatalog=%E4%B8%AD%E5%9B%BD%E5%AD%A6%E6%9C%AF%E6%9C%9F%E5%88%8A%E7%BD%91%E7%BB%9C%E5%87%BA%E7%89%88%E6%80%BB%E5%BA%93&ConfigFile=CJFQ.xml&research=off&t=1541645048301&keyValue=&S=1&DisplayMode=listmode&queryid=2&skuakuid=2&turnpage=1&recordsperpage=50\">50</a></div></td></tr></table></td></tr><tr><td><table class=\\'pageBar_top\\' border=0 cellspacing=0\\tcellpadding=0 \\twidth=100%\\talign=left ><tr><td align=left ><div class=\\'SavePoint\\'><span class=\\'cout\\'>已选文献：<em title=\\'点击查看所选文献\\' id=\\'selectCount\\' name=\\'selectCount\\' onclick=\\'if( zeroSelectTip()){saveAs();} return false;\\'>0</em><a href=\\'javascript:void(0);\\' onclick=\\'ClearAll(false);\\' class=\\'zero\\'>清除</a></span><a href=\\'javascript:void(0);\\' onclick=\\'if( zeroSelectTip()){exportBatch();} return false;\\' title=\\'批量下载所选文献\\'> 批量下载</a><a href=\\'javascript:void(0);\\' onclick=\\'if( zeroSelectTip()){exportArtical(0);} return false;\\' title=\\'生成、导出所选文献不同的引文格式\\'> 导出/参考文献</a><div id=\\'analysisBox\\' class=\\'imiSel\\'><span class=\\'imiSelCho\\'>计量可视化分析</span><ul class=\\'imiSelDp\\' style=\\'display:none;\\'><li><a href=\\'javascript:void(0);\\' onclick=\\'anisysartical(1); return false;\\' title=\\'对已选文献进行分析\\'>已选文献分析</a></li><li><a href=\\'javascript:void(0);\\' onclick=\\'anisysresult();return false;\\' title=\\'对全部检索结果集进行分析\\'>全部检索结果分析</a></li></ul></div></div></td><td align=right><div class=\\'pageBar_min\\'><div class=\\'pagerTitleCell\\'><span id=\"lbPagerTitle\" name=\"lbPagerTitle\" class=\"pagerTitle\"></span>&nbsp;找到&nbsp;96&nbsp;条结果&nbsp;</div><span class=\\'countPageMark\\'>1/5</span><span class=\\'topTurnSpan\\'><a id=\"Page_next\" href=\"?curpage=2&RecordsPerPage=20&QueryID=2&ID=&turnpage=1&tpagemode=L&dbPrefix=CJFQ&Fields=&DisplayMode=listmode&SortType=(%e8%a2%ab%e5%bc%95%e9%a2%91%e6%ac%a1%2c%27INTEGER%27)+desc&PageName=ASP.brief_result_aspx&isinEn=1#J_ORDER&\">下一页</a></span></div></td></tr></table>\\n\\n\\n</td></tr></table></td></tr><tr><td><table class=\"GridTableContent\"   align=left bgColor=#969799  Border=0  CellPadding=0  CellSpacing=0  Width=100%>\\n<tr class=\"GTContentTitle\">\\n<td   Width=\\'48px\\' align=center STYLE=\" \">\\n<input type=checkbox name=\\'selectCheckbox\\' id=\\'selectCheckbox\\' onclick=\"if(this.checked){this.checked = checkAll(\\'this.form\\');}else{clearAllMarks(this.form);}\" ></td>\\n<td   Width=\\' \\' align=center STYLE=\" \">\\n篇名</td>\\n<td   Width=\\'120px\\' align=center STYLE=\" \">\\n作者</td>\\n<td   Width=\\'12%\\' align=center STYLE=\" \">\\n刊名</td>\\n<td   Width=\\'70px\\' align=center STYLE=\" \">\\n发表时间</td>\\n<td   Width=\\'36px\\' align=center STYLE=\" \">\\n被引</td>\\n<td   Width=\\'62px\\' align=center STYLE=\" \">\\n下载</td>\\n<td   Width=\\'28px\\' align=center STYLE=\" \">\\n阅读</td>\\n</tr>\\n\\n<TR  bgcolor=#ffffff>\\n<td style=\"white-space:nowrap;\"><input type=checkbox name=FileNameS  value=\"CJFD2009!KXXG200905022!1!2\"  onclick=\"checkMark(this)\"  >1</td><td >\\r\\n      <a class=\"fz14\" href=\\'/kns/detail/detail.aspx?QueryID=2&CurRec=1&DbCode= CJFD&dbname=CJFD2009&filename=KXXG200905022&urlid=&yx=\\' target=\\'_blank\\'>创业团队内认知冲突、合作行为与公司绩效关系的实证研究</a>\\r\\n          \\r\\n                 \\r\\n          \\r\\n      </td>\\r\\n      <td class=\\'author_flag\\'>\\r\\n         <a class=\\'KnowledgeNetLink\\' href=\\'/kns/popup/knetsearchNew.aspx?sdb=CJFQ&sfield=%e4%bd%9c%e8%80%85&skey=%e5%8d%a2%e4%bf%8a%e4%b9%89&scode=22434577%3b06135618%3b06137304%3b\\' target=\"knet\">卢俊义</a>; <a class=\\'KnowledgeNetLink\\' href=\\'/kns/popup/knetsearchNew.aspx?sdb=CJFQ&sfield=%e4%bd%9c%e8%80%85&skey=%e7%a8%8b%e5%88%9a&scode=22434577%3b06135618%3b06137304%3b\\' target=\"knet\"><font class=Mark>程刚</font></a>\\r\\n      </td>\\r\\n      <td class=\\'cjfdyxyz\\'>\\r\\n      <input type=\\'hidden\\' value=\\'KXXG\\' /> \\r\\n      \\r\\n      <a  target=\"_blank\" href=\\'/kns/NaviBridge.aspx?LinkType=BaseLink&DBCode=cjfq&TableName=cjfqbaseinfo&Field=BaseID&Value=KXXG\\' class=\\'SinglePubMark\\' title=\\'紫色刊名为“中国知网”独家出版刊物\\'>科学学与科学技术管理</a>\\r\\n      \\r\\n      </td>\\r\\n      <td align=\"center\">\\r\\n\\r\\n         \\r\\n        2009-05-10\\r\\n               \\r\\n         \\r\\n        \\r\\n      </td>        \\r\\n      <td align=\"right\"><span class=\"KnowledgeNetcont\"><a class=\\'KnowledgeNetLink\\' onClick=\"TPI_openwindow(\\'/kns/popup/knetsearchNew.aspx?sdb=CJFQ&sfield=cite&skey=%e5%88%9b%e4%b8%9a%e5%9b%a2%e9%98%9f%e5%86%85%e8%ae%a4%e7%9f%a5%e5%86%b2%e7%aa%81%e3%80%81%e5%90%88%e4%bd%9c%e8%a1%8c%e4%b8%ba%e4%b8%8e%e5%85%ac%e5%8f%b8%e7%bb%a9%e6%95%88%e5%85%b3%e7%b3%bb%e7%9a%84%e5%ae%9e%e8%af%81%e7%a0%94%e7%a9%b6&scode=KXXG200905022\\', \\'aaa\\',\\'status=yes,scrollbars=yes\\',event)\">52</a></span></td>\\r\\n      <td align=\"center\">\\r\\n       <a href=\"../download.aspx?filename=lZnZL1WdkdkT1g2LxFlUDJXQilWcQVkVXV3cNBlM4RlWzNVawhFUsZzVih0botyVmlDS1hmcuVHbm1GbsVUOnZ2TXl2LaRzRCZkQyYGa31WdWlzTGRVYURlYkZWYycXVKtiUDVFONR1MhZHZSBXSypnN3FzcZx2b&tablename=CJFD2009\"\\ttarget=_blank class=\"briefDl_D\" title=\\'下载\\'></a> <span class=\"downloadCount\"><a href=\\'javascript:void(0);\\' onclick=\\'SubCountDownLoad(0,this)\\' >1945</a></span>\\r\\n      \\r\\n      </td> \\r\\n      <td align=\"center\">   \\r\\n      \\r\\n         \\r\\n         <a class=\"kreader kreader1 xml\"  target=\"online_open\" href=\\'/kns/ReadRedirectPage.aspx?flag=html&domain=%2fKXReader%2fDetail%3fdbcode%3dCJFD%26filename%3dKXXG200905022\\' title=\"HTML阅读\"  ></a> \\r\\n\\r\\n         \\r\\n\\r\\n      </td></TR><TR  bgcolor=#f6f7fb>\\n<td style=\"white-space:nowrap;\"><input type=checkbox name=FileNameS  value=\"CJFD2014!QBLL201401022!2!2\"  onclick=\"checkMark(this)\"  >2</td><td >\\r\\n      <a class=\"fz14\" href=\\'/kns/detail/detail.aspx?QueryID=2&CurRec=2&DbCode= CJFD&dbname=CJFD2014&filename=QBLL201401022&urlid=11.1762.G3.20140115.1045.022&yx=Y\\' target=\\'_blank\\'>企业隐性知识共享模型研究</a>\\r\\n          \\r\\n                 \\r\\n          \\r\\n      </td>\\r\\n      <td class=\\'author_flag\\'>\\r\\n         <a class=\\'KnowledgeNetLink\\' href=\\'/kns/popup/knetsearchNew.aspx?sdb=CJFQ&sfield=%e4%bd%9c%e8%80%85&skey=%e6%9d%8e%e5%80%a9&scode=14707693%3b06137304%3b\\' target=\"knet\">李倩</a>; <a class=\\'KnowledgeNetLink\\' href=\\'/kns/popup/knetsearchNew.aspx?sdb=CJFQ&sfield=%e4%bd%9c%e8%80%85&skey=%e7%a8%8b%e5%88%9a&scode=14707693%3b06137304%3b\\' target=\"knet\"><font class=Mark>程刚</font></a>\\r\\n      </td>\\r\\n      <td class=\\'cjfdyxyz\\'>\\r\\n      <input type=\\'hidden\\' value=\\'QBLL\\' /> \\r\\n      \\r\\n      <a  target=\"_blank\" href=\\'/kns/NaviBridge.aspx?LinkType=BaseLink&DBCode=cjfq&TableName=cjfqbaseinfo&Field=BaseID&Value=QBLL\\' class=\\'SinglePubMark\\' title=\\'紫色刊名为“中国知网”独家出版刊物\\'>情报理论与实践</a>\\r\\n      \\r\\n      </td>\\r\\n      <td align=\"center\">\\r\\n\\r\\n         \\r\\n        2014-01-15 10:45\\r\\n               \\r\\n         \\r\\n        \\r\\n      </td>        \\r\\n      <td align=\"right\"><span class=\"KnowledgeNetcont\"><a class=\\'KnowledgeNetLink\\' onClick=\"TPI_openwindow(\\'/kns/popup/knetsearchNew.aspx?sdb=CJFQ&sfield=cite&skey=%e4%bc%81%e4%b8%9a%e9%9a%90%e6%80%a7%e7%9f%a5%e8%af%86%e5%85%b1%e4%ba%ab%e6%a8%a1%e5%9e%8b%e7%a0%94%e7%a9%b6&scode=QBLL201401022\\', \\'aaa\\',\\'status=yes,scrollbars=yes\\',event)\">28</a></span></td>\\r\\n      <td align=\"center\">\\r\\n       <a href=\"../download.aspx?filename=lZnZL1WdkdkT1g2LxFlUDJXQilWcQVkVXV3cNBlM4RlWzNVawhFUsZzVih0botyVmlDS1hmcuVHbm1GbyRmb6x0MThVNMBFcwJWZqFDSHZzUvh3KvQlWqllQVVXYVhFc5dWaMl2VNR1MhZHZSBXSypnN3FzcZx2b&tablename=CJFD2014\"\\ttarget=_blank class=\"briefDl_D\" title=\\'下载\\'></a> <span class=\"downloadCount\"><a href=\\'javascript:void(0);\\' onclick=\\'SubCountDownLoad(0,this)\\' >1069</a></span>\\r\\n      \\r\\n      </td> \\r\\n      <td align=\"center\">   \\r\\n      \\r\\n         \\r\\n         <a class=\"kreader kreader1 xml\"  target=\"online_open\" href=\\'/kns/ReadRedirectPage.aspx?flag=html&domain=%2fKXReader%2fDetail%3fdbcode%3dCJFD%26filename%3dQBLL201401022\\' title=\"HTML阅读\"  ></a> \\r\\n\\r\\n         \\r\\n\\r\\n      </td></TR><TR  bgcolor=#ffffff>\\n<td style=\"white-space:nowrap;\"><input type=checkbox name=FileNameS  value=\"CJFD2009!TSQB200908026!3!2\"  onclick=\"checkMark(this)\"  >3</td><td >\\r\\n      <a class=\"fz14\" href=\\'/kns/detail/detail.aspx?QueryID=2&CurRec=3&DbCode= CJFD&dbname=CJFD2009&filename=TSQB200908026&urlid=&yx=\\' target=\\'_blank\\'>国内外知识创新和组织学习研究综述</a>\\r\\n          \\r\\n                 \\r\\n          \\r\\n      </td>\\r\\n      <td class=\\'author_flag\\'>\\r\\n         <a class=\\'KnowledgeNetLink\\' href=\\'/kns/popup/knetsearchNew.aspx?sdb=CJFQ&sfield=%e4%bd%9c%e8%80%85&skey=%e5%91%98%e5%b7%a7%e4%ba%91&scode=08058291%3b06133199%3b06137304%3b\\' target=\"knet\">员巧云</a>; <a class=\\'KnowledgeNetLink\\' href=\\'/kns/popup/knetsearchNew.aspx?sdb=CJFQ&sfield=%e4%bd%9c%e8%80%85&skey=%e7%a8%8b%e5%88%9a&scode=08058291%3b06133199%3b06137304%3b\\' target=\"knet\"><font class=Mark>程刚</font></a>\\r\\n      </td>\\r\\n      <td class=\\'cjfdyxyz\\'>\\r\\n      <input type=\\'hidden\\' value=\\'TSQB\\' /> \\r\\n      \\r\\n      <a  target=\"_blank\" href=\\'/kns/NaviBridge.aspx?LinkType=BaseLink&DBCode=cjfq&TableName=cjfqbaseinfo&Field=BaseID&Value=TSQB\\' class=\\'SinglePubMark\\' title=\\'紫色刊名为“中国知网”独家出版刊物\\'>图书情报工作</a>\\r\\n      \\r\\n      </td>\\r\\n      <td align=\"center\">\\r\\n\\r\\n         \\r\\n        2009-04-20\\r\\n               \\r\\n         \\r\\n        \\r\\n      </td>        \\r\\n      <td align=\"right\"><span class=\"KnowledgeNetcont\"><a class=\\'KnowledgeNetLink\\' onClick=\"TPI_openwindow(\\'/kns/popup/knetsearchNew.aspx?sdb=CJFQ&sfield=cite&skey=%e5%9b%bd%e5%86%85%e5%a4%96%e7%9f%a5%e8%af%86%e5%88%9b%e6%96%b0%e5%92%8c%e7%bb%84%e7%bb%87%e5%ad%a6%e4%b9%a0%e7%a0%94%e7%a9%b6%e7%bb%bc%e8%bf%b0&scode=TSQB200908026\\', \\'aaa\\',\\'status=yes,scrollbars=yes\\',event)\">22</a></span></td>\\r\\n      <td align=\"center\">\\r\\n       <a href=\"../download.aspx?filename=lZnZL1WdkdkT1g2LxFlUDJXQilWcQVkVXV3cNBlM4RlWzNVawhFUsZzVih0botyVmlDS1hmcuVHbm1Gbq5kYuZTYnZXWMt0aBBHbWt0TPB1a5Y0RtZ3cHtmdXljbrdFc5dWaMl2VNR1MhZHZSBXSypnN3FzcZx2b&tablename=CJFD2009\"\\ttarget=_blank class=\"briefDl_D\" title=\\'下载\\'></a> <span class=\"downloadCount\"><a href=\\'javascript:void(0);\\' onclick=\\'SubCountDownLoad(0,this)\\' >1384</a></span>\\r\\n      \\r\\n      </td> \\r\\n      <td align=\"center\">   \\r\\n      \\r\\n         \\r\\n\\r\\n         <a class=\"kreader\" target=\"online_open\" href=\\'/kns/ReadRedirectPage.aspx?domain=%2fKReader%2fRedriectPage.aspx%3ftablename%3dCJFD2009%26filename%3dTSQB200908026%26dbCode%3dCJFQ\\' title=\"阅读\"  ></a>\\r\\n         \\r\\n\\r\\n      </td></TR><TR  bgcolor=#f6f7fb>\\n<td style=\"white-space:nowrap;\"><input type=checkbox name=FileNameS  value=\"CJFD2006!QBLL200601022!4!2\"  onclick=\"checkMark(this)\"  >4</td><td >\\r\\n      <a class=\"fz14\" href=\\'/kns/detail/detail.aspx?QueryID=2&CurRec=4&DbCode= CJFD&dbname=CJFD2006&filename=QBLL200601022&urlid=&yx=\\' target=\\'_blank\\'>基于知识管理的企业信息资源管理保障体系研究</a>\\r\\n          \\r\\n                 \\r\\n          \\r\\n      </td>\\r\\n      <td class=\\'author_flag\\'>\\r\\n         <a class=\\'KnowledgeNetLink\\' href=\\'/kns/popup/knetsearchNew.aspx?sdb=CJFQ&sfield=%e4%bd%9c%e8%80%85&skey=%e7%a8%8b%e5%88%9a&scode=\\' target=\"knet\"><font class=Mark>程刚</font></a>\\r\\n      </td>\\r\\n      <td class=\\'cjfdyxyz\\'>\\r\\n      <input type=\\'hidden\\' value=\\'QBLL\\' /> \\r\\n      \\r\\n      <a  target=\"_blank\" href=\\'/kns/NaviBridge.aspx?LinkType=BaseLink&DBCode=cjfq&TableName=cjfqbaseinfo&Field=BaseID&Value=QBLL\\' class=\\'SinglePubMark\\' title=\\'紫色刊名为“中国知网”独家出版刊物\\'>情报理论与实践</a>\\r\\n      \\r\\n      </td>\\r\\n      <td align=\"center\">\\r\\n\\r\\n         \\r\\n        2006-01-30\\r\\n               \\r\\n         \\r\\n        \\r\\n      </td>        \\r\\n      <td align=\"right\"><span class=\"KnowledgeNetcont\"><a class=\\'KnowledgeNetLink\\' onClick=\"TPI_openwindow(\\'/kns/popup/knetsearchNew.aspx?sdb=CJFQ&sfield=cite&skey=%e5%9f%ba%e4%ba%8e%e7%9f%a5%e8%af%86%e7%ae%a1%e7%90%86%e7%9a%84%e4%bc%81%e4%b8%9a%e4%bf%a1%e6%81%af%e8%b5%84%e6%ba%90%e7%ae%a1%e7%90%86%e4%bf%9d%e9%9a%9c%e4%bd%93%e7%b3%bb%e7%a0%94%e7%a9%b6&scode=QBLL200601022\\', \\'aaa\\',\\'status=yes,scrollbars=yes\\',event)\">22</a></span></td>\\r\\n      <td align=\"center\">\\r\\n       <a href=\"../download.aspx?filename=lZnZL1WdkdkT1g2LxFlUDJXQilWcQVkVXV3cNBlM4RlWzNVawhFUsZzVih0botyVmlDS1hmcuVHbm1Gbrw2UNVEbKV1LLJEemJGe2JUSEZ2M4gVUGdlU1hXYXx0KrdFc5dWaMl2VNR1MhZHZSBXSypnN3FzcZx2b&tablename=CJFD2006\"\\ttarget=_blank class=\"briefDl_D\" title=\\'下载\\'></a> <span class=\"downloadCount\"><a href=\\'javascript:void(0);\\' onclick=\\'SubCountDownLoad(0,this)\\' >997</a></span>\\r\\n      \\r\\n      </td> \\r\\n      <td align=\"center\">   \\r\\n      \\r\\n         \\r\\n         <a class=\"kreader kreader1 xml\"  target=\"online_open\" href=\\'/kns/ReadRedirectPage.aspx?flag=html&domain=%2fKXReader%2fDetail%3fdbcode%3dCJFD%26filename%3dQBLL200601022\\' title=\"HTML阅读\"  ></a> \\r\\n\\r\\n         \\r\\n\\r\\n      </td></TR><TR  bgcolor=#ffffff>\\n<td style=\"white-space:nowrap;\"><input type=checkbox name=FileNameS  value=\"CJFD2014!XDQB201403002!5!2\"  onclick=\"checkMark(this)\"  >5</td><td >\\r\\n      <a class=\"fz14\" href=\\'/kns/detail/detail.aspx?QueryID=2&CurRec=5&DbCode= CJFD&dbname=CJFD2014&filename=XDQB201403002&urlid=&yx=\\' target=\\'_blank\\'>企业大数据能力培育机制研究</a>\\r\\n          \\r\\n                 \\r\\n          \\r\\n      </td>\\r\\n      <td class=\\'author_flag\\'>\\r\\n         <a class=\\'KnowledgeNetLink\\' href=\\'/kns/popup/knetsearchNew.aspx?sdb=CJFQ&sfield=%e4%bd%9c%e8%80%85&skey=%e7%a8%8b%e5%88%9a&scode=06137304%3b06133792%3b\\' target=\"knet\"><font class=Mark>程刚</font></a>; <a class=\\'KnowledgeNetLink\\' href=\\'/kns/popup/knetsearchNew.aspx?sdb=CJFQ&sfield=%e4%bd%9c%e8%80%85&skey=%e6%9d%8e%e6%95%8f&scode=06137304%3b06133792%3b\\' target=\"knet\">李敏</a>\\r\\n      </td>\\r\\n      <td class=\\'cjfdyxyz\\'>\\r\\n      <input type=\\'hidden\\' value=\\'XDQB\\' /> \\r\\n      \\r\\n      <a  target=\"_blank\" href=\\'/kns/NaviBridge.aspx?LinkType=BaseLink&DBCode=cjfq&TableName=cjfqbaseinfo&Field=BaseID&Value=XDQB\\' >现代情报</a>\\r\\n      \\r\\n      </td>\\r\\n      <td align=\"center\">\\r\\n\\r\\n         \\r\\n        2014-03-15\\r\\n               \\r\\n         \\r\\n        \\r\\n      </td>        \\r\\n      <td align=\"right\"><span class=\"KnowledgeNetcont\"><a class=\\'KnowledgeNetLink\\' onClick=\"TPI_openwindow(\\'/kns/popup/knetsearchNew.aspx?sdb=CJFQ&sfield=cite&skey=%e4%bc%81%e4%b8%9a%e5%a4%a7%e6%95%b0%e6%8d%ae%e8%83%bd%e5%8a%9b%e5%9f%b9%e8%82%b2%e6%9c%ba%e5%88%b6%e7%a0%94%e7%a9%b6&scode=XDQB201403002\\', \\'aaa\\',\\'status=yes,scrollbars=yes\\',event)\">18</a></span></td>\\r\\n      <td align=\"center\">\\r\\n       <a href=\"../download.aspx?filename=lZnZL1WdkdkT1g2LxFlUDJXQilWcQVkVXV3cNBlM4RlWzNVawhFUsZzVih0botyVmlDS1hmcuVHbm1GbyRUbLVlUtFjezVjZBdlMiNHcxRzZwUlUuZHVDJmQVVXYVhFc5dWaMl2VNR1MhZHZSBXSypnN3FzcZx2b&tablename=CJFD2014\"\\ttarget=_blank class=\"briefDl_D\" title=\\'下载\\'></a> <span class=\"downloadCount\"><a href=\\'javascript:void(0);\\' onclick=\\'SubCountDownLoad(0,this)\\' >658</a></span>\\r\\n      \\r\\n      </td> \\r\\n      <td align=\"center\">   \\r\\n      \\r\\n         \\r\\n\\r\\n         <a class=\"kreader\" target=\"online_open\" href=\\'/kns/ReadRedirectPage.aspx?domain=%2fKReader%2fRedriectPage.aspx%3ftablename%3dCJFD2014%26filename%3dXDQB201403002%26dbCode%3dCJFQ\\' title=\"阅读\"  ></a>\\r\\n         \\r\\n\\r\\n      </td></TR><TR  bgcolor=#f6f7fb>\\n<td style=\"white-space:nowrap;\"><input type=checkbox name=FileNameS  value=\"CJFD2008!SYNG200806007!6!2\"  onclick=\"checkMark(this)\"  >6</td><td >\\r\\n      <a class=\"fz14\" href=\\'/kns/detail/detail.aspx?QueryID=2&CurRec=6&DbCode= CJFD&dbname=CJFD2008&filename=SYNG200806007&urlid=&yx=\\' target=\\'_blank\\'>农民专业合作社发展研究──以农村信息化为突破口</a>\\r\\n          \\r\\n                 \\r\\n          \\r\\n      </td>\\r\\n      <td class=\\'author_flag\\'>\\r\\n         <a class=\\'KnowledgeNetLink\\' href=\\'/kns/popup/knetsearchNew.aspx?sdb=CJFQ&sfield=%e4%bd%9c%e8%80%85&skey=%e7%a8%8b%e5%88%9a&scode=06137304%3b17467523%3b\\' target=\"knet\"><font class=Mark>程刚</font></a>; <a class=\\'KnowledgeNetLink\\' href=\\'/kns/popup/knetsearchNew.aspx?sdb=CJFQ&sfield=%e4%bd%9c%e8%80%85&skey=%e6%b8%a9%e8%8c%b5%e8%8c%b5&scode=06137304%3b17467523%3b\\' target=\"knet\">温茵茵</a>\\r\\n      </td>\\r\\n      <td class=\\'cjfdyxyz\\'>\\r\\n      <input type=\\'hidden\\' value=\\'SYNG\\' /> \\r\\n      \\r\\n      <a  target=\"_blank\" href=\\'/kns/NaviBridge.aspx?LinkType=BaseLink&DBCode=cjfq&TableName=cjfqbaseinfo&Field=BaseID&Value=SYNG\\' >山东省农业管理干部学院学报</a>\\r\\n      \\r\\n      </td>\\r\\n      <td align=\"center\">\\r\\n\\r\\n         \\r\\n        2008-11-15\\r\\n               \\r\\n         \\r\\n        \\r\\n      </td>        \\r\\n      <td align=\"right\"><span class=\"KnowledgeNetcont\"><a class=\\'KnowledgeNetLink\\' onClick=\"TPI_openwindow(\\'/kns/popup/knetsearchNew.aspx?sdb=CJFQ&sfield=cite&skey=%e5%86%9c%e6%b0%91%e4%b8%93%e4%b8%9a%e5%90%88%e4%bd%9c%e7%a4%be%e5%8f%91%e5%b1%95%e7%a0%94%e7%a9%b6%e2%94%80%e2%94%80%e4%bb%a5%e5%86%9c%e6%9d%91%e4%bf%a1%e6%81%af%e5%8c%96%e4%b8%ba%e7%aa%81%e7%a0%b4%e5%8f%a3&scode=SYNG200806007\\', \\'aaa\\',\\'status=yes,scrollbars=yes\\',event)\">17</a></span></td>\\r\\n      <td align=\"center\">\\r\\n       <a href=\"../download.aspx?filename=lZnZL1WdkdkT1g2LxFlUDJXQilWcQVkVXV3cNBlM4RlWzNVawhFUsZzVih0botyVmlDS1hmcuVHbm1Gb1okZaxmdud2MkdlUwpFSxFFetlzRCBVUUhkTORUcs9kU4lVaElVN4ADaNR1MhZHZSBXSypnN3FzcZx2b&tablename=CJFD2008\"\\ttarget=_blank class=\"briefDl_D\" title=\\'下载\\'></a> <span class=\"downloadCount\"><a href=\\'javascript:void(0);\\' onclick=\\'SubCountDownLoad(0,this)\\' >151</a></span>\\r\\n      \\r\\n      </td> \\r\\n      <td align=\"center\">   \\r\\n      \\r\\n         \\r\\n         <a class=\"kreader kreader1 xml\"  target=\"online_open\" href=\\'/kns/ReadRedirectPage.aspx?flag=html&domain=%2fKXReader%2fDetail%3fdbcode%3dCJFD%26filename%3dSYNG200806007\\' title=\"HTML阅读\"  ></a> \\r\\n\\r\\n         \\r\\n\\r\\n      </td></TR><TR  bgcolor=#ffffff>\\n<td style=\"white-space:nowrap;\"><input type=checkbox name=FileNameS  value=\"CJFD2005!LLJJ200509003!7!2\"  onclick=\"checkMark(this)\"  >7</td><td >\\r\\n      <a class=\"fz14\" href=\\'/kns/detail/detail.aspx?QueryID=2&CurRec=7&DbCode= CJFD&dbname=CJFD2005&filename=LLJJ200509003&urlid=&yx=\\' target=\\'_blank\\'>关于构建现代知识型政府的思考</a>\\r\\n          \\r\\n                 \\r\\n          \\r\\n      </td>\\r\\n      <td class=\\'author_flag\\'>\\r\\n         <a class=\\'KnowledgeNetLink\\' href=\\'/kns/popup/knetsearchNew.aspx?sdb=CJFQ&sfield=%e4%bd%9c%e8%80%85&skey=%e7%a8%8b%e5%88%9a&scode=06137304%3b\\' target=\"knet\"><font class=Mark>程刚</font></a>\\r\\n      </td>\\r\\n      <td class=\\'cjfdyxyz\\'>\\r\\n      <input type=\\'hidden\\' value=\\'LLJJ\\' /> \\r\\n      \\r\\n      <a  target=\"_blank\" href=\\'/kns/NaviBridge.aspx?LinkType=BaseLink&DBCode=cjfq&TableName=cjfqbaseinfo&Field=BaseID&Value=LLJJ\\' >理论界</a>\\r\\n      \\r\\n      </td>\\r\\n      <td align=\"center\">\\r\\n\\r\\n         \\r\\n        2005-09-30\\r\\n               \\r\\n         \\r\\n        \\r\\n      </td>        \\r\\n      <td align=\"right\"><span class=\"KnowledgeNetcont\"><a class=\\'KnowledgeNetLink\\' onClick=\"TPI_openwindow(\\'/kns/popup/knetsearchNew.aspx?sdb=CJFQ&sfield=cite&skey=%e5%85%b3%e4%ba%8e%e6%9e%84%e5%bb%ba%e7%8e%b0%e4%bb%a3%e7%9f%a5%e8%af%86%e5%9e%8b%e6%94%bf%e5%ba%9c%e7%9a%84%e6%80%9d%e8%80%83&scode=LLJJ200509003\\', \\'aaa\\',\\'status=yes,scrollbars=yes\\',event)\">17</a></span></td>\\r\\n      <td align=\"center\">\\r\\n       <a href=\"../download.aspx?filename=lZnZL1WdkdkT1g2LxFlUDJXQilWcQVkVXV3cNBlM4RlWzNVawhFUsZzVih0botyVmlDS1hmcuVHbm1Gb4VDb08ievYlVLR1bqlHT4EHVrI3K5QHZIx2ZolWcwE2QPR3bzVlbpBDaNR1MhZHZSBXSypnN3FzcZx2b&tablename=CJFD2005\"\\ttarget=_blank class=\"briefDl_D\" title=\\'下载\\'></a> <span class=\"downloadCount\"><a href=\\'javascript:void(0);\\' onclick=\\'SubCountDownLoad(0,this)\\' >192</a></span>\\r\\n      \\r\\n      </td> \\r\\n      <td align=\"center\">   \\r\\n      \\r\\n         \\r\\n         <a class=\"kreader kreader1 xml\"  target=\"online_open\" href=\\'/kns/ReadRedirectPage.aspx?flag=html&domain=%2fKXReader%2fDetail%3fdbcode%3dCJFD%26filename%3dLLJJ200509003\\' title=\"HTML阅读\"  ></a> \\r\\n\\r\\n         \\r\\n\\r\\n      </td></TR><TR  bgcolor=#f6f7fb>\\n<td style=\"white-space:nowrap;\"><input type=checkbox name=FileNameS  value=\"CJFDLAST2016!QBLL201603009!8!2\"  onclick=\"checkMark(this)\"  >8</td><td >\\r\\n      <a class=\"fz14\" href=\\'/kns/detail/detail.aspx?QueryID=2&CurRec=8&DbCode= CJFD&dbname=CJFDLAST2016&filename=QBLL201603009&urlid=11.1762.G3.20160902.1120.009&yx=Y\\' target=\\'_blank\\'>大数据环境下科技型中小企业创新发展的知识服务体系研究</a>\\r\\n          \\r\\n                 \\r\\n          \\r\\n      </td>\\r\\n      <td class=\\'author_flag\\'>\\r\\n         <a class=\\'KnowledgeNetLink\\' href=\\'/kns/popup/knetsearchNew.aspx?sdb=CJFQ&sfield=%e4%bd%9c%e8%80%85&skey=%e7%a8%8b%e5%88%9a&scode=06137304%3b\\' target=\"knet\"><font class=Mark>程刚</font></a>\\r\\n      </td>\\r\\n      <td class=\\'cjfdyxyz\\'>\\r\\n      <input type=\\'hidden\\' value=\\'QBLL\\' /> \\r\\n      \\r\\n      <a  target=\"_blank\" href=\\'/kns/NaviBridge.aspx?LinkType=BaseLink&DBCode=cjfq&TableName=cjfqbaseinfo&Field=BaseID&Value=QBLL\\' class=\\'SinglePubMark\\' title=\\'紫色刊名为“中国知网”独家出版刊物\\'>情报理论与实践</a>\\r\\n      \\r\\n      </td>\\r\\n      <td align=\"center\">\\r\\n\\r\\n         \\r\\n        2016-09-02 11:20\\r\\n               \\r\\n         \\r\\n        \\r\\n      </td>        \\r\\n      <td align=\"right\"><span class=\"KnowledgeNetcont\"><a class=\\'KnowledgeNetLink\\' onClick=\"TPI_openwindow(\\'/kns/popup/knetsearchNew.aspx?sdb=CJFQ&sfield=cite&skey=%e5%a4%a7%e6%95%b0%e6%8d%ae%e7%8e%af%e5%a2%83%e4%b8%8b%e7%a7%91%e6%8a%80%e5%9e%8b%e4%b8%ad%e5%b0%8f%e4%bc%81%e4%b8%9a%e5%88%9b%e6%96%b0%e5%8f%91%e5%b1%95%e7%9a%84%e7%9f%a5%e8%af%86%e6%9c%8d%e5%8a%a1%e4%bd%93%e7%b3%bb%e7%a0%94%e7%a9%b6&scode=QBLL201603009\\', \\'aaa\\',\\'status=yes,scrollbars=yes\\',event)\">16</a></span></td>\\r\\n      <td align=\"center\">\\r\\n       <a href=\"../download.aspx?filename=lZnZL1WdkdkT1g2LxFlUDJXQilWcQVkVXV3cNBlM4RlWzNVawhFUsZzVih0botyVmlDS1hmcuVHbm1GbipWaBt0SYVzYLdXVoN1MXNnT4Y3L1YDVv9Ee4IzUIpUWVhFc5dWaMl2VNR1MhZHZSBXSypnN3FzcZx2b&tablename=CJFDLAST2016\"\\ttarget=_blank class=\"briefDl_D\" title=\\'下载\\'></a> <span class=\"downloadCount\"><a href=\\'javascript:void(0);\\' onclick=\\'SubCountDownLoad(0,this)\\' >1357</a></span>\\r\\n      \\r\\n      </td> \\r\\n      <td align=\"center\">   \\r\\n      \\r\\n         \\r\\n         <a class=\"kreader kreader1 xml\"  target=\"online_open\" href=\\'/kns/ReadRedirectPage.aspx?flag=html&domain=%2fKXReader%2fDetail%3fdbcode%3dCJFD%26filename%3dQBLL201603009\\' title=\"HTML阅读\"  ></a> \\r\\n\\r\\n         \\r\\n\\r\\n      </td></TR><TR  bgcolor=#ffffff>\\n<td style=\"white-space:nowrap;\"><input type=checkbox name=FileNameS  value=\"CJFD2014!QBLL201402016!9!2\"  onclick=\"checkMark(this)\"  >9</td><td >\\r\\n      <a class=\"fz14\" href=\\'/kns/detail/detail.aspx?QueryID=2&CurRec=9&DbCode= CJFD&dbname=CJFD2014&filename=QBLL201402016&urlid=&yx=\\' target=\\'_blank\\'>企业隐性知识共享能力综合评价研究</a>\\r\\n          \\r\\n                 \\r\\n          \\r\\n      </td>\\r\\n      <td class=\\'author_flag\\'>\\r\\n         <a class=\\'KnowledgeNetLink\\' href=\\'/kns/popup/knetsearchNew.aspx?sdb=CJFQ&sfield=%e4%bd%9c%e8%80%85&skey=%e6%9d%8e%e5%80%a9&scode=14707693%3b06137304%3b\\' target=\"knet\">李倩</a>; <a class=\\'KnowledgeNetLink\\' href=\\'/kns/popup/knetsearchNew.aspx?sdb=CJFQ&sfield=%e4%bd%9c%e8%80%85&skey=%e7%a8%8b%e5%88%9a&scode=14707693%3b06137304%3b\\' target=\"knet\"><font class=Mark>程刚</font></a>\\r\\n      </td>\\r\\n      <td class=\\'cjfdyxyz\\'>\\r\\n      <input type=\\'hidden\\' value=\\'QBLL\\' /> \\r\\n      \\r\\n      <a  target=\"_blank\" href=\\'/kns/NaviBridge.aspx?LinkType=BaseLink&DBCode=cjfq&TableName=cjfqbaseinfo&Field=BaseID&Value=QBLL\\' class=\\'SinglePubMark\\' title=\\'紫色刊名为“中国知网”独家出版刊物\\'>情报理论与实践</a>\\r\\n      \\r\\n      </td>\\r\\n      <td align=\"center\">\\r\\n\\r\\n         \\r\\n        2014-02-28\\r\\n               \\r\\n         \\r\\n        \\r\\n      </td>        \\r\\n      <td align=\"right\"><span class=\"KnowledgeNetcont\"><a class=\\'KnowledgeNetLink\\' onClick=\"TPI_openwindow(\\'/kns/popup/knetsearchNew.aspx?sdb=CJFQ&sfield=cite&skey=%e4%bc%81%e4%b8%9a%e9%9a%90%e6%80%a7%e7%9f%a5%e8%af%86%e5%85%b1%e4%ba%ab%e8%83%bd%e5%8a%9b%e7%bb%bc%e5%90%88%e8%af%84%e4%bb%b7%e7%a0%94%e7%a9%b6&scode=QBLL201402016\\', \\'aaa\\',\\'status=yes,scrollbars=yes\\',event)\">16</a></span></td>\\r\\n      <td align=\"center\">\\r\\n       <a href=\"../download.aspx?filename=lZnZL1WdkdkT1g2LxFlUDJXQilWcQVkVXV3cNBlM4RlWzNVawhFUsZzVih0botyVmlDS1hmcuVHbm1GbVZTYsF3czo0UmNFbERUYjlUeONjbJFTMzUEe2VlQVVXYVhFc5dWaMl2VNR1MhZHZSBXSypnN3FzcZx2b&tablename=CJFD2014\"\\ttarget=_blank class=\"briefDl_D\" title=\\'下载\\'></a> <span class=\"downloadCount\"><a href=\\'javascript:void(0);\\' onclick=\\'SubCountDownLoad(0,this)\\' >643</a></span>\\r\\n      \\r\\n      </td> \\r\\n      <td align=\"center\">   \\r\\n      \\r\\n         \\r\\n         <a class=\"kreader kreader1 xml\"  target=\"online_open\" href=\\'/kns/ReadRedirectPage.aspx?flag=html&domain=%2fKXReader%2fDetail%3fdbcode%3dCJFD%26filename%3dQBLL201402016\\' title=\"HTML阅读\"  ></a> \\r\\n\\r\\n         \\r\\n\\r\\n      </td></TR><TR  bgcolor=#f6f7fb>\\n<td style=\"white-space:nowrap;\"><input type=checkbox name=FileNameS  value=\"CJFD2009!XTLL200901013!10!2\"  onclick=\"checkMark(this)\"  >10</td><td >\\r\\n      <a class=\"fz14\" href=\\'/kns/detail/detail.aspx?QueryID=2&CurRec=10&DbCode= CJFD&dbname=CJFD2009&filename=XTLL200901013&urlid=&yx=\\' target=\\'_blank\\'>考虑资源约束和变质期的订货批量与定价的联合决策</a>\\r\\n          \\r\\n                 \\r\\n          \\r\\n      </td>\\r\\n      <td class=\\'author_flag\\'>\\r\\n         <a class=\\'KnowledgeNetLink\\' href=\\'/kns/popup/knetsearchNew.aspx?sdb=CJFQ&sfield=%e4%bd%9c%e8%80%85&skey=%e6%88%b4%e9%81%93%e6%98%8e&scode=03082848%3b22033205%3b03082848%3b06137304%3b07063051%3b\\' target=\"knet\">戴道明</a>; <a class=\\'KnowledgeNetLink\\' href=\\'/kns/popup/knetsearchNew.aspx?sdb=CJFQ&sfield=%e4%bd%9c%e8%80%85&skey=%e7%a8%8b%e5%88%9a&scode=03082848%3b22033205%3b03082848%3b06137304%3b07063051%3b\\' target=\"knet\"><font class=Mark>程刚</font></a>; <a class=\\'KnowledgeNetLink\\' href=\\'/kns/popup/knetsearchNew.aspx?sdb=CJFQ&sfield=%e4%bd%9c%e8%80%85&skey=%e6%9d%a8%e5%96%84%e6%9e%97&scode=03082848%3b22033205%3b03082848%3b06137304%3b07063051%3b\\' target=\"knet\">杨善林</a>\\r\\n      </td>\\r\\n      <td class=\\'cjfdyxyz\\'>\\r\\n      <input type=\\'hidden\\' value=\\'XTLL\\' /> \\r\\n      \\r\\n      <a  target=\"_blank\" href=\\'/kns/NaviBridge.aspx?LinkType=BaseLink&DBCode=cjfq&TableName=cjfqbaseinfo&Field=BaseID&Value=XTLL\\' class=\\'SinglePubMark\\' title=\\'紫色刊名为“中国知网”独家出版刊物\\'>系统工程理论与实践</a>\\r\\n      \\r\\n      </td>\\r\\n      <td align=\"center\">\\r\\n\\r\\n         \\r\\n        2009-01-15\\r\\n               \\r\\n         \\r\\n        \\r\\n      </td>        \\r\\n      <td align=\"right\"><span class=\"KnowledgeNetcont\"><a class=\\'KnowledgeNetLink\\' onClick=\"TPI_openwindow(\\'/kns/popup/knetsearchNew.aspx?sdb=CJFQ&sfield=cite&skey=%e8%80%83%e8%99%91%e8%b5%84%e6%ba%90%e7%ba%a6%e6%9d%9f%e5%92%8c%e5%8f%98%e8%b4%a8%e6%9c%9f%e7%9a%84%e8%ae%a2%e8%b4%a7%e6%89%b9%e9%87%8f%e4%b8%8e%e5%ae%9a%e4%bb%b7%e7%9a%84%e8%81%94%e5%90%88%e5%86%b3%e7%ad%96&scode=XTLL200901013\\', \\'aaa\\',\\'status=yes,scrollbars=yes\\',event)\">16</a></span></td>\\r\\n      <td align=\"center\">\\r\\n       <a href=\"../download.aspx?filename=lZnZL1WdkdkT1g2LxFlUDJXQilWcQVkVXV3cNBlM4RlWzNVawhFUsZzVih0botyVmlDS1hmcuVHbm1Gbyc2dkxEcUR0cnpURoBXeWR0VLVDN5RmMoNzMZRWYkZWYycXVKtiUDVFONR1MhZHZSBXSypnN3FzcZx2b&tablename=CJFD2009\"\\ttarget=_blank class=\"briefDl_D\" title=\\'下载\\'></a> <span class=\"downloadCount\"><a href=\\'javascript:void(0);\\' onclick=\\'SubCountDownLoad(0,this)\\' >462</a></span>\\r\\n      \\r\\n      </td> \\r\\n      <td align=\"center\">   \\r\\n      \\r\\n         \\r\\n\\r\\n         <a class=\"kreader\" target=\"online_open\" href=\\'/kns/ReadRedirectPage.aspx?domain=%2fKReader%2fRedriectPage.aspx%3ftablename%3dCJFD2009%26filename%3dXTLL200901013%26dbCode%3dCJFQ\\' title=\"阅读\"  ></a>\\r\\n         \\r\\n\\r\\n      </td></TR><TR  bgcolor=#ffffff>\\n<td style=\"white-space:nowrap;\"><input type=checkbox name=FileNameS  value=\"CJFD2005!KJIG200506003!11!2\"  onclick=\"checkMark(this)\"  >11</td><td >\\r\\n      <a class=\"fz14\" href=\\'/kns/detail/detail.aspx?QueryID=2&CurRec=11&DbCode= CJFD&dbname=CJFD2005&filename=KJIG200506003&urlid=&yx=\\' target=\\'_blank\\'>现代企业知识管理系统建设研究</a>\\r\\n          \\r\\n                 \\r\\n          \\r\\n      </td>\\r\\n      <td class=\\'author_flag\\'>\\r\\n         <a class=\\'KnowledgeNetLink\\' href=\\'/kns/popup/knetsearchNew.aspx?sdb=CJFQ&sfield=%e4%bd%9c%e8%80%85&skey=%e6%9d%8e%e6%95%8f&scode=06137304%3b06133792%3b\\' target=\"knet\">李敏</a>; <a class=\\'KnowledgeNetLink\\' href=\\'/kns/popup/knetsearchNew.aspx?sdb=CJFQ&sfield=%e4%bd%9c%e8%80%85&skey=%e7%a8%8b%e5%88%9a&scode=06137304%3b06133792%3b\\' target=\"knet\"><font class=Mark>程刚</font></a>\\r\\n      </td>\\r\\n      <td class=\\'cjfdyxyz\\'>\\r\\n      <input type=\\'hidden\\' value=\\'KJIG\\' /> \\r\\n      \\r\\n      <a  target=\"_blank\" href=\\'/kns/NaviBridge.aspx?LinkType=BaseLink&DBCode=cjfq&TableName=cjfqbaseinfo&Field=BaseID&Value=KJIG\\' >科技广场</a>\\r\\n      \\r\\n      </td>\\r\\n      <td align=\"center\">\\r\\n\\r\\n         \\r\\n        2005-06-18\\r\\n               \\r\\n         \\r\\n        \\r\\n      </td>        \\r\\n      <td align=\"right\"><span class=\"KnowledgeNetcont\"><a class=\\'KnowledgeNetLink\\' onClick=\"TPI_openwindow(\\'/kns/popup/knetsearchNew.aspx?sdb=CJFQ&sfield=cite&skey=%e7%8e%b0%e4%bb%a3%e4%bc%81%e4%b8%9a%e7%9f%a5%e8%af%86%e7%ae%a1%e7%90%86%e7%b3%bb%e7%bb%9f%e5%bb%ba%e8%ae%be%e7%a0%94%e7%a9%b6&scode=KJIG200506003\\', \\'aaa\\',\\'status=yes,scrollbars=yes\\',event)\">16</a></span></td>\\r\\n      <td align=\"center\">\\r\\n       <a href=\"../download.aspx?filename=lZnZL1WdkdkT1g2LxFlUDJXQilWcQVkVXV3cNBlM4RlWzNVawhFUsZzVih0botyVmlDS1hmcuVHbm1GbOB3aa5mTtNjaoBjTTZXWIl2M1pGev1ETxVzLCN1LThzNrdFc5dWaMl2VNR1MhZHZSBXSypnN3FzcZx2b&tablename=CJFD2005\"\\ttarget=_blank class=\"briefDl_D\" title=\\'下载\\'></a> <span class=\"downloadCount\"><a href=\\'javascript:void(0);\\' onclick=\\'SubCountDownLoad(0,this)\\' >377</a></span>\\r\\n      \\r\\n      </td> \\r\\n      <td align=\"center\">   \\r\\n      \\r\\n         \\r\\n\\r\\n         <a class=\"kreader\" target=\"online_open\" href=\\'/kns/ReadRedirectPage.aspx?domain=%2fKReader%2fRedriectPage.aspx%3ftablename%3dCJFD2005%26filename%3dKJIG200506003%26dbCode%3dCJFQ\\' title=\"阅读\"  ></a>\\r\\n         \\r\\n\\r\\n      </td></TR><TR  bgcolor=#f6f7fb>\\n<td style=\"white-space:nowrap;\"><input type=checkbox name=FileNameS  value=\"CJFD2005!QBLL200506029!12!2\"  onclick=\"checkMark(this)\"  >12</td><td >\\r\\n      <a class=\"fz14\" href=\\'/kns/detail/detail.aspx?QueryID=2&CurRec=12&DbCode= CJFD&dbname=CJFD2005&filename=QBLL200506029&urlid=&yx=\\' target=\\'_blank\\'>近年来我国信息用户研究综述</a>\\r\\n          \\r\\n                 \\r\\n          \\r\\n      </td>\\r\\n      <td class=\\'author_flag\\'>\\r\\n         <a class=\\'KnowledgeNetLink\\' href=\\'/kns/popup/knetsearchNew.aspx?sdb=CJFQ&sfield=%e4%bd%9c%e8%80%85&skey=%e7%a8%8b%e5%88%9a&scode=06137304%3b\\' target=\"knet\"><font class=Mark>程刚</font></a>\\r\\n      </td>\\r\\n      <td class=\\'cjfdyxyz\\'>\\r\\n      <input type=\\'hidden\\' value=\\'QBLL\\' /> \\r\\n      \\r\\n      <a  target=\"_blank\" href=\\'/kns/NaviBridge.aspx?LinkType=BaseLink&DBCode=cjfq&TableName=cjfqbaseinfo&Field=BaseID&Value=QBLL\\' class=\\'SinglePubMark\\' title=\\'紫色刊名为“中国知网”独家出版刊物\\'>情报理论与实践</a>\\r\\n      \\r\\n      </td>\\r\\n      <td align=\"center\">\\r\\n\\r\\n         \\r\\n        2005-11-30\\r\\n               \\r\\n         \\r\\n        \\r\\n      </td>        \\r\\n      <td align=\"right\"><span class=\"KnowledgeNetcont\"><a class=\\'KnowledgeNetLink\\' onClick=\"TPI_openwindow(\\'/kns/popup/knetsearchNew.aspx?sdb=CJFQ&sfield=cite&skey=%e8%bf%91%e5%b9%b4%e6%9d%a5%e6%88%91%e5%9b%bd%e4%bf%a1%e6%81%af%e7%94%a8%e6%88%b7%e7%a0%94%e7%a9%b6%e7%bb%bc%e8%bf%b0&scode=QBLL200506029\\', \\'aaa\\',\\'status=yes,scrollbars=yes\\',event)\">15</a></span></td>\\r\\n      <td align=\"center\">\\r\\n       <a href=\"../download.aspx?filename=lZnZL1WdkdkT1g2LxFlUDJXQilWcQVkVXV3cNBlM4RlWzNVawhFUsZzVih0botyVmlDS1hmcuVHbm1GbrpGSJpXeKZ0NsdEaKp1Z1J1V1YmZDJFOwdUWSF0KThzNrdFc5dWaMl2VNR1MhZHZSBXSypnN3FzcZx2b&tablename=CJFD2005\"\\ttarget=_blank class=\"briefDl_D\" title=\\'下载\\'></a> <span class=\"downloadCount\"><a href=\\'javascript:void(0);\\' onclick=\\'SubCountDownLoad(0,this)\\' >930</a></span>\\r\\n      \\r\\n      </td> \\r\\n      <td align=\"center\">   \\r\\n      \\r\\n         \\r\\n\\r\\n         <a class=\"kreader\" target=\"online_open\" href=\\'/kns/ReadRedirectPage.aspx?domain=%2fKReader%2fRedriectPage.aspx%3ftablename%3dCJFD2005%26filename%3dQBLL200506029%26dbCode%3dCJFQ\\' title=\"阅读\"  ></a>\\r\\n         \\r\\n\\r\\n      </td></TR><TR  bgcolor=#ffffff>\\n<td style=\"white-space:nowrap;\"><input type=checkbox name=FileNameS  value=\"CJFD2011!QBLL201101025!13!2\"  onclick=\"checkMark(this)\"  >13</td><td >\\r\\n      <a class=\"fz14\" href=\\'/kns/detail/detail.aspx?QueryID=2&CurRec=13&DbCode= CJFD&dbname=CJFD2011&filename=QBLL201101025&urlid=&yx=\\' target=\\'_blank\\'>基于数据挖掘技术的企业竞争情报系统模型研究</a>\\r\\n          \\r\\n                 \\r\\n          \\r\\n      </td>\\r\\n      <td class=\\'author_flag\\'>\\r\\n         <a class=\\'KnowledgeNetLink\\' href=\\'/kns/popup/knetsearchNew.aspx?sdb=CJFQ&sfield=%e4%bd%9c%e8%80%85&skey=%e6%9d%8e%e4%bc%9a&scode=15562583%3b06137304%3b\\' target=\"knet\">李会</a>; <a class=\\'KnowledgeNetLink\\' href=\\'/kns/popup/knetsearchNew.aspx?sdb=CJFQ&sfield=%e4%bd%9c%e8%80%85&skey=%e7%a8%8b%e5%88%9a&scode=15562583%3b06137304%3b\\' target=\"knet\"><font class=Mark>程刚</font></a>\\r\\n      </td>\\r\\n      <td class=\\'cjfdyxyz\\'>\\r\\n      <input type=\\'hidden\\' value=\\'QBLL\\' /> \\r\\n      \\r\\n      <a  target=\"_blank\" href=\\'/kns/NaviBridge.aspx?LinkType=BaseLink&DBCode=cjfq&TableName=cjfqbaseinfo&Field=BaseID&Value=QBLL\\' class=\\'SinglePubMark\\' title=\\'紫色刊名为“中国知网”独家出版刊物\\'>情报理论与实践</a>\\r\\n      \\r\\n      </td>\\r\\n      <td align=\"center\">\\r\\n\\r\\n         \\r\\n        2011-01-30\\r\\n               \\r\\n         \\r\\n        \\r\\n      </td>        \\r\\n      <td align=\"right\"><span class=\"KnowledgeNetcont\"><a class=\\'KnowledgeNetLink\\' onClick=\"TPI_openwindow(\\'/kns/popup/knetsearchNew.aspx?sdb=CJFQ&sfield=cite&skey=%e5%9f%ba%e4%ba%8e%e6%95%b0%e6%8d%ae%e6%8c%96%e6%8e%98%e6%8a%80%e6%9c%af%e7%9a%84%e4%bc%81%e4%b8%9a%e7%ab%9e%e4%ba%89%e6%83%85%e6%8a%a5%e7%b3%bb%e7%bb%9f%e6%a8%a1%e5%9e%8b%e7%a0%94%e7%a9%b6&scode=QBLL201101025\\', \\'aaa\\',\\'status=yes,scrollbars=yes\\',event)\">14</a></span></td>\\r\\n      <td align=\"center\">\\r\\n       <a href=\"../download.aspx?filename=lZnZL1WdkdkT1g2LxFlUDJXQilWcQVkVXV3cNBlM4RlWzNVawhFUsZzVih0botyVmlDS1hmcuVHbm1GbQljdjFWTaJ0LytkSoN0b1gmbwZGMhdVNHd3KykDWW1GWVhFc5dWaMl2VNR1MhZHZSBXSypnN3FzcZx2b&tablename=CJFD2011\"\\ttarget=_blank class=\"briefDl_D\" title=\\'下载\\'></a> <span class=\"downloadCount\"><a href=\\'javascript:void(0);\\' onclick=\\'SubCountDownLoad(0,this)\\' >1092</a></span>\\r\\n      \\r\\n      </td> \\r\\n      <td align=\"center\">   \\r\\n      \\r\\n         \\r\\n\\r\\n         <a class=\"kreader\" target=\"online_open\" href=\\'/kns/ReadRedirectPage.aspx?domain=%2fKReader%2fRedriectPage.aspx%3ftablename%3dCJFD2011%26filename%3dQBLL201101025%26dbCode%3dCJFQ\\' title=\"阅读\"  ></a>\\r\\n         \\r\\n\\r\\n      </td></TR><TR  bgcolor=#f6f7fb>\\n<td style=\"white-space:nowrap;\"><input type=checkbox name=FileNameS  value=\"CJFD2013!QBLL201303015!14!2\"  onclick=\"checkMark(this)\"  >14</td><td >\\r\\n      <a class=\"fz14\" href=\\'/kns/detail/detail.aspx?QueryID=2&CurRec=14&DbCode= CJFD&dbname=CJFD2013&filename=QBLL201303015&urlid=&yx=\\' target=\\'_blank\\'>企业项目知识风险管理模型构建及实证研究</a>\\r\\n          \\r\\n                 \\r\\n          \\r\\n      </td>\\r\\n      <td class=\\'author_flag\\'>\\r\\n         <a class=\\'KnowledgeNetLink\\' href=\\'/kns/popup/knetsearchNew.aspx?sdb=CJFQ&sfield=%e4%bd%9c%e8%80%85&skey=%e7%8e%8b%e5%bd%b1%e6%b4%81&scode=26335448%3b06137304%3b06136423%3b\\' target=\"knet\">王影洁</a>; <a class=\\'KnowledgeNetLink\\' href=\\'/kns/popup/knetsearchNew.aspx?sdb=CJFQ&sfield=%e4%bd%9c%e8%80%85&skey=%e7%a8%8b%e5%88%9a&scode=26335448%3b06137304%3b06136423%3b\\' target=\"knet\"><font class=Mark>程刚</font></a>; <a class=\\'KnowledgeNetLink\\' href=\\'/kns/popup/knetsearchNew.aspx?sdb=CJFQ&sfield=%e4%bd%9c%e8%80%85&skey=%e6%9d%8e%e8%89%b3%e8%89%b3&scode=26335448%3b06137304%3b06136423%3b\\' target=\"knet\">李艳艳</a>\\r\\n      </td>\\r\\n      <td class=\\'cjfdyxyz\\'>\\r\\n      <input type=\\'hidden\\' value=\\'QBLL\\' /> \\r\\n      \\r\\n      <a  target=\"_blank\" href=\\'/kns/NaviBridge.aspx?LinkType=BaseLink&DBCode=cjfq&TableName=cjfqbaseinfo&Field=BaseID&Value=QBLL\\' class=\\'SinglePubMark\\' title=\\'紫色刊名为“中国知网”独家出版刊物\\'>情报理论与实践</a>\\r\\n      \\r\\n      </td>\\r\\n      <td align=\"center\">\\r\\n\\r\\n         \\r\\n        2013-03-30\\r\\n               \\r\\n         \\r\\n        \\r\\n      </td>        \\r\\n      <td align=\"right\"><span class=\"KnowledgeNetcont\"><a class=\\'KnowledgeNetLink\\' onClick=\"TPI_openwindow(\\'/kns/popup/knetsearchNew.aspx?sdb=CJFQ&sfield=cite&skey=%e4%bc%81%e4%b8%9a%e9%a1%b9%e7%9b%ae%e7%9f%a5%e8%af%86%e9%a3%8e%e9%99%a9%e7%ae%a1%e7%90%86%e6%a8%a1%e5%9e%8b%e6%9e%84%e5%bb%ba%e5%8f%8a%e5%ae%9e%e8%af%81%e7%a0%94%e7%a9%b6&scode=QBLL201303015\\', \\'aaa\\',\\'status=yes,scrollbars=yes\\',event)\">13</a></span></td>\\r\\n      <td align=\"center\">\\r\\n       <a href=\"../download.aspx?filename=lZnZL1WdkdkT1g2LxFlUDJXQilWcQVkVXV3cNBlM4RlWzNVawhFUsZzVih0botyVmlDS1hmcuVHbm1GbaBja3gWelZlavVnN4QWUxd3M582LOVmTHh0RVNmTmNVRVhFc5dWaMl2VNR1MhZHZSBXSypnN3FzcZx2b&tablename=CJFD2013\"\\ttarget=_blank class=\"briefDl_D\" title=\\'下载\\'></a> <span class=\"downloadCount\"><a href=\\'javascript:void(0);\\' onclick=\\'SubCountDownLoad(0,this)\\' >482</a></span>\\r\\n      \\r\\n      </td> \\r\\n      <td align=\"center\">   \\r\\n      \\r\\n         \\r\\n         <a class=\"kreader kreader1 xml\"  target=\"online_open\" href=\\'/kns/ReadRedirectPage.aspx?flag=html&domain=%2fKXReader%2fDetail%3fdbcode%3dCJFD%26filename%3dQBLL201303015\\' title=\"HTML阅读\"  ></a> \\r\\n\\r\\n         \\r\\n\\r\\n      </td></TR><TR  bgcolor=#ffffff>\\n<td style=\"white-space:nowrap;\"><input type=checkbox name=FileNameS  value=\"CJFD2008!QBLL200801016!15!2\"  onclick=\"checkMark(this)\"  >15</td><td >\\r\\n      <a class=\"fz14\" href=\\'/kns/detail/detail.aspx?QueryID=2&CurRec=15&DbCode= CJFD&dbname=CJFD2008&filename=QBLL200801016&urlid=&yx=\\' target=\\'_blank\\'>现代企业技术创新的信息服务体系研究</a>\\r\\n          \\r\\n                 \\r\\n          \\r\\n      </td>\\r\\n      <td class=\\'author_flag\\'>\\r\\n         <a class=\\'KnowledgeNetLink\\' href=\\'/kns/popup/knetsearchNew.aspx?sdb=CJFQ&sfield=%e4%bd%9c%e8%80%85&skey=%e7%a8%8b%e5%88%9a&scode=06137304%3b\\' target=\"knet\"><font class=Mark>程刚</font></a>\\r\\n      </td>\\r\\n      <td class=\\'cjfdyxyz\\'>\\r\\n      <input type=\\'hidden\\' value=\\'QBLL\\' /> \\r\\n      \\r\\n      <a  target=\"_blank\" href=\\'/kns/NaviBridge.aspx?LinkType=BaseLink&DBCode=cjfq&TableName=cjfqbaseinfo&Field=BaseID&Value=QBLL\\' class=\\'SinglePubMark\\' title=\\'紫色刊名为“中国知网”独家出版刊物\\'>情报理论与实践</a>\\r\\n      \\r\\n      </td>\\r\\n      <td align=\"center\">\\r\\n\\r\\n         \\r\\n        2008-01-30\\r\\n               \\r\\n         \\r\\n        \\r\\n      </td>        \\r\\n      <td align=\"right\"><span class=\"KnowledgeNetcont\"><a class=\\'KnowledgeNetLink\\' onClick=\"TPI_openwindow(\\'/kns/popup/knetsearchNew.aspx?sdb=CJFQ&sfield=cite&skey=%e7%8e%b0%e4%bb%a3%e4%bc%81%e4%b8%9a%e6%8a%80%e6%9c%af%e5%88%9b%e6%96%b0%e7%9a%84%e4%bf%a1%e6%81%af%e6%9c%8d%e5%8a%a1%e4%bd%93%e7%b3%bb%e7%a0%94%e7%a9%b6&scode=QBLL200801016\\', \\'aaa\\',\\'status=yes,scrollbars=yes\\',event)\">13</a></span></td>\\r\\n      <td align=\"center\">\\r\\n       <a href=\"../download.aspx?filename=lZnZL1WdkdkT1g2LxFlUDJXQilWcQVkVXV3cNBlM4RlWzNVawhFUsZzVih0botyVmlDS1hmcuVHbm1Gba1me04WTVhFVPJETKVkUIFXethEWzNnWUN2MiNmap12ardFc5dWaMl2VNR1MhZHZSBXSypnN3FzcZx2b&tablename=CJFD2008\"\\ttarget=_blank class=\"briefDl_D\" title=\\'下载\\'></a> <span class=\"downloadCount\"><a href=\\'javascript:void(0);\\' onclick=\\'SubCountDownLoad(0,this)\\' >489</a></span>\\r\\n      \\r\\n      </td> \\r\\n      <td align=\"center\">   \\r\\n      \\r\\n         \\r\\n         <a class=\"kreader kreader1 xml\"  target=\"online_open\" href=\\'/kns/ReadRedirectPage.aspx?flag=html&domain=%2fKXReader%2fDetail%3fdbcode%3dCJFD%26filename%3dQBLL200801016\\' title=\"HTML阅读\"  ></a> \\r\\n\\r\\n         \\r\\n\\r\\n      </td></TR><TR  bgcolor=#f6f7fb>\\n<td style=\"white-space:nowrap;\"><input type=checkbox name=FileNameS  value=\"CJFD2005!QBZZ200511035!16!2\"  onclick=\"checkMark(this)\"  >16</td><td >\\r\\n      <a class=\"fz14\" href=\\'/kns/detail/detail.aspx?QueryID=2&CurRec=16&DbCode= CJFD&dbname=CJFD2005&filename=QBZZ200511035&urlid=&yx=\\' target=\\'_blank\\'>我国企业知识管理研究进展</a>\\r\\n          \\r\\n                 \\r\\n          \\r\\n      </td>\\r\\n      <td class=\\'author_flag\\'>\\r\\n         <a class=\\'KnowledgeNetLink\\' href=\\'/kns/popup/knetsearchNew.aspx?sdb=CJFQ&sfield=%e4%bd%9c%e8%80%85&skey=%e7%a8%8b%e7%a5%81%e6%85%a7&scode=06135555%3b06137304%3b\\' target=\"knet\">程祁慧</a>; <a class=\\'KnowledgeNetLink\\' href=\\'/kns/popup/knetsearchNew.aspx?sdb=CJFQ&sfield=%e4%bd%9c%e8%80%85&skey=%e7%a8%8b%e5%88%9a&scode=06135555%3b06137304%3b\\' target=\"knet\"><font class=Mark>程刚</font></a>\\r\\n      </td>\\r\\n      <td class=\\'cjfdyxyz\\'>\\r\\n      <input type=\\'hidden\\' value=\\'QBZZ\\' /> \\r\\n      \\r\\n      <a  target=\"_blank\" href=\\'/kns/NaviBridge.aspx?LinkType=BaseLink&DBCode=cjfq&TableName=cjfqbaseinfo&Field=BaseID&Value=QBZZ\\' >情报杂志</a>\\r\\n      \\r\\n      </td>\\r\\n      <td align=\"center\">\\r\\n\\r\\n         \\r\\n        2005-11-18\\r\\n               \\r\\n         \\r\\n        \\r\\n      </td>        \\r\\n      <td align=\"right\"><span class=\"KnowledgeNetcont\"><a class=\\'KnowledgeNetLink\\' onClick=\"TPI_openwindow(\\'/kns/popup/knetsearchNew.aspx?sdb=CJFQ&sfield=cite&skey=%e6%88%91%e5%9b%bd%e4%bc%81%e4%b8%9a%e7%9f%a5%e8%af%86%e7%ae%a1%e7%90%86%e7%a0%94%e7%a9%b6%e8%bf%9b%e5%b1%95&scode=QBZZ200511035\\', \\'aaa\\',\\'status=yes,scrollbars=yes\\',event)\">13</a></span></td>\\r\\n      <td align=\"center\">\\r\\n       <a href=\"../download.aspx?filename=lZnZL1WdkdkT1g2LxFlUDJXQilWcQVkVXV3cNBlM4RlWzNVawhFUsZzVih0botyVmlDS1hmcuVHbm1Gb2EjQENFVrhnWKFDVDdzMB12ZBZmZDJFOwdUWSF0KThzNrdFc5dWaMl2VNR1MhZHZSBXSypnN3FzcZx2b&tablename=CJFD2005\"\\ttarget=_blank class=\"briefDl_D\" title=\\'下载\\'></a> <span class=\"downloadCount\"><a href=\\'javascript:void(0);\\' onclick=\\'SubCountDownLoad(0,this)\\' >1018</a></span>\\r\\n      \\r\\n      </td> \\r\\n      <td align=\"center\">   \\r\\n      \\r\\n         \\r\\n\\r\\n         <a class=\"kreader\" target=\"online_open\" href=\\'/kns/ReadRedirectPage.aspx?domain=%2fKReader%2fRedriectPage.aspx%3ftablename%3dCJFD2005%26filename%3dQBZZ200511035%26dbCode%3dCJFQ\\' title=\"阅读\"  ></a>\\r\\n         \\r\\n\\r\\n      </td></TR><TR  bgcolor=#ffffff>\\n<td style=\"white-space:nowrap;\"><input type=checkbox name=FileNameS  value=\"CJFD2013!QBLL201301012!17!2\"  onclick=\"checkMark(this)\"  >17</td><td >\\r\\n      <a class=\"fz14\" href=\\'/kns/detail/detail.aspx?QueryID=2&CurRec=17&DbCode= CJFD&dbname=CJFD2013&filename=QBLL201301012&urlid=&yx=\\' target=\\'_blank\\'>项目型企业知识管理能力的模糊灰色关联评价研究</a>\\r\\n          \\r\\n                 \\r\\n          \\r\\n      </td>\\r\\n      <td class=\\'author_flag\\'>\\r\\n         <a class=\\'KnowledgeNetLink\\' href=\\'/kns/popup/knetsearchNew.aspx?sdb=CJFQ&sfield=%e4%bd%9c%e8%80%85&skey=%e7%a8%8b%e5%88%9a&scode=06137304%3b26335448%3b\\' target=\"knet\"><font class=Mark>程刚</font></a>; <a class=\\'KnowledgeNetLink\\' href=\\'/kns/popup/knetsearchNew.aspx?sdb=CJFQ&sfield=%e4%bd%9c%e8%80%85&skey=%e7%8e%8b%e5%bd%b1%e6%b4%81&scode=06137304%3b26335448%3b\\' target=\"knet\">王影洁</a>\\r\\n      </td>\\r\\n      <td class=\\'cjfdyxyz\\'>\\r\\n      <input type=\\'hidden\\' value=\\'QBLL\\' /> \\r\\n      \\r\\n      <a  target=\"_blank\" href=\\'/kns/NaviBridge.aspx?LinkType=BaseLink&DBCode=cjfq&TableName=cjfqbaseinfo&Field=BaseID&Value=QBLL\\' class=\\'SinglePubMark\\' title=\\'紫色刊名为“中国知网”独家出版刊物\\'>情报理论与实践</a>\\r\\n      \\r\\n      </td>\\r\\n      <td align=\"center\">\\r\\n\\r\\n         \\r\\n        2013-01-30\\r\\n               \\r\\n         \\r\\n        \\r\\n      </td>        \\r\\n      <td align=\"right\"><span class=\"KnowledgeNetcont\"><a class=\\'KnowledgeNetLink\\' onClick=\"TPI_openwindow(\\'/kns/popup/knetsearchNew.aspx?sdb=CJFQ&sfield=cite&skey=%e9%a1%b9%e7%9b%ae%e5%9e%8b%e4%bc%81%e4%b8%9a%e7%9f%a5%e8%af%86%e7%ae%a1%e7%90%86%e8%83%bd%e5%8a%9b%e7%9a%84%e6%a8%a1%e7%b3%8a%e7%81%b0%e8%89%b2%e5%85%b3%e8%81%94%e8%af%84%e4%bb%b7%e7%a0%94%e7%a9%b6&scode=QBLL201301012\\', \\'aaa\\',\\'status=yes,scrollbars=yes\\',event)\">12</a></span></td>\\r\\n      <td align=\"center\">\\r\\n       <a href=\"../download.aspx?filename=lZnZL1WdkdkT1g2LxFlUDJXQilWcQVkVXV3cNBlM4RlWzNVawhFUsZzVih0botyVmlDS1hmcuVHbm1GbYBzbUhWR18mdHVXRMtUdykVZmRHWNhUMDxUWCtiTmNVRVhFc5dWaMl2VNR1MhZHZSBXSypnN3FzcZx2b&tablename=CJFD2013\"\\ttarget=_blank class=\"briefDl_D\" title=\\'下载\\'></a> <span class=\"downloadCount\"><a href=\\'javascript:void(0);\\' onclick=\\'SubCountDownLoad(0,this)\\' >466</a></span>\\r\\n      \\r\\n      </td> \\r\\n      <td align=\"center\">   \\r\\n      \\r\\n         \\r\\n         <a class=\"kreader kreader1 xml\"  target=\"online_open\" href=\\'/kns/ReadRedirectPage.aspx?flag=html&domain=%2fKXReader%2fDetail%3fdbcode%3dCJFD%26filename%3dQBLL201301012\\' title=\"HTML阅读\"  ></a> \\r\\n\\r\\n         \\r\\n\\r\\n      </td></TR><TR  bgcolor=#f6f7fb>\\n<td style=\"white-space:nowrap;\"><input type=checkbox name=FileNameS  value=\"CJFD2009!ZWGD200904014!18!2\"  onclick=\"checkMark(this)\"  >18</td><td >\\r\\n      <a class=\"fz14\" href=\\'/kns/detail/detail.aspx?QueryID=2&CurRec=18&DbCode= CJFD&dbname=CJFD2009&filename=ZWGD200904014&urlid=&yx=\\' target=\\'_blank\\'>信息技术应用水平对企业逆向物流绩效影响的实证研究</a>\\r\\n          \\r\\n                 \\r\\n          \\r\\n      </td>\\r\\n      <td class=\\'author_flag\\'>\\r\\n         <a class=\\'KnowledgeNetLink\\' href=\\'/kns/popup/knetsearchNew.aspx?sdb=CJFQ&sfield=%e4%bd%9c%e8%80%85&skey=%e5%91%98%e5%b7%a7%e4%ba%91&scode=08058291%3b06133199%3b06137304%3b\\' target=\"knet\">员巧云</a>; <a class=\\'KnowledgeNetLink\\' href=\\'/kns/popup/knetsearchNew.aspx?sdb=CJFQ&sfield=%e4%bd%9c%e8%80%85&skey=%e7%a8%8b%e5%88%9a&scode=08058291%3b06133199%3b06137304%3b\\' target=\"knet\"><font class=Mark>程刚</font></a>\\r\\n      </td>\\r\\n      <td class=\\'cjfdyxyz\\'>\\r\\n      <input type=\\'hidden\\' value=\\'ZWGD\\' /> \\r\\n      \\r\\n      <a  target=\"_blank\" href=\\'/kns/NaviBridge.aspx?LinkType=BaseLink&DBCode=cjfq&TableName=cjfqbaseinfo&Field=BaseID&Value=ZWGD\\' class=\\'SinglePubMark\\' title=\\'紫色刊名为“中国知网”独家出版刊物\\'>管理评论</a>\\r\\n      \\r\\n      </td>\\r\\n      <td align=\"center\">\\r\\n\\r\\n         \\r\\n        2009-04-25\\r\\n               \\r\\n         \\r\\n        \\r\\n      </td>        \\r\\n      <td align=\"right\"><span class=\"KnowledgeNetcont\"><a class=\\'KnowledgeNetLink\\' onClick=\"TPI_openwindow(\\'/kns/popup/knetsearchNew.aspx?sdb=CJFQ&sfield=cite&skey=%e4%bf%a1%e6%81%af%e6%8a%80%e6%9c%af%e5%ba%94%e7%94%a8%e6%b0%b4%e5%b9%b3%e5%af%b9%e4%bc%81%e4%b8%9a%e9%80%86%e5%90%91%e7%89%a9%e6%b5%81%e7%bb%a9%e6%95%88%e5%bd%b1%e5%93%8d%e7%9a%84%e5%ae%9e%e8%af%81%e7%a0%94%e7%a9%b6&scode=ZWGD200904014\\', \\'aaa\\',\\'status=yes,scrollbars=yes\\',event)\">11</a></span></td>\\r\\n      <td align=\"center\">\\r\\n       <a href=\"../download.aspx?filename=lZnZL1WdkdkT1g2LxFlUDJXQilWcQVkVXV3cNBlM4RlWzNVawhFUsZzVih0botyVmlDS1hmcuVHbm1GbwJTQrIFR0k0V1EVW3kUayEFT0U3RFFGSSJGMuBlcs9kU4lVaElVN4ADaNR1MhZHZSBXSypnN3FzcZx2b&tablename=CJFD2009\"\\ttarget=_blank class=\"briefDl_D\" title=\\'下载\\'></a> <span class=\"downloadCount\"><a href=\\'javascript:void(0);\\' onclick=\\'SubCountDownLoad(0,this)\\' >834</a></span>\\r\\n      \\r\\n      </td> \\r\\n      <td align=\"center\">   \\r\\n      \\r\\n         \\r\\n         <a class=\"kreader kreader1 xml\"  target=\"online_open\" href=\\'/kns/ReadRedirectPage.aspx?flag=html&domain=%2fKXReader%2fDetail%3fdbcode%3dCJFD%26filename%3dZWGD200904014\\' title=\"HTML阅读\"  ></a> \\r\\n\\r\\n         \\r\\n\\r\\n      </td></TR><TR  bgcolor=#ffffff>\\n<td style=\"white-space:nowrap;\"><input type=checkbox name=FileNameS  value=\"CJFD2005!QBLL200506008!19!2\"  onclick=\"checkMark(this)\"  >19</td><td >\\r\\n      <a class=\"fz14\" href=\\'/kns/detail/detail.aspx?QueryID=2&CurRec=19&DbCode= CJFD&dbname=CJFD2005&filename=QBLL200506008&urlid=&yx=\\' target=\\'_blank\\'>信息污染指标体系的构建研究</a>\\r\\n          \\r\\n                 \\r\\n          \\r\\n      </td>\\r\\n      <td class=\\'author_flag\\'>\\r\\n         <a class=\\'KnowledgeNetLink\\' href=\\'/kns/popup/knetsearchNew.aspx?sdb=CJFQ&sfield=%e4%bd%9c%e8%80%85&skey=%e5%a4%8f%e6%97%a5&scode=06137415%3b06137304%3b\\' target=\"knet\">夏日</a>; <a class=\\'KnowledgeNetLink\\' href=\\'/kns/popup/knetsearchNew.aspx?sdb=CJFQ&sfield=%e4%bd%9c%e8%80%85&skey=%e7%a8%8b%e5%88%9a&scode=06137415%3b06137304%3b\\' target=\"knet\"><font class=Mark>程刚</font></a>\\r\\n      </td>\\r\\n      <td class=\\'cjfdyxyz\\'>\\r\\n      <input type=\\'hidden\\' value=\\'QBLL\\' /> \\r\\n      \\r\\n      <a  target=\"_blank\" href=\\'/kns/NaviBridge.aspx?LinkType=BaseLink&DBCode=cjfq&TableName=cjfqbaseinfo&Field=BaseID&Value=QBLL\\' class=\\'SinglePubMark\\' title=\\'紫色刊名为“中国知网”独家出版刊物\\'>情报理论与实践</a>\\r\\n      \\r\\n      </td>\\r\\n      <td align=\"center\">\\r\\n\\r\\n         \\r\\n        2005-11-30\\r\\n               \\r\\n         \\r\\n        \\r\\n      </td>        \\r\\n      <td align=\"right\"><span class=\"KnowledgeNetcont\"><a class=\\'KnowledgeNetLink\\' onClick=\"TPI_openwindow(\\'/kns/popup/knetsearchNew.aspx?sdb=CJFQ&sfield=cite&skey=%e4%bf%a1%e6%81%af%e6%b1%a1%e6%9f%93%e6%8c%87%e6%a0%87%e4%bd%93%e7%b3%bb%e7%9a%84%e6%9e%84%e5%bb%ba%e7%a0%94%e7%a9%b6&scode=QBLL200506008\\', \\'aaa\\',\\'status=yes,scrollbars=yes\\',event)\">11</a></span></td>\\r\\n      <td align=\"center\">\\r\\n       <a href=\"../download.aspx?filename=lZnZL1WdkdkT1g2LxFlUDJXQilWcQVkVXV3cNBlM4RlWzNVawhFUsZzVih0botyVmlDS1hmcuVHbm1GbExESJpXeKZ0NsdEaKp1Z1J1V1YmZDJFOwdUWSF0KThzNrdFc5dWaMl2VNR1MhZHZSBXSypnN3FzcZx2b&tablename=CJFD2005\"\\ttarget=_blank class=\"briefDl_D\" title=\\'下载\\'></a> <span class=\"downloadCount\"><a href=\\'javascript:void(0);\\' onclick=\\'SubCountDownLoad(0,this)\\' >199</a></span>\\r\\n      \\r\\n      </td> \\r\\n      <td align=\"center\">   \\r\\n      \\r\\n         \\r\\n         <a class=\"kreader kreader1 xml\"  target=\"online_open\" href=\\'/kns/ReadRedirectPage.aspx?flag=html&domain=%2fKXReader%2fDetail%3fdbcode%3dCJFD%26filename%3dQBLL200506008\\' title=\"HTML阅读\"  ></a> \\r\\n\\r\\n         \\r\\n\\r\\n      </td></TR><TR  bgcolor=#f6f7fb>\\n<td style=\"white-space:nowrap;\"><input type=checkbox name=FileNameS  value=\"CJFDLAST2016!TSSS201601011!20!2\"  onclick=\"checkMark(this)\"  >20</td><td >\\r\\n      <a class=\"fz14\" href=\\'/kns/detail/detail.aspx?QueryID=2&CurRec=20&DbCode= CJFD&dbname=CJFDLAST2016&filename=TSSS201601011&urlid=&yx=\\' target=\\'_blank\\'>面向科技型中小企业创新发展的高校图书馆知识服务模式研究</a>\\r\\n          \\r\\n                 \\r\\n          \\r\\n      </td>\\r\\n      <td class=\\'author_flag\\'>\\r\\n         <a class=\\'KnowledgeNetLink\\' href=\\'/kns/popup/knetsearchNew.aspx?sdb=CJFQ&sfield=%e4%bd%9c%e8%80%85&skey=%e7%a8%8b%e5%88%9a&scode=06137304%3b34280115%3b\\' target=\"knet\"><font class=Mark>程刚</font></a>; <a class=\\'KnowledgeNetLink\\' href=\\'/kns/popup/knetsearchNew.aspx?sdb=CJFQ&sfield=%e4%bd%9c%e8%80%85&skey=%e9%83%81%e6%96%87%e6%99%af&scode=06137304%3b34280115%3b\\' target=\"knet\">郁文景</a>\\r\\n      </td>\\r\\n      <td class=\\'cjfdyxyz\\'>\\r\\n      <input type=\\'hidden\\' value=\\'TSSS\\' /> \\r\\n      \\r\\n      <a  target=\"_blank\" href=\\'/kns/NaviBridge.aspx?LinkType=BaseLink&DBCode=cjfq&TableName=cjfqbaseinfo&Field=BaseID&Value=TSSS\\' class=\\'SinglePubMark\\' title=\\'紫色刊名为“中国知网”独家出版刊物\\'>图书馆学研究</a>\\r\\n      \\r\\n      </td>\\r\\n      <td align=\"center\">\\r\\n\\r\\n         \\r\\n        2016-01-15\\r\\n               \\r\\n         \\r\\n        \\r\\n      </td>        \\r\\n      <td align=\"right\"><span class=\"KnowledgeNetcont\"><a class=\\'KnowledgeNetLink\\' onClick=\"TPI_openwindow(\\'/kns/popup/knetsearchNew.aspx?sdb=CJFQ&sfield=cite&skey=%e9%9d%a2%e5%90%91%e7%a7%91%e6%8a%80%e5%9e%8b%e4%b8%ad%e5%b0%8f%e4%bc%81%e4%b8%9a%e5%88%9b%e6%96%b0%e5%8f%91%e5%b1%95%e7%9a%84%e9%ab%98%e6%a0%a1%e5%9b%be%e4%b9%a6%e9%a6%86%e7%9f%a5%e8%af%86%e6%9c%8d%e5%8a%a1%e6%a8%a1%e5%bc%8f%e7%a0%94%e7%a9%b6&scode=TSSS201601011\\', \\'aaa\\',\\'status=yes,scrollbars=yes\\',event)\">10</a></span></td>\\r\\n      <td align=\"center\">\\r\\n       <a href=\"../download.aspx?filename=lZnZL1WdkdkT1g2LxFlUDJXQilWcQVkVXV3cNBlM4RlWzNVawhFUsZzVih0botyVmlDS1hmcuVHbm1GbGRkSC9EcnhVNDN3U3FzNCBVY252Z1kHSNl1UYtGVIpUWVhFc5dWaMl2VNR1MhZHZSBXSypnN3FzcZx2b&tablename=CJFDLAST2016\"\\ttarget=_blank class=\"briefDl_D\" title=\\'下载\\'></a> <span class=\"downloadCount\"><a href=\\'javascript:void(0);\\' onclick=\\'SubCountDownLoad(0,this)\\' >452</a></span>\\r\\n      \\r\\n      </td> \\r\\n      <td align=\"center\">   \\r\\n      \\r\\n         \\r\\n         <a class=\"kreader kreader1 xml\"  target=\"online_open\" href=\\'/kns/ReadRedirectPage.aspx?flag=html&domain=%2fKXReader%2fDetail%3fdbcode%3dCJFD%26filename%3dTSSS201601011\\' title=\"HTML阅读\"  ></a> \\r\\n\\r\\n         \\r\\n\\r\\n      </td></TR></table>\\n\\n\\n</td></tr><tr><td><table class=\\'pageBar_bottom\\' border=0 cellspacing=0\\tcellpadding=0 \\twidth=100%\\talign=left ><tr><td align=left  colspan=8><div class=\\'TitleLeftCell\\'><div class=\\'pagerTitleCell\\'><span id=\"lbPagerTitle\" name=\"lbPagerTitle\" class=\"pagerTitle\"></span>&nbsp;找到&nbsp;96&nbsp;条结果&nbsp;</div><font class=\\'Mark\\'>1</font><a href=\"?curpage=2&RecordsPerPage=20&QueryID=2&ID=&turnpage=1&tpagemode=L&dbPrefix=CJFQ&Fields=&DisplayMode=listmode&SortType=(%e8%a2%ab%e5%bc%95%e9%a2%91%e6%ac%a1%2c%27INTEGER%27)+desc&PageName=ASP.brief_result_aspx&isinEn=1#J_ORDER&\">2</a><a href=\"?curpage=3&RecordsPerPage=20&QueryID=2&ID=&turnpage=1&tpagemode=L&dbPrefix=CJFQ&Fields=&DisplayMode=listmode&SortType=(%e8%a2%ab%e5%bc%95%e9%a2%91%e6%ac%a1%2c%27INTEGER%27)+desc&PageName=ASP.brief_result_aspx&isinEn=1#J_ORDER&\">3</a><a href=\"?curpage=4&RecordsPerPage=20&QueryID=2&ID=&turnpage=1&tpagemode=L&dbPrefix=CJFQ&Fields=&DisplayMode=listmode&SortType=(%e8%a2%ab%e5%bc%95%e9%a2%91%e6%ac%a1%2c%27INTEGER%27)+desc&PageName=ASP.brief_result_aspx&isinEn=1#J_ORDER&\">4</a><a href=\"?curpage=5&RecordsPerPage=20&QueryID=2&ID=&turnpage=1&tpagemode=L&dbPrefix=CJFQ&Fields=&DisplayMode=listmode&SortType=(%e8%a2%ab%e5%bc%95%e9%a2%91%e6%ac%a1%2c%27INTEGER%27)+desc&PageName=ASP.brief_result_aspx&isinEn=1#J_ORDER&\">5</a><a href=\"?curpage=2&RecordsPerPage=20&QueryID=2&ID=&turnpage=1&tpagemode=L&dbPrefix=CJFQ&Fields=&DisplayMode=listmode&SortType=(%e8%a2%ab%e5%bc%95%e9%a2%91%e6%ac%a1%2c%27INTEGER%27)+desc&PageName=ASP.brief_result_aspx&isinEn=1#J_ORDER&\">下一页</a></div></div></td></tr></table>\\n\\n\\n</td></tr></table>\\r\\n        <input name=\"tpagemode\" type=\"hidden\" id=\"tpagemode\" value=\"L\" />\\r\\n    </form>\\r\\n    <script type=\"text/javascript\">\\r\\n    try{}catch(e){}\\r\\n        ChangeDownloadImg();\\r\\n        RevertUserSelect();\\r\\n        briefTableListJSEvent();\\r\\n        BindOnlick_ShowWait();\\r\\n        BindTurnPage_TitleTip();\\r\\n        parent.$(\"#zyzklist\").hide();\\r\\n        //外文推荐\\r\\n        // recWWJDAddToTable();20170921,增加中英文混合检索，不需要再加载外文推荐\\r\\n        var analysisURL = \"http://kns.cnki.net/KVisual/ArticleAnalysis/index\";\\r\\n        modifySql();\\r\\n        function modifySql() {\\r\\n            var param = \"\";\\r\\n            if (param == null || param == \"\") {\\r\\n                var obj = parent.document.getElementById(\"sql\");\\r\\n                if (obj) {\\r\\n                    obj.value = \"2827E4B6502D8710744CC7825A00F3F82BAB6FF9F49C28A8C06DBD3C5D73A36E7A6B95F18DA4019E021F3F1691F6B0A03B99C056E48A0254F8D0AFE1AAB57A9BFDCBBFFEEAAFA080E188818637CF6AADB3910F9CB0D5384C288BBBD10EE5B756BFAE86E762F5587544067EFCB6335F1551B1752FED7007F87C0B189BCBDCC7BE77990692847290A31683F1740CAEB6813A36CD82B24F15A134FFABD5C21AD1916B21B4EF051D2B30EC28C39269062DF1BB5BD168E58B13414E9341EF81776598C235BE72F4E4710B5B3E45B9193B2BD5BB70204AD402B4C20B6C1945DC72460962917220310F714472D6E023C879AE47FA8D736DD1EE6E2952EC2B613499428250B653B82B2154B6735EA413D7EB055B1CFB6824C3CA49AA3C8722D4DB090026ECF20B02CC386EB14376ED55FCD312FFDC405ACE578C6B679995E60E6594A2C34546027DE19B5B1D96C88F8FB2E7B45FA5C392FA8F664B09D444E054B4123A7C726BD952DF5AA52FF11229F5267CF6407A5CA8BBAA1C86B9AEDF34B2C63B663251E690FD0E1839EAFF87182CEDE1644551E0E6DD47919B7D6C2A985994555CAADD8BD27DD640F786F2068738F347B4E1285F7031F3FE270E1A1903C50E467A5F7C49926AD463B0926097A08CD3BEF53040C4EB8344524D5C89B6114AD4F8E0FBF26EC6CE4A23671C033562240A64DC60ECB1094055FAD04B0E6129D82AC51EB0992F687F9E8A0806E2811F2CF59B3C7F11BD615F029F9D4E6BD9313B0BDDB5941871F21B2F44B731E8D19C71293EF729EFF20F0CEE6D45B5B6A8D0AEFEC5FEB63F952E81F3EF34D4E7125E44DB057F75C8BBEE924743E80D1F54022E65744EEE4C1F9C5405048E4CA985110B89A64205DE9AE9144B68D1C03F196423321673888757111BB20F4AD50CCF989A426100D39588FE8A31F1D24A1E432BC470AAFA28A7FBDBF797ECB7236F0860712E248BBEF2331D413C220A0D47C84F46E55A6A1B6B934F381AA1FDC9532869A0E36E6CF5D5B5AD9D120479F223552F20405793B3D3848ABD1BD171C0392C1D8BD1A50C2AADAEA030C316CFD53935D8C7D0CB73C4BBA78F5A8750CF852C2C996D31EA0BF52B7B4086A7B0D2D42FA592AA534EE04E7F3CEE888285E6DA2F4C8C8C73E012EA33F12F200E49CA61B8069CD2537D9EC031EFD3E23D62A2D8BAB21FBAC8353DC322770514FC329F44B8CC22984486C94C11EF726EC470E3FC5E9C3DA5D80F98EE7522ABE433FA79603380E9282FB44C6B43A89948FA0C121D86617CB5D505150D%\";\\r\\n            }\\r\\n        }\\r\\n    }\\r\\n    //绑定分析\\r\\n    $(\"#analysisBox\").hoverDelay({\\r\\n        hoverDuring: 200,\\r\\n        outDuring: 0,\\r\\n        hoverEvent: function () {\\r\\n            var $this = $(this);\\r\\n            //显示数字\\r\\n            var fileNameS = new FileNameS();\\r\\n            var pcnt = fileNameS.Count();\\r\\n            var rcnt = 643822;\\r\\n            var ptext = pcnt > -10 ? \"<span>(\" + pcnt + \")</span>\" : \"\";//始终为真\\r\\n            var rtext = rcnt > -10 ? \"<span>(\" + rcnt + \")</span>\" : \"\";\\r\\n            $this.find(\"a\").eq(0).html(\"已选文献分析\" + ptext);\\r\\n            //$this.find(\"a\").eq(1).html(\"检索结果\");\\r\\n            $this.find(\".imiSelDp\").show();\\r\\n        },\\r\\n        outEvent: function () {\\r\\n            $(this).find(\".imiSelDp\").hide();\\r\\n        }\\r\\n    });\\r\\n        //排序方式缓存  add by LH 2017-7-26\\r\\n    $(\"#J_ORDER .Btn5 a\").click(function() {\\r\\n        SetSortTypeCookie(this);\\r\\n    });\\r\\n    function SetSortTypeCookie(elm) {\\r\\n        var sorttype = GetQueryStringByName($(elm).attr(\"href\"), \"sorttype\");\\r\\n        var Days = 7;\\r\\n        var exp = new Date();\\r\\n        exp.setTime(exp.getTime() + Days * 24 * 60 * 60 * 1000);\\r\\n        var dbcode = GetQueryStringByName(window.location.href, \"dbPrefix\");\\r\\n        document.cookie = \"KNS_SortType\" + \"=\" + escape(dbcode+\"!\"+sorttype) + \";expires=\" + exp.toGMTString() + \";path=/\";\\r\\n    }\\r\\n    window.document.onclick = parent.OnclickForHideMoredo;\\r\\n\\r\\n    </script>\\r\\n    <style type=\"text/css\">\\r\\n        .flyingAdd\\r\\n        {\\r\\n            left: -100px;\\r\\n            top: 0px;\\r\\n            position: absolute;\\r\\n            width: 50px;\\r\\n            text-align: center;\\r\\n            height: 50px;\\r\\n            font-size: 50px;\\r\\n            color: #999;\\r\\n            z-index: 50000;\\r\\n        }\\r\\n        /*等待*/\\r\\n        .loading {\\r\\n            position: absolute;\\r\\n            width: 232px;\\r\\n            height: 32px;\\r\\n            z-index: 300;\\r\\n            background: url(../images/gb/loading.gif) no-repeat scroll center center transparent;\\r\\n        }\\r\\n    </style>\\r\\n    <div style=\"left: -1000px; top: -100px; opacity: 1; font-size: 50px;\" class=\"flyingAdd\">\\r\\n        <img src=\"../images/gb/checkboxbook.png\" alt=\"\" />\\r\\n    </div>\\r\\n    <script type=\"text/javascript\">\\r\\n        LoadScript(\\'http://kns.cnki.net/KRS/scripts/Recommend.js\\');\\r\\n        LoadScript(\\'http://piccache.cnki.net/kdn/nvsmkns/script/piwikCommon70.js\\');\\r\\n    </script>\\r\\n\\r\\n</body>\\r\\n</html>\\r\\n'"
      ]
     },
     "execution_count": 14,
     "metadata": {},
     "output_type": "execute_result"
    }
   ],
   "source": [
    "s.text"
   ]
  },
  {
   "cell_type": "code",
   "execution_count": 15,
   "metadata": {},
   "outputs": [],
   "source": [
    "import re"
   ]
  },
  {
   "cell_type": "code",
   "execution_count": 26,
   "metadata": {},
   "outputs": [],
   "source": [
    "pattern = 'scrollbars=yes\\',event\\)\">(.*?)</a>'"
   ]
  },
  {
   "cell_type": "code",
   "execution_count": 27,
   "metadata": {},
   "outputs": [
    {
     "data": {
      "text/plain": [
       "['52',\n",
       " '28',\n",
       " '22',\n",
       " '22',\n",
       " '18',\n",
       " '17',\n",
       " '17',\n",
       " '16',\n",
       " '16',\n",
       " '16',\n",
       " '16',\n",
       " '15',\n",
       " '14',\n",
       " '13',\n",
       " '13',\n",
       " '13',\n",
       " '12',\n",
       " '11',\n",
       " '11',\n",
       " '10']"
      ]
     },
     "execution_count": 27,
     "metadata": {},
     "output_type": "execute_result"
    }
   ],
   "source": [
    "re.findall(pattern,s.text)"
   ]
  },
  {
   "cell_type": "code",
   "execution_count": 28,
   "metadata": {},
   "outputs": [],
   "source": [
    "def gethtml(url):\n",
    "    referer = Referer = \"http://kns.cnki.net/kns/brief/brief.aspx?pagename=ASP.brief_result_aspx&isinEn=1&dbPrefix=CJFQ&dbCatalog=%e4%b8%ad%e5%9b%bd%e5%ad%a6%e6%9c%af%e6%9c%9f%e5%88%8a%e7%bd%91%e7%bb%9c%e5%87%ba%e7%89%88%e6%80%bb%e5%ba%93&ConfigFile=CJFQ.xml&research=off&t=1541645048301&keyValue=&S=1&sorttype=&DisplayMode=listmode\"\n",
    "    user_agent = \"Mozilla/5.0 (Windows NT 10.0; WOW64) AppleWebKit/537.36 (KHTML, like Gecko) Chrome/49.0.2623.22 Safari/537.36 SE 2.X MetaSr 1.0\"\n",
    "    cookie =  \"UM_distinctid=16362b38182134-0b41230d3392f7-6776a51-100200-16362b38183176; cnkiUserKey=e8061a51-69dd-4f7c-25da-086381dccb54; Ecp_ClientId=5180515152802715190; _pk_id=14bf67ee-3a41-442a-9936-36ecb14bad3b.1526369322.1.1526369557.1526369322.; RsPerPage=20; KNS_DisplayModel=listmode@CJFQ; CNZZDATA3258975=cnzz_eid%3D2147175785-1526366807-http%253A%252F%252Fxueshu.baidu.com%252F%26ntime%3D1541595127; Ecp_IpLoginFail=18110758.243.250.244; ASP.NET_SessionId=lgf4mopzgjkf3j0px1bppive; SID_kns=123120; SID_kinfo=125104; SID_klogin=125143; _pk_ref=%5B%22%22%2C%22%22%2C1541643768%2C%22http%3A%2F%2Fcnki.cyu.edu.cn%2F%22%5D; SID_krsnew=125131; _pk_ses=*; KNS_SortType=CJFQ%21%28%25e8%25a2%25ab%25e5%25bc%2595%25e9%25a2%2591%25e6%25ac%25a1%252c%2527INTEGER%2527%29+desc\"\n",
    "    header = {\"User-Agent\":user_agent,\"Referer\":referer,\"Cookie\":cookie}\n",
    "    resonse = requests.get(url,headers=header)\n",
    "    return resonse.text"
   ]
  },
  {
   "cell_type": "code",
   "execution_count": 29,
   "metadata": {},
   "outputs": [],
   "source": [
    "def parsehtml(html):\n",
    "    pattern = 'scrollbars=yes\\',event\\)\">(.*?)</a>'\n",
    "    rst = re.findall(pattern,html)\n",
    "    return rst"
   ]
  },
  {
   "cell_type": "code",
   "execution_count": 41,
   "metadata": {},
   "outputs": [],
   "source": [
    "def main():\n",
    "    rst = []\n",
    "    for i in range(1,6):\n",
    "        url = \"http://kns.cnki.net/kns/brief/brief.aspx?curpage=\"+str(i)+\"&RecordsPerPage=20&QueryID=7&ID=&turnpage=1&tpagemode=L&dbPrefix=CJFQ&Fields=&DisplayMode=listmodeRequest%20Method:GET&SortType=(被引频次%2c%27INTEGER%27)+desc&PageName=ASP.brief_result_aspx&isinEn=1#J_ORDER&\"\n",
    "        html =gethtml(url)\n",
    "        feqlst = parsehtml(html)\n",
    "        print(feqlst)\n",
    "        rst.append(feqlst)\n",
    "    return rst"
   ]
  },
  {
   "cell_type": "code",
   "execution_count": 52,
   "metadata": {},
   "outputs": [
    {
     "name": "stdout",
     "output_type": "stream",
     "text": [
      "['3', '1', '1', '10', '1', '16', '1', '1', '2', '5', '1', '10', '2', '3']\n",
      "['1', '8', '18', '28', '16', '8', '2', '10', '4', '12', '13', '1', '5', '6', '5', '2', '2', '2', '2']\n",
      "['8', '1', '2', '14', '1', '8', '1', '5', '4', '2', '5', '2', '3', '5', '2', '10']\n",
      "['16', '2', '11', '52', '2', '4', '22', '1', '1', '2', '3', '13', '17', '8', '2', '4', '1']\n",
      "['9', '1', '1', '2', '9', '9', '22', '5', '9', '16', '17', '11', '15', '13', '10']\n"
     ]
    },
    {
     "data": {
      "text/plain": [
       "[['3', '1', '1', '10', '1', '16', '1', '1', '2', '5', '1', '10', '2', '3'],\n",
       " ['1',\n",
       "  '8',\n",
       "  '18',\n",
       "  '28',\n",
       "  '16',\n",
       "  '8',\n",
       "  '2',\n",
       "  '10',\n",
       "  '4',\n",
       "  '12',\n",
       "  '13',\n",
       "  '1',\n",
       "  '5',\n",
       "  '6',\n",
       "  '5',\n",
       "  '2',\n",
       "  '2',\n",
       "  '2',\n",
       "  '2'],\n",
       " ['8',\n",
       "  '1',\n",
       "  '2',\n",
       "  '14',\n",
       "  '1',\n",
       "  '8',\n",
       "  '1',\n",
       "  '5',\n",
       "  '4',\n",
       "  '2',\n",
       "  '5',\n",
       "  '2',\n",
       "  '3',\n",
       "  '5',\n",
       "  '2',\n",
       "  '10'],\n",
       " ['16',\n",
       "  '2',\n",
       "  '11',\n",
       "  '52',\n",
       "  '2',\n",
       "  '4',\n",
       "  '22',\n",
       "  '1',\n",
       "  '1',\n",
       "  '2',\n",
       "  '3',\n",
       "  '13',\n",
       "  '17',\n",
       "  '8',\n",
       "  '2',\n",
       "  '4',\n",
       "  '1'],\n",
       " ['9',\n",
       "  '1',\n",
       "  '1',\n",
       "  '2',\n",
       "  '9',\n",
       "  '9',\n",
       "  '22',\n",
       "  '5',\n",
       "  '9',\n",
       "  '16',\n",
       "  '17',\n",
       "  '11',\n",
       "  '15',\n",
       "  '13',\n",
       "  '10']]"
      ]
     },
     "execution_count": 52,
     "metadata": {},
     "output_type": "execute_result"
    }
   ],
   "source": [
    "s = main()\n",
    "s"
   ]
  },
  {
   "cell_type": "code",
   "execution_count": 54,
   "metadata": {},
   "outputs": [],
   "source": [
    "rst = []\n",
    "for i in s:\n",
    "    rst += i"
   ]
  },
  {
   "cell_type": "code",
   "execution_count": 58,
   "metadata": {},
   "outputs": [],
   "source": [
    "for i in range(len(rst)):\n",
    "    rst[i] = int(rst[i])"
   ]
  },
  {
   "cell_type": "code",
   "execution_count": 68,
   "metadata": {},
   "outputs": [],
   "source": [
    "rst = sorted(rst,reverse=True)"
   ]
  },
  {
   "cell_type": "code",
   "execution_count": 66,
   "metadata": {},
   "outputs": [],
   "source": [
    "def findH(rst):\n",
    "    num = 0\n",
    "    medNum = int(len(rst) / 2)\n",
    "    for i in range(medNum):\n",
    "        if(rst[i]>rst[medNum]):\n",
    "            num+=1\n",
    "    if(num==rst[medNum-1]):\n",
    "        print(num)\n",
    "    else:\n",
    "        print(rst)\n",
    "        rst = rst[:medNum]\n",
    "        findH(rst)"
   ]
  },
  {
   "cell_type": "code",
   "execution_count": 75,
   "metadata": {},
   "outputs": [
    {
     "data": {
      "text/plain": [
       "[1,\n",
       " 1,\n",
       " 1,\n",
       " 1,\n",
       " 1,\n",
       " 1,\n",
       " 1,\n",
       " 1,\n",
       " 1,\n",
       " 1,\n",
       " 1,\n",
       " 1,\n",
       " 1,\n",
       " 1,\n",
       " 1,\n",
       " 1,\n",
       " 2,\n",
       " 2,\n",
       " 2,\n",
       " 2,\n",
       " 2,\n",
       " 2,\n",
       " 2,\n",
       " 2,\n",
       " 2,\n",
       " 2,\n",
       " 2,\n",
       " 2,\n",
       " 2,\n",
       " 2,\n",
       " 2,\n",
       " 2,\n",
       " 3,\n",
       " 3,\n",
       " 3,\n",
       " 3,\n",
       " 4,\n",
       " 4,\n",
       " 4,\n",
       " 4,\n",
       " 5,\n",
       " 5,\n",
       " 5,\n",
       " 5,\n",
       " 5,\n",
       " 5,\n",
       " 5,\n",
       " 6,\n",
       " 8,\n",
       " 8,\n",
       " 8,\n",
       " 8,\n",
       " 8,\n",
       " 9,\n",
       " 9,\n",
       " 9,\n",
       " 9,\n",
       " 10,\n",
       " 10,\n",
       " 10,\n",
       " 10,\n",
       " 10,\n",
       " 11,\n",
       " 11,\n",
       " 12,\n",
       " 13,\n",
       " 13,\n",
       " 13,\n",
       " 14,\n",
       " 15,\n",
       " 16,\n",
       " 16,\n",
       " 16,\n",
       " 16,\n",
       " 17,\n",
       " 17,\n",
       " 18,\n",
       " 22,\n",
       " 22,\n",
       " 28,\n",
       " 52]"
      ]
     },
     "execution_count": 75,
     "metadata": {},
     "output_type": "execute_result"
    }
   ],
   "source": [
    "rst = sorted(rst)\n",
    "rst"
   ]
  },
  {
   "cell_type": "code",
   "execution_count": 79,
   "metadata": {},
   "outputs": [],
   "source": [
    "def findH(rst):\n",
    "    hlst = []\n",
    "    for i in rst:\n",
    "        a = rst.index(i)\n",
    "        if(len(rst)-a>i):\n",
    "            hlst.append(i)\n",
    "    return hlst"
   ]
  },
  {
   "cell_type": "code",
   "execution_count": 81,
   "metadata": {},
   "outputs": [
    {
     "data": {
      "text/plain": [
       "68"
      ]
     },
     "execution_count": 81,
     "metadata": {},
     "output_type": "execute_result"
    }
   ],
   "source": [
    "len(findH(rst))"
   ]
  },
  {
   "cell_type": "code",
   "execution_count": null,
   "metadata": {},
   "outputs": [],
   "source": []
  }
 ],
 "metadata": {
  "kernelspec": {
   "display_name": "Python 3",
   "language": "python",
   "name": "python3"
  },
  "language_info": {
   "codemirror_mode": {
    "name": "ipython",
    "version": 3
   },
   "file_extension": ".py",
   "mimetype": "text/x-python",
   "name": "python",
   "nbconvert_exporter": "python",
   "pygments_lexer": "ipython3",
   "version": "3.6.5"
  }
 },
 "nbformat": 4,
 "nbformat_minor": 2
}
