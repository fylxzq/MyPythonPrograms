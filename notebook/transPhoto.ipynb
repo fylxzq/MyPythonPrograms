{
 "cells": [
  {
   "cell_type": "code",
   "execution_count": 3,
   "metadata": {},
   "outputs": [],
   "source": [
    "from PIL import Image\n",
    "import numpy as np\n",
    "\n",
    "photoArray = np.array(Image.open(\"zz3.jpg\").convert('L')).astype(\"float\")\n",
    "\n",
    "depth = 10.\n",
    "grad = np.gradient(photoArray)\n",
    "grad_x , grad_y = grad\n",
    "grad_x = grad_x*depth/100.\n",
    "grad_y = grad_y*depth/100.\n",
    "A = np.sqrt(grad_x**2 + grad_y**2 + 1.)\n",
    "uni_x = grad_x/A \n",
    "uni_y = grad_y/A\n",
    "uni_z = 1./A\n",
    "\n",
    "vec_el = np.pi/2.2\n",
    "vec_ez = np.pi/4.\n",
    "dx = np.cos(vec_el)*np.cos(vec_ez)\n",
    "dy = np.cos(vec_el)*np.sin(vec_ez)\n",
    "dz = np.sin(vec_el)\n",
    "b = 255*(dx*uni_x + dy*uni_y + dz*uni_z)\n",
    "b = b.clip(0,255)\n",
    "im = Image.fromarray(b.astype('uint8'))\n",
    "im.save('3.jpg')"
   ]
  },
  {
   "cell_type": "code",
   "execution_count": null,
   "metadata": {},
   "outputs": [],
   "source": []
  },
  {
   "cell_type": "code",
   "execution_count": null,
   "metadata": {},
   "outputs": [],
   "source": []
  }
 ],
 "metadata": {
  "kernelspec": {
   "display_name": "Python 3",
   "language": "python",
   "name": "python3"
  },
  "language_info": {
   "codemirror_mode": {
    "name": "ipython",
    "version": 3
   },
   "file_extension": ".py",
   "mimetype": "text/x-python",
   "name": "python",
   "nbconvert_exporter": "python",
   "pygments_lexer": "ipython3",
   "version": "3.6.5"
  }
 },
 "nbformat": 4,
 "nbformat_minor": 2
}
