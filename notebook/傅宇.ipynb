{
 "cells": [
  {
   "cell_type": "code",
   "execution_count": 2,
   "metadata": {},
   "outputs": [],
   "source": [
    "import pandas as pd"
   ]
  },
  {
   "cell_type": "code",
   "execution_count": 3,
   "metadata": {},
   "outputs": [],
   "source": [
    "fang_df = pd.read_csv(\"inputData/58fang.txt\",sep=\",\")"
   ]
  },
  {
   "cell_type": "code",
   "execution_count": 4,
   "metadata": {},
   "outputs": [
    {
     "data": {
      "text/html": [
       "<div>\n",
       "<style scoped>\n",
       "    .dataframe tbody tr th:only-of-type {\n",
       "        vertical-align: middle;\n",
       "    }\n",
       "\n",
       "    .dataframe tbody tr th {\n",
       "        vertical-align: top;\n",
       "    }\n",
       "\n",
       "    .dataframe thead th {\n",
       "        text-align: right;\n",
       "    }\n",
       "</style>\n",
       "<table border=\"1\" class=\"dataframe\">\n",
       "  <thead>\n",
       "    <tr style=\"text-align: right;\">\n",
       "      <th></th>\n",
       "      <th>rooms</th>\n",
       "      <th>area</th>\n",
       "      <th>floors</th>\n",
       "      <th>location</th>\n",
       "      <th>nearbySubway</th>\n",
       "      <th>price</th>\n",
       "    </tr>\n",
       "  </thead>\n",
       "  <tbody>\n",
       "    <tr>\n",
       "      <th>0</th>\n",
       "      <td>9</td>\n",
       "      <td>152.0</td>\n",
       "      <td>28</td>\n",
       "      <td>雨花</td>\n",
       "      <td>0</td>\n",
       "      <td>13684</td>\n",
       "    </tr>\n",
       "    <tr>\n",
       "      <th>1</th>\n",
       "      <td>8</td>\n",
       "      <td>157.0</td>\n",
       "      <td>11</td>\n",
       "      <td>雨花</td>\n",
       "      <td>0</td>\n",
       "      <td>11210</td>\n",
       "    </tr>\n",
       "    <tr>\n",
       "      <th>2</th>\n",
       "      <td>9</td>\n",
       "      <td>91.0</td>\n",
       "      <td>7</td>\n",
       "      <td>雨花</td>\n",
       "      <td>0</td>\n",
       "      <td>8571</td>\n",
       "    </tr>\n",
       "    <tr>\n",
       "      <th>3</th>\n",
       "      <td>5</td>\n",
       "      <td>90.0</td>\n",
       "      <td>30</td>\n",
       "      <td>雨花</td>\n",
       "      <td>0</td>\n",
       "      <td>10200</td>\n",
       "    </tr>\n",
       "    <tr>\n",
       "      <th>4</th>\n",
       "      <td>7</td>\n",
       "      <td>108.0</td>\n",
       "      <td>32</td>\n",
       "      <td>星沙</td>\n",
       "      <td>0</td>\n",
       "      <td>9074</td>\n",
       "    </tr>\n",
       "  </tbody>\n",
       "</table>\n",
       "</div>"
      ],
      "text/plain": [
       "   rooms   area  floors location  nearbySubway  price\n",
       "0      9  152.0      28       雨花             0  13684\n",
       "1      8  157.0      11       雨花             0  11210\n",
       "2      9   91.0       7       雨花             0   8571\n",
       "3      5   90.0      30       雨花             0  10200\n",
       "4      7  108.0      32       星沙             0   9074"
      ]
     },
     "execution_count": 4,
     "metadata": {},
     "output_type": "execute_result"
    }
   ],
   "source": [
    "fang_df.head()"
   ]
  },
  {
   "cell_type": "code",
   "execution_count": 5,
   "metadata": {},
   "outputs": [
    {
     "name": "stdout",
     "output_type": "stream",
     "text": [
      "<class 'pandas.core.frame.DataFrame'>\n",
      "RangeIndex: 1946 entries, 0 to 1945\n",
      "Data columns (total 6 columns):\n",
      "rooms           1946 non-null int64\n",
      "area            1946 non-null float64\n",
      "floors          1946 non-null int64\n",
      "location        1946 non-null object\n",
      "nearbySubway    1946 non-null int64\n",
      "price           1946 non-null int64\n",
      "dtypes: float64(1), int64(4), object(1)\n",
      "memory usage: 91.3+ KB\n"
     ]
    }
   ],
   "source": [
    "fang_df.info()"
   ]
  },
  {
   "cell_type": "code",
   "execution_count": 6,
   "metadata": {},
   "outputs": [],
   "source": [
    "fang_df[\"totalprice\"] = fang_df[\"area\"]*fang_df[\"price\"]"
   ]
  },
  {
   "cell_type": "code",
   "execution_count": 7,
   "metadata": {},
   "outputs": [
    {
     "data": {
      "text/html": [
       "<div>\n",
       "<style scoped>\n",
       "    .dataframe tbody tr th:only-of-type {\n",
       "        vertical-align: middle;\n",
       "    }\n",
       "\n",
       "    .dataframe tbody tr th {\n",
       "        vertical-align: top;\n",
       "    }\n",
       "\n",
       "    .dataframe thead th {\n",
       "        text-align: right;\n",
       "    }\n",
       "</style>\n",
       "<table border=\"1\" class=\"dataframe\">\n",
       "  <thead>\n",
       "    <tr style=\"text-align: right;\">\n",
       "      <th></th>\n",
       "      <th>rooms</th>\n",
       "      <th>area</th>\n",
       "      <th>floors</th>\n",
       "      <th>location</th>\n",
       "      <th>nearbySubway</th>\n",
       "      <th>price</th>\n",
       "      <th>totalprice</th>\n",
       "    </tr>\n",
       "  </thead>\n",
       "  <tbody>\n",
       "    <tr>\n",
       "      <th>0</th>\n",
       "      <td>9</td>\n",
       "      <td>152.0</td>\n",
       "      <td>28</td>\n",
       "      <td>雨花</td>\n",
       "      <td>0</td>\n",
       "      <td>13684</td>\n",
       "      <td>2079968.0</td>\n",
       "    </tr>\n",
       "    <tr>\n",
       "      <th>1</th>\n",
       "      <td>8</td>\n",
       "      <td>157.0</td>\n",
       "      <td>11</td>\n",
       "      <td>雨花</td>\n",
       "      <td>0</td>\n",
       "      <td>11210</td>\n",
       "      <td>1759970.0</td>\n",
       "    </tr>\n",
       "    <tr>\n",
       "      <th>2</th>\n",
       "      <td>9</td>\n",
       "      <td>91.0</td>\n",
       "      <td>7</td>\n",
       "      <td>雨花</td>\n",
       "      <td>0</td>\n",
       "      <td>8571</td>\n",
       "      <td>779961.0</td>\n",
       "    </tr>\n",
       "    <tr>\n",
       "      <th>3</th>\n",
       "      <td>5</td>\n",
       "      <td>90.0</td>\n",
       "      <td>30</td>\n",
       "      <td>雨花</td>\n",
       "      <td>0</td>\n",
       "      <td>10200</td>\n",
       "      <td>918000.0</td>\n",
       "    </tr>\n",
       "    <tr>\n",
       "      <th>4</th>\n",
       "      <td>7</td>\n",
       "      <td>108.0</td>\n",
       "      <td>32</td>\n",
       "      <td>星沙</td>\n",
       "      <td>0</td>\n",
       "      <td>9074</td>\n",
       "      <td>979992.0</td>\n",
       "    </tr>\n",
       "  </tbody>\n",
       "</table>\n",
       "</div>"
      ],
      "text/plain": [
       "   rooms   area  floors location  nearbySubway  price  totalprice\n",
       "0      9  152.0      28       雨花             0  13684   2079968.0\n",
       "1      8  157.0      11       雨花             0  11210   1759970.0\n",
       "2      9   91.0       7       雨花             0   8571    779961.0\n",
       "3      5   90.0      30       雨花             0  10200    918000.0\n",
       "4      7  108.0      32       星沙             0   9074    979992.0"
      ]
     },
     "execution_count": 7,
     "metadata": {},
     "output_type": "execute_result"
    }
   ],
   "source": [
    "fang_df.head()"
   ]
  },
  {
   "cell_type": "code",
   "execution_count": 8,
   "metadata": {},
   "outputs": [],
   "source": [
    "fang_df = fang_df.groupby(\"location\").agg({\"rooms\":\"sum\",\"area\":\"sum\",\"totalprice\":\"sum\"})"
   ]
  },
  {
   "cell_type": "code",
   "execution_count": 9,
   "metadata": {},
   "outputs": [],
   "source": [
    "fang_df[\"avgprice\"] = fang_df[\"totalprice\"] / fang_df[\"area\"]"
   ]
  },
  {
   "cell_type": "code",
   "execution_count": 10,
   "metadata": {},
   "outputs": [],
   "source": [
    "rst_df = fang_df[[\"rooms\",\"avgprice\"]]"
   ]
  },
  {
   "cell_type": "code",
   "execution_count": 11,
   "metadata": {},
   "outputs": [
    {
     "data": {
      "text/html": [
       "<div>\n",
       "<style scoped>\n",
       "    .dataframe tbody tr th:only-of-type {\n",
       "        vertical-align: middle;\n",
       "    }\n",
       "\n",
       "    .dataframe tbody tr th {\n",
       "        vertical-align: top;\n",
       "    }\n",
       "\n",
       "    .dataframe thead th {\n",
       "        text-align: right;\n",
       "    }\n",
       "</style>\n",
       "<table border=\"1\" class=\"dataframe\">\n",
       "  <thead>\n",
       "    <tr style=\"text-align: right;\">\n",
       "      <th></th>\n",
       "      <th>rooms</th>\n",
       "      <th>avgprice</th>\n",
       "    </tr>\n",
       "    <tr>\n",
       "      <th>location</th>\n",
       "      <th></th>\n",
       "      <th></th>\n",
       "    </tr>\n",
       "  </thead>\n",
       "  <tbody>\n",
       "    <tr>\n",
       "      <th>天心</th>\n",
       "      <td>1442</td>\n",
       "      <td>10643.082568</td>\n",
       "    </tr>\n",
       "    <tr>\n",
       "      <th>岳麓</th>\n",
       "      <td>2511</td>\n",
       "      <td>11365.023660</td>\n",
       "    </tr>\n",
       "    <tr>\n",
       "      <th>开福</th>\n",
       "      <td>1726</td>\n",
       "      <td>11812.805714</td>\n",
       "    </tr>\n",
       "    <tr>\n",
       "      <th>星沙</th>\n",
       "      <td>1455</td>\n",
       "      <td>8857.437945</td>\n",
       "    </tr>\n",
       "    <tr>\n",
       "      <th>望城</th>\n",
       "      <td>297</td>\n",
       "      <td>9694.842221</td>\n",
       "    </tr>\n",
       "    <tr>\n",
       "      <th>芙蓉</th>\n",
       "      <td>1160</td>\n",
       "      <td>10166.583273</td>\n",
       "    </tr>\n",
       "    <tr>\n",
       "      <th>长沙</th>\n",
       "      <td>5</td>\n",
       "      <td>9662.000000</td>\n",
       "    </tr>\n",
       "    <tr>\n",
       "      <th>长沙周边</th>\n",
       "      <td>556</td>\n",
       "      <td>6605.697480</td>\n",
       "    </tr>\n",
       "    <tr>\n",
       "      <th>雨花</th>\n",
       "      <td>3554</td>\n",
       "      <td>10717.873838</td>\n",
       "    </tr>\n",
       "  </tbody>\n",
       "</table>\n",
       "</div>"
      ],
      "text/plain": [
       "          rooms      avgprice\n",
       "location                     \n",
       "天心         1442  10643.082568\n",
       "岳麓         2511  11365.023660\n",
       "开福         1726  11812.805714\n",
       "星沙         1455   8857.437945\n",
       "望城          297   9694.842221\n",
       "芙蓉         1160  10166.583273\n",
       "长沙            5   9662.000000\n",
       "长沙周边        556   6605.697480\n",
       "雨花         3554  10717.873838"
      ]
     },
     "execution_count": 11,
     "metadata": {},
     "output_type": "execute_result"
    }
   ],
   "source": [
    "rst_df"
   ]
  },
  {
   "cell_type": "code",
   "execution_count": 12,
   "metadata": {},
   "outputs": [],
   "source": [
    "import matplotlib.pyplot as plt\n",
    "import numpy as np"
   ]
  },
  {
   "cell_type": "code",
   "execution_count": 16,
   "metadata": {},
   "outputs": [
    {
     "data": {
      "text/plain": [
       "<matplotlib.legend.Legend at 0x129ec667b70>"
      ]
     },
     "execution_count": 16,
     "metadata": {},
     "output_type": "execute_result"
    },
    {
     "data": {
      "image/png": "[encoded data removed]",
      "text/plain": [
       "<Figure size 640x480 with 1 Axes>"
      ]
     },
     "metadata": {},
     "output_type": "display_data"
    }
   ],
   "source": [
    "plt.rcParams['font.sans-serif']=['SimHei']\n",
    "fig,ax = plt.subplots(figsize=(8,6),dpi=80)\n",
    "ax.bar(np.arange(len(fang_df.index)),fang_df[\"rooms\"],width=0.4,tick_label=fang_df.index,label=\"房间数\")\n",
    "for a,b in zip(np.arange(len(fang_df.index)),fang_df[\"rooms\"]):\n",
    "    ax.text(a,b+3,b,ha=\"center\")\n",
    "ax.bar(np.arange(len(fang_df.index))+0.4,fang_df[\"avgprice\"],width=0.4,tick_label=fang_df.index,label=\"平均房价\")\n",
    "ax.legend()"
   ]
  },
  {
   "cell_type": "code",
   "execution_count": null,
   "metadata": {},
   "outputs": [],
   "source": [
    "ax."
   ]
  }
 ],
 "metadata": {
  "kernelspec": {
   "display_name": "Python 3",
   "language": "python",
   "name": "python3"
  },
  "language_info": {
   "codemirror_mode": {
    "name": "ipython",
    "version": 3
   },
   "file_extension": ".py",
   "mimetype": "text/x-python",
   "name": "python",
   "nbconvert_exporter": "python",
   "pygments_lexer": "ipython3",
   "version": "3.6.5"
  }
 },
 "nbformat": 4,
 "nbformat_minor": 2
}
